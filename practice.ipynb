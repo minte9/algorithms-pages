{
 "cells": [
  {
   "attachments": {},
   "cell_type": "markdown",
   "metadata": {},
   "source": [
    "## HeadPermutations / v1\n",
    "\n",
    "Find permutations of A in ABCD / use For Loop"
   ]
  },
  {
   "cell_type": "code",
   "execution_count": 15,
   "metadata": {},
   "outputs": [
    {
     "name": "stdout",
     "output_type": "stream",
     "text": [
      "['ABCD', 'BACD', 'BCAD', 'BCDA']\n"
     ]
    }
   ],
   "source": [
    "def head_permutations(s):\n",
    "\n",
    "    head = s[0]\n",
    "    tail = s[1:]\n",
    "    #print(head, tail)\n",
    "\n",
    "    P = []\n",
    "    for i in range(len(tail) + 1):\n",
    "        new_head = tail[0:i]\n",
    "        new_tail = tail[i:]     \n",
    "        #print(\" \"*i, new_head, new_tail)\n",
    "\n",
    "        permutation = new_head + head + new_tail        \n",
    "        #print(permutation)\n",
    "        \n",
    "        P.append(permutation)\n",
    "    return P\n",
    "\n",
    "P = head_permutations('ABCD')\n",
    "print(P)"
   ]
  },
  {
   "attachments": {},
   "cell_type": "markdown",
   "metadata": {},
   "source": [
    "## HeadPermutations / v2\n",
    "\n",
    "Find permutations of A in ABCD / use List Comprehension"
   ]
  },
  {
   "cell_type": "code",
   "execution_count": 16,
   "metadata": {},
   "outputs": [
    {
     "name": "stdout",
     "output_type": "stream",
     "text": [
      "['123456', '213456', '231456', '234156', '234516', '234561']\n"
     ]
    }
   ],
   "source": [
    "def head_permutations_v2(s):\n",
    "    head = s[0]\n",
    "    tail = s[1:]\n",
    "    P = [tail[0:i] + head + tail[i:] for i in range(len(tail) + 1)]\n",
    "    return P\n",
    "\n",
    "P = head_permutations_v2('123456')\n",
    "print(P)"
   ]
  },
  {
   "attachments": {},
   "cell_type": "markdown",
   "metadata": {},
   "source": [
    "## Permutations / v1\n",
    "\n",
    "Find permutations (without repetition) of ABCD / use Recursion"
   ]
  },
  {
   "cell_type": "code",
   "execution_count": 17,
   "metadata": {},
   "outputs": [
    {
     "name": "stdout",
     "output_type": "stream",
     "text": [
      "['ABC', 'BAC', 'BCA', 'ACB', 'CAB', 'CBA']\n"
     ]
    }
   ],
   "source": [
    "def permutations(s):\n",
    "\n",
    "    if len(s) == 1: \n",
    "        return s # Base case\n",
    "        \n",
    "    head = s[0]\n",
    "    tail = s[1:]\n",
    "\n",
    "    P = []\n",
    "    for ss in permutations(tail):\n",
    "        for i in range(len(ss) + 1):\n",
    "            prm = ss[0:i] + head + ss[i:]\n",
    "            P.append(prm)\n",
    "\n",
    "    return P\n",
    "\n",
    "P = permutations('ABC')\n",
    "print(P)"
   ]
  },
  {
   "attachments": {},
   "cell_type": "markdown",
   "metadata": {},
   "source": [
    "## Permutations / v2\n",
    "\n",
    "Find permutations (without repetition) of 12345 / use Recursion / use List Comprehension"
   ]
  },
  {
   "cell_type": "code",
   "execution_count": 18,
   "metadata": {},
   "outputs": [
    {
     "name": "stdout",
     "output_type": "stream",
     "text": [
      "['1234', '2134', '2314', '2341', '1324', '3124', '3214', '3241', '1342', '3142', '3412', '3421', '1243', '2143', '2413', '2431', '1423', '4123', '4213', '4231', '1432', '4132', '4312', '4321']\n"
     ]
    }
   ],
   "source": [
    "def permutations(s):\n",
    "\n",
    "    if len(s) == 1: \n",
    "        return s # Base case\n",
    "        \n",
    "    head = s[0]\n",
    "    tail = s[1:]\n",
    "\n",
    "    P = []\n",
    "    for w in permutations(tail):\n",
    "        W = [w[0:i] + head + w[i:] for i in range(len(w) + 1)]\n",
    "        P = P + W\n",
    "\n",
    "    return P\n",
    "\n",
    "P = permutations('1234')\n",
    "print(P)\n",
    "\n",
    "import math\n",
    "assert len(P) == math.factorial(4)"
   ]
  },
  {
   "attachments": {},
   "cell_type": "markdown",
   "metadata": {},
   "source": [
    "## Permuations / v3\n",
    "\n",
    "Find permutations (without repetition) of 1234 / use Itertools library"
   ]
  },
  {
   "cell_type": "code",
   "execution_count": 19,
   "metadata": {},
   "outputs": [
    {
     "name": "stdout",
     "output_type": "stream",
     "text": [
      "['1234', '1243', '1324', '1342', '1423', '1432', '2134', '2143', '2314', '2341', '2413', '2431', '3124', '3142', '3214', '3241', '3412', '3421', '4123', '4132', '4213', '4231', '4312', '4321']\n"
     ]
    }
   ],
   "source": [
    "import math\n",
    "import itertools\n",
    "\n",
    "P = itertools.permutations('1234')\n",
    "P = list(P)\n",
    "P = [''.join(x) for x in P]\n",
    "\n",
    "print(list(P))\n",
    "assert len(P) == math.factorial(4)"
   ]
  },
  {
   "attachments": {},
   "cell_type": "markdown",
   "metadata": {},
   "source": [
    "## k-Combinations / v1\n",
    "\n",
    "Find 2-Combinations and 3-Combinations (without repetition) of ABCD / use Recursion"
   ]
  },
  {
   "cell_type": "code",
   "execution_count": 27,
   "metadata": {},
   "outputs": [
    {
     "name": "stdout",
     "output_type": "stream",
     "text": [
      "['AB', 'AC', 'AD', 'BC', 'BD', 'CD']\n",
      "['ABC', 'ACD', 'BCD']\n"
     ]
    }
   ],
   "source": [
    "def combinations(s, k):\n",
    "    C = []\n",
    "\n",
    "    if len(s) == k: # Base case\n",
    "        return [s]\n",
    "\n",
    "    head = s[:1]\n",
    "    tail = s[1:]\n",
    "    # print(head, tail)\n",
    "\n",
    "    # Combinations that include the head\n",
    "    C1 = []\n",
    "    for i in range(len(tail)):\n",
    "        \n",
    "        right = tail[i:i+k-1] # 1 for the head\n",
    "        # print(right)\n",
    "\n",
    "        if len(right) == k-1:\n",
    "            combination = head + right\n",
    "            C1.append(combination)\n",
    "            \n",
    "    #print(C1)\n",
    "    \n",
    "    # Combinations without the head\n",
    "    C2 = combinations(tail, k)\n",
    "\n",
    "    #print(C2)\n",
    "\n",
    "    C = C1 + C2    \n",
    "    return C\n",
    "\n",
    "C = combinations('ABCD', 2)\n",
    "print(C)\n",
    "\n",
    "C = combinations('ABCD', 3)\n",
    "print(C)"
   ]
  },
  {
   "attachments": {},
   "cell_type": "markdown",
   "metadata": {},
   "source": [
    "## k-Combinations / v2\n",
    "\n",
    "Find k-Combinations (without repetition) of ABCD  / use Recursion / use List Comprehension"
   ]
  },
  {
   "cell_type": "code",
   "execution_count": 21,
   "metadata": {},
   "outputs": [
    {
     "name": "stdout",
     "output_type": "stream",
     "text": [
      "['1234', '1235', '1236', '1245', '1246', '1256', '1345', '1346', '1356', '1456', '2345', '2346', '2356', '2456', '3456']\n"
     ]
    }
   ],
   "source": [
    "def combinations(s, k):\n",
    "\n",
    "    # Base case\n",
    "    if k == 0:  return ['']\n",
    "    if s == '': return []\n",
    "\n",
    "    head = s[:1]\n",
    "    tail = s[1:]\n",
    "    \n",
    "    # Combintations that include the head\n",
    "    C1 = [head + c for c in combinations(tail, k-1)]\n",
    "\n",
    "    # Combinations without the head\n",
    "    C2 = combinations(tail, k)\n",
    "\n",
    "    return C1 + C2\n",
    "\n",
    "C = combinations('123456', 4)\n",
    "print(C)\n",
    "\n",
    "import math\n",
    "assert len(C) == math.comb(6, 4)"
   ]
  },
  {
   "attachments": {},
   "cell_type": "markdown",
   "metadata": {},
   "source": [
    "## k-Combinations / v3\n",
    "\n",
    "Find k-Combinations (without repetition) of 123456 / use Itertools"
   ]
  },
  {
   "cell_type": "code",
   "execution_count": 31,
   "metadata": {},
   "outputs": [
    {
     "name": "stdout",
     "output_type": "stream",
     "text": [
      "['1234', '1235', '1236', '1245', '1246', '1256', '1345', '1346', '1356', '1456', '2345', '2346', '2356', '2456', '3456']\n"
     ]
    }
   ],
   "source": [
    "import math\n",
    "import itertools\n",
    "\n",
    "C = itertools.combinations('123456', 4)\n",
    "C = list(C)\n",
    "C = [''.join(c) for c in C]\n",
    "\n",
    "print(C)\n",
    "assert len(C) == math.comb(6, 4)"
   ]
  }
 ],
 "metadata": {
  "kernelspec": {
   "display_name": "Python 3",
   "language": "python",
   "name": "python3"
  },
  "language_info": {
   "codemirror_mode": {
    "name": "ipython",
    "version": 3
   },
   "file_extension": ".py",
   "mimetype": "text/x-python",
   "name": "python",
   "nbconvert_exporter": "python",
   "pygments_lexer": "ipython3",
   "version": "3.9.7"
  },
  "orig_nbformat": 4
 },
 "nbformat": 4,
 "nbformat_minor": 2
}
