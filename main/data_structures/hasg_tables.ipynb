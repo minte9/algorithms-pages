{
 "cells": [
  {
   "attachments": {},
   "cell_type": "markdown",
   "metadata": {},
   "source": [
    "### Fast Lookup\n",
    "\n",
    "In an unordered array, a search would take `O(N) steps` adn O(log N) for an ordered array.  \n",
    "Using a data structure named hash table, we can make the search `O(1)`!"
   ]
  },
  {
   "attachments": {},
   "cell_type": "markdown",
   "metadata": {},
   "source": [
    "### Dictionaries\n",
    "\n",
    "Most programming languages have a data structure called hash table, for `fast` reading.  \n",
    "Other names include hashes, maps, dictionaries or `associative` arrays.  \n",
    "In Python they are named `dictionaries`."
   ]
  },
  {
   "cell_type": "code",
   "execution_count": 40,
   "metadata": {},
   "outputs": [
    {
     "name": "stdout",
     "output_type": "stream",
     "text": [
      "2\n"
     ]
    }
   ],
   "source": [
    "menu = {\n",
    "    'a': 1,\n",
    "    'b': 2,\n",
    "    'c': 3,\n",
    "}\n",
    "\n",
    "# Searching a dictionary takes only O(1) steps\n",
    "item = menu['b']\n",
    "\n",
    "# Output result\n",
    "print(item)"
   ]
  },
  {
   "attachments": {},
   "cell_type": "markdown",
   "metadata": {},
   "source": [
    "### Hashing\n",
    "\n",
    "The process of taking characters and converting them `to numbers` is called hashing.  \n",
    "For example BAD converts to 214, then the `sum` hashing function adds them together.  \n",
    "The are many hashing `functions`."
   ]
  },
  {
   "cell_type": "code",
   "execution_count": 41,
   "metadata": {},
   "outputs": [
    {
     "name": "stdout",
     "output_type": "stream",
     "text": [
      "Hashing | BAD = 214\n",
      "Hasghing to Sum | BAD = 7\n",
      "Hasghing to Product | BAD = 8\n"
     ]
    }
   ],
   "source": [
    "mapping = { \n",
    "    'A': 1,\n",
    "    'B': 2,\n",
    "    'C': 3,\n",
    "    'D': 4,\n",
    "    'E': 5,\n",
    "}\n",
    "\n",
    "def hashing(x: str) -> str:\n",
    "    hash = ''\n",
    "    for char in x:\n",
    "        hash += str(mapping[char])\n",
    "    return hash\n",
    "\n",
    "def hashing_sum(x: str) -> str:\n",
    "    hash = 0\n",
    "    for char in x:\n",
    "        hash += mapping[char]\n",
    "    return hash\n",
    "\n",
    "def hashing_product(x: str) -> str:\n",
    "    hash = 1\n",
    "    for char in x:\n",
    "        hash *= mapping[char]\n",
    "    return hash\n",
    "\n",
    "print(\"Hashing | BAD =\", hashing('BAD'))\n",
    "print(\"Hasghing to Sum | BAD =\", hashing2sum('BAD'))\n",
    "print(\"Hasghing to Product | BAD =\", hashing2product('BAD'))"
   ]
  }
 ],
 "metadata": {
  "kernelspec": {
   "display_name": "Python 3",
   "language": "python",
   "name": "python3"
  },
  "language_info": {
   "codemirror_mode": {
    "name": "ipython",
    "version": 3
   },
   "file_extension": ".py",
   "mimetype": "text/x-python",
   "name": "python",
   "nbconvert_exporter": "python",
   "pygments_lexer": "ipython3",
   "version": "3.9.7"
  },
  "orig_nbformat": 4
 },
 "nbformat": 4,
 "nbformat_minor": 2
}
