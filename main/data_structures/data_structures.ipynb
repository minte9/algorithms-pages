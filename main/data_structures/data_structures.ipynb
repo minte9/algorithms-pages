{
 "cells": [
  {
   "attachments": {},
   "cell_type": "markdown",
   "metadata": {},
   "source": [
    "### Code Efficiency\n",
    "\n",
    "One important measure of code quality is code `efficiency`.  "
   ]
  },
  {
   "cell_type": "code",
   "execution_count": 47,
   "metadata": {},
   "outputs": [
    {
     "name": "stdout",
     "output_type": "stream",
     "text": [
      "2,4,6,8,10,12,14,16,18,20,22,24,26,28,30,32,34,36,38,40,42,44,46,48,50,52,54,56,58,60,62,64,66,68,70,72,74,76,78,80,82,84,86,88,90,92,94,96,98,100,Steps = 100\n",
      "1,3,5,7,9,11,13,15,17,19,21,23,25,27,29,31,33,35,37,39,41,43,45,47,49,51,53,55,57,59,61,63,65,67,69,71,73,75,77,79,81,83,85,87,89,91,93,95,97,99,Steps = 50\n"
     ]
    }
   ],
   "source": [
    "def even_numbers_v1():\n",
    "    n = 1\n",
    "    steps = 0;\n",
    "    while n <= 100:\n",
    "        if n % 2 == 0:\n",
    "            print(n, end=',')\n",
    "        n += 1\n",
    "        steps += 1\n",
    "    return steps\n",
    "\n",
    "def even_numbers_v2():\n",
    "    n = 1\n",
    "    i = 0;\n",
    "    while n <= 100:\n",
    "        print(n, end=',')\n",
    "        n += 2\n",
    "        i += 1\n",
    "    return i\n",
    "\n",
    "print(\"Steps =\", even_numbers_v1())\n",
    "print(\"Steps =\", even_numbers_v2())"
   ]
  },
  {
   "attachments": {},
   "cell_type": "markdown",
   "metadata": {},
   "source": [
    "### Operations\n",
    "\n",
    "There are `four` main operations when working with data structure:  \n",
    "- Read  \n",
    "- Search  \n",
    "- Insert  \n",
    "- Delete  "
   ]
  },
  {
   "attachments": {},
   "cell_type": "markdown",
   "metadata": {},
   "source": [
    "### Time Complexity\n",
    "\n",
    "Opeartion's speed is measured by the `number of steps` not by time (which is hardware dependable).  \n",
    "Measuring the speed of operation is also known as measuring `time complexity`.  \n",
    "Speed, time complexity, efficiency, performace or runtime are use `interchangeably`."
   ]
  },
  {
   "attachments": {},
   "cell_type": "markdown",
   "metadata": {},
   "source": [
    "### Arrays\n",
    "\n",
    "An array is a `list` of data elements.  "
   ]
  },
  {
   "cell_type": "code",
   "execution_count": 54,
   "metadata": {},
   "outputs": [
    {
     "name": "stdout",
     "output_type": "stream",
     "text": [
      "3\n",
      "a\n"
     ]
    }
   ],
   "source": [
    "arr = [1, 2, 'a']   # list of elements\n",
    "size = len(arr)     # maxim number of elements array can holds\n",
    "item = arr[2]       # number of location where the data lives\n",
    "\n",
    "print(size)\n",
    "print(last)"
   ]
  },
  {
   "attachments": {},
   "cell_type": "markdown",
   "metadata": {},
   "source": [
    "### Reading / Arrays\n",
    "\n",
    "A computer can jump to any memory address in `one step`.  "
   ]
  },
  {
   "cell_type": "code",
   "execution_count": 59,
   "metadata": {},
   "outputs": [
    {
     "name": "stdout",
     "output_type": "stream",
     "text": [
      "bananas\n",
      "Steps = 1\n"
     ]
    }
   ],
   "source": [
    "data = ['apples', 'bananas', 'oranges']\n",
    "\n",
    "def read_array(index):\n",
    "    return data[index]\n",
    "\n",
    "print(read_array(1))\n",
    "print(\"Steps =\", 1)"
   ]
  },
  {
   "attachments": {},
   "cell_type": "markdown",
   "metadata": {},
   "source": [
    "### Searching / Arrays\n",
    "\n",
    "To search from an item in array, the computer need to `inspect` each cell one at a time.  \n",
    "In worst-case scenario, for N cells in an array, linear search would take a maximum of `N steps`."
   ]
  },
  {
   "cell_type": "code",
   "execution_count": 74,
   "metadata": {},
   "outputs": [
    {
     "name": "stdout",
     "output_type": "stream",
     "text": [
      "Found at index = 2\n",
      "Steps = 3\n"
     ]
    }
   ],
   "source": [
    "def search_array(arr, value):\n",
    "    steps = 0\n",
    "    for i in range(len(arr)):\n",
    "        steps += 1\n",
    "        if value == arr[i]:\n",
    "            return i, steps \n",
    "    return -1, steps\n",
    "\n",
    "data = ['apples', 'bananas', 'oranges']\n",
    "\n",
    "key, steps = search_array(data, 'oranges')\n",
    "print('Found at index =', key)\n",
    "print('Steps =', steps)"
   ]
  },
  {
   "attachments": {},
   "cell_type": "markdown",
   "metadata": {},
   "source": [
    "### Insertion / Arrays"
   ]
  }
 ],
 "metadata": {
  "kernelspec": {
   "display_name": "Python 3",
   "language": "python",
   "name": "python3"
  },
  "language_info": {
   "codemirror_mode": {
    "name": "ipython",
    "version": 3
   },
   "file_extension": ".py",
   "mimetype": "text/x-python",
   "name": "python",
   "nbconvert_exporter": "python",
   "pygments_lexer": "ipython3",
   "version": "3.9.7"
  },
  "orig_nbformat": 4
 },
 "nbformat": 4,
 "nbformat_minor": 2
}
