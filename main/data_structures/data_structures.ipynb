{
 "cells": [
  {
   "attachments": {},
   "cell_type": "markdown",
   "metadata": {},
   "source": [
    "### Code Efficiency\n",
    "\n",
    "One important measure of code quality is code `efficiency`.  "
   ]
  },
  {
   "cell_type": "code",
   "execution_count": 32,
   "metadata": {},
   "outputs": [
    {
     "name": "stdout",
     "output_type": "stream",
     "text": [
      "2,4,6,8,10,Steps = 10\n",
      "1,3,5,7,9,Steps = 5\n"
     ]
    }
   ],
   "source": [
    "def even_numbers_v1():\n",
    "    n = 1\n",
    "    steps = 0;\n",
    "    while n <= 10:\n",
    "        if n % 2 == 0:\n",
    "            print(n, end=',')\n",
    "        n += 1\n",
    "        steps += 1\n",
    "    return steps\n",
    "\n",
    "def even_numbers_v2():\n",
    "    n = 1\n",
    "    i = 0;\n",
    "    while n <= 10:\n",
    "        print(n, end=',')\n",
    "        n += 2\n",
    "        i += 1\n",
    "    return i\n",
    "\n",
    "print(\"Steps =\", even_numbers_v1())\n",
    "print(\"Steps =\", even_numbers_v2())"
   ]
  },
  {
   "attachments": {},
   "cell_type": "markdown",
   "metadata": {},
   "source": [
    "### Operations\n",
    "\n",
    "There are `four` main operations when working with data structure:  \n",
    "- Read  \n",
    "- Search  \n",
    "- Insert  \n",
    "- Delete  \n",
    "\n",
    "Opeartion's speed is measured by the `number of steps`, not by time (which is hardware dependable).  \n",
    "Speed, time complexity, efficiency, performace or runtime are use `interchangeably`."
   ]
  },
  {
   "attachments": {},
   "cell_type": "markdown",
   "metadata": {},
   "source": [
    "### Reading / Arrays\n",
    "\n",
    "A computer can jump to any memory address in `one step`.  "
   ]
  },
  {
   "cell_type": "code",
   "execution_count": 33,
   "metadata": {},
   "outputs": [
    {
     "name": "stdout",
     "output_type": "stream",
     "text": [
      "Found item = bananas\n",
      "Steps = 1\n"
     ]
    }
   ],
   "source": [
    "def get_item(index):\n",
    "    return data[index]\n",
    "\n",
    "data = ['apples', 'bananas', 'oranges']\n",
    "item = get_item(1)\n",
    "\n",
    "print('Found item =', item)\n",
    "print(\"Steps =\", 1)"
   ]
  },
  {
   "attachments": {},
   "cell_type": "markdown",
   "metadata": {},
   "source": [
    "### Searching / Arrays\n",
    "\n",
    "To search from an item in array, the computer need to `inspect` each cell one at a time.  \n",
    "In worst-case scenario, for N cells in an array, linear search would take a maximum of `N steps`."
   ]
  },
  {
   "cell_type": "code",
   "execution_count": 34,
   "metadata": {},
   "outputs": [
    {
     "name": "stdout",
     "output_type": "stream",
     "text": [
      "Found at index = 2\n",
      "N = 3\n",
      "Steps = 3\n"
     ]
    }
   ],
   "source": [
    "def search_value(arr, value):\n",
    "    steps = 0\n",
    "    for i in range(len(arr)):\n",
    "        steps += 1\n",
    "        if value == arr[i]:\n",
    "            return i, steps \n",
    "    return -1, steps\n",
    "\n",
    "data = ['apples', 'bananas', 'oranges']\n",
    "key, steps = search_value(data, 'oranges')\n",
    "\n",
    "print('Found at index =', key)\n",
    "print('N =', len(data))\n",
    "print('Steps =', steps)"
   ]
  },
  {
   "attachments": {},
   "cell_type": "markdown",
   "metadata": {},
   "source": [
    "### Insertion / Arrays\n",
    "\n",
    "We need to `shift` items in order to make room for the new item.  \n",
    "The worst-case scenario is inserting data at the begining of the array, which takes `N+1 steps`."
   ]
  },
  {
   "cell_type": "code",
   "execution_count": 44,
   "metadata": {},
   "outputs": [
    {
     "name": "stdout",
     "output_type": "stream",
     "text": [
      "['apples', 'bananas', 'oranges']\n",
      "['apples', 'apples', 'bananas', 'oranges']\n",
      "['cherries', 'apples', 'bananas', 'oranges']\n",
      "N = 3\n",
      "Steps = 4\n"
     ]
    }
   ],
   "source": [
    "def add_item(data, new_value, key):\n",
    "    data.append('') # add element at the end of array\n",
    "\n",
    "    steps = 0\n",
    "    for i in range(len(data), key+1, -1): # shift the elements to the right\n",
    "        data[i-1] = data[i-2]\n",
    "        steps += 1\n",
    "\n",
    "    print(data)\n",
    "    data[key] = new_value\n",
    "    steps += 1\n",
    "    return steps\n",
    "\n",
    "data = ['apples', 'bananas', 'oranges']  \n",
    "print(data)\n",
    "\n",
    "size = len(data)  \n",
    "steps = add_item(data, 'cherries', 0)\n",
    "\n",
    "print(data)\n",
    "print('N =', size)\n",
    "print('Steps =', steps)"
   ]
  },
  {
   "attachments": {},
   "cell_type": "markdown",
   "metadata": {},
   "source": [
    "### Deletion / Arrays\n",
    "\n",
    "To delete an item require one step, then N-1 step for `shifting` the rest of elements.  \n",
    "The worst-case scenario is deleting the first element in the array, which requre `N steps`."
   ]
  },
  {
   "cell_type": "code",
   "execution_count": 36,
   "metadata": {},
   "outputs": [
    {
     "name": "stdout",
     "output_type": "stream",
     "text": [
      "['bananas', 'oranges']\n",
      "N = 3\n",
      "Steps = 3\n"
     ]
    }
   ],
   "source": [
    "def delete_item(data, key):\n",
    "    steps = 0\n",
    "    for i in range(key, len(data)-1): # shift elements to left (down to key)\n",
    "        data[i] = data[i+1]\n",
    "        steps += 1\n",
    "    \n",
    "    data.pop() # remove last element\n",
    "    steps += 1\n",
    "\n",
    "    return steps\n",
    "\n",
    "data = ['apples', 'bananas', 'oranges']  \n",
    "size = len(data)  \n",
    "steps = delete_item(data, 0)\n",
    "\n",
    "print(data)\n",
    "print('N =', size)\n",
    "print('Steps =', steps)"
   ]
  },
  {
   "attachments": {},
   "cell_type": "markdown",
   "metadata": {},
   "source": [
    "### Sets\n",
    "\n",
    "A set is a data structure of `unordered` elements that doesn't allow `duplicates`.  \n",
    "The only difference between sets and arrays is that sets never allow duplicates to be `inserted`.  \n",
    "So, in terms of time complexity, `reading, searching and deleting` is the same as in the case of arrays."
   ]
  },
  {
   "attachments": {},
   "cell_type": "markdown",
   "metadata": {},
   "source": [
    "### Insertion / Sets\n",
    "\n",
    "The computer needs to search the set to check if the new value is already there, which means `N steps`.  \n",
    "It also implies `shifting` the elements in order to make room for the new value.  \n",
    "The worst-case scenario is inserting at the begining of the sets, which will take `2N + 1 steps`."
   ]
  },
  {
   "cell_type": "code",
   "execution_count": 67,
   "metadata": {},
   "outputs": [
    {
     "name": "stdout",
     "output_type": "stream",
     "text": [
      "{'oranges', 'bananas', 'cherries', 'apples'}\n",
      "N = 4 \n",
      "\n",
      "{'oranges', 'bananas', 'cherries', 'apples'}\n",
      "Steps = -1 \n",
      "\n",
      "{'oranges', 'bananas', 'cherries', 'apples'}\n",
      "{'', 'cherries', 'apples', 'oranges', 'bananas'}\n"
     ]
    },
    {
     "ename": "TypeError",
     "evalue": "'set' object is not subscriptable",
     "output_type": "error",
     "traceback": [
      "\u001b[0;31m---------------------------------------------------------------------------\u001b[0m",
      "\u001b[0;31mTypeError\u001b[0m                                 Traceback (most recent call last)",
      "Cell \u001b[0;32mIn[67], line 36\u001b[0m\n\u001b[1;32m     33\u001b[0m \u001b[39mprint\u001b[39m(\u001b[39m'\u001b[39m\u001b[39mSteps =\u001b[39m\u001b[39m'\u001b[39m, steps, \u001b[39m'\u001b[39m\u001b[39m\\n\u001b[39;00m\u001b[39m'\u001b[39m)\n\u001b[1;32m     35\u001b[0m \u001b[39mprint\u001b[39m(data)\n\u001b[0;32m---> 36\u001b[0m steps \u001b[39m=\u001b[39m add_item(data, \u001b[39m'\u001b[39;49m\u001b[39mmangos\u001b[39;49m\u001b[39m'\u001b[39;49m, \u001b[39m0\u001b[39;49m)\n\u001b[1;32m     37\u001b[0m \u001b[39mprint\u001b[39m(\u001b[39m'\u001b[39m\u001b[39mSteps =\u001b[39m\u001b[39m'\u001b[39m, steps, \u001b[39m'\u001b[39m\u001b[39m\\n\u001b[39;00m\u001b[39m'\u001b[39m)\n",
      "Cell \u001b[0;32mIn[67], line 17\u001b[0m, in \u001b[0;36madd_item\u001b[0;34m(data, new_value, key)\u001b[0m\n\u001b[1;32m     15\u001b[0m \u001b[39m# Shift elements to right, to make room for the new value\u001b[39;00m\n\u001b[1;32m     16\u001b[0m \u001b[39mfor\u001b[39;00m i \u001b[39min\u001b[39;00m \u001b[39mrange\u001b[39m(\u001b[39mlen\u001b[39m(data), key\u001b[39m+\u001b[39m\u001b[39m1\u001b[39m, \u001b[39m-\u001b[39m\u001b[39m1\u001b[39m):\n\u001b[0;32m---> 17\u001b[0m     data[i\u001b[39m-\u001b[39m\u001b[39m1\u001b[39m] \u001b[39m=\u001b[39m data[i\u001b[39m-\u001b[39;49m\u001b[39m2\u001b[39;49m]\n\u001b[1;32m     18\u001b[0m     steps \u001b[39m+\u001b[39m\u001b[39m=\u001b[39m \u001b[39m1\u001b[39m\n\u001b[1;32m     20\u001b[0m \u001b[39m# Insert new item\u001b[39;00m\n",
      "\u001b[0;31mTypeError\u001b[0m: 'set' object is not subscriptable"
     ]
    }
   ],
   "source": [
    "def add_item(data, new_value, key):\n",
    "    steps = 0\n",
    "\n",
    "    # Check for duplicates\n",
    "    for item in data:\n",
    "        steps += 1\n",
    "        if item == new_value:\n",
    "            return -1\n",
    "\n",
    "    # Add empty element at the end of the array\n",
    "    data.add('')\n",
    "    steps += 1\n",
    "    print(data)\n",
    "\n",
    "    # Shift elements to right, to make room for the new value\n",
    "    for i in range(len(data), key+1, -1):\n",
    "        data[i-1] = data[i-2]\n",
    "        steps += 1\n",
    "\n",
    "    # Insert new item\n",
    "    data[key] = new_value\n",
    "    steps += 1\n",
    "\n",
    "    return steps\n",
    "\n",
    "\n",
    "data = {'apples', 'bananas', 'oranges', 'cherries'} \n",
    "print(data)\n",
    "print('N =', len(data), '\\n')\n",
    "\n",
    "print(data)\n",
    "steps = add_item(data, 'cherries', 0)\n",
    "print('Steps =', steps, '\\n')\n",
    "\n",
    "print(data)\n",
    "steps = add_item(data, 'mangos', 0)\n",
    "print('Steps =', steps, '\\n')\n",
    "    \n",
    "\n"
   ]
  }
 ],
 "metadata": {
  "kernelspec": {
   "display_name": "Python 3",
   "language": "python",
   "name": "python3"
  },
  "language_info": {
   "codemirror_mode": {
    "name": "ipython",
    "version": 3
   },
   "file_extension": ".py",
   "mimetype": "text/x-python",
   "name": "python",
   "nbconvert_exporter": "python",
   "pygments_lexer": "ipython3",
   "version": "3.9.7"
  },
  "orig_nbformat": 4
 },
 "nbformat": 4,
 "nbformat_minor": 2
}
