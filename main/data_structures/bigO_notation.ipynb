{
 "cells": [
  {
   "attachments": {},
   "cell_type": "markdown",
   "metadata": {},
   "source": [
    "### Big O Notation\n",
    "\n",
    "Compute scientists have `borrowed` the concept from mathematics.  \n",
    "This way we have a `consistent` language around efficiency of algorithms.  \n",
    "Big O is focusing on the number of steps, but in a `specific` way."
   ]
  },
  {
   "attachments": {},
   "cell_type": "markdown",
   "metadata": {},
   "source": [
    "### O(n) Linear Search\n",
    "\n",
    "Linear search will take as many `steps` as the number of elements in the array."
   ]
  },
  {
   "cell_type": "code",
   "execution_count": 8,
   "metadata": {},
   "outputs": [
    {
     "name": "stdout",
     "output_type": "stream",
     "text": [
      "Found at index = 2\n",
      "N = 3\n",
      "Steps = 3\n"
     ]
    }
   ],
   "source": [
    "def linear_search(arr, x):\n",
    "    steps = 0\n",
    "    for i in range(len(arr)):\n",
    "        steps += 1\n",
    "        if x == arr[i]:\n",
    "            return i, steps \n",
    "    return -1, steps\n",
    "\n",
    "data = ['apples', 'bananas', 'oranges']\n",
    "key, steps = linear_search(data, 'oranges')\n",
    "\n",
    "print('Found at index =', key)\n",
    "print('N =', len(data))\n",
    "print('Steps =', steps)"
   ]
  },
  {
   "attachments": {},
   "cell_type": "markdown",
   "metadata": {},
   "source": [
    "### O(log n) Binary Search\n",
    "\n",
    "For n elements the algorithm increases one step each time the data is `doubled`."
   ]
  },
  {
   "cell_type": "code",
   "execution_count": 13,
   "metadata": {},
   "outputs": [
    {
     "name": "stdout",
     "output_type": "stream",
     "text": [
      "Steps = 4\n",
      "Steps = 5\n"
     ]
    }
   ],
   "source": [
    "def binary_seach(arr, x):\n",
    "    left = 0\n",
    "    right = len(arr) - 1\n",
    "\n",
    "    steps = 0\n",
    "    while True:\n",
    "        \n",
    "        steps += 1\n",
    "        m = (left + right) // 2\n",
    "\n",
    "        if x == arr[m]: \n",
    "            return m, steps\n",
    "\n",
    "        if x > arr[m]: left = m + 1\n",
    "        if x < arr[m]: right = m - 1\n",
    "\n",
    "        if left > right:\n",
    "            return -1, steps\n",
    "\n",
    "data = [1, 2, 3, 4, 5, 6, 7, 8, 9, 10]\n",
    "key, steps = binary_seach(data, 7)\n",
    "print(\"Steps =\", steps)\n",
    "\n",
    "data = [1, 2, 3, 4, 5, 6, 7, 8, 9, 10, 11, 12, 13, 14, 15, 16, 17, 18, 19, 20]\n",
    "key, steps = binary_seach(data, 17)\n",
    "print(\"Steps =\", steps)"
   ]
  },
  {
   "attachments": {},
   "cell_type": "markdown",
   "metadata": {},
   "source": [
    "### Linear vs Binary\n",
    "\n",
    "We can make a `graph` in order to campare the performance between the two algorithms."
   ]
  },
  {
   "cell_type": "code",
   "execution_count": 10,
   "metadata": {},
   "outputs": [
    {
     "data": {
      "image/png": "[encoded data removed]",
      "text/plain": [
       "<Figure size 640x480 with 1 Axes>"
      ]
     },
     "metadata": {},
     "output_type": "display_data"
    },
    {
     "name": "stdout",
     "output_type": "stream",
     "text": [
      "n \t O(n) \t O(log n)\n",
      "8 \t 8 \t 3.0\n",
      "16 \t 16 \t 4.0\n",
      "32 \t 32 \t 5.0\n",
      "64 \t 64 \t 6.0\n",
      "128 \t 128 \t 7.0\n",
      "256 \t 256 \t 8.0\n",
      "512 \t 512 \t 9.0\n",
      "1024 \t 1024 \t 10.0\n"
     ]
    }
   ],
   "source": [
    "import matplotlib.pyplot as plt\n",
    "import numpy as np\n",
    "import math\n",
    "\n",
    "# Generate x values\n",
    "X = np.linspace(1, 100, 100)\n",
    "\n",
    "# Generate y values\n",
    "Y1 = [x for x in X]                 # linear time\n",
    "Y2 = [50 for x in X]               # constant time\n",
    "Y3 = [math.log(x, 2) for x in X]    # log time\n",
    "\n",
    "# Plot the graph\n",
    "plt.plot(X, Y1, label='O(x)')\n",
    "plt.plot(X, Y2, label='O(100)')\n",
    "plt.plot(X, Y3, label='O(log x)')\n",
    "plt.legend()\n",
    "plt.grid()\n",
    "plt.show()\n",
    "\n",
    "# Striking difference between O(n) and O(log n)\n",
    "print(\"n \\t O(n) \\t O(log n)\")\n",
    "for i in range(3, 11):\n",
    "    n = 2**i\n",
    "    print(n, '\\t', n, '\\t', math.log(n, 2))"
   ]
  }
 ],
 "metadata": {
  "kernelspec": {
   "display_name": "Python 3",
   "language": "python",
   "name": "python3"
  },
  "language_info": {
   "codemirror_mode": {
    "name": "ipython",
    "version": 3
   },
   "file_extension": ".py",
   "mimetype": "text/x-python",
   "name": "python",
   "nbconvert_exporter": "python",
   "pygments_lexer": "ipython3",
   "version": "3.9.7"
  },
  "orig_nbformat": 4
 },
 "nbformat": 4,
 "nbformat_minor": 2
}
