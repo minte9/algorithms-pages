{
 "cells": [
  {
   "attachments": {},
   "cell_type": "markdown",
   "metadata": {},
   "source": [
    "### Fast Lookup\n",
    "\n",
    "In an unordered array, a search would take `O(N) steps` adn O(log N) for an ordered array.  \n",
    "Using a data structure named hash table, we can make the search `O(1)`!"
   ]
  },
  {
   "attachments": {},
   "cell_type": "markdown",
   "metadata": {},
   "source": [
    "### Dictionaries\n",
    "\n",
    "Most programming languages have a data structure called hash table, for `fast` reading.  \n",
    "Other names include hashes, maps, dictionaries or `associative` arrays.  \n",
    "In Python they are named `dictionaries`."
   ]
  },
  {
   "cell_type": "code",
   "execution_count": 40,
   "metadata": {},
   "outputs": [
    {
     "name": "stdout",
     "output_type": "stream",
     "text": [
      "2\n"
     ]
    }
   ],
   "source": [
    "menu = {\n",
    "    'a': 1,\n",
    "    'b': 2,\n",
    "    'c': 3,\n",
    "}\n",
    "\n",
    "# Searching a dictionary takes only O(1) steps\n",
    "item = menu['b']\n",
    "\n",
    "# Output result\n",
    "print(item)"
   ]
  },
  {
   "attachments": {},
   "cell_type": "markdown",
   "metadata": {},
   "source": [
    "### Hashing\n",
    "\n",
    "The process of taking characters and converting them `to numbers` is called hashing.  \n",
    "For example BAD converts to 214, then the `sum` hashing function adds them together.  \n",
    "The are many hashing `functions`."
   ]
  },
  {
   "cell_type": "code",
   "execution_count": 41,
   "metadata": {},
   "outputs": [
    {
     "name": "stdout",
     "output_type": "stream",
     "text": [
      "Hashing | BAD = 214\n",
      "Hasghing to Sum | BAD = 7\n",
      "Hasghing to Product | BAD = 8\n"
     ]
    }
   ],
   "source": [
    "mapping = { \n",
    "    'A': 1,\n",
    "    'B': 2,\n",
    "    'C': 3,\n",
    "    'D': 4,\n",
    "    'E': 5,\n",
    "}\n",
    "\n",
    "def hashing(x: str) -> str:\n",
    "    hash = ''\n",
    "    for char in x:\n",
    "        hash += str(mapping[char])\n",
    "    return hash\n",
    "\n",
    "def hashing_sum(x: str) -> str:\n",
    "    hash = 0\n",
    "    for char in x:\n",
    "        hash += mapping[char]\n",
    "    return hash\n",
    "\n",
    "def hashing_product(x: str) -> str:\n",
    "    hash = 1\n",
    "    for char in x:\n",
    "        hash *= mapping[char]\n",
    "    return hash\n",
    "\n",
    "print(\"Hashing | BAD =\", hashing('BAD'))\n",
    "print(\"Hasghing to Sum | BAD =\", hashing2sum('BAD'))\n",
    "print(\"Hasghing to Product | BAD =\", hashing2product('BAD'))"
   ]
  },
  {
   "attachments": {},
   "cell_type": "markdown",
   "metadata": {},
   "source": [
    "### Simple Thesaurus\n",
    "\n",
    "When a user search for an word, the application returns just on `synonym`.  \n",
    "This is how hash table `stores` the data."
   ]
  },
  {
   "cell_type": "code",
   "execution_count": 47,
   "metadata": {},
   "outputs": [
    {
     "name": "stdout",
     "output_type": "stream",
     "text": [
      "8\n",
      "[None, None, None, None, None, None, None, None, 'evil', None, None, None, None, None, None, None]\n"
     ]
    },
    {
     "ename": "KeyError",
     "evalue": "'r'",
     "output_type": "error",
     "traceback": [
      "\u001b[0;31m---------------------------------------------------------------------------\u001b[0m",
      "\u001b[0;31mKeyError\u001b[0m                                  Traceback (most recent call last)",
      "Cell \u001b[0;32mIn[47], line 27\u001b[0m\n\u001b[1;32m     24\u001b[0m thesaurus[\u001b[39m'\u001b[39m\u001b[39mcar\u001b[39m\u001b[39m'\u001b[39m] \u001b[39m=\u001b[39m \u001b[39m'\u001b[39m\u001b[39mtaxi\u001b[39m\u001b[39m'\u001b[39m\n\u001b[1;32m     26\u001b[0m \u001b[39m# Since the 'car' hashes to 6, the computer places 'taxi' into the cell 6\u001b[39;00m\n\u001b[0;32m---> 27\u001b[0m \u001b[39mhash\u001b[39m \u001b[39m=\u001b[39m hashing(\u001b[39m'\u001b[39;49m\u001b[39mcar\u001b[39;49m\u001b[39m'\u001b[39;49m)\n\u001b[1;32m     28\u001b[0m \u001b[39mprint\u001b[39m(\u001b[39mhash\u001b[39m)\n",
      "Cell \u001b[0;32mIn[47], line 13\u001b[0m, in \u001b[0;36mhashing\u001b[0;34m(x)\u001b[0m\n\u001b[1;32m     11\u001b[0m \u001b[39mhash\u001b[39m \u001b[39m=\u001b[39m \u001b[39m1\u001b[39m\n\u001b[1;32m     12\u001b[0m \u001b[39mfor\u001b[39;00m char \u001b[39min\u001b[39;00m x:\n\u001b[0;32m---> 13\u001b[0m     \u001b[39mhash\u001b[39m \u001b[39m*\u001b[39m\u001b[39m=\u001b[39m mapping[char]\n\u001b[1;32m     14\u001b[0m \u001b[39mreturn\u001b[39;00m \u001b[39mhash\u001b[39m\n",
      "\u001b[0;31mKeyError\u001b[0m: 'r'"
     ]
    }
   ],
   "source": [
    "thesaurus = {}\n",
    "mapping = {'a': 1, 'b': 2, 'c': 3, 'd': 4, 'e': 5}\n",
    "table = [None] * 16 # empty cells\n",
    "\n",
    "# Add an entry into the hash table\n",
    "thesaurus['bad'] = 'evil'\n",
    "\n",
    "# First, the computer applies hash function to the key\n",
    "# We'll use the multiplication function (for simplicity)\n",
    "def hashing(x: str) -> str:\n",
    "    hash = 1\n",
    "    for char in x:\n",
    "        hash *= mapping[char]\n",
    "    return hash\n",
    "\n",
    "hash = hashing('bad')\n",
    "print(hash) # 8\n",
    "\n",
    "# Since the 'bad' hashes 8, the computer places 'evil' into the cell 8\n",
    "table[8] = 'evil'\n",
    "print(table)\n",
    "\n",
    "# Add another entry\n",
    "thesaurus['car'] = 'taxi'\n",
    "\n",
    "# Since the 'car' hashes to 6, the computer places 'taxi' into the cell 6\n",
    "hash = hashing('car')\n",
    "print(hash)\n",
    "\n",
    "\n"
   ]
  }
 ],
 "metadata": {
  "kernelspec": {
   "display_name": "Python 3",
   "language": "python",
   "name": "python3"
  },
  "language_info": {
   "codemirror_mode": {
    "name": "ipython",
    "version": 3
   },
   "file_extension": ".py",
   "mimetype": "text/x-python",
   "name": "python",
   "nbconvert_exporter": "python",
   "pygments_lexer": "ipython3",
   "version": "3.9.7"
  },
  "orig_nbformat": 4
 },
 "nbformat": 4,
 "nbformat_minor": 2
}
