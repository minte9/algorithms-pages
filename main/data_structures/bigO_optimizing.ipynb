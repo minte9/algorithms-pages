{
 "cells": [
  {
   "attachments": {},
   "cell_type": "markdown",
   "metadata": {},
   "source": [
    "### Average Cases\n",
    "\n",
    "Worst-case scenario `isn't` the only situation worth considering.  \n",
    "Being able to see `all` scenarios is important when choosing the algoritm."
   ]
  },
  {
   "attachments": {},
   "cell_type": "markdown",
   "metadata": {},
   "source": [
    "### Insertion Sort\n",
    "\n",
    "We temprorary \"remove\" the value at `index 1`.  \n",
    "We take each value to the `left` and compare it with the temporary value.  \n",
    "If it is bigger then temporary we `shift` it to the right."
   ]
  },
  {
   "cell_type": "code",
   "execution_count": 48,
   "metadata": {},
   "outputs": [
    {
     "name": "stdout",
     "output_type": "stream",
     "text": [
      "[4, 2, 7, 1, 3]\n",
      "Inspect 2\tShift 4\t\tFill the gap 0\t[2, 4, 7, 1, 3]\n",
      "Inspect 7\tBreak Loop\tFill the gap 2\t[2, 4, 7, 1, 3]\n",
      "Inspect 1\tShift 7\t\tShift 4\t\tShift 2\t\tFill the gap 0\t[1, 2, 4, 7, 3]\n",
      "Inspect 3\tShift 7\t\tShift 4\t\tBreak Loop\tFill the gap 2\t[1, 2, 3, 4, 7]\n",
      "[1, 2, 3, 4, 7]\n"
     ]
    }
   ],
   "source": [
    "def insertion_sort(A):\n",
    "    \n",
    "    for i in range(1, len(A)):\n",
    "        tmp = A[i]                  # inspect the item at index i (starting at 1)\n",
    "        pos = i - 1                 # left position\n",
    "\n",
    "        print(\"Inspect\", tmp, end='\\t')\n",
    "        while pos >= 0:\n",
    "\n",
    "            if A[pos] > tmp:                        # left value is greater than tmp\n",
    "\n",
    "                print(\"Shift\", A[pos], end='\\t\\t')  # shift this left value to the right\n",
    "                A[pos+1] = A[pos]   \n",
    "                pos -= 1                            # decrement pos (next left value)\n",
    "\n",
    "            else:\n",
    "                print(\"Break Loop\", end='\\t')       # tmp greater than left\n",
    "                break               \n",
    "        \n",
    "        print(\"Fill the gap\", pos+1, end='\\t')\n",
    "        A[pos + 1] = tmp\n",
    "\n",
    "        print(A)\n",
    "    return A\n",
    "\n",
    "data = [4, 2, 7, 1, 3]\n",
    "print(data)\n",
    "\n",
    "data = insertion_sort(data)\n",
    "print(data)        "
   ]
  },
  {
   "attachments": {},
   "cell_type": "markdown",
   "metadata": {},
   "source": [
    "### Select vs Insertion\n",
    "\n",
    "Selection Sort takes N^2 / 2 steps for `all` cases.  \n",
    "It doesn't have a mechanism of `ending` the pass-through as Insertion Sort does.  \n",
    "Insertion Sort takes less steps when workgin with `best-case` scenario."
   ]
  },
  {
   "cell_type": "code",
   "execution_count": 99,
   "metadata": {},
   "outputs": [
    {
     "name": "stdout",
     "output_type": "stream",
     "text": [
      "Worst Case Scenario\n",
      "selection_sort ([1, 2, 3, 4, 5, 6, 7, 8, 9, 10], 55)\n",
      "insertion_sort ([1, 2, 3, 4, 5, 6, 7, 8, 9, 10], 54) \n",
      "\n",
      "Best Case Scenario\n",
      "selection_sort ([1, 2, 3, 4, 5, 6, 7, 8, 9, 10], 55)\n",
      "insertion_sort ([1, 2, 3, 4, 5, 6, 7, 8, 9, 10], 18) \n",
      "\n",
      "Average Case Scenario\n",
      "selection_sort ([1, 2, 3, 4, 5, 6, 7, 8, 9, 10], 55)\n",
      "insertion_sort ([1, 2, 3, 4, 5, 6, 7, 8, 9, 10], 38) \n",
      "\n"
     ]
    }
   ],
   "source": [
    "import copy\n",
    "\n",
    "def selection_sort(arr):\n",
    "    steps = 0\n",
    "    A = copy.deepcopy(arr)\n",
    "\n",
    "    for i in range(len(A)):\n",
    "        lowest = i # lowest number index\n",
    "        \n",
    "        for j in range(i+1, len(A)):\n",
    "\n",
    "            steps += 1\n",
    "            if A[j] < A[lowest]: # comparition\n",
    "                lowest = j\n",
    "\n",
    "        steps += 1\n",
    "        if lowest != i:\n",
    "            A[i], A[lowest] = A[lowest], A[i] # swap\n",
    "\n",
    "    return A, steps\n",
    "\n",
    "def insertion_sort(arr):\n",
    "    steps = 0\n",
    "    A = copy.deepcopy(arr)\n",
    "\n",
    "    for i in range(1, len(A)):\n",
    "        tmp = A[i] # inspect one value (starting at index 1)\n",
    "        pos = i - 1\n",
    "\n",
    "        while pos >= 0:\n",
    "            steps += 1\n",
    "\n",
    "            if A[pos] > tmp: # compartion\n",
    "                A[pos+1] = A[pos] # swap\n",
    "                pos -= 1\n",
    "            else:\n",
    "                break    \n",
    "        \n",
    "        steps += 1\n",
    "        A[pos + 1] = tmp # fill gap\n",
    "    return A, steps\n",
    "\n",
    "print(\"Worst Case Scenario\")\n",
    "data = [10, 9, 8, 7, 6, 5, 4, 3, 2, 1]\n",
    "print(\"selection_sort\", selection_sort(data))\n",
    "print(\"insertion_sort\", insertion_sort(data), \"\\n\")\n",
    "\n",
    "print(\"Best Case Scenario\")\n",
    "data = [1, 2, 3, 4, 5, 6, 7, 8, 9, 10]\n",
    "print(\"selection_sort\", selection_sort(data))\n",
    "print(\"insertion_sort\", insertion_sort(data), \"\\n\")\n",
    "\n",
    "print(\"Average Case Scenario\")\n",
    "data = [1, 3, 5, 7, 9, 10, 8, 6, 4, 2]\n",
    "print(\"selection_sort\", selection_sort(data))\n",
    "print(\"insertion_sort\", insertion_sort(data), \"\\n\")\n",
    "\n"
   ]
  }
 ],
 "metadata": {
  "kernelspec": {
   "display_name": "Python 3",
   "language": "python",
   "name": "python3"
  },
  "language_info": {
   "codemirror_mode": {
    "name": "ipython",
    "version": 3
   },
   "file_extension": ".py",
   "mimetype": "text/x-python",
   "name": "python",
   "nbconvert_exporter": "python",
   "pygments_lexer": "ipython3",
   "version": "3.9.7"
  },
  "orig_nbformat": 4
 },
 "nbformat": 4,
 "nbformat_minor": 2
}
