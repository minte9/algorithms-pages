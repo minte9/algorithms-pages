{
 "cells": [
  {
   "attachments": {},
   "cell_type": "markdown",
   "metadata": {},
   "source": [
    "### Average Cases\n",
    "\n",
    "Worst-case scenario `isn't` the only situation worth considering.  \n",
    "Being able to see `all` scenarios is important when choosing the algoritm."
   ]
  },
  {
   "attachments": {},
   "cell_type": "markdown",
   "metadata": {},
   "source": [
    "### Insertion Sort\n",
    "\n",
    "We temprorary \"remove\" the value at `index 1`.  \n",
    "We take each value to the `left` and compare it with the temporary value.  \n",
    "If it is bigger then temporary we `shift` it to the right."
   ]
  },
  {
   "cell_type": "code",
   "execution_count": 48,
   "metadata": {},
   "outputs": [
    {
     "name": "stdout",
     "output_type": "stream",
     "text": [
      "[4, 2, 7, 1, 3]\n",
      "Inspect 2\tShift 4\t\tFill the gap 0\t[2, 4, 7, 1, 3]\n",
      "Inspect 7\tBreak Loop\tFill the gap 2\t[2, 4, 7, 1, 3]\n",
      "Inspect 1\tShift 7\t\tShift 4\t\tShift 2\t\tFill the gap 0\t[1, 2, 4, 7, 3]\n",
      "Inspect 3\tShift 7\t\tShift 4\t\tBreak Loop\tFill the gap 2\t[1, 2, 3, 4, 7]\n",
      "[1, 2, 3, 4, 7]\n"
     ]
    }
   ],
   "source": [
    "def insertion_sort(A):\n",
    "    \n",
    "    for i in range(1, len(A)):\n",
    "        tmp = A[i]                  # inspect the item at index i (starting at 1)\n",
    "        pos = i - 1                 # left position\n",
    "\n",
    "        print(\"Inspect\", tmp, end='\\t')\n",
    "        while pos >= 0:\n",
    "\n",
    "            if A[pos] > tmp:                        # left value is greater than tmp\n",
    "\n",
    "                print(\"Shift\", A[pos], end='\\t\\t')  # shift this left value to the right\n",
    "                A[pos+1] = A[pos]   \n",
    "                pos -= 1                            # decrement pos (next left value)\n",
    "\n",
    "            else:\n",
    "                print(\"Break Loop\", end='\\t')       # tmp greater than left\n",
    "                break               \n",
    "        \n",
    "        print(\"Fill the gap\", pos+1, end='\\t')\n",
    "        A[pos + 1] = tmp\n",
    "\n",
    "        print(A)\n",
    "    return A\n",
    "\n",
    "data = [4, 2, 7, 1, 3]\n",
    "print(data)\n",
    "\n",
    "data = insertion_sort(data)\n",
    "print(data)        "
   ]
  }
 ],
 "metadata": {
  "kernelspec": {
   "display_name": "Python 3",
   "language": "python",
   "name": "python3"
  },
  "language_info": {
   "codemirror_mode": {
    "name": "ipython",
    "version": 3
   },
   "file_extension": ".py",
   "mimetype": "text/x-python",
   "name": "python",
   "nbconvert_exporter": "python",
   "pygments_lexer": "ipython3",
   "version": "3.9.7"
  },
  "orig_nbformat": 4
 },
 "nbformat": 4,
 "nbformat_minor": 2
}
