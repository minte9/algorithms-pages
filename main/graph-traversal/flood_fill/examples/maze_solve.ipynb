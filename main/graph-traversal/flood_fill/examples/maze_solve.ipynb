{
 "cells": [
  {
   "attachments": {},
   "cell_type": "markdown",
   "metadata": {},
   "source": [
    "### Maze / String\n",
    "\n",
    "A perfect maze has exactly `one path` from start to exit.  \n",
    "The maze cannot have `loops`, otherwise the algorithm will not work.  \n",
    "S marks the `start`, E the end of the maze.  "
   ]
  },
  {
   "cell_type": "code",
   "execution_count": 44,
   "metadata": {},
   "outputs": [],
   "source": [
    "MAZE = \"\"\"\n",
    "#######################################################################\n",
    "#S#                 #       # #   #     #         #     #   #         #\n",
    "# ##### ######### # ### ### # # # # ### # # ##### # ### # # ##### # ###\n",
    "# #   #     #     #     #   # # #   # #   # #       # # # #     # #   #\n",
    "# # # ##### # ########### ### # ##### ##### ######### # # ##### ### # #\n",
    "#   #     # # #     #   #   #   #         #       #   #   #   #   # # #\n",
    "######### # # # ##### # ### # ########### ####### # # ##### ##### ### #\n",
    "#       # # # #     # #     # #   #   #   #     # # #   #         #   #\n",
    "# # ##### # # ### # # ####### # # # # # # # ##### ### ### ######### # #\n",
    "# # #   # # #   # # #     #     #   #   #   #   #   #     #         # #\n",
    "### # # # # ### # # ##### ####### ########### # ### # ##### ##### ### #\n",
    "#   # #   # #   # #     #   #     #       #   #     # #     #     #   #\n",
    "# ### ####### ##### ### ### ####### ##### # ######## ### ### ##### ###\n",
    "#   #         #     #     #       #   # #   # #     #   # #   # #   # #\n",
    "### ########### # ####### ####### ### # ##### # # ##### # # ### # ### #\n",
    "#   #   #       # #     #   #   #     #       # # #     # # #   # #   #\n",
    "# ### # # ####### # ### ##### # ####### ### ### # # ####### # # # ### #\n",
    "#     #         #     #       #           #     #           # #      E#\n",
    "#######################################################################\n",
    "\"\"\".split('\\n')"
   ]
  },
  {
   "attachments": {},
   "cell_type": "markdown",
   "metadata": {},
   "source": [
    "### Maze / List\n",
    "\n",
    "The string is `converted` into a list that contains lists of strings.  \n",
    "Each string represents a single `character` in the maze.  "
   ]
  },
  {
   "cell_type": "code",
   "execution_count": 45,
   "metadata": {},
   "outputs": [
    {
     "name": "stdout",
     "output_type": "stream",
     "text": [
      "                                                                       \n",
      "#######################################################################\n",
      "#S#                 #       # #   #     #         #     #   #         #\n",
      "# ##### ######### # ### ### # # # # ### # # ##### # ### # # ##### # ###\n",
      "# #   #     #     #     #   # # #   # #   # #       # # # #     # #   #\n",
      "# # # ##### # ########### ### # ##### ##### ######### # # ##### ### # #\n",
      "#   #     # # #     #   #   #   #         #       #   #   #   #   # # #\n",
      "######### # # # ##### # ### # ########### ####### # # ##### ##### ### #\n",
      "#       # # # #     # #     # #   #   #   #     # # #   #         #   #\n",
      "# # ##### # # ### # # ####### # # # # # # # ##### ### ### ######### # #\n",
      "# # #   # # #   # # #     #     #   #   #   #   #   #     #         # #\n",
      "### # # # # ### # # ##### ####### ########### # ### # ##### ##### ### #\n",
      "#   # #   # #   # #     #   #     #       #   #     # #     #     #   #\n",
      "                                                                       \n",
      "#   #         #     #     #       #   # #   # #     #   # #   # #   # #\n",
      "### ########### # ####### ####### ### # ##### # # ##### # # ### # ### #\n",
      "#   #   #       # #     #   #   #     #       # # #     # # #   # #   #\n",
      "# ### # # ####### # ### ##### # ####### ### ### # # ####### # # # ### #\n",
      "#     #         #     #       #           #     #           # #      E#\n",
      "#######################################################################\n",
      "                                                                       \n"
     ]
    }
   ],
   "source": [
    "# Set WIDTH to the widest row's width\n",
    "HEIGHT = len(MAZE)\n",
    "WIDTH = 0\n",
    "for row in MAZE: \n",
    "    if len(row) > WIDTH: \n",
    "        WIDTH = len(row)\n",
    "\n",
    "# Matrix, make each row a list as wide as WIDTH\n",
    "for i in range(HEIGHT):\n",
    "    MAZE[i] = list(MAZE[i])\n",
    "    if len(MAZE[i]) != WIDTH:       # first and last elements in list are []\n",
    "        MAZE[i] = [EMTPY] * WIDTH   # make them blank rows\n",
    "\n",
    "def printMaze(maze):\n",
    "    for y in range(HEIGHT):\n",
    "        for x in range(WIDTH):\n",
    "            print(MAZE[y][x], end='')\n",
    "        print()\n",
    "            \n",
    "printMaze(MAZE)"
   ]
  },
  {
   "attachments": {},
   "cell_type": "markdown",
   "metadata": {},
   "source": [
    "### Recursion / Neighbours\n",
    "\n",
    "We apply recursion when the `tree` traversal algorithm moves from one node to next.  \n",
    "When it reaches a dead end, it must `backtrack` to an earlier node to follow a different path.  "
   ]
  },
  {
   "cell_type": "code",
   "execution_count": 46,
   "metadata": {},
   "outputs": [
    {
     "name": "stdout",
     "output_type": "stream",
     "text": [
      "                                                                       \n",
      "#######################################################################\n",
      "#\u001b[91m|\u001b[0m#                 #       # #   #     #         #     #   #         #\n",
      "#\u001b[91m|\u001b[0m##### ######### # ### ### # # # # ### # # ##### # ### # # ##### # ###\n",
      "#\u001b[91m|\u001b[0m#\u001b[91m|\u001b[0m\u001b[91m|\u001b[0m\u001b[91m|\u001b[0m#     #     #     #   # # #   # #   # #       # # # #     # #   #\n",
      "#\u001b[91m|\u001b[0m#\u001b[91m|\u001b[0m#\u001b[91m|\u001b[0m##### # ########### ### # ##### ##### ######### # # ##### ### # #\n",
      "#\u001b[91m|\u001b[0m\u001b[91m|\u001b[0m\u001b[91m|\u001b[0m#\u001b[91m|\u001b[0m\u001b[91m|\u001b[0m\u001b[91m|\u001b[0m\u001b[91m|\u001b[0m\u001b[91m|\u001b[0m# # #     #   #   #   #         #       #   #   #   #   # # #\n",
      "#########\u001b[91m|\u001b[0m# # # ##### # ### # ########### ####### # # ##### ##### ### #\n",
      "#       #\u001b[91m|\u001b[0m# # #     # #     # #   #   #   #     # # #   #         #\u001b[91m|\u001b[0m\u001b[91m|\u001b[0m\u001b[91m|\u001b[0m#\n",
      "# # #####\u001b[91m|\u001b[0m# # ### # # ####### # # # # # # # ##### ### ### #########\u001b[91m|\u001b[0m#\u001b[91m|\u001b[0m#\n",
      "# # #   #\u001b[91m|\u001b[0m# #   # # #     #     #   #   #   #   #   #     #      \u001b[91m|\u001b[0m\u001b[91m|\u001b[0m\u001b[91m|\u001b[0m#\u001b[91m|\u001b[0m#\n",
      "### # # #\u001b[91m|\u001b[0m# ### # # ##### ####### ########### # ### # ##### #####\u001b[91m|\u001b[0m###\u001b[91m|\u001b[0m#\n",
      "#   # #  \u001b[91m|\u001b[0m# #\u001b[91m|\u001b[0m\u001b[91m|\u001b[0m # #     #   #     #    \u001b[91m|\u001b[0m\u001b[91m|\u001b[0m #\u001b[91m|\u001b[0m\u001b[91m|\u001b[0m #\u001b[91m|\u001b[0m\u001b[91m|\u001b[0m   # #\u001b[91m|\u001b[0m\u001b[91m|\u001b[0m\u001b[91m|\u001b[0m\u001b[91m|\u001b[0m #\u001b[91m|\u001b[0m\u001b[91m|\u001b[0m  \u001b[91m|\u001b[0m#  \u001b[91m|\u001b[0m#\n",
      "         \u001b[91m|\u001b[0m\u001b[91m|\u001b[0m\u001b[91m|\u001b[0m\u001b[91m|\u001b[0m\u001b[91m|\u001b[0m\u001b[91m|\u001b[0m\u001b[91m|\u001b[0m\u001b[91m|\u001b[0m\u001b[91m|\u001b[0m                     \u001b[91m|\u001b[0m\u001b[91m|\u001b[0m\u001b[91m|\u001b[0m\u001b[91m|\u001b[0m\u001b[91m|\u001b[0m\u001b[91m|\u001b[0m\u001b[91m|\u001b[0m \u001b[91m|\u001b[0m\u001b[91m|\u001b[0m      \u001b[91m|\u001b[0m\u001b[91m|\u001b[0m\u001b[91m|\u001b[0m\u001b[91m|\u001b[0m\u001b[91m|\u001b[0m\u001b[91m|\u001b[0m\u001b[91m|\u001b[0m\u001b[91m|\u001b[0m\u001b[91m|\u001b[0m \u001b[91m|\u001b[0m   \u001b[91m|\u001b[0m \n",
      "#   #    \u001b[91m|\u001b[0m\u001b[91m|\u001b[0m\u001b[91m|\u001b[0m\u001b[91m|\u001b[0m #\u001b[91m|\u001b[0m\u001b[91m|\u001b[0m\u001b[91m|\u001b[0m  #     #       #   #\u001b[91m|\u001b[0m#\u001b[91m|\u001b[0m\u001b[91m|\u001b[0m #\u001b[91m|\u001b[0m#\u001b[91m|\u001b[0m\u001b[91m|\u001b[0m\u001b[91m|\u001b[0m  #  \u001b[91m|\u001b[0m# #\u001b[91m|\u001b[0m\u001b[91m|\u001b[0m #\u001b[91m|\u001b[0m#\u001b[91m|\u001b[0m  #\u001b[91m|\u001b[0m#\n",
      "### ########### #\u001b[91m|\u001b[0m####### ####### ### #\u001b[91m|\u001b[0m#####\u001b[91m|\u001b[0m#\u001b[91m|\u001b[0m#\u001b[91m|\u001b[0m#####\u001b[91m|\u001b[0m# # ###\u001b[91m|\u001b[0m#\u001b[91m|\u001b[0m###\u001b[91m|\u001b[0m#\n",
      "#   #   #       #\u001b[91m|\u001b[0m#\u001b[91m|\u001b[0m\u001b[91m|\u001b[0m\u001b[91m|\u001b[0m\u001b[91m|\u001b[0m\u001b[91m|\u001b[0m#   #\u001b[91m|\u001b[0m\u001b[91m|\u001b[0m\u001b[91m|\u001b[0m#     #\u001b[91m|\u001b[0m   \u001b[91m|\u001b[0m\u001b[91m|\u001b[0m\u001b[91m|\u001b[0m#\u001b[91m|\u001b[0m#\u001b[91m|\u001b[0m#\u001b[91m|\u001b[0m\u001b[91m|\u001b[0m\u001b[91m|\u001b[0m\u001b[91m|\u001b[0m\u001b[91m|\u001b[0m# # #  \u001b[91m|\u001b[0m#\u001b[91m|\u001b[0m#  \u001b[91m|\u001b[0m#\n",
      "# ### # # #######\u001b[91m|\u001b[0m#\u001b[91m|\u001b[0m###\u001b[91m|\u001b[0m#####\u001b[91m|\u001b[0m#\u001b[91m|\u001b[0m#######\u001b[91m|\u001b[0m###\u001b[91m|\u001b[0m###\u001b[91m|\u001b[0m#\u001b[91m|\u001b[0m#\u001b[91m|\u001b[0m####### # #\u001b[91m|\u001b[0m#\u001b[91m|\u001b[0m###\u001b[91m|\u001b[0m#\n",
      "#     #         #\u001b[91m|\u001b[0m\u001b[91m|\u001b[0m\u001b[91m|\u001b[0m  #\u001b[91m|\u001b[0m\u001b[91m|\u001b[0m\u001b[91m|\u001b[0m\u001b[91m|\u001b[0m\u001b[91m|\u001b[0m\u001b[91m|\u001b[0m\u001b[91m|\u001b[0m#\u001b[91m|\u001b[0m\u001b[91m|\u001b[0m\u001b[91m|\u001b[0m\u001b[91m|\u001b[0m\u001b[91m|\u001b[0m\u001b[91m|\u001b[0m\u001b[91m|\u001b[0m\u001b[91m|\u001b[0m\u001b[91m|\u001b[0m  #\u001b[91m|\u001b[0m\u001b[91m|\u001b[0m\u001b[91m|\u001b[0m\u001b[91m|\u001b[0m\u001b[91m|\u001b[0m#\u001b[91m|\u001b[0m\u001b[91m|\u001b[0m\u001b[91m|\u001b[0m        # #\u001b[91m|\u001b[0m\u001b[91m|\u001b[0m\u001b[91m|\u001b[0m   E#\n",
      "#######################################################################\n",
      "                                                                       \n"
     ]
    }
   ],
   "source": [
    "# Constants\n",
    "EMTPY = ' '\n",
    "START = 'S'\n",
    "EXIT = 'E'\n",
    "PATH = '\\033[91m' + '|' + '\\033[0m'\n",
    "\n",
    "def findStart(maze):\n",
    "    for y in range(HEIGHT):\n",
    "        for x in range(WIDTH):\n",
    "            if maze[y][x] == START:\n",
    "                return y, x\n",
    "\n",
    "def solveMaze(maze, y=None, x=None, visited=[]):\n",
    "    if x == None and y == None:\n",
    "        y, x = findStart(maze)\n",
    "        maze[y][x] = EMTPY # Get rid of 'S' from the maze\n",
    "\n",
    "    if maze[y][x] == EXIT: # Base case\n",
    "        printMaze(maze)\n",
    "        return True\n",
    "\n",
    "    maze[y][x] = PATH # Mark the path progression\n",
    "    visited.append(str(y) + ',' + str(x))\n",
    "    # printMaze(maze) # Uncoment to view each step\n",
    "\n",
    "    # NORTH\n",
    "    if y + 1 < HEIGHT:\n",
    "        seen = str(y + 1) + \",\" + str(x) in visited\n",
    "        open = maze[y + 1][x] in (EMTPY, EXIT)\n",
    "        if open and not seen:\n",
    "            if solveMaze(maze, y + 1, x, visited): # Recursive case\n",
    "                return True\n",
    "\n",
    "    # SOUTH\n",
    "    if y - 1 >= 0:\n",
    "        seen = str(y - 1) + \",\" + str(x) in visited\n",
    "        open = maze[y - 1][x] in (EMTPY, EXIT)\n",
    "        if open and not seen:\n",
    "            if solveMaze(maze, y - 1, x, visited): # Recursive case\n",
    "                return True\n",
    "\n",
    "    # EST\n",
    "    if x + 1 < WIDTH:\n",
    "        seen = str(y) + \",\" + str(x + 1) in visited\n",
    "        open = maze[y][x + 1] in (EMTPY, EXIT)\n",
    "        if open and not seen:\n",
    "            if solveMaze(maze, y, x + 1, visited): # Recursive case\n",
    "                return True\n",
    "\n",
    "    # WEST\n",
    "    if x - 1 >= 0:\n",
    "        seen = str(y) + \",\" + str(x - 1) in visited\n",
    "        open = maze[y][x - 1] in (EMTPY, EXIT)\n",
    "        if open and not seen:\n",
    "            if solveMaze(maze, y, x - 1, visited): # Recursive case\n",
    "                return True \n",
    "\n",
    "    # Backtrac step\n",
    "    maze[y][x] = EMTPY\n",
    "\n",
    "    return False\n",
    "\n",
    "solveMaze(MAZE);"
   ]
  },
  {
   "attachments": {},
   "cell_type": "markdown",
   "metadata": {},
   "source": [
    "### References\n",
    "\n",
    "[The Recursive Book of Recursion](https://www.amazon.com/gp/product/B09BKL34VL) / amazon  \n",
    "https://github.com/asweigart/the-recursive-book-of-recursion/blob/main/mazeSolver.py  "
   ]
  }
 ],
 "metadata": {
  "kernelspec": {
   "display_name": "Python 3",
   "language": "python",
   "name": "python3"
  },
  "language_info": {
   "codemirror_mode": {
    "name": "ipython",
    "version": 3
   },
   "file_extension": ".py",
   "mimetype": "text/x-python",
   "name": "python",
   "nbconvert_exporter": "python",
   "pygments_lexer": "ipython3",
   "version": "3.9.7"
  },
  "orig_nbformat": 4
 },
 "nbformat": 4,
 "nbformat_minor": 2
}
