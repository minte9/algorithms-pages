{
 "cells": [
  {
   "attachments": {},
   "cell_type": "markdown",
   "metadata": {},
   "source": [
    "## Connected Cells / Flood Fill Practice\n",
    "\n",
    "Create an image with `black and white` cell and fill some connected cell / use Tkinter and PIL"
   ]
  },
  {
   "cell_type": "code",
   "execution_count": null,
   "metadata": {},
   "outputs": [],
   "source": [
    "%pip install pillow"
   ]
  },
  {
   "attachments": {},
   "cell_type": "markdown",
   "metadata": {},
   "source": [
    "## Cells Image\n",
    "\n",
    "Add `black and white` cells to the image."
   ]
  },
  {
   "cell_type": "code",
   "execution_count": 2,
   "metadata": {},
   "outputs": [
    {
     "data": {
      "image/png": "[encoded data removed]",
      "text/plain": [
       "<PIL.PngImagePlugin.PngImageFile image mode=RGB size=220x220 at 0x7F748C09AC40>"
      ]
     },
     "metadata": {},
     "output_type": "display_data"
    }
   ],
   "source": [
    "from PIL import Image, ImageTk\n",
    "\n",
    "# Define intialization constants\n",
    "BLACK = '#222222'\n",
    "WHITE = '#CCCCCC'\n",
    "CELL_SIZE = 20\n",
    "\n",
    "# Create a new blank image\n",
    "image = Image.new(\"RGB\", (220, 220), \"white\")\n",
    "\n",
    "def draw_convas():\n",
    "    \n",
    "    # Calculate the number of cells in each dimension\n",
    "    n_x = 220 // CELL_SIZE\n",
    "    n_y = 220 // CELL_SIZE\n",
    "\n",
    "    # Iterate over the cells and set their colors\n",
    "    for y in range(n_y):\n",
    "        for x in range(n_x):\n",
    "\n",
    "            # Calculate cell boundaries\n",
    "            left = x * CELL_SIZE\n",
    "            top = y * CELL_SIZE\n",
    "            right = left + CELL_SIZE\n",
    "            bottom = top + CELL_SIZE\n",
    "\n",
    "            # Set the convas color\n",
    "            color = WHITE\n",
    "\n",
    "            # Set borders\n",
    "            if x == 0 or y == 0:            color = BLACK\n",
    "            if x == n_x -1 or y == n_y - 1: color = BLACK\n",
    "\n",
    "            # Set middle model cells\n",
    "            if x == 5 or y == 5:            color = BLACK\n",
    "            if x == 5 and y > 3 and y < 7:  color = WHITE\n",
    "            if y == 5 and x > 3 and x < 7:  color = WHITE\n",
    "            if (x, y) == (4,4):             color = BLACK\n",
    "            if (x, y) == (6,6):             color = BLACK\n",
    "\n",
    "            # Fill the cell with color\n",
    "            image.paste(color, (left, top, right, bottom))\n",
    "\n",
    "draw_convas()\n",
    "\n",
    "# Display the image inline\n",
    "display(image)"
   ]
  },
  {
   "attachments": {},
   "cell_type": "markdown",
   "metadata": {},
   "source": [
    "## Flood Fill\n",
    "\n",
    "Start from the center and color all the `connected region`."
   ]
  },
  {
   "cell_type": "code",
   "execution_count": 3,
   "metadata": {},
   "outputs": [
    {
     "data": {
      "image/png": "[encoded data removed]",
      "text/plain": [
       "<PIL.PngImagePlugin.PngImageFile image mode=RGB size=220x220 at 0x7F748C6CE880>"
      ]
     },
     "metadata": {},
     "output_type": "display_data"
    }
   ],
   "source": [
    "from PIL import Image, ImageTk\n",
    "\n",
    "# Create a new blank image\n",
    "image = Image.new(\"RGB\", (220, 220), \"white\")\n",
    "\n",
    "# Draw black and white cells\n",
    "draw_convas()\n",
    "\n",
    "# --------------------------------------------------------\n",
    "\n",
    "FILL_COLOR = '#F8BE90'\n",
    "WHITE_RGB = (204, 204, 204)\n",
    "\n",
    "def get_boundaries(start):\n",
    "    j, i = start\n",
    "\n",
    "    x = i * CELL_SIZE\n",
    "    y = j * CELL_SIZE\n",
    "    width = x + CELL_SIZE\n",
    "    height = y + CELL_SIZE\n",
    "\n",
    "    return (x, y, width, height)\n",
    "\n",
    "def flood_fill(start):\n",
    "    j, i = start\n",
    "\n",
    "    # Get cell boundaries\n",
    "    boundaries = get_boundaries(start)\n",
    "\n",
    "    # Fill the cell with color\n",
    "    image.paste(FILL_COLOR, boundaries)\n",
    "\n",
    "    # Neighbors coordinates\n",
    "    W = j, i-1\n",
    "    N = j-1, i\n",
    "    E = j, i+1\n",
    "    S = j+1, i\n",
    "\n",
    "    # Check WEST\n",
    "    boundaries = get_boundaries(W)\n",
    "    c = image.crop(boundaries).getpixel((0, 0)) # get color\n",
    "    if c == WHITE_RGB:\n",
    "        flood_fill(W) # Recursive\n",
    "\n",
    "    # Check NORTH\n",
    "    boundaries = get_boundaries(N)\n",
    "    c = image.crop(boundaries).getpixel((0, 0))\n",
    "    if c == WHITE_RGB:\n",
    "        flood_fill(N)\n",
    "\n",
    "    # Check EAST\n",
    "    boundaries = get_boundaries(E)\n",
    "    c = image.crop(boundaries).getpixel((0, 0))\n",
    "    if c == WHITE_RGB:\n",
    "        flood_fill(E)\n",
    "\n",
    "    # Check EAST\n",
    "    boundaries = get_boundaries(S)\n",
    "    c = image.crop(boundaries).getpixel((0, 0))\n",
    "    if c == WHITE_RGB:\n",
    "        flood_fill(S)\n",
    "\n",
    "    \n",
    "flood_fill((5, 5))\n",
    "\n",
    "# --------------------------------------------------------\n",
    "\n",
    "# Display the image inline\n",
    "display(image)"
   ]
  },
  {
   "attachments": {},
   "cell_type": "markdown",
   "metadata": {},
   "source": [
    "## Animation / Time Delay\n",
    "\n",
    "After each cell is filled, the displayed `image is updated`, creating an animation."
   ]
  },
  {
   "cell_type": "code",
   "execution_count": 5,
   "metadata": {},
   "outputs": [],
   "source": [
    "import tkinter as tk\n",
    "from PIL import Image, ImageTk\n",
    "import time\n",
    "\n",
    "# Create a Tkinter window\n",
    "window = tk.Tk()\n",
    "window.title(\"Image Fill\")\n",
    "\n",
    "# Define dimensions\n",
    "image_width = 220\n",
    "image_height = 220\n",
    "cell_size = 20\n",
    "\n",
    "# Create a new blank image\n",
    "image = Image.new(\"RGB\", (image_width, image_height), \"white\")\n",
    "\n",
    "# Create a Tkinter compatible photo image\n",
    "photo = ImageTk.PhotoImage(image)\n",
    "\n",
    "# Create a label widget to display the image\n",
    "image_label = tk.Label(window, image=photo)\n",
    "image_label.pack()\n",
    "\n",
    "# Draw black and white cells\n",
    "draw_convas()\n",
    "\n",
    "def flood_fill(start):\n",
    "    j, i = start\n",
    "\n",
    "    # Get cell boundaries\n",
    "    boundaries = get_boundaries(start)\n",
    "\n",
    "    # Fill the cell with color\n",
    "    image.paste(FILL_COLOR, boundaries)\n",
    "\n",
    "    # ------------------------------------------------\n",
    "\n",
    "    # Update the displayed image after each fill operation\n",
    "    photo = ImageTk.PhotoImage(image)\n",
    "    image_label.configure(image=photo)\n",
    "    image_label.image = photo\n",
    "    window.update()\n",
    "\n",
    "    time.sleep(0.1)\n",
    "    \n",
    "    # ------------------------------------------------\n",
    "\n",
    "    # Neighbors coordinates\n",
    "    W = j, i-1\n",
    "    N = j-1, i\n",
    "    E = j, i+1\n",
    "    S = j+1, i\n",
    "\n",
    "    # Check WEST\n",
    "    boundaries = get_boundaries(W)\n",
    "    c = image.crop(boundaries).getpixel((0, 0)) # get color\n",
    "    if c == WHITE_RGB:\n",
    "        flood_fill(W) # Recursive\n",
    "\n",
    "    # Check NORTH\n",
    "    boundaries = get_boundaries(N)\n",
    "    c = image.crop(boundaries).getpixel((0, 0))\n",
    "    if c == WHITE_RGB:\n",
    "        flood_fill(N)\n",
    "\n",
    "    # Check EAST\n",
    "    boundaries = get_boundaries(E)\n",
    "    c = image.crop(boundaries).getpixel((0, 0))\n",
    "    if c == WHITE_RGB:\n",
    "        flood_fill(E)\n",
    "\n",
    "    # Check EAST\n",
    "    boundaries = get_boundaries(S)\n",
    "    c = image.crop(boundaries).getpixel((0, 0))\n",
    "    if c == WHITE_RGB:\n",
    "        flood_fill(S)\n",
    "\n",
    "    \n",
    "flood_fill((5, 5))\n",
    "\n",
    "# Start the Tkinter event loop\n",
    "window.mainloop()"
   ]
  },
  {
   "attachments": {},
   "cell_type": "markdown",
   "metadata": {},
   "source": [
    "## References\n",
    "\n",
    "[Flood Fill](https://en.wikipedia.org/wiki/Flood_fill) wikipedia"
   ]
  }
 ],
 "metadata": {
  "kernelspec": {
   "display_name": "Python 3",
   "language": "python",
   "name": "python3"
  },
  "language_info": {
   "codemirror_mode": {
    "name": "ipython",
    "version": 3
   },
   "file_extension": ".py",
   "mimetype": "text/x-python",
   "name": "python",
   "nbconvert_exporter": "python",
   "pygments_lexer": "ipython3",
   "version": "3.9.7"
  },
  "orig_nbformat": 4
 },
 "nbformat": 4,
 "nbformat_minor": 2
}
