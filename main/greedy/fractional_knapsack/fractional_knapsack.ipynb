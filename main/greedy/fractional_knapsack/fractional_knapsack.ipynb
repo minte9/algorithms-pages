{
 "cells": [
  {
   "attachments": {},
   "cell_type": "markdown",
   "metadata": {},
   "source": [
    "### Fractional Knapsack\n",
    "\n",
    "Given a set of items with weights and values and a knapsack with a maximum weight capacity, the greedy  \n",
    "algorithm selects items with the maximum value-to-weight ratio and places them in the knapsack until the  \n",
    "capacity is full.\n",
    "\n",
    "In this problem, you have a knapsack with a weight limit, and you want to maximize the value of the items  \n",
    "you can fit into the knapsack without exceeding its weight capacity.\n",
    "\n",
    "Example:  \n",
    "8 kg, $40  / A   \n",
    "5 kg, $30  / B  \n",
    "3 kg, $20  / C  \n",
    "2 kg, $15  / D   \n",
    "Knapsack Capacity: 12\n",
    "\n",
    "Solution:   \n",
    "(D) 2kg, 15$ + (C) 3kg, 6.6$ + (B) 5kg, 6$ + (A) 2kg, 5$ = 12kg, $75"
   ]
  },
  {
   "attachments": {},
   "cell_type": "markdown",
   "metadata": {},
   "source": [
    "### Solution\n",
    "\n",
    "In the Fractional Knapsack problem, you can take fractions of items, so it's possible to select parts of items to maximize value.  \n",
    "The solution should maximize the total value while respecting the knapsack's weight limit.  \n",
    "In the fractional knapsack problem, fractions can be real numbers.  \n",
    "\n",
    "1. Calculate value-to-weight ratio for each item.  \n",
    "2. Sort items by ratio in descending order.  \n",
    "3. Start filling the knapsack until the weight limit.  "
   ]
  },
  {
   "cell_type": "code",
   "execution_count": 117,
   "metadata": {},
   "outputs": [
    {
     "name": "stderr",
     "output_type": "stream",
     "text": [
      "ic| sorted_items: [('D', 2, 15), ('C', 3, 20), ('B', 5, 30), ('A', 8, 40)]\n",
      "ic| total_price: 75.0\n",
      "    total_weight: 12.0\n",
      "    sack_items: [('D', 2, 7.5), ('C', 3, 6.666666666666667), ('B', 5, 6.0), ('A', 2, 5.0)]\n"
     ]
    }
   ],
   "source": [
    "from icecream import ic\n",
    "\n",
    "def calculate_ratio(item):\n",
    "    name, weight, price = item\n",
    "    return price / weight\n",
    "\n",
    "def fill_knapsack(items, capacity):\n",
    "\n",
    "    # Sort desc by ratio\n",
    "    sorted_items = sorted(items, key=calculate_ratio, reverse=True)\n",
    "    ic(sorted_items)\n",
    "\n",
    "    # Fill the knapsack until limit is reached\n",
    "    sack_items = []\n",
    "    total_weight = 0\n",
    "    total_price = 0\n",
    "\n",
    "    for item in sorted_items:\n",
    "        n, w, p = item\n",
    "\n",
    "        if total_weight + w <= capacity:\n",
    "            sack_items.append((n, w, calculate_ratio(item)))\n",
    "            total_weight += w\n",
    "            total_price += p\n",
    "        else:\n",
    "            fraction = (capacity - total_weight) / w\n",
    "            sack_items.append((n, int(fraction * w), calculate_ratio(item)))\n",
    "            total_weight += fraction * w\n",
    "            total_price += fraction * p\n",
    "            break\n",
    "    return total_price, total_weight, sack_items\n",
    "\n",
    "# Items list\n",
    "items = [\n",
    "    ('A', 8, 40), \n",
    "    ('B', 5, 30), \n",
    "    ('C', 3, 20), \n",
    "    ('D', 2, 15)]\n",
    "\n",
    "# Knapsack capacity\n",
    "capacity = 12\n",
    "\n",
    "total_price, total_weight, sack_items = fill_knapsack(items, capacity)\n",
    "ic(total_price, total_weight, sack_items);"
   ]
  }
 ],
 "metadata": {
  "kernelspec": {
   "display_name": "Python 3",
   "language": "python",
   "name": "python3"
  },
  "language_info": {
   "codemirror_mode": {
    "name": "ipython",
    "version": 3
   },
   "file_extension": ".py",
   "mimetype": "text/x-python",
   "name": "python",
   "nbconvert_exporter": "python",
   "pygments_lexer": "ipython3",
   "version": "3.9.7"
  },
  "orig_nbformat": 4
 },
 "nbformat": 4,
 "nbformat_minor": 2
}
