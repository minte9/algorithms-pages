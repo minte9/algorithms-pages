{
 "cells": [
  {
   "attachments": {},
   "cell_type": "markdown",
   "metadata": {},
   "source": [
    "### Fractional Knapsack\n",
    "\n",
    "Given a set of items with weights and values and a knapsack with a maximum weight capacity, the greedy  \n",
    "algorithm selects items with the maximum value-to-weight ratio and places them in the knapsack until the  \n",
    "capacity is full.\n",
    "\n",
    "Example:  \n",
    "8 kg, $40  \n",
    "5 kg, $30  \n",
    "3 kg, $20  \n",
    "2 kg, $15  \n",
    "Knapsack Capacity: 15  \n",
    "Solution: 8 kg + 5 kg + 2 kg = $85"
   ]
  },
  {
   "cell_type": "code",
   "execution_count": 3,
   "metadata": {},
   "outputs": [
    {
     "name": "stdout",
     "output_type": "stream",
     "text": [
      "5.0\n",
      "6.0\n",
      "6.666666666666667\n",
      "7.5\n"
     ]
    }
   ],
   "source": [
    "# Items list\n",
    "items = [(8, 40), (5, 30), (3, 20), (2, 15)]\n",
    "\n",
    "# Knapsack capacity\n",
    "capacity = 15\n",
    "\n",
    "for item in items:\n",
    "    weight, price = item\n",
    "    ratio = price/weight\n",
    "    print(ratio)"
   ]
  }
 ],
 "metadata": {
  "kernelspec": {
   "display_name": "Python 3",
   "language": "python",
   "name": "python3"
  },
  "language_info": {
   "codemirror_mode": {
    "name": "ipython",
    "version": 3
   },
   "file_extension": ".py",
   "mimetype": "text/x-python",
   "name": "python",
   "nbconvert_exporter": "python",
   "pygments_lexer": "ipython3",
   "version": "3.9.7"
  },
  "orig_nbformat": 4
 },
 "nbformat": 4,
 "nbformat_minor": 2
}
