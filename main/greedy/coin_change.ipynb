{
 "metadata": {
  "language_info": {
   "codemirror_mode": {
    "name": "ipython",
    "version": 3
   },
   "file_extension": ".py",
   "mimetype": "text/x-python",
   "name": "python",
   "nbconvert_exporter": "python",
   "pygments_lexer": "ipython3",
   "version": "3.9.8"
  },
  "orig_nbformat": 4,
  "kernelspec": {
   "name": "python3",
   "display_name": "Python 3.9.8 64-bit"
  },
  "interpreter": {
   "hash": "0d008810b9c8467bcb3ca39aa2180e5b81b3a9acb136aab30d47954377cc5120"
  }
 },
 "nbformat": 4,
 "nbformat_minor": 2,
 "cells": [
  {
   "source": [
    "## Coin Change\n",
    "\n",
    "Find the minimum numbers of coins in order to make a change (from a set of denominators).  \n",
    "\n",
    "    1. Use a list of denominators to get the target value.  \n",
    "       Store the result in a set (no duplicates). \n",
    "    2. Store the remaining value as target minus sum of result items   \n",
    "    3. Loop through the list of coins in reverse order    \n",
    "    4. Check the value against the remaining and add it to the result set\n",
    "      "
   ],
   "cell_type": "markdown",
   "metadata": {}
  },
  {
   "cell_type": "code",
   "execution_count": 66,
   "metadata": {},
   "outputs": [
    {
     "output_type": "stream",
     "name": "stdout",
     "text": [
      "{1, 100, 5, 50, 20, 150}\n"
     ]
    }
   ],
   "source": [
    "def coin_change(target):\n",
    "    coins = [1, 2, 3, 5, 10, 20, 30, 50, 100, 150]\n",
    "    result = set()\n",
    "    remaining = target - sum(result)\n",
    "\n",
    "    for v in reversed(coins):\n",
    "        if v <= remaining:\n",
    "            result.add(v)\n",
    "            remaining = target - sum(result)\n",
    "    return result\n",
    "\n",
    "assert 326 == sum(coin_change(326))\n",
    "print(coin_change(326))\n"
   ]
  },
  {
   "source": [
    "## Variation\n",
    "\n",
    "Find coins list for any number, duplicates are allowed.  \n",
    "\n",
    "    1. Store the result in a list  \n",
    "    2. Do not store the remaining anymore\n",
    "    3. Loop in reverse order as \n",
    "    4. Replace the check with a while loop"
   ],
   "cell_type": "markdown",
   "metadata": {}
  },
  {
   "cell_type": "code",
   "execution_count": 65,
   "metadata": {},
   "outputs": [
    {
     "output_type": "stream",
     "name": "stdout",
     "text": [
      "[150, 150, 150, 150, 150, 150, 150, 150, 100, 20, 5, 1]\n"
     ]
    }
   ],
   "source": [
    "def coin_change2(target):\n",
    "    coins = [1, 2, 3, 5, 10, 20, 30, 50, 100, 150]\n",
    "    result = []\n",
    "\n",
    "    for v in reversed(coins):\n",
    "        while v <= target - sum(result):\n",
    "            result.append(v)\n",
    "    return result\n",
    "\n",
    "assert 1326 == sum(coin_change2(1326))\n",
    "print(coin_change2(1326))\n"
   ]
  }
 ]
}
