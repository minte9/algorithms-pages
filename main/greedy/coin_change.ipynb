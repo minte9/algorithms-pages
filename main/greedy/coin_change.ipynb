{
 "cells": [
  {
   "cell_type": "markdown",
   "metadata": {},
   "source": [
    "## Coin Change\n",
    "\n",
    "Find the minimum numbers of coins to make a change (no duplicates).\n",
    "\n",
    "    1. Use a list of denominators and store the result in a set (no duplicates)\n",
    "    2. Define the remaining value as target minus sum of result items   \n",
    "    3. Loop in reverse order and check against the remaining      "
   ]
  },
  {
   "cell_type": "code",
   "execution_count": 1,
   "metadata": {},
   "outputs": [
    {
     "name": "stdout",
     "output_type": "stream",
     "text": [
      "{1, 100, 5, 50, 20, 150}\n"
     ]
    }
   ],
   "source": [
    "def coin_change(target):\n",
    "    coins = [1, 2, 3, 5, 10, 20, 30, 50, 100, 150]\n",
    "    result = set()\n",
    "    remaining = target - sum(result)\n",
    "\n",
    "    for v in reversed(coins):\n",
    "        if v <= remaining:\n",
    "            result.add(v)\n",
    "            remaining = target - sum(result)\n",
    "    return result\n",
    "\n",
    "assert 326 == sum(coin_change(326))\n",
    "print(coin_change(326))\n"
   ]
  },
  {
   "cell_type": "markdown",
   "metadata": {},
   "source": [
    "## Variation\n",
    "\n",
    "Find coins list for any number, duplicates are allowed.  \n",
    "\n",
    "    1. Store the result in a list (not set)\n",
    "    2. Loop denominators in reverse order and check against the remaining\n",
    "    3. Add the check to a while loop (so you can use multiple times the same coin)"
   ]
  },
  {
   "cell_type": "code",
   "execution_count": 2,
   "metadata": {},
   "outputs": [
    {
     "name": "stdout",
     "output_type": "stream",
     "text": [
      "[150, 150, 150, 150, 150, 150, 150, 150, 100, 20, 5, 1]\n"
     ]
    }
   ],
   "source": [
    "def coin_change2(target):\n",
    "    coins = [1, 2, 3, 5, 10, 20, 30, 50, 100, 150]\n",
    "    result = []\n",
    "\n",
    "    for v in reversed(coins):\n",
    "        while v <= target - sum(result):\n",
    "            result.append(v)\n",
    "    return result\n",
    "\n",
    "assert 1326 == sum(coin_change2(1326))\n",
    "print(coin_change2(1326))\n"
   ]
  },
  {
   "cell_type": "markdown",
   "metadata": {},
   "source": [
    "### Questions\n",
    "\n",
    "1. In order to allowed duplicates, store the result in a:\n",
    "\n",
    "    a) list  \n",
    "    b) set  \n",
    "\n",
    "2. To use the mininum number of coins you need to:\n",
    "\n",
    "    a) reverse the denominators list  \n",
    "    b) use a check against the remaining\n",
    "\n",
    "3. The remaining is defined as:\n",
    "\n",
    "    a) target - coin (from loop)  \n",
    "    b) target - sum(result)"
   ]
  },
  {
   "cell_type": "markdown",
   "metadata": {},
   "source": [
    "### Answers\n",
    "\n",
    "1. a\n",
    "2. a\n",
    "3. b\n"
   ]
  },
  {
   "cell_type": "markdown",
   "metadata": {},
   "source": [
    "### Practice\n",
    "\n",
    "1. Find the mininum number of coins to make the change for 336.  \n",
    "   Denominators list is [1, 2, 3, 5, 10, 20, 30, 50, 100, 150].  \n",
    "   Duplicates are allowed but only for small coins, less or equal to 10."
   ]
  }
 ],
 "metadata": {
  "kernelspec": {
   "display_name": "Python 3",
   "language": "python",
   "name": "python3"
  },
  "language_info": {
   "codemirror_mode": {
    "name": "ipython",
    "version": 3
   },
   "file_extension": ".py",
   "mimetype": "text/x-python",
   "name": "python",
   "nbconvert_exporter": "python",
   "pygments_lexer": "ipython3",
   "version": "3.8.12"
  },
  "orig_nbformat": 4
 },
 "nbformat": 4,
 "nbformat_minor": 2
}
