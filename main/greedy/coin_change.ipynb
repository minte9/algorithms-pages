{
 "cells": [
  {
   "attachments": {},
   "cell_type": "markdown",
   "metadata": {},
   "source": [
    "### Coin Change\n",
    "\n",
    "Find the minimum number of coins needed to make the change.  \n",
    "The algorithm tries to make change using a set of coin denominations.  \n",
    "\n",
    "Start with the largest denomination that is less than or equal to the target amount  \n",
    "and continue with smaller denominations until you reach the target.  \n",
    " \n",
    "Denominations: [1, 5, 10, 25]  \n",
    "Target Amount: 63 cents   \n",
    "Solution: 25 + 25 + 10 + 1 + 1 + 1 = 6 coins"
   ]
  },
  {
   "cell_type": "code",
   "execution_count": 13,
   "metadata": {},
   "outputs": [
    {
     "name": "stdout",
     "output_type": "stream",
     "text": [
      "[25, 25, 10, 1, 1, 1] Min number of coins: 6\n"
     ]
    }
   ],
   "source": [
    "# Initialize the denominations set and the result set\n",
    "D = [1, 5, 10, 25]\n",
    "R = []\n",
    "\n",
    "# Target amount\n",
    "target = 63\n",
    "\n",
    "for n in reversed(D):\n",
    "    while n <= target - sum(R):\n",
    "        R.append(n)\n",
    "\n",
    "print(R, \"Min number of coins:\", len(R))"
   ]
  },
  {
   "attachments": {},
   "cell_type": "markdown",
   "metadata": {},
   "source": [
    "### Variation\n",
    "\n",
    "Find a combination of numbers from the set M to get as close as possible to the target value without exceeding it."
   ]
  },
  {
   "cell_type": "code",
   "execution_count": 18,
   "metadata": {},
   "outputs": [
    {
     "name": "stdout",
     "output_type": "stream",
     "text": [
      "[150, 130, 30, 10, 2, 0] 322\n"
     ]
    }
   ],
   "source": [
    "# Denominations set\n",
    "M = [0, 1, 2, 3, 5, 10, 20, 30, 50, 100, 130, 150]\n",
    "\n",
    "# Result set\n",
    "R = []\n",
    "\n",
    "target = 322\n",
    "for n in reversed(M):\n",
    "    if n <= target - sum(R):\n",
    "        R.append(n)\n",
    "\n",
    "print(R, sum(R))"
   ]
  }
 ],
 "metadata": {
  "kernelspec": {
   "display_name": "Python 3",
   "language": "python",
   "name": "python3"
  },
  "language_info": {
   "codemirror_mode": {
    "name": "ipython",
    "version": 3
   },
   "file_extension": ".py",
   "mimetype": "text/x-python",
   "name": "python",
   "nbconvert_exporter": "python",
   "pygments_lexer": "ipython3",
   "version": "3.9.7"
  },
  "orig_nbformat": 4
 },
 "nbformat": 4,
 "nbformat_minor": 2
}
