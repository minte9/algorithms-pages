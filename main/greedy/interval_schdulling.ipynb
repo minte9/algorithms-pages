{
 "cells": [
  {
   "attachments": {},
   "cell_type": "markdown",
   "metadata": {},
   "source": [
    "### Interval Scheduling\n",
    "\n",
    "Problem:  \n",
    "You have a set of tasks or intervals with start and end times. Find the maximum number of non-overlapping intervals.  \n",
    "\n",
    "Greedy Approach:  \n",
    "Sort the intervals by their end times in ascending order and select non-overlapping intervals one by one.  \n",
    "\n",
    "Example:  \n",
    "Intervals:  \n",
    "Interval 1: [1, 3]  \n",
    "Interval 2: [2, 4]  \n",
    "Interval 3: [3, 5]  \n",
    "Interval 4: [5, 7]  \n",
    "Interval 5: [6, 8]  \n",
    "\n",
    "Greedy Solution:  \n",
    "Select Interval 1, Interval 2, and Interval 4 (or Interval 1, Interval 3, and Interval 5) for a maximum of 3 non-overlapping intervals.  "
   ]
  }
 ],
 "metadata": {
  "language_info": {
   "name": "python"
  },
  "orig_nbformat": 4
 },
 "nbformat": 4,
 "nbformat_minor": 2
}
