{
 "cells": [
  {
   "attachments": {},
   "cell_type": "markdown",
   "metadata": {},
   "source": [
    "### Coin Change\n",
    "\n",
    "Find the minimum number of coins needed to make the change.  \n",
    "The algorithm tries to make change using a set of coin denominations.  \n",
    "\n",
    "Start with the largest denomination that is less than or equal to the target amount  \n",
    "and continue with smaller denominations until you reach the target.  \n",
    " \n",
    "Denominations: [1, 5, 10, 25]  \n",
    "Target Amount: 63 cents   \n",
    "Solution: 25 + 25 + 10 + 1 + 1 + 1 = 6 coins"
   ]
  },
  {
   "cell_type": "code",
   "execution_count": 28,
   "metadata": {},
   "outputs": [
    {
     "name": "stdout",
     "output_type": "stream",
     "text": [
      "[25, 25, 10, 1, 1, 1] Min number of coins: 6\n"
     ]
    }
   ],
   "source": [
    "# Denominations list\n",
    "D = [1, 5, 10, 25]\n",
    "\n",
    "# Result list\n",
    "R = []\n",
    "\n",
    "# Target amount\n",
    "target = 63\n",
    "\n",
    "for n in reversed(D):\n",
    "    while n <= target - sum(R):\n",
    "        R.append(n)\n",
    "\n",
    "print(R, \"Min number of coins:\", len(R))"
   ]
  },
  {
   "attachments": {},
   "cell_type": "markdown",
   "metadata": {},
   "source": [
    "### Variation\n",
    "\n",
    "Find a combination of numbers from the set M to get as close as possible to the target value without exceeding it."
   ]
  },
  {
   "cell_type": "code",
   "execution_count": 5,
   "metadata": {},
   "outputs": [
    {
     "name": "stdout",
     "output_type": "stream",
     "text": [
      "{1, 130, 5, 10, 150, 30} 326\n"
     ]
    }
   ],
   "source": [
    "# Denominations list\n",
    "M = [1, 2, 3, 5, 10, 20, 30, 50, 100, 130, 150]\n",
    "\n",
    "# Result set (no duplicates)\n",
    "R = set()\n",
    "\n",
    "target = 326\n",
    "for n in reversed(M):\n",
    "    if n <= target - sum(R):\n",
    "        R.add(n)\n",
    "\n",
    "assert target == sum(R)\n",
    "print(R, sum(R))"
   ]
  }
 ],
 "metadata": {
  "kernelspec": {
   "display_name": "Python 3",
   "language": "python",
   "name": "python3"
  },
  "language_info": {
   "codemirror_mode": {
    "name": "ipython",
    "version": 3
   },
   "file_extension": ".py",
   "mimetype": "text/x-python",
   "name": "python",
   "nbconvert_exporter": "python",
   "pygments_lexer": "ipython3",
   "version": "3.8.12"
  },
  "orig_nbformat": 4
 },
 "nbformat": 4,
 "nbformat_minor": 2
}
