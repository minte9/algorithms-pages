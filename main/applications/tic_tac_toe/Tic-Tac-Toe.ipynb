{
 "cells": [
  {
   "attachments": {},
   "cell_type": "markdown",
   "metadata": {},
   "source": [
    "## Tic Tac Toe - Minimax\n",
    "\n",
    "The algorithm tries to `maximise` my score, while taking into acount that you will try to `minimise` your score."
   ]
  },
  {
   "attachments": {},
   "cell_type": "markdown",
   "metadata": {},
   "source": [
    "## Legal moves\n",
    "\n",
    "Get all `available` legal moves."
   ]
  },
  {
   "cell_type": "code",
   "execution_count": 41,
   "metadata": {},
   "outputs": [
    {
     "name": "stdout",
     "output_type": "stream",
     "text": [
      "[(0, 0), (1, 2), (2, 2)]\n"
     ]
    }
   ],
   "source": [
    "import numpy as np\n",
    "\n",
    "def get_legal_moves(board):\n",
    "    moves = []\n",
    "    for i in range(3):\n",
    "        for j in range(3):\n",
    "            if board[i][j] == \" \":\n",
    "                moves.append((i, j))\n",
    "    return moves\n",
    "\n",
    "board = np.array([\n",
    "    [\" \", \"O\", \"X\"],\n",
    "    [\"O\", \"X\", \" \"],\n",
    "    [\"O\", \"X\", \" \"],\n",
    "])\n",
    "\n",
    "print(get_legal_moves(board))"
   ]
  },
  {
   "attachments": {},
   "cell_type": "markdown",
   "metadata": {},
   "source": [
    "## Show board\n",
    "\n",
    "Display the `current board` and color the last move."
   ]
  },
  {
   "cell_type": "code",
   "execution_count": 42,
   "metadata": {},
   "outputs": [
    {
     "name": "stdout",
     "output_type": "stream",
     "text": [
      "  \u001b[96mX\u001b[0m | O | X\n",
      " ---+---+---\n",
      "  O | X |  \n",
      " ---+---+---\n",
      "  O | X |  \n"
     ]
    }
   ],
   "source": [
    "def show(board, move=None):\n",
    "    board_ = np.copy(board).tolist() \n",
    "\n",
    "    # Color last move\n",
    "    if move: \n",
    "        i, j = move\n",
    "        CYAN, ENDC = '\\033[96m', '\\033[0m'\n",
    "        board_[i][j] = CYAN + board[move] + ENDC  # color last move\n",
    "\n",
    "    # Show board \n",
    "    for i in range(3):\n",
    "        print(\" \", board_[i][0], \"|\", board_[i][1], \"|\", board_[i][2])\n",
    "        print(\" ---+---+---\") if i < 2 else \"\"\n",
    "\n",
    "board = np.array([\n",
    "    [\"X\", \"O\", \"X\"],\n",
    "    [\"O\", \"X\", \" \"],\n",
    "    [\"O\", \"X\", \" \"],\n",
    "])\n",
    "\n",
    "show(board, (0,0))"
   ]
  },
  {
   "attachments": {},
   "cell_type": "markdown",
   "metadata": {},
   "source": [
    "## Evaluate score\n",
    "\n",
    "Evaluate `current score` and check if the current board is in `terminal state`."
   ]
  },
  {
   "cell_type": "code",
   "execution_count": 43,
   "metadata": {},
   "outputs": [],
   "source": [
    "def evaluate_score(board):\n",
    "    for i in range(3):\n",
    "        if board[i][0] == board[i][1] == board[i][2] and board[i][0] != \" \":\n",
    "            return 1 if board[i][0] == 'X' else -1 # horizontal win score\n",
    "    for i in range(3):\n",
    "        if board[0][i] == board[1][i] == board[2][i] and board[0][i] != \" \":\n",
    "            return 1 if board[0][i] == 'X' else -1 # vertical win score\n",
    "\n",
    "    if (board[0][0] == board[1][1] == board[2][2] or \\\n",
    "        board[0][2] == board[1][1] == board[2][0]) and board[1][1] != \" \":\n",
    "            return 1 if board[1][1] == \"X\" else -1 # diagonal win score \n",
    "    return 0\n",
    "\n",
    "def is_terminal_state(board):\n",
    "    if (evaluate_score(board)) ==  1:    return True # X win\n",
    "    if (evaluate_score(board)) == -1:    return True # O win\n",
    "    if len(get_legal_moves(board)) == 0: return True # Draw\n",
    "    return False\n",
    "\n",
    "board = np.array([\n",
    "    [\"X\", \"O\", \"X\"],\n",
    "    [\"X\", \"X\", \"X\"],\n",
    "    [\"O\", \" \", \"O\"],\n",
    "])\n",
    "\n",
    "assert is_terminal_state(board) == True # horizontal win"
   ]
  },
  {
   "attachments": {},
   "cell_type": "markdown",
   "metadata": {},
   "source": [
    "## Minimax\n",
    "\n",
    "We go down recursively in order to `find the best` choises."
   ]
  },
  {
   "cell_type": "code",
   "execution_count": 44,
   "metadata": {},
   "outputs": [
    {
     "name": "stdout",
     "output_type": "stream",
     "text": [
      "(2, 0) 1\n"
     ]
    }
   ],
   "source": [
    "def minimax(board, player=True):\n",
    "    \n",
    "    best_move = None \n",
    "    best_score = float(\"-inf\") if player else float(\"+inf\") # initialize score\n",
    "\n",
    "    for move in get_legal_moves(board): # possible moves\n",
    "\n",
    "        new_board = np.copy(board)\n",
    "        new_board[move] = 'X' if player else 'O'\n",
    "        \n",
    "        if is_terminal_state(new_board):  # Base case\n",
    "            return move, evaluate_score(new_board)  \n",
    "\n",
    "        # Children scores\n",
    "        move_, score_ = minimax(new_board, not player) # Recursive\n",
    "\n",
    "        if player == True:\n",
    "            if score_ > best_score:\n",
    "                best_score = score_\n",
    "                best_move = move\n",
    "\n",
    "        if player == False:\n",
    "            if score_ < best_score:\n",
    "                best_score = score_\n",
    "                best_move = move\n",
    "\n",
    "    return best_move, best_score\n",
    "\n",
    "board = np.array([\n",
    "    [\" \", \"O\", \"X\"],\n",
    "    [\"O\", \"X\", \" \"],\n",
    "    [\" \", \"X\", \" \"]\n",
    "])\n",
    "\n",
    "best_move, best_score = minimax(board, True) # X to move\n",
    "print(best_move, best_score)"
   ]
  },
  {
   "attachments": {},
   "cell_type": "markdown",
   "metadata": {},
   "source": [
    "## Prunning\n",
    "\n",
    "With `alpha-beta prunning` we avoid traversing irrelevant parts of the tree."
   ]
  },
  {
   "cell_type": "code",
   "execution_count": 45,
   "metadata": {},
   "outputs": [
    {
     "name": "stdout",
     "output_type": "stream",
     "text": [
      "(2, 0) 0\n"
     ]
    }
   ],
   "source": [
    "def minimax(board, player=True, alpha=float('-inf'), beta=float('inf')):\n",
    "    \n",
    "    best_move = None \n",
    "    best_score = float(\"-inf\") if player else float(\"+inf\") # initialize score\n",
    "\n",
    "    for move in get_legal_moves(board): # possible moves\n",
    "        new_board = np.copy(board)\n",
    "        new_board[move] = 'X' if player else 'O'\n",
    "        \n",
    "        if is_terminal_state(new_board): \n",
    "            return move, evaluate_score(new_board) # Base case\n",
    "\n",
    "        # Children scores\n",
    "        move_, score_ = minimax(new_board, not player, alpha, beta)  # Recursive\n",
    "\n",
    "        if player == True:\n",
    "            if score_ > best_score:\n",
    "                best_score = score_ # child best score\n",
    "                best_move = move    # parent move\n",
    "            alpha = max(alpha, score_)\n",
    "            \n",
    "        if player == False:\n",
    "            if score_ < best_score:\n",
    "                best_score = score_\n",
    "                best_move = move\n",
    "            beta = min(beta, score_)\n",
    "        \n",
    "        if beta <= alpha: # prunning condition\n",
    "            break\n",
    "\n",
    "    return best_move, best_score\n",
    "\n",
    "board = np.array([\n",
    "    [\" \", \"O\", \"X\"],\n",
    "    [\"O\", \"X\", \" \"],\n",
    "    [\" \", \"X\", \" \"]\n",
    "])\n",
    "\n",
    "best_move, best_score = minimax(board, False) # O to move\n",
    "print(best_move, best_score)"
   ]
  },
  {
   "attachments": {},
   "cell_type": "markdown",
   "metadata": {},
   "source": [
    "## Play"
   ]
  },
  {
   "cell_type": "code",
   "execution_count": 46,
   "metadata": {},
   "outputs": [
    {
     "name": "stdout",
     "output_type": "stream",
     "text": [
      "O to move\n",
      "  X | O | X\n",
      " ---+---+---\n",
      "  O | X |  \n",
      " ---+---+---\n",
      "  O | X |  \n",
      "\n",
      "O move\n",
      "  X | O | X\n",
      " ---+---+---\n",
      "  O | X |  \n",
      " ---+---+---\n",
      "  O | X | \u001b[96mO\u001b[0m\n",
      "\n",
      "X move\n",
      "  X | O | X\n",
      " ---+---+---\n",
      "  O | X | \u001b[96mX\u001b[0m\n",
      " ---+---+---\n",
      "  O | X | O\n",
      "Draw!\n",
      "Test passed \n",
      "\n"
     ]
    }
   ],
   "source": [
    "def play(board, player=True, expected=None):\n",
    "    print(\"\\nX\" if player else \"\\nO\", \"move\")\n",
    "\n",
    "    best_move, best_score = minimax(board, player)\n",
    "    board[best_move] = 'X' if player else 'O'\n",
    "    show(board, best_move)\n",
    "\n",
    "    if is_terminal_state(board):\n",
    "        if best_score ==  1: print('X won!')\n",
    "        if best_score == -1: print('O won!')\n",
    "        if best_score ==  0: print('Draw!')\n",
    "\n",
    "        assert expected == best_score\n",
    "        print('Test passed \\n')\n",
    "        return False # Base case\n",
    "\n",
    "    play(board, not player, expected) # Recursive case\n",
    "\n",
    "game = np.array([\n",
    "        [\"X\", \"O\", \"X\"], \n",
    "        [\"O\", \"X\", \" \"],\n",
    "        [\"O\", \"X\", \" \"],]), False, 0\n",
    "\n",
    "board, player, expected = game\n",
    "print('X' if player else 'O', 'to move')\n",
    "\n",
    "show(board)\n",
    "play(board, player, expected)"
   ]
  },
  {
   "attachments": {},
   "cell_type": "markdown",
   "metadata": {},
   "source": [
    "## References\n",
    "\n",
    "[Minimax Algorithm](https://mathspp.com/blog/minimax-algorithm-and-alpha-beta-pruning) mathspp   \n",
    "[Alpha Beta pruning](https://en.wikipedia.org/wiki/Alpha%E2%80%93beta_pruning) wikipedia   \n",
    "[Tic Tac Toe game](https://github.com/minte9/algorithms-pages/tree/main/main/applications/tic_tac_toe) github"
   ]
  }
 ],
 "metadata": {
  "kernelspec": {
   "display_name": "Python 3",
   "language": "python",
   "name": "python3"
  },
  "language_info": {
   "codemirror_mode": {
    "name": "ipython",
    "version": 3
   },
   "file_extension": ".py",
   "mimetype": "text/x-python",
   "name": "python",
   "nbconvert_exporter": "python",
   "pygments_lexer": "ipython3",
   "version": "3.9.7"
  },
  "orig_nbformat": 4
 },
 "nbformat": 4,
 "nbformat_minor": 2
}
