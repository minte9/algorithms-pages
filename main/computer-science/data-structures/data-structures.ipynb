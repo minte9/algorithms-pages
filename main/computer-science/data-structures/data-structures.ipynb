{
 "cells": [
  {
   "cell_type": "markdown",
   "metadata": {},
   "source": [
    "# DataStructures"
   ]
  },
  {
   "cell_type": "markdown",
   "metadata": {
    "tags": [
     "pag 1:1"
    ]
   },
   "source": [
    "## CodeSpeed\n",
    "\n",
    "An important measure of code quality is the efficiency.  \n",
    "The first step in writing fast code is to understand how data structures affects code speed.  \n",
    "Here, the second function version is twice as fast than the first one.  "
   ]
  },
  {
   "cell_type": "code",
   "execution_count": 1,
   "metadata": {},
   "outputs": [
    {
     "name": "stdout",
     "output_type": "stream",
     "text": [
      "[0, 2, 4, 6, 8, 10, 12, 14, 16, 18, 20, 22, 24, 26, 28, 30, 32, 34, 36, 38, 40, 42, 44, 46, 48, 50]\n",
      "[0, 2, 4, 6, 8, 10, 12, 14, 16, 18, 20, 22, 24, 26, 28, 30, 32, 34, 36, 38, 40, 42, 44, 46, 48, 50]\n",
      "[0, 2, 4, 6, 8, 10, 12, 14, 16, 18, 20, 22, 24, 26, 28, 30, 32, 34, 36, 38, 40, 42, 44, 46, 48, 50]\n"
     ]
    }
   ],
   "source": [
    "# Generate a list of even numbers from 0 to 50\n",
    "def even_numbers_v1():\n",
    "    data = []\n",
    "    n = 0\n",
    "    while n <= 50:\n",
    "        data.append(n) if n%2 == 0 else None\n",
    "        n += 1\n",
    "    return data\n",
    "\n",
    "# Generate the list using a more efficient while loop\n",
    "def even_numbers_v2():\n",
    "    data = []\n",
    "    n = 0\n",
    "    while n <= 50:\n",
    "        data.append(n)\n",
    "        n += 2\n",
    "    return data\n",
    "\n",
    "# Generate the list using a list comprehension\n",
    "def even_numbers_v3():\n",
    "    return [n for n in range(50 + 1) if n%2 == 0]\n",
    "\n",
    "# Output\n",
    "print(even_numbers_v1())\n",
    "print(even_numbers_v2())\n",
    "print(even_numbers_v3())"
   ]
  },
  {
   "cell_type": "markdown",
   "metadata": {
    "tags": [
     "pag 1:2"
    ]
   },
   "source": [
    "## DataOrganized\n",
    "\n",
    "Data structures describes how data are organized.  \n",
    "For example, it can be organized as independent strings or as array.  "
   ]
  },
  {
   "cell_type": "code",
   "execution_count": 57,
   "metadata": {},
   "outputs": [
    {
     "name": "stdout",
     "output_type": "stream",
     "text": [
      "HelloWorld\n",
      "HelloWorld\n"
     ]
    }
   ],
   "source": [
    "# Independent strings used to store data\n",
    "x = \"Hello\"\n",
    "y = \"World\"\n",
    "print (x + y)\n",
    "\n",
    "# Using an array (list in Python) to organize data\n",
    "array = [\"Hello\", \"World\"]\n",
    "print(array[0] + array[1])"
   ]
  },
  {
   "cell_type": "markdown",
   "metadata": {
    "tags": [
     "pag 1:3"
    ]
   },
   "source": [
    "## ArraySize\n",
    "\n",
    "The array is one of the most basic data structure in computer science.  \n",
    "The size of an array is the number of elements it holds.   \n",
    "The index (key) of the array identifies where the element is inside the array.   "
   ]
  },
  {
   "cell_type": "code",
   "execution_count": 46,
   "metadata": {},
   "outputs": [
    {
     "name": "stdout",
     "output_type": "stream",
     "text": [
      "3\n",
      "apple\n",
      "bananas\n",
      "kiwi\n"
     ]
    }
   ],
   "source": [
    "# List contain three elements\n",
    "array = ['apple', 'bananas', 'kiwi']\n",
    "\n",
    "# Get the size of the array\n",
    "size = len(array)\n",
    "\n",
    "# Get elements by index\n",
    "first = array[0]\n",
    "second = array[1]\n",
    "third = array[2]\n",
    "\n",
    "# Output array size\n",
    "print(size)\n",
    "\n",
    "# Output elements using their indices\n",
    "print(first)\n",
    "print(second)\n",
    "print(third)"
   ]
  }
 ],
 "metadata": {
  "kernelspec": {
   "display_name": "Python 3",
   "language": "python",
   "name": "python3"
  },
  "language_info": {
   "codemirror_mode": {
    "name": "ipython",
    "version": 3
   },
   "file_extension": ".py",
   "mimetype": "text/x-python",
   "name": "python",
   "nbconvert_exporter": "python",
   "pygments_lexer": "ipython3",
   "version": "3.8.12"
  }
 },
 "nbformat": 4,
 "nbformat_minor": 2
}
