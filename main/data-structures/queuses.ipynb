{
 "cells": [
  {
   "attachments": {},
   "cell_type": "markdown",
   "metadata": {},
   "source": [
    "### Queues\n",
    "\n",
    "A `queue` is similar to a stack, except that is processes data in a different order.  \n",
    "It's like a `line` of peaple at the movie theater.  \n",
    "The `first` one in line is the first one to leave and enter the theater.  \n",
    "\n",
    "Computer scientits use the acronym `FIFO` (first in, firt out).  \n",
    "Queue are display and explain `horizontaly`.  "
   ]
  },
  {
   "attachments": {},
   "cell_type": "markdown",
   "metadata": {},
   "source": [
    "### Contrains\n",
    "\n",
    "Like stacks, queues are arrays with `three` restrictions:    \n",
    "1. Insertion: only at the `end` (identical as with stacks)\n",
    "2. Deletion: only from the `front`\n",
    "3. Reading: only the `first` element"
   ]
  }
 ],
 "metadata": {
  "language_info": {
   "name": "python"
  },
  "orig_nbformat": 4
 },
 "nbformat": 4,
 "nbformat_minor": 2
}
