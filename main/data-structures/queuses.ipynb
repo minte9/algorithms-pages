{
 "cells": [
  {
   "attachments": {},
   "cell_type": "markdown",
   "metadata": {},
   "source": [
    "### Queues\n",
    "\n",
    "A `queue` is similar to a stack, except that is processes data in a different order.  \n",
    "It's like a `line` of peaple at the movie theater.  \n",
    "The `first` one in line is the first one to leave and enter the theater.  \n",
    "\n",
    "Computer scientits use the acronym `FIFO` (first in, firt out).  \n",
    "Queue are display and explain `horizontaly`.  "
   ]
  },
  {
   "attachments": {},
   "cell_type": "markdown",
   "metadata": {},
   "source": [
    "### Contrains\n",
    "\n",
    "Like stacks, queues are arrays with `three` restrictions:    \n",
    "1. Insertion: only at the `end` (identical as with stacks)\n",
    "2. Deletion: only from the `front`\n",
    "3. Reading: only the `first` element"
   ]
  },
  {
   "attachments": {},
   "cell_type": "markdown",
   "metadata": {},
   "source": [
    "### Deque / Python\n",
    "\n",
    "In Python, queues are a buit-in data structure with its own standard `library`.  \n",
    "Deque in python is a versatile implementation of `double-ended` queue.  \n",
    "It allows you to effectively use it as a `stack`, a queue, or a combination of both."
   ]
  },
  {
   "cell_type": "code",
   "execution_count": 5,
   "metadata": {},
   "outputs": [
    {
     "name": "stdout",
     "output_type": "stream",
     "text": [
      "Queue after insertion = deque([1, 2, 3])\n",
      "Queue after deletion = deque([2, 3])\n",
      "Popped left element = 1\n"
     ]
    }
   ],
   "source": [
    "from collections import deque\n",
    "\n",
    "# Initialize the queue\n",
    "my_queue = deque()\n",
    "\n",
    "# Add elements to the back of the queue\n",
    "my_queue.append(1)\n",
    "my_queue.append(2)\n",
    "my_queue.append(3)\n",
    "\n",
    "# Output queue\n",
    "print(\"Queue after insertion =\", my_queue)\n",
    "\n",
    "# Remove from the front of the queue\n",
    "front = my_queue.popleft()\n",
    "\n",
    "# Output queue \n",
    "print(\"Queue after deletion =\", my_queue)\n",
    "print(\"Popped left element =\", front)"
   ]
  }
 ],
 "metadata": {
  "kernelspec": {
   "display_name": "Python 3",
   "language": "python",
   "name": "python3"
  },
  "language_info": {
   "codemirror_mode": {
    "name": "ipython",
    "version": 3
   },
   "file_extension": ".py",
   "mimetype": "text/x-python",
   "name": "python",
   "nbconvert_exporter": "python",
   "pygments_lexer": "ipython3",
   "version": "3.9.7"
  },
  "orig_nbformat": 4
 },
 "nbformat": 4,
 "nbformat_minor": 2
}
