{
 "cells": [
  {
   "attachments": {},
   "cell_type": "markdown",
   "metadata": {},
   "source": [
    "### Queues\n",
    "\n",
    "A `queue` is similar to a stack, except that is processes data in a different order.  \n",
    "It's like a `line` of peaple at the movie theater.  \n",
    "The `first` one in line is the first one to leave and enter the theater.  \n",
    "\n",
    "Computer scientits use the acronym `FIFO` (first in, firt out).  \n",
    "Queue are display and explain `horizontaly`.  "
   ]
  }
 ],
 "metadata": {
  "language_info": {
   "name": "python"
  },
  "orig_nbformat": 4
 },
 "nbformat": 4,
 "nbformat_minor": 2
}
