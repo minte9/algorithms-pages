{
 "cells": [
  {
   "attachments": {},
   "cell_type": "markdown",
   "metadata": {},
   "source": [
    "### Average Cases\n",
    "\n",
    "Worst-case scenario `isn't` the only situation worth considering.  \n",
    "Being able to see `all` scenarios is important when choosing the algoritm."
   ]
  },
  {
   "attachments": {},
   "cell_type": "markdown",
   "metadata": {},
   "source": [
    "### Insertion Sort\n",
    "\n",
    "We temprorary \"remove\" the value at `index 1`.  \n",
    "We take each value to the `left` and compare it with the temporary value.  \n",
    "If it is bigger then temporary we `shift` it to the right."
   ]
  },
  {
   "cell_type": "code",
   "execution_count": 202,
   "metadata": {},
   "outputs": [
    {
     "name": "stdout",
     "output_type": "stream",
     "text": [
      "[4, 2, 7, 1, 3]\n",
      "Inspect 2\tShift 4\t\tFill the gap 0\t[2, 4, 7, 1, 3]\n",
      "Inspect 7\tBreak Loop\tFill the gap 2\t[2, 4, 7, 1, 3]\n",
      "Inspect 1\tShift 7\t\tShift 4\t\tShift 2\t\tFill the gap 0\t[1, 2, 4, 7, 3]\n",
      "Inspect 3\tShift 7\t\tShift 4\t\tBreak Loop\tFill the gap 2\t[1, 2, 3, 4, 7]\n",
      "[1, 2, 3, 4, 7]\n"
     ]
    }
   ],
   "source": [
    "def insertion_sort(A):\n",
    "    \n",
    "    for i in range(1, len(A)):\n",
    "        tmp = A[i]                  # inspect the item at index i (starting at 1)\n",
    "        pos = i - 1                 # left position\n",
    "\n",
    "        print(\"Inspect\", tmp, end='\\t')\n",
    "        while pos >= 0:\n",
    "\n",
    "            if A[pos] > tmp:                        # left value is greater than tmp\n",
    "\n",
    "                print(\"Shift\", A[pos], end='\\t\\t')  # shift this left value to the right\n",
    "                A[pos+1] = A[pos]   \n",
    "                pos -= 1                            # decrement pos (next left value)\n",
    "\n",
    "            else:\n",
    "                print(\"Break Loop\", end='\\t')       # tmp greater than left\n",
    "                break               \n",
    "        \n",
    "        print(\"Fill the gap\", pos+1, end='\\t')\n",
    "        A[pos + 1] = tmp\n",
    "\n",
    "        print(A)\n",
    "    return A\n",
    "\n",
    "data = [4, 2, 7, 1, 3]\n",
    "print(data)\n",
    "\n",
    "data = insertion_sort(data)\n",
    "print(data)        "
   ]
  },
  {
   "attachments": {},
   "cell_type": "markdown",
   "metadata": {},
   "source": [
    "### Select vs Insertion\n",
    "\n",
    "Selection Sort takes N^2 / 2 steps for `all` cases.  \n",
    "It doesn't have a mechanism of `ending` the pass-through as Insertion Sort does.  \n",
    "Insertion Sort takes less steps when workgin with `best-case` scenario."
   ]
  },
  {
   "cell_type": "code",
   "execution_count": 203,
   "metadata": {},
   "outputs": [
    {
     "name": "stdout",
     "output_type": "stream",
     "text": [
      "Worst Case Scenario\n",
      "selection_sort ([1, 2, 3, 4, 5, 6, 7, 8, 9, 10], 55)\n",
      "insertion_sort ([1, 2, 3, 4, 5, 6, 7, 8, 9, 10], 54) \n",
      "\n",
      "Best Case Scenario\n",
      "selection_sort ([1, 2, 3, 4, 5, 6, 7, 8, 9, 10], 55)\n",
      "insertion_sort ([1, 2, 3, 4, 5, 6, 7, 8, 9, 10], 18) \n",
      "\n",
      "Average Case Scenario\n",
      "selection_sort ([1, 2, 3, 4, 5, 6, 7, 8, 9, 10], 55)\n",
      "insertion_sort ([1, 2, 3, 4, 5, 6, 7, 8, 9, 10], 38) \n",
      "\n"
     ]
    }
   ],
   "source": [
    "import copy\n",
    "\n",
    "def selection_sort(arr):\n",
    "    steps = 0\n",
    "    A = copy.deepcopy(arr)\n",
    "\n",
    "    for i in range(len(A)):\n",
    "        lowest = i # lowest number index\n",
    "        \n",
    "        for j in range(i+1, len(A)):\n",
    "\n",
    "            steps += 1\n",
    "            if A[j] < A[lowest]: # comparition\n",
    "                lowest = j\n",
    "\n",
    "        steps += 1\n",
    "        if lowest != i:\n",
    "            A[i], A[lowest] = A[lowest], A[i] # swap\n",
    "\n",
    "    return A, steps\n",
    "\n",
    "def insertion_sort(arr):\n",
    "    steps = 0\n",
    "    A = copy.deepcopy(arr)\n",
    "\n",
    "    for i in range(1, len(A)):\n",
    "        tmp = A[i] # inspect one value (starting at index 1)\n",
    "        pos = i - 1\n",
    "\n",
    "        while pos >= 0:\n",
    "            steps += 1\n",
    "\n",
    "            if A[pos] > tmp: # compartion\n",
    "                A[pos+1] = A[pos] # swap\n",
    "                pos -= 1\n",
    "            else:\n",
    "                break    \n",
    "        \n",
    "        steps += 1\n",
    "        A[pos + 1] = tmp # fill gap\n",
    "    return A, steps\n",
    "\n",
    "print(\"Worst Case Scenario\")\n",
    "data = [10, 9, 8, 7, 6, 5, 4, 3, 2, 1]\n",
    "print(\"selection_sort\", selection_sort(data))\n",
    "print(\"insertion_sort\", insertion_sort(data), \"\\n\")\n",
    "\n",
    "print(\"Best Case Scenario\")\n",
    "data = [1, 2, 3, 4, 5, 6, 7, 8, 9, 10]\n",
    "print(\"selection_sort\", selection_sort(data))\n",
    "print(\"insertion_sort\", insertion_sort(data), \"\\n\")\n",
    "\n",
    "print(\"Average Case Scenario\")\n",
    "data = [1, 3, 5, 7, 9, 10, 8, 6, 4, 2]\n",
    "print(\"selection_sort\", selection_sort(data))\n",
    "print(\"insertion_sort\", insertion_sort(data), \"\\n\")\n",
    "\n"
   ]
  },
  {
   "attachments": {},
   "cell_type": "markdown",
   "metadata": {},
   "source": [
    "### Efficiency\n",
    "\n",
    "Determing the efficiency of our code is the `first step` in optimizing it."
   ]
  },
  {
   "attachments": {},
   "cell_type": "markdown",
   "metadata": {},
   "source": [
    "### Efficiency / Sum of Evens / O(n)\n",
    "\n",
    "Our algorithm will take `3n steps` in worst-case scenario, so it has an O(n) time complexity."
   ]
  },
  {
   "cell_type": "code",
   "execution_count": 268,
   "metadata": {},
   "outputs": [
    {
     "name": "stdout",
     "output_type": "stream",
     "text": [
      "Worst Case Scenario, all even, O(3n)\n",
      "Average = 11.0 N = 10 Steps = 30 \n",
      "\n",
      "Best Case Scenario, all odd, O(n)\n",
      "Average = 0 N = 10 Steps = 10 \n",
      "\n",
      "Average Case Scenario, O(2n)\n",
      "Average = 6.0 N = 10 Steps = 20\n"
     ]
    }
   ],
   "source": [
    "def sum_of_even_numbers(numbers): # O(n)\n",
    "    sum = 0\n",
    "\n",
    "    steps = 0\n",
    "    for n in numbers:\n",
    "\n",
    "        steps += 1      # comparition step\n",
    "        if n%2 == 0:  \n",
    "\n",
    "            sum += n    # sum increase step\n",
    "            steps += 2\n",
    "\n",
    "    return sum, steps\n",
    "\n",
    "data = [2, 4, 6, 8, 10, 12, 14, 16, 18, 20]\n",
    "avg, steps = average_of_even_numbers(data)\n",
    "print(\"Worst Case Scenario, all even, O(3n)\")\n",
    "print(\"Average =\", avg, \"N =\", len(data), \"Steps =\", steps, '\\n')\n",
    "\n",
    "data = [1, 3, 5, 7, 9, 11, 13, 15, 17, 19]\n",
    "avg, steps = average_of_even_numbers(data)\n",
    "print(\"Best Case Scenario, all odd, O(n)\")\n",
    "print(\"Average =\", avg, \"N =\", len(data), \"Steps =\", steps, '\\n')\n",
    "\n",
    "data = [1, 2, 3, 4, 5, 6, 7, 8, 9, 10]\n",
    "avg, steps = average_of_even_numbers(data)\n",
    "print(\"Average Case Scenario, O(2n)\")\n",
    "print(\"Average =\", avg, \"N =\", len(data), \"Steps =\", steps)"
   ]
  },
  {
   "attachments": {},
   "cell_type": "markdown",
   "metadata": {},
   "source": [
    "### Efficiency / Word Builder / O(n^3)\n",
    "\n",
    "For three-character combinations, the algorithm is `O(n^3)` steps.  \n",
    "Optimizing code from O(n^3) to O(n^2) would be a `big win`."
   ]
  },
  {
   "cell_type": "code",
   "execution_count": 207,
   "metadata": {},
   "outputs": [
    {
     "name": "stdout",
     "output_type": "stream",
     "text": [
      "(['abc', 'abd', 'acb', 'acd', 'adb', 'adc', 'bac', 'bad', 'bca', 'bcd', 'bda', 'bdc', 'cab', 'cad', 'cba', 'cbd', 'cda', 'cdb', 'dab', 'dac', 'dba', 'dbc', 'dca', 'dcb'], 64)\n",
      "(['abc', 'abd', 'acb', 'acd', 'adb', 'adc', 'bac', 'bad', 'bca', 'bcd', 'bda', 'bdc', 'cab', 'cad', 'cba', 'cbd', 'cda', 'cdb', 'dab', 'dac', 'dba', 'dbc', 'dca', 'dcb'], 24)\n"
     ]
    }
   ],
   "source": [
    "def word_builder(chars):\n",
    "    combinations = []\n",
    "    steps = 0\n",
    "\n",
    "    for i in chars:\n",
    "        for j in chars:\n",
    "            for k in chars:\n",
    "                if i != j and i != k and j != k:\n",
    "                    combinations.append(i + j + k)\n",
    "                steps += 1\n",
    "                    \n",
    "    return combinations, steps\n",
    "\n",
    "def word_builder_v2(chars):\n",
    "    combinations = []\n",
    "    steps = 0\n",
    "\n",
    "    for i in chars:\n",
    "        for j in chars:\n",
    "            if i == j: continue\n",
    "\n",
    "            for k in chars:\n",
    "                if i == k or j == k: continue\n",
    "\n",
    "                combinations.append(i + j + k)\n",
    "                steps += 1\n",
    "                    \n",
    "    return combinations, steps\n",
    "\n",
    "data = ['a', 'b', 'c', 'd']\n",
    "print(word_builder(data))\n",
    "print(word_builder_v2(data))"
   ]
  },
  {
   "attachments": {},
   "cell_type": "markdown",
   "metadata": {},
   "source": [
    "### Efficiency / Array Sample / O(1)\n",
    "\n",
    "Since the number of steps is constant, no matter what N is, the algorithm is `O(1)`."
   ]
  },
  {
   "cell_type": "code",
   "execution_count": 214,
   "metadata": {},
   "outputs": [
    {
     "name": "stdout",
     "output_type": "stream",
     "text": [
      "(1, 3, 5) Steps = 3\n",
      "(0, 50, 99) Steps = 3\n"
     ]
    }
   ],
   "source": [
    "def array_sample(arr):\n",
    "    steps = 0\n",
    "\n",
    "    first = arr[0]\n",
    "    steps += 1\n",
    "    \n",
    "    middle = arr[int(len(arr)/2)]\n",
    "    steps += 1\n",
    "\n",
    "    last = arr[-1]\n",
    "    steps += 1\n",
    "\n",
    "    return (first, middle, last), steps\n",
    "\n",
    "\n",
    "data = [1, 2, 2, 3, 4, 4, 5]\n",
    "sample, steps = array_sample(data)\n",
    "print(sample, \"Steps =\", steps)\n",
    "\n",
    "data = [i for i in range(100)]\n",
    "sample, steps = array_sample(data)\n",
    "print(sample, \"Steps =\", steps)"
   ]
  },
  {
   "attachments": {},
   "cell_type": "markdown",
   "metadata": {},
   "source": [
    "### Efficiency / Average Celsius / O(2n)\n",
    "\n",
    "Usually when we have `two loops`, we get O(n^2).  \n",
    "But here, we simply have two `separate` loops, resulting in O(2n) efficiency."
   ]
  },
  {
   "cell_type": "code",
   "execution_count": 223,
   "metadata": {},
   "outputs": [
    {
     "name": "stdout",
     "output_type": "stream",
     "text": [
      "5.0 N = 3 Steps = 6\n"
     ]
    }
   ],
   "source": [
    "def average_celsius(fahrenheigts):\n",
    "    celsius = []\n",
    "    steps = 0\n",
    "\n",
    "    for f in fahrenheigts:\n",
    "        steps += 1\n",
    "\n",
    "        conversion = (f - 32)/1.8\n",
    "        celsius.append(conversion)\n",
    "\n",
    "    sum = 0\n",
    "    for c in celsius:\n",
    "        steps += 1\n",
    "        sum += c\n",
    "\n",
    "    return sum/len(celsius), steps\n",
    "\n",
    "fahrenheigts = [32, 41, 50] # 0, 5, 10 (Celsius)\n",
    "average, steps = average_celsius(fahrenheigts)\n",
    "print(average, \"N =\", len(fahrenheigts), \"Steps =\", steps)\n"
   ]
  },
  {
   "attachments": {},
   "cell_type": "markdown",
   "metadata": {},
   "source": [
    "### Efficiency / Count Ones / O(n)\n",
    "\n",
    "Here's another algorithm where the Big O is different from what it `seems` at first glance.  \n",
    "There are two nested loops, so it's easy `jumping` to the conclusion that is O(n^2).  \n",
    "However, the two loops are iterating over two `different` things.  \n",
    "Our algorithm simply process each number, so time complexity is `O(n)`."
   ]
  },
  {
   "cell_type": "code",
   "execution_count": 229,
   "metadata": {},
   "outputs": [
    {
     "name": "stdout",
     "output_type": "stream",
     "text": [
      "N = 3 Count = 7 Steps = 13\n"
     ]
    }
   ],
   "source": [
    "def count_ones(outer_array):\n",
    "    count = 0\n",
    "    steps = 0\n",
    "\n",
    "    for inner_array in outer_array:\n",
    "        # steps += 1\n",
    "\n",
    "        for n in inner_array:\n",
    "            steps += 1\n",
    "\n",
    "            if n == 1:\n",
    "                count += 1\n",
    "\n",
    "    return count, steps\n",
    "\n",
    "data = [\n",
    "    [0, 1, 1, 1, 0],\n",
    "    [0, 1, 0, 1, 0, 1],\n",
    "    [1, 0]\n",
    "]\n",
    "count, steps = count_ones(data)\n",
    "print(\"N =\", len(data), \"Count =\", count, \"Steps =\", steps)"
   ]
  },
  {
   "attachments": {},
   "cell_type": "markdown",
   "metadata": {},
   "source": [
    "### Efficiency / Palindrome / O(n/2)\n",
    "\n",
    "The while loops only runs until it reaches the `midpoint` of the string.  \n",
    "This means that the loop runs `N/2` steps.  \n",
    "Because Big O ignores constants, our alogorithm is `O(n)`."
   ]
  },
  {
   "cell_type": "code",
   "execution_count": 267,
   "metadata": {},
   "outputs": [
    {
     "name": "stdout",
     "output_type": "stream",
     "text": [
      "N = 7 Palindrome = True Steps = 4\n",
      "N = 8 Palindrome = False Steps = 4\n"
     ]
    }
   ],
   "source": [
    "def palindrome_checker(s):\n",
    "    left = 0\n",
    "    right = len(s) - 1\n",
    "    steps = 0\n",
    "\n",
    "    while left < len(s)/2:\n",
    "        steps += 1\n",
    "\n",
    "        if s[left] != s[right]:\n",
    "            return False, steps\n",
    "\n",
    "        left  += 1\n",
    "        right -= 1\n",
    "\n",
    "    return True, steps\n",
    "\n",
    "data = \"racecar\"\n",
    "flag, steps = palindrome_checker(data)\n",
    "print(\"N =\", len(data), \"Palindrome =\", flag, \"Steps =\", steps)\n",
    "\n",
    "data = \"raceXcar\"\n",
    "flag, steps = palindrome_checker(data)\n",
    "print(\"N =\", len(data), \"Palindrome =\", flag, \"Steps =\", steps)"
   ]
  },
  {
   "attachments": {},
   "cell_type": "markdown",
   "metadata": {},
   "source": [
    "### Efficiency / All Products / O(n^2 / 2)\n",
    "\n",
    "Our algorithm returns the product of `every` combination of two numbers.  \n",
    "Each number only need to be multiply by the `remaining` numbers to the right of it.  \n",
    "The `inner loop` runs approximately `(N-1) + (N-2) + ... + 1` times.  \n",
    "This means approximately `N^2 / 2`, which can be visualize using a diagram with 64 squares.\n"
   ]
  },
  {
   "cell_type": "code",
   "execution_count": 298,
   "metadata": {},
   "outputs": [
    {
     "name": "stdout",
     "output_type": "stream",
     "text": [
      "[2, 3, 4, 5, 6, 8, 10, 12, 15, 20] Steps = 10\n"
     ]
    }
   ],
   "source": [
    "def two_numbers_product(A):\n",
    "    products = []\n",
    "    steps = 0\n",
    "    \n",
    "    for i in range(len(A)):\n",
    "        for j in range(i+1, len(A)):\n",
    "            steps += 1\n",
    "\n",
    "            products.append(A[i]*A[j])\n",
    "    return products, steps\n",
    "\n",
    "data = [1, 2, 3, 4, 5]\n",
    "result, steps = two_numbers_product(data)\n",
    "print(result, \"Steps =\", steps)"
   ]
  },
  {
   "attachments": {},
   "cell_type": "markdown",
   "metadata": {},
   "source": [
    "### References\n",
    "\n",
    "[A Common-Sense Guide to Data Structures and Algorithms](https://www.amazon.com/gp/product/B08KYMK4NR/) / book  "
   ]
  }
 ],
 "metadata": {
  "kernelspec": {
   "display_name": "Python 3",
   "language": "python",
   "name": "python3"
  },
  "language_info": {
   "codemirror_mode": {
    "name": "ipython",
    "version": 3
   },
   "file_extension": ".py",
   "mimetype": "text/x-python",
   "name": "python",
   "nbconvert_exporter": "python",
   "pygments_lexer": "ipython3",
   "version": "3.9.7"
  },
  "orig_nbformat": 4
 },
 "nbformat": 4,
 "nbformat_minor": 2
}
