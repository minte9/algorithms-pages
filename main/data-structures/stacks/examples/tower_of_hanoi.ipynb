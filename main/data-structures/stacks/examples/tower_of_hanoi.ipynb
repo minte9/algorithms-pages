{
 "cells": [
  {
   "attachments": {},
   "cell_type": "markdown",
   "metadata": {},
   "source": [
    "### Tower of Hanoi\n",
    "\n",
    "The Tower of Hanoi is a mathematical problem formed of three towers.  \n",
    "The disks have a hole in center and can be moved on three poles.\n",
    "\n",
    "The purpose of the puzzle is to push the whole stack to another bar.  \n",
    "The player can never place a larger disk on top of a smaller one."
   ]
  },
  {
   "attachments": {},
   "cell_type": "markdown",
   "metadata": {},
   "source": [
    "### References\n",
    "\n",
    "https://www.mathsisfun.com/games/towerofhanoi.html  \n",
    "https://en.wikipedia.org/wiki/Tower_of_Hanoi  \n",
    "https://byjus.com/gate/tower-of-hanoi-notes  "
   ]
  }
 ],
 "metadata": {
  "language_info": {
   "name": "python"
  },
  "orig_nbformat": 4
 },
 "nbformat": 4,
 "nbformat_minor": 2
}
