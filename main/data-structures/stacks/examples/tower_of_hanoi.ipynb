{
 "cells": [
  {
   "attachments": {},
   "cell_type": "markdown",
   "metadata": {},
   "source": [
    "### Tower of Hanoi\n",
    "\n",
    "The Tower of Hanoi is a mathematical problem formed of three towers.  \n",
    "The disks have a hole in center and can be moved on three poles.\n",
    "\n",
    "The purpose of the puzzle is to push the whole stack to another bar.  \n",
    "The player can never place a larger disk on top of a smaller one.\n",
    "\n",
    "![](./images/tower_of_hanoi.jpg)"
   ]
  },
  {
   "attachments": {},
   "cell_type": "markdown",
   "metadata": {},
   "source": [
    "### Solve / 2 Disks\n",
    "\n",
    "We can start by building and explaining the algorithm `incrementally`.  \n",
    "Lets sove the Tower of Hanoi puzzle with `two` disks.  "
   ]
  },
  {
   "cell_type": "code",
   "execution_count": 44,
   "metadata": {},
   "outputs": [
    {
     "name": "stderr",
     "output_type": "stream",
     "text": [
      "ic| self.pegs: {'A': [2, 1], 'B': [], 'C': []}\n",
      "ic| disk: 1\n",
      "    from_peg: 'A'\n",
      "    to_peg: 'B'\n",
      "    self.pegs: {'A': [2], 'B': [1], 'C': []}\n",
      "ic| disk: 2\n",
      "    from_peg: 'A'\n",
      "    to_peg: 'C'\n",
      "    self.pegs: {'A': [], 'B': [1], 'C': [2]}\n",
      "ic| disk: 1\n",
      "    from_peg: 'B'\n",
      "    to_peg: 'C'\n",
      "    self.pegs: {'A': [], 'B': [], 'C': [2, 1]}\n",
      "ic| 'Tower of Hanoi puzzle is solved!'\n"
     ]
    }
   ],
   "source": [
    "from icecream import ic\n",
    "\n",
    "class towerofHanoi:\n",
    "    def __init__(self):\n",
    "\n",
    "        self.pegs = {\n",
    "            'A': [2, 1], # Initialize peg A with two disks, 2 on top of 1\n",
    "            'B': [],     # Initializa peg B as empty list (stack)\n",
    "            'C': [],\n",
    "        }\n",
    "\n",
    "        ic(self.pegs)\n",
    "\n",
    "    def move_disk(self, from_peg, to_peg):\n",
    "\n",
    "        disk = self.pegs[from_peg].pop()    # Last in list (LIFO)\n",
    "        self.pegs[to_peg].append(disk)      # Move the top disk from source to target peg\n",
    "\n",
    "        ic(disk, from_peg, to_peg, self.pegs)\n",
    "\n",
    "    def is_solved(self):\n",
    "        return self.pegs['C'] == [2, 1] # Check if all pets are on Peg C\n",
    "\n",
    "    def solve(self):\n",
    "        self.move_disk('A', 'B') # Move disk 1 from A to B\n",
    "        self.move_disk('A', 'C') # Move disk 2 from A to c\n",
    "        self.move_disk('B', 'C') # Move disk 1 from B to c\n",
    "        \n",
    "        if self.is_solved():\n",
    "            ic('Tower of Hanoi puzzle is solved!')\n",
    "\n",
    "# Example usage\n",
    "hanoi = towerofHanoi()\n",
    "hanoi.solve()"
   ]
  },
  {
   "attachments": {},
   "cell_type": "markdown",
   "metadata": {},
   "source": [
    "### Solve 2 / Recursion\n",
    "\n",
    "We can modify the solve function to `prepare` for the phase with three disks using recursion.  \n",
    "We'll start by creating a more general solve function using `recursion`.  "
   ]
  },
  {
   "cell_type": "code",
   "execution_count": 83,
   "metadata": {},
   "outputs": [
    {
     "name": "stderr",
     "output_type": "stream",
     "text": [
      "ic| self.pegs: {'A': [2, 1], 'B': [], 'C': []}\n",
      "ic| n: 2, source: 'A', auxiliary: 'B', target: 'C'\n",
      "ic| n: 1, source: 'A', auxiliary: 'C', target: 'B'\n",
      "ic| disk: 1\n",
      "    from_peg: 'A'\n",
      "    to_peg: 'B'\n",
      "    self.pegs: {'A': [2], 'B': [1], 'C': []}\n",
      "ic| disk: 2\n",
      "    from_peg: 'A'\n",
      "    to_peg: 'C'\n",
      "    self.pegs: {'A': [], 'B': [1], 'C': [2]}\n",
      "ic| n: 1, source: 'B', auxiliary: 'A', target: 'C'\n",
      "ic| disk: 1\n",
      "    from_peg: 'B'\n",
      "    to_peg: 'C'\n",
      "    self.pegs: {'A': [], 'B': [], 'C': [2, 1]}\n",
      "ic| 'Tower of Hanoi puzzle is solved!'\n"
     ]
    }
   ],
   "source": [
    "from icecream import ic\n",
    "\n",
    "class towerofHanoi:\n",
    "    def __init__(self):\n",
    "\n",
    "        self.pegs = {\n",
    "            'A': [2, 1], # Initialize peg A with two disks, 2 on top of 1\n",
    "            'B': [],     # Initializa peg B as empty list (stack)\n",
    "            'C': [],\n",
    "        }\n",
    "\n",
    "        ic(self.pegs)\n",
    "\n",
    "    def move_disk(self, from_peg, to_peg):\n",
    "        disk = self.pegs[from_peg].pop()    # Last in list (LIFO)\n",
    "\n",
    "        self.pegs[to_peg].append(disk)      # Move the top disk from source to target peg\n",
    "        ic(disk, from_peg, to_peg, self.pegs)\n",
    "\n",
    "    def is_solved(self):\n",
    "        return self.pegs['C'] == [2, 1] # Check if all pets are on Peg C\n",
    "\n",
    "    def solve(self, n=2, source='A', auxiliary='B', target='C'):\n",
    "        ic(n, source, auxiliary, target)\n",
    "\n",
    "        # Base case\n",
    "        if n == 1:\n",
    "            self.move_disk(source, target)\n",
    "            return\n",
    "\n",
    "        # Recursive move the n-1 disks from the source to the auxiliary (using the target as an auxiliary)\n",
    "        self.solve(n - 1, source, target, auxiliary)\n",
    "\n",
    "        # Move the remaining disk from the source peg to the target peg\n",
    "        self.move_disk(source, target)\n",
    "\n",
    "        # Recursive move the n-1 disks from the auxiliary to the target (using the source as an auxiliary)\n",
    "        self.solve(n - 1, auxiliary, source, target)\n",
    "        \n",
    "        if self.is_solved():\n",
    "            ic('Tower of Hanoi puzzle is solved!')\n",
    "\n",
    "# Example usage\n",
    "hanoi = towerofHanoi()\n",
    "hanoi.solve()"
   ]
  },
  {
   "attachments": {},
   "cell_type": "markdown",
   "metadata": {},
   "source": [
    "### References\n",
    "\n",
    "https://www.mathsisfun.com/games/towerofhanoi.html  \n",
    "https://en.wikipedia.org/wiki/Tower_of_Hanoi  \n",
    "https://byjus.com/gate/tower-of-hanoi-notes  \n",
    "https://www.tutorialspoint.com/data_structures_algorithms/tower_of_hanoi.htm   \n",
    "\n",
    "[The Recursive Book of Recursion](https://www.amazon.com/gp/product/B09BKL34VL) / amazon  "
   ]
  }
 ],
 "metadata": {
  "kernelspec": {
   "display_name": "Python 3",
   "language": "python",
   "name": "python3"
  },
  "language_info": {
   "codemirror_mode": {
    "name": "ipython",
    "version": 3
   },
   "file_extension": ".py",
   "mimetype": "text/x-python",
   "name": "python",
   "nbconvert_exporter": "python",
   "pygments_lexer": "ipython3",
   "version": "3.9.7"
  },
  "orig_nbformat": 4
 },
 "nbformat": 4,
 "nbformat_minor": 2
}
