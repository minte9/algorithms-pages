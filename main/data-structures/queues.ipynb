{
 "cells": [
  {
   "attachments": {},
   "cell_type": "markdown",
   "metadata": {},
   "source": [
    "### Queues\n",
    "\n",
    "A `queue` is similar to a stack, except that is processes data in a different order.  \n",
    "It's like a `line` of peaple at the movie theater.  \n",
    "The `first` one in line is the first one to leave and enter the theater.  \n",
    "\n",
    "Computer scientits use the acronym `FIFO` (first in, firt out).  \n",
    "Queue are display and explain `horizontaly`.  "
   ]
  },
  {
   "attachments": {},
   "cell_type": "markdown",
   "metadata": {},
   "source": [
    "### Contrains\n",
    "\n",
    "Like stacks, queues are arrays with `three` restrictions:    \n",
    "1. Insertion: only at the `end` (identical as with stacks)\n",
    "2. Deletion: only from the `front`\n",
    "3. Reading: only the `first` element"
   ]
  },
  {
   "attachments": {},
   "cell_type": "markdown",
   "metadata": {},
   "source": [
    "### Deque / Python\n",
    "\n",
    "In Python, queues are a buit-in data structure with its own standard `library`.  \n",
    "Deque in python is a versatile implementation of `double-ended` queue.  \n",
    "It allows you to effectively use it as a `stack`, a queue, or a combination of both."
   ]
  },
  {
   "cell_type": "code",
   "execution_count": 1,
   "metadata": {},
   "outputs": [
    {
     "name": "stdout",
     "output_type": "stream",
     "text": [
      "Queue after insertion = deque([1, 2, 3])\n",
      "Queue after deletion = deque([2, 3])\n",
      "Popped left element = 1\n"
     ]
    }
   ],
   "source": [
    "from collections import deque\n",
    "\n",
    "# Initialize the queue\n",
    "my_queue = deque()\n",
    "\n",
    "# Add elements to the back of the queue\n",
    "my_queue.append(1)\n",
    "my_queue.append(2)\n",
    "my_queue.append(3)\n",
    "\n",
    "# Output queue\n",
    "print(\"Queue after insertion =\", my_queue)\n",
    "\n",
    "# Remove from the front of the queue\n",
    "front = my_queue.popleft()\n",
    "\n",
    "# Output queue \n",
    "print(\"Queue after deletion =\", my_queue)\n",
    "print(\"Popped left element =\", front)"
   ]
  },
  {
   "attachments": {},
   "cell_type": "markdown",
   "metadata": {},
   "source": [
    "### Create Queue\n",
    "\n",
    "Like many other abstarct data types, it isn't implemented in many programming `languages`.  \n",
    "Let's create a queue to see how it `works` internaly.  "
   ]
  },
  {
   "cell_type": "code",
   "execution_count": 2,
   "metadata": {},
   "outputs": [
    {
     "name": "stdout",
     "output_type": "stream",
     "text": [
      "Queue after insertion = [1, 2, 3]\n",
      "Remove from queue front = 1\n",
      "Queue after deletion = [1, 2, 3]\n",
      "New front = 1\n"
     ]
    }
   ],
   "source": [
    "class Queue:\n",
    "    def __init__(self):\n",
    "        self.items = []\n",
    "\n",
    "    def append(self, item):\n",
    "        self.items += [item]\n",
    "\n",
    "    def popleft(self):\n",
    "        item = self.items[0]\n",
    "        self.queue = self.items[1:]\n",
    "        return item\n",
    "\n",
    "    def read(self):\n",
    "        return self.items[0]\n",
    "\n",
    "    def __str__(self):\n",
    "        return str(self.items)\n",
    "\n",
    "# New queue\n",
    "queue = Queue()\n",
    "\n",
    "# Push elements into the queue\n",
    "queue.append(1)\n",
    "queue.append(2)\n",
    "queue.append(3)\n",
    "\n",
    "# Output queue\n",
    "print(\"Queue after insertion =\", queue)\n",
    "\n",
    "# Remove from the queue\n",
    "popped = queue.popleft()\n",
    "print(\"Remove from queue front =\", popped)\n",
    "print(\"Queue after deletion =\", queue)\n",
    "\n",
    "# Read from queue\n",
    "print(\"New front =\", queue.read())       "
   ]
  },
  {
   "attachments": {},
   "cell_type": "markdown",
   "metadata": {},
   "source": [
    "### Printer Manager / Application\n",
    "\n",
    "Let's say we are programming a `simple` interface for a printer.  \n",
    "We want to make sure we print each document in the received `order`."
   ]
  },
  {
   "cell_type": "code",
   "execution_count": 3,
   "metadata": {},
   "outputs": [
    {
     "name": "stdout",
     "output_type": "stream",
     "text": [
      "First Document\n",
      "Second Document\n",
      "Third Document\n"
     ]
    }
   ],
   "source": [
    "class PrintManager:\n",
    "    def __init__(self):\n",
    "        self.queue = Queue()\n",
    "\n",
    "    def add_job(self, document):\n",
    "        self.queue.append(document)\n",
    "\n",
    "    def run(self):\n",
    "        for k in self.queue.items:\n",
    "            print(k)\n",
    "\n",
    "print_manager = PrintManager()\n",
    "\n",
    "print_manager.add_job(\"First Document\")\n",
    "print_manager.add_job(\"Second Document\")\n",
    "print_manager.add_job(\"Third Document\")\n",
    "\n",
    "print_manager.run()"
   ]
  },
  {
   "attachments": {},
   "cell_type": "markdown",
   "metadata": {},
   "source": [
    "### References\n",
    "\n",
    "[A Common-Sense Guide to Data Structures and Algorithms](https://www.amazon.com/gp/product/B08KYMK4NR/) / book  "
   ]
  }
 ],
 "metadata": {
  "kernelspec": {
   "display_name": "Python 3",
   "language": "python",
   "name": "python3"
  },
  "language_info": {
   "codemirror_mode": {
    "name": "ipython",
    "version": 3
   },
   "file_extension": ".py",
   "mimetype": "text/x-python",
   "name": "python",
   "nbconvert_exporter": "python",
   "pygments_lexer": "ipython3",
   "version": "3.9.7"
  },
  "orig_nbformat": 4
 },
 "nbformat": 4,
 "nbformat_minor": 2
}
