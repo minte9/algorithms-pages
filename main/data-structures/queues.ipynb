{
 "cells": [
  {
   "attachments": {},
   "cell_type": "markdown",
   "metadata": {},
   "source": [
    "### Queues / Data Structures\n",
    "\n",
    "A `queue` is similar to a stack, except that is processes data in a different order.  \n",
    "It's like a `line` of peaple at the movie theater.  \n",
    "The `first` one in line is the first one to leave and enter the theater.  \n",
    "\n",
    "Computer scientits use the acronym `FIFO` (first in, firt out).  \n",
    "Queue are display and explain `horizontaly`.  "
   ]
  },
  {
   "attachments": {},
   "cell_type": "markdown",
   "metadata": {},
   "source": [
    "### Contrains\n",
    "\n",
    "Like stacks, queues are arrays with `three` restrictions:    \n",
    "1. Insertion: only at the `end` (identical as with stacks)\n",
    "2. Deletion: only from the `front`\n",
    "3. Reading: only the `first` element"
   ]
  },
  {
   "attachments": {},
   "cell_type": "markdown",
   "metadata": {},
   "source": [
    "### Deque / Python\n",
    "\n",
    "In Python, queues are a buit-in data structure with its own standard `library`.  \n",
    "Deque in python is a versatile implementation of `double-ended` queue.  \n",
    "It allows you to effectively use it as a `stack`, a queue, or a combination of both."
   ]
  },
  {
   "cell_type": "code",
   "execution_count": 93,
   "metadata": {},
   "outputs": [
    {
     "name": "stderr",
     "output_type": "stream",
     "text": [
      "ic| tasks: deque([1, 2, 3])\n",
      "ic| current: 1, tasks: deque([2, 3])\n",
      "ic| current: 2, tasks: deque([3])\n",
      "ic| current: 3, tasks: deque([])\n"
     ]
    }
   ],
   "source": [
    "from collections import deque\n",
    "from icecream import ic\n",
    "\n",
    "# Initialize the queue\n",
    "tasks = deque()\n",
    "\n",
    "# Add elements to the back of the queue\n",
    "tasks.append(1)\n",
    "tasks.append(2)\n",
    "tasks.append(3)\n",
    "\n",
    "ic(tasks)\n",
    "\n",
    "#  Remove from the front of the queue (FIFO)\n",
    "while len(tasks) > 0:\n",
    "    current = tasks.popleft()\n",
    "    \n",
    "    ic(current, tasks)"
   ]
  },
  {
   "attachments": {},
   "cell_type": "markdown",
   "metadata": {},
   "source": [
    "### Create Queue\n",
    "\n",
    "Like many other abstarct data types, it isn't implemented in many programming `languages`.  \n",
    "Let's create a queue to see how it `works` internaly.  "
   ]
  },
  {
   "cell_type": "code",
   "execution_count": 94,
   "metadata": {},
   "outputs": [
    {
     "name": "stderr",
     "output_type": "stream",
     "text": [
      "ic| tasks.items: [1, 2, 3]\n",
      "ic| current: 1, tasks.items: [2, 3]\n",
      "ic| current: 2, tasks.items: [3]\n",
      "ic| current: 3, tasks.items: []\n"
     ]
    }
   ],
   "source": [
    "class Queue:\n",
    "    def __init__(self):\n",
    "        self.items = []\n",
    "\n",
    "    def append(self, item):\n",
    "        self.items += [item]\n",
    "\n",
    "    def popleft(self):\n",
    "        curr = self.items[0]\n",
    "        self.items = self.items[1:]\n",
    "        return curr\n",
    "\n",
    "    def is_empty(self):\n",
    "        return self.items == []\n",
    "\n",
    "# Initialize the queue\n",
    "tasks = Queue()\n",
    "\n",
    "# Push elements into the queue\n",
    "tasks.append(1)\n",
    "tasks.append(2)\n",
    "tasks.append(3)\n",
    "\n",
    "ic(tasks.items)\n",
    "\n",
    "#  Remove from queue\n",
    "while tasks.is_empty() == False:\n",
    "    current = tasks.popleft()\n",
    "    \n",
    "    ic(current, tasks.items)     "
   ]
  },
  {
   "attachments": {},
   "cell_type": "markdown",
   "metadata": {},
   "source": [
    "### Printer Manager / Application\n",
    "\n",
    "Let's say we are programming a `simple` interface for a printer.  \n",
    "We want to make sure we print each document in the received `order`."
   ]
  },
  {
   "cell_type": "code",
   "execution_count": 96,
   "metadata": {},
   "outputs": [
    {
     "name": "stdout",
     "output_type": "stream",
     "text": [
      "First Document\n",
      "Second Document\n",
      "Third Document\n"
     ]
    }
   ],
   "source": [
    "class PrintManager:\n",
    "    def __init__(self):\n",
    "        self.queue = Queue()\n",
    "\n",
    "    def add_job(self, document):\n",
    "        self.queue.append(document)\n",
    "\n",
    "    def run(self):\n",
    "        for k in self.queue.items:\n",
    "            print(k)\n",
    "\n",
    "print_manager = PrintManager()\n",
    "\n",
    "print_manager.add_job(\"First Document\")\n",
    "print_manager.add_job(\"Second Document\")\n",
    "print_manager.add_job(\"Third Document\")\n",
    "\n",
    "print_manager.run()"
   ]
  },
  {
   "attachments": {},
   "cell_type": "markdown",
   "metadata": {},
   "source": [
    "### References   \n",
    "\n",
    "[A Common-Sense Guide to Data Structures and Algorithms](https://www.amazon.com/gp/product/B08KYMK4NR/), Jay Wengrow   \n",
    "https://vegibit.com/python-queue-example"
   ]
  }
 ],
 "metadata": {
  "kernelspec": {
   "display_name": "Python 3",
   "language": "python",
   "name": "python3"
  },
  "language_info": {
   "codemirror_mode": {
    "name": "ipython",
    "version": 3
   },
   "file_extension": ".py",
   "mimetype": "text/x-python",
   "name": "python",
   "nbconvert_exporter": "python",
   "pygments_lexer": "ipython3",
   "version": "3.9.7"
  },
  "orig_nbformat": 4
 },
 "nbformat": 4,
 "nbformat_minor": 2
}
