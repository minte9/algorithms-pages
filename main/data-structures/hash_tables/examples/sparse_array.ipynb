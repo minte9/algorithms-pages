{
 "cells": [
  {
   "attachments": {},
   "cell_type": "markdown",
   "metadata": {},
   "source": [
    "### Sparse Array / List\n",
    "\n",
    "Using a list to represent a sparse array is `simple` and intuitive, but it has a drawback of allocating  \n",
    "memory for all indices, even when they are empty. This can be `less` memory-efficient.  "
   ]
  },
  {
   "cell_type": "code",
   "execution_count": 11,
   "metadata": {},
   "outputs": [
    {
     "name": "stderr",
     "output_type": "stream",
     "text": [
      "ic| sparse_array: [0, 0, 0, 0, 0, 0, 0, 0, 0, 0, 0]\n",
      "ic| sparse_array: [0, 0, 42, 0, 0, 17, 0, 0, 0, 8, 0]\n",
      "ic| sparse_array[2]: 42\n",
      "ic| sparse_array[5]: 17\n",
      "ic| sparse_array[8]: 0\n"
     ]
    }
   ],
   "source": [
    "from icecream import ic\n",
    "\n",
    "# Initialize a list to represent a spare array\n",
    "sparse_array = [0] * 11\n",
    "ic(sparse_array)\n",
    "\n",
    "# Insert values at non-empty indexes\n",
    "sparse_array[2] = 42\n",
    "sparse_array[5] = 17\n",
    "sparse_array[9] = 8\n",
    "ic(sparse_array)\n",
    "\n",
    "# Access elements\n",
    "ic(sparse_array[2])\n",
    "ic(sparse_array[5])\n",
    "ic(sparse_array[8]); # This will return 0 because index 8 is empty"
   ]
  },
  {
   "attachments": {},
   "cell_type": "markdown",
   "metadata": {},
   "source": [
    "### Sparse Array / Hash Table\n",
    "\n",
    "A hash table (dictionary) can efficiently represent a sparse array by storing values `only` at non-empty indices.   \n",
    "It saves memory and allows for `quick` access O(1) to elements at specific indices."
   ]
  },
  {
   "cell_type": "code",
   "execution_count": 15,
   "metadata": {},
   "outputs": [
    {
     "name": "stderr",
     "output_type": "stream",
     "text": [
      "ic| sparse_array: {2: 42, 5: 17, 9: 8}\n",
      "ic| sparse_array.get(2, 0): 42\n",
      "ic| sparse_array.get(5, 0): 17\n",
      "ic| sparse_array.get(8, 0): 0\n"
     ]
    }
   ],
   "source": [
    "from icecream import ic\n",
    "\n",
    "# Initialize a list to represent a spare array\n",
    "sparse_array = {}\n",
    "\n",
    "# Insert values at non-empty indexes\n",
    "sparse_array[2] = 42\n",
    "sparse_array[5] = 17\n",
    "sparse_array[9] = 8\n",
    "ic(sparse_array)\n",
    "\n",
    "# Access elements\n",
    "ic(sparse_array.get(2, 0))\n",
    "ic(sparse_array.get(5, 0))\n",
    "ic(sparse_array.get(8, 0)); # Get the element at index 8 or 0 if it doesn't exist"
   ]
  }
 ],
 "metadata": {
  "kernelspec": {
   "display_name": "Python 3",
   "language": "python",
   "name": "python3"
  },
  "language_info": {
   "codemirror_mode": {
    "name": "ipython",
    "version": 3
   },
   "file_extension": ".py",
   "mimetype": "text/x-python",
   "name": "python",
   "nbconvert_exporter": "python",
   "pygments_lexer": "ipython3",
   "version": "3.9.7"
  },
  "orig_nbformat": 4
 },
 "nbformat": 4,
 "nbformat_minor": 2
}
