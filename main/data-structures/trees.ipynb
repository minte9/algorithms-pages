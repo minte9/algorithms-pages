{
 "cells": [
  {
   "attachments": {},
   "cell_type": "markdown",
   "metadata": {},
   "source": [
    "### Trees / Data Structures\n",
    "\n",
    "A tree data structure is a structure of `nodes` that are connected to other nodes by edges.  \n",
    "The starting node of a tree is called a `root` and the nodes at the end are called `leaves`.\n",
    "\n",
    "Trees always have exactly `one root`.  \n",
    "In trees child nodes must have `one parent` and edges that are not loops.  "
   ]
  },
  {
   "cell_type": "code",
   "execution_count": 47,
   "metadata": {},
   "outputs": [
    {
     "name": "stderr",
     "output_type": "stream",
     "text": [
      "ic| node3['children']: [{'children': [{'children': [], 'name': 'G'}, {'children': [], 'name': 'H'}],\n",
      "                         'name': 'E'},\n",
      "                        {'children': [], 'name': 'F'}]\n"
     ]
    }
   ],
   "source": [
    "from icecream import ic\n",
    "\n",
    "root = {'name': 'A', 'children': []}\n",
    "node2 = {'name': 'B', 'children': []}\n",
    "node3 = {'name': 'C', 'children': []}\n",
    "node4 = {'name': 'D', 'children': []}\n",
    "node5 = {'name': 'E', 'children': []}\n",
    "node6 = {'name': 'F', 'children': []}\n",
    "node7 = {'name': 'G', 'children': []}\n",
    "node8 = {'name': 'H', 'children': []}\n",
    "\n",
    "root['children'] = [node2, node3]\n",
    "node2['children'] = [node4]\n",
    "node3['children'] = [node5, node6]\n",
    "node5['children'] = [node7, node8]\n",
    "\n",
    "ic(node3['children']);"
   ]
  },
  {
   "attachments": {},
   "cell_type": "markdown",
   "metadata": {},
   "source": [
    "### Anytree / Render\n",
    "\n",
    "Using `tree` data structures is made easy with anytree package.     "
   ]
  },
  {
   "cell_type": "code",
   "execution_count": 67,
   "metadata": {},
   "outputs": [
    {
     "name": "stdout",
     "output_type": "stream",
     "text": [
      " A\n",
      "├──  B\n",
      "│   └──  D\n",
      "└──  C\n",
      "    ├──  E\n",
      "    │   ├──  G\n",
      "    │   └──  H\n",
      "    └──  F\n"
     ]
    }
   ],
   "source": [
    "from anytree import Node, RenderTree\n",
    "\n",
    "root = Node('A')\n",
    "node2 = Node('B', parent=root)\n",
    "node3 = Node('C', parent=root)\n",
    "node4 = Node('D', parent=node2)\n",
    "node5 = Node('E', parent=node3)\n",
    "node6 = Node('F', parent=node3)\n",
    "node7 = Node('G', parent=node5)\n",
    "node8 = Node('H', parent=node5)\n",
    "\n",
    "for pre, fill, node in RenderTree(root):\n",
    "    print(pre, node.name)"
   ]
  },
  {
   "attachments": {},
   "cell_type": "markdown",
   "metadata": {},
   "source": [
    "### References \n",
    "\n",
    "https://www.amazon.com/gp/product/B09BKL34VL   \n",
    "https://github.com/asweigart/the-recursive-book-of-recursion    \n",
    "https://www.javatpoint.com/anytree-python  "
   ]
  }
 ],
 "metadata": {
  "kernelspec": {
   "display_name": "Python 3",
   "language": "python",
   "name": "python3"
  },
  "language_info": {
   "codemirror_mode": {
    "name": "ipython",
    "version": 3
   },
   "file_extension": ".py",
   "mimetype": "text/x-python",
   "name": "python",
   "nbconvert_exporter": "python",
   "pygments_lexer": "ipython3",
   "version": "3.9.7"
  },
  "orig_nbformat": 4
 },
 "nbformat": 4,
 "nbformat_minor": 2
}
