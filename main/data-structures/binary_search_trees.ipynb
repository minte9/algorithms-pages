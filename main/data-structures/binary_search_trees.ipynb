{
 "cells": [
  {
   "attachments": {},
   "cell_type": "markdown",
   "metadata": {},
   "source": [
    "## Binary Search Trees / Data Structures ✨ Algorithms \n",
    "\n",
    "`Arrays` are great for reading O(1) and searching O(log N), when using binary search.  \n",
    "But they are `slow` when it comes to insertions and deletions.  \n",
    "\n",
    "`Hash tables` are great for search, insertion and deletion O(1).  \n",
    "But they do not maintain `order`.  \n",
    "\n",
    "For data that are `sorted `often, it would be better to keep data ordered in the first place.  \n",
    "For that `binary` search tree data structure is better.  "
   ]
  },
  {
   "attachments": {},
   "cell_type": "markdown",
   "metadata": {},
   "source": [
    "## Trees\n",
    "\n",
    "In a `linked list`, each node contains a link to other node.  \n",
    "In a tree, each node have links to `multiple` nodes.  \n",
    "A tree is `balanced` when its nodes' subtree have the same number of nodes.  "
   ]
  },
  {
   "attachments": {},
   "cell_type": "markdown",
   "metadata": {},
   "source": [
    "## Binary Tree\n",
    "\n",
    "A binary tree is a tree in which each node has zero, one, or `two` children.  \n",
    "A binary search tree has two more `restrictions`.  "
   ]
  },
  {
   "attachments": {},
   "cell_type": "markdown",
   "metadata": {},
   "source": [
    "## Binary Search Tree\n",
    "\n",
    "The left node can contains descendants that are `less` than the node itself.  \n",
    "Likewise, the right node has descendants `greater` than the node.  "
   ]
  },
  {
   "cell_type": "code",
   "execution_count": 29,
   "metadata": {},
   "outputs": [
    {
     "name": "stdout",
     "output_type": "stream",
     "text": [
      "Root > LeftChild | True\n",
      "Root < RightChild | True\n"
     ]
    }
   ],
   "source": [
    "class Tree:\n",
    "    def __init__(self, value, left=None, right=None):\n",
    "        self.value = value\n",
    "        self.leftChild = left\n",
    "        self.rightChild = right\n",
    "    \n",
    "node1 = Tree(25)\n",
    "node2 = Tree(75)\n",
    "root = Tree(50, node1, node2)\n",
    "\n",
    "print(\"Root > LeftChild |\", root.value > root.leftChild.value)\n",
    "print(\"Root < RightChild |\", root.value < root.rightChild.value)"
   ]
  },
  {
   "attachments": {},
   "cell_type": "markdown",
   "metadata": {},
   "source": [
    "## Binary Search Tree / Searching Algorithm\n",
    "\n",
    "The `algorithm` of searching withing a binary search tree:\n",
    "\n",
    "1. Assign the `current` node (at start it is the root)\n",
    "2. `Inspect` the value of the current nod\n",
    "3. If we `find` the value we're looking for, return\n",
    "4. If the value is `less` than the current node, search in the left subtree\n",
    "5. If the value is greater, continue in the `right` subtree\n",
    "6. Repeat\n",
    "\n",
    "`Recursion` is key when dealing with data structures with arbitrary number of levels.  "
   ]
  },
  {
   "cell_type": "code",
   "execution_count": 30,
   "metadata": {},
   "outputs": [
    {
     "name": "stdout",
     "output_type": "stream",
     "text": [
      "61\n"
     ]
    }
   ],
   "source": [
    "class Tree:\n",
    "    def __init__(self, value, left=None, right=None):\n",
    "        self.value = value\n",
    "        self.leftChild = left\n",
    "        self.rightChild = right\n",
    "\n",
    "def search(value, node):\n",
    "    if value == node.value: # Base Case\n",
    "        return node\n",
    "\n",
    "    if value < node.value:\n",
    "        return search(value, node.leftChild)\n",
    "\n",
    "    if value > node.value:\n",
    "        return search(value, node.rightChild)\n",
    "\n",
    "# Level 2\n",
    "node7 = Tree(89, Tree(82), Tree(95))\n",
    "node6 = Tree(56, Tree(52), Tree(61))\n",
    "node5 = Tree(33, Tree(30), Tree(40))\n",
    "node4 = Tree(10, Tree(4), Tree(11))\n",
    "\n",
    "# Level 1\n",
    "node3 = Tree(75, node6, node7)\n",
    "node2 = Tree(25, node4, node5)\n",
    "\n",
    "# Level 0 - root\n",
    "node1 = Tree(50, node2, node3)\n",
    "\n",
    "# Searching\n",
    "node = search(61, node1)\n",
    "print(node.value)"
   ]
  },
  {
   "attachments": {},
   "cell_type": "markdown",
   "metadata": {},
   "source": [
    "## Binary Search Tree / Efficiency O(log N)\n",
    "\n",
    "Each step of searching eliminates `half` of the remaining nodes from tree.  \n",
    "Time complexity is `O(log N)` for algorithms that eliminates half of the remaining values as each step.  \n",
    "\n",
    "A tree containing N nodes will require log(N) `levels`.  \n",
    "A binary search in an `ordered` array has the same O(log N) efficiency."
   ]
  },
  {
   "attachments": {},
   "cell_type": "markdown",
   "metadata": {},
   "source": [
    "## Binary Search Tree / Insertion\n",
    "\n",
    "Binary Search Tree are at their `best` at insertions.  \n",
    "Insertion takes just `one` extra step beyond searching, which means O(log N) + 1."
   ]
  },
  {
   "cell_type": "code",
   "execution_count": 31,
   "metadata": {},
   "outputs": [
    {
     "name": "stdout",
     "output_type": "stream",
     "text": [
      " 50\n",
      "   25\n",
      "     10\n",
      "       4\n",
      "       11\n",
      "     33\n",
      "       30\n",
      "       40\n",
      "         45\n",
      "   75\n",
      "     56\n",
      "       52\n",
      "       61\n",
      "     89\n",
      "       82\n",
      "       95\n"
     ]
    }
   ],
   "source": [
    "def insert(value, node):\n",
    "\n",
    "    if value < node.value:\n",
    "        if node.leftChild == None:\n",
    "            node.leftChild = Tree(value)\n",
    "        else:\n",
    "            insert(value, node.leftChild)\n",
    "\n",
    "    if value > node.value:\n",
    "        if node.rightChild == None:\n",
    "            node.rightChild = Tree(value)\n",
    "        else:\n",
    "            insert(value, node.rightChild)\n",
    "\n",
    "def showTree(node, level=0):\n",
    "    if node == None:\n",
    "        return\n",
    "\n",
    "    print(level * \"  \", node.value)\n",
    "\n",
    "    showTree(node.leftChild, level+1)\n",
    "    showTree(node.rightChild, level+1)\n",
    "\n",
    "# Insert new value\n",
    "insert(45, node1)\n",
    "\n",
    "# Output tree\n",
    "showTree(node1)\n"
   ]
  }
 ],
 "metadata": {
  "kernelspec": {
   "display_name": "Python 3",
   "language": "python",
   "name": "python3"
  },
  "language_info": {
   "codemirror_mode": {
    "name": "ipython",
    "version": 3
   },
   "file_extension": ".py",
   "mimetype": "text/x-python",
   "name": "python",
   "nbconvert_exporter": "python",
   "pygments_lexer": "ipython3",
   "version": "3.9.7"
  },
  "orig_nbformat": 4
 },
 "nbformat": 4,
 "nbformat_minor": 2
}
