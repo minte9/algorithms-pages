{
 "cells": [
  {
   "attachments": {},
   "cell_type": "markdown",
   "metadata": {},
   "source": [
    "## Binary Search Trees / Data Structures ✨ Algorithms \n",
    "\n",
    "`Arrays` are great for reading O(1) and searching O(log N), when using binary search.  \n",
    "But they are `slow` when it comes to insertions and deletions.  \n",
    "\n",
    "`Hash tables` are great for search, insertion and deletion O(1).  \n",
    "But they do not maintain `order`.  \n",
    "\n",
    "For data that are `sorted `often, it would be better to keep data ordered in the first place.  \n",
    "For that `binary` search tree data structure is better.  "
   ]
  },
  {
   "attachments": {},
   "cell_type": "markdown",
   "metadata": {},
   "source": [
    "## Trees\n",
    "\n",
    "In a `linked list`, each node contains a link to other node.  \n",
    "In a tree, each node have links to `multiple` nodes.  "
   ]
  }
 ],
 "metadata": {
  "language_info": {
   "name": "python"
  },
  "orig_nbformat": 4
 },
 "nbformat": 4,
 "nbformat_minor": 2
}
