{
 "cells": [
  {
   "attachments": {},
   "cell_type": "markdown",
   "metadata": {},
   "source": [
    "## Binary Search Trees / Data Structures ✨ Algorithms \n",
    "\n",
    "`Arrays` are great for reading O(1) and searching O(log N), when using binary search.  \n",
    "But they are `slow` when it comes to insertions and deletions.  \n",
    "\n",
    "`Hash tables` are great for search, insertion and deletion O(1).  \n",
    "But they do not maintain `order`.  \n",
    "\n",
    "For data that are `sorted `often, it would be better to keep data ordered in the first place.  \n",
    "For that `binary` search tree data structure is better.  "
   ]
  },
  {
   "attachments": {},
   "cell_type": "markdown",
   "metadata": {},
   "source": [
    "## Trees\n",
    "\n",
    "In a `linked list`, each node contains a link to other node.  \n",
    "In a tree, each node have links to `multiple` nodes.  \n",
    "A tree is `balanced` when its nodes' subtree have the same number of nodes.  "
   ]
  },
  {
   "attachments": {},
   "cell_type": "markdown",
   "metadata": {},
   "source": [
    "## Binary / Tree\n",
    "\n",
    "A binary tree is a tree in which each node has zero, one, or `two` children.  \n",
    "A binary search tree has two more `restrictions`.  \n",
    "\n",
    "## Binary Search / Tree\n",
    "\n",
    "The left node can contains descendants that are `less` than the node itself.  \n",
    "Likewise, the right node has descendants `greater` than the node.  "
   ]
  }
 ],
 "metadata": {
  "language_info": {
   "name": "python"
  },
  "orig_nbformat": 4
 },
 "nbformat": 4,
 "nbformat_minor": 2
}
