{
 "cells": [
  {
   "attachments": {},
   "cell_type": "markdown",
   "metadata": {},
   "source": [
    "## Binary Search Trees / Data Structures ✨ Algorithms \n",
    "\n",
    "`Arrays` are great for reading O(1) and searching O(log N), when using binary search.  \n",
    "But they are `slow` when it comes to insertions and deletions.  \n",
    "\n",
    "`Hash tables` are great for search, insertion and deletion O(1).  \n",
    "But they do not maintain `order`.  \n",
    "\n",
    "For data that are `sorted `often, it would be better to keep data ordered in the first place.  \n",
    "For that `binary` search tree data structure is better.  "
   ]
  },
  {
   "attachments": {},
   "cell_type": "markdown",
   "metadata": {},
   "source": [
    "## Trees\n",
    "\n",
    "In a `linked list`, each node contains a link to other node.  \n",
    "In a tree, each node have links to `multiple` nodes.  \n",
    "A tree is `balanced` when its nodes' subtree have the same number of nodes.  "
   ]
  },
  {
   "attachments": {},
   "cell_type": "markdown",
   "metadata": {},
   "source": [
    "## Binary Tree\n",
    "\n",
    "A binary tree is a tree in which each node has zero, one, or `two` children.  \n",
    "A binary search tree has two more `restrictions`.  "
   ]
  },
  {
   "attachments": {},
   "cell_type": "markdown",
   "metadata": {},
   "source": [
    "## Binary Search Tree\n",
    "\n",
    "The left node can contains descendants that are `less` than the node itself.  \n",
    "Likewise, the right node has descendants `greater` than the node.  "
   ]
  },
  {
   "cell_type": "code",
   "execution_count": 8,
   "metadata": {},
   "outputs": [
    {
     "name": "stdout",
     "output_type": "stream",
     "text": [
      "Root > LeftChild | True\n",
      "Root < RightChild | True\n"
     ]
    }
   ],
   "source": [
    "class Tree:\n",
    "    def __init__(self, value, left=None, right=None):\n",
    "        self.value = value\n",
    "        self.leftChild = left\n",
    "        self.rightChild = right\n",
    "    \n",
    "node1 = Tree(25)\n",
    "node2 = Tree(75)\n",
    "root = Tree(50, node1, node2)\n",
    "\n",
    "print(\"Root > LeftChild |\", root.value > root.leftChild.value)\n",
    "print(\"Root < RightChild |\", root.value < root.rightChild.value)"
   ]
  },
  {
   "attachments": {},
   "cell_type": "markdown",
   "metadata": {},
   "source": [
    "## Binary Search Tree / Searching Algorithm\n",
    "\n",
    "The `algorithm` of searching withing a binary search tree:\n",
    "\n",
    "1. Assign the `current` node (at start it is the root)\n",
    "2. `Inspect` the value of the current nod\n",
    "3. If we `find` the value we're looking for, return\n",
    "4. If the value is `less` than the current node, search in the left subtree\n",
    "5. If the value is greater, continue in the `right` subtree\n",
    "6. Repeat\n",
    "\n",
    "`Recursion` is key when dealing with data structures with arbitrary number of levels.  "
   ]
  }
 ],
 "metadata": {
  "kernelspec": {
   "display_name": "Python 3",
   "language": "python",
   "name": "python3"
  },
  "language_info": {
   "codemirror_mode": {
    "name": "ipython",
    "version": 3
   },
   "file_extension": ".py",
   "mimetype": "text/x-python",
   "name": "python",
   "nbconvert_exporter": "python",
   "pygments_lexer": "ipython3",
   "version": "3.9.7"
  },
  "orig_nbformat": 4
 },
 "nbformat": 4,
 "nbformat_minor": 2
}
