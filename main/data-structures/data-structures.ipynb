{
 "cells": [
  {
   "cell_type": "markdown",
   "metadata": {
    "tags": [
     "pag 1:1"
    ]
   },
   "source": [
    "## Code speed\n",
    "\n",
    "When trying to write fast code is important to understand how data structures affects code speed.  \n",
    "For example, in the code below, the second function version is twice as fast than the first one.  "
   ]
  },
  {
   "cell_type": "code",
   "execution_count": 4,
   "metadata": {},
   "outputs": [
    {
     "name": "stdout",
     "output_type": "stream",
     "text": [
      "[0, 2, 4, 6, 8, 10, 12, 14, 16, 18, 20, 22, 24, 26, 28, 30, 32, 34, 36, 38, 40, 42, 44, 46, 48, 50]\n",
      "[0, 2, 4, 6, 8, 10, 12, 14, 16, 18, 20, 22, 24, 26, 28, 30, 32, 34, 36, 38, 40, 42, 44, 46, 48, 50]\n",
      "[0, 2, 4, 6, 8, 10, 12, 14, 16, 18, 20, 22, 24, 26, 28, 30, 32, 34, 36, 38, 40, 42, 44, 46, 48, 50]\n"
     ]
    }
   ],
   "source": [
    "# Generate a list of even numbers from 0 to 50\n",
    "def even_numbers():\n",
    "    data = []\n",
    "\n",
    "    n = 0\n",
    "    while n <= 50:\n",
    "        if n%2 == 0:\n",
    "            data.append(n)\n",
    "        n += 1\n",
    "    return data\n",
    "\n",
    "# A more efficient while loop (twice as fast)\n",
    "def even_numbers_fast():\n",
    "    data = []\n",
    "\n",
    "    n = 0\n",
    "    while n <= 50:\n",
    "        data.append(n)\n",
    "        n += 2\n",
    "    return data\n",
    "\n",
    "# Pythonic way (using list comprehension)\n",
    "def even_numbers_list_comprehension():\n",
    "    return [n for n in range(50 + 1) if n%2 == 0]\n",
    "\n",
    "# Output\n",
    "print(even_numbers())\n",
    "print(even_numbers_fast())\n",
    "print(even_numbers_list_comprehension())"
   ]
  },
  {
   "cell_type": "markdown",
   "metadata": {
    "tags": [
     "pag 1:2"
    ]
   },
   "source": [
    "## Data format\n",
    "\n",
    "Data structures describes how data are organized.  \n",
    "For example, it can be organized as independent strings or as array.  "
   ]
  },
  {
   "cell_type": "code",
   "execution_count": 5,
   "metadata": {},
   "outputs": [
    {
     "name": "stdout",
     "output_type": "stream",
     "text": [
      "HelloWorld\n",
      "HelloWorld\n"
     ]
    }
   ],
   "source": [
    "# Independent strings used to store data\n",
    "x = \"Hello\"\n",
    "y = \"World\"\n",
    "print (x + y)\n",
    "\n",
    "# Using an array (list in Python) to organize data\n",
    "array = [\"Hello\", \"World\"]\n",
    "print(array[0] + array[1])"
   ]
  },
  {
   "cell_type": "markdown",
   "metadata": {
    "tags": [
     "pag 1:3"
    ]
   },
   "source": [
    "## Array size\n",
    "\n",
    "The array is one of the most basic data structure in computer science.  \n",
    "The size of an array is the number of elements it holds.   \n",
    "The index (key) of the array identifies where the element is inside the array.   "
   ]
  },
  {
   "cell_type": "code",
   "execution_count": 6,
   "metadata": {},
   "outputs": [
    {
     "name": "stdout",
     "output_type": "stream",
     "text": [
      "3\n",
      "apple\n",
      "bananas\n",
      "kiwi\n"
     ]
    }
   ],
   "source": [
    "# List with three elements\n",
    "array = ['apple', 'bananas', 'kiwi']\n",
    "\n",
    "# Size of the array\n",
    "size = len(array)\n",
    "\n",
    "# Get elements by index\n",
    "first = array[0]\n",
    "second = array[1]\n",
    "third = array[2]\n",
    "\n",
    "# Output array size\n",
    "print(size)\n",
    "\n",
    "# Output elements using their indices\n",
    "print(first)\n",
    "print(second)\n",
    "print(third)"
   ]
  },
  {
   "cell_type": "markdown",
   "metadata": {},
   "source": [
    "### Questions\n",
    "\n",
    "1. Understanding our data structure help us to:\n",
    "\n",
    "    a) write fast code  \n",
    "    b) better organize data  \n",
    "\n",
    "2. An array is:\n",
    "\n",
    "    a) a set of characters  \n",
    "    b) a list of elements  \n",
    "\n",
    "3. To get an element from an array (list), we use the array's:\n",
    "\n",
    "    a) key  \n",
    "    b) size    "
   ]
  },
  {
   "cell_type": "markdown",
   "metadata": {},
   "source": [
    "### Answers\n",
    "\n",
    "1. a  \n",
    "2. b    \n",
    "3. a  "
   ]
  },
  {
   "cell_type": "markdown",
   "metadata": {},
   "source": [
    "### Practice\n",
    "\n",
    "1. Generate a list of prime numbers from 2 to 100.  \n",
    "   Make a slow version and a faster version of the function.  "
   ]
  }
 ],
 "metadata": {
  "kernelspec": {
   "display_name": "Python 3",
   "language": "python",
   "name": "python3"
  },
  "language_info": {
   "codemirror_mode": {
    "name": "ipython",
    "version": 3
   },
   "file_extension": ".py",
   "mimetype": "text/x-python",
   "name": "python",
   "nbconvert_exporter": "python",
   "pygments_lexer": "ipython3",
   "version": "3.8.12"
  }
 },
 "nbformat": 4,
 "nbformat_minor": 2
}
