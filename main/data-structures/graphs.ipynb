{
 "cells": [
  {
   "attachments": {},
   "cell_type": "markdown",
   "metadata": {},
   "source": [
    "### Graphs\n",
    "\n",
    "A graphs is a data structure specialized in `relationships`.  \n",
    "For example, in a social network, each person is represented by a `node`.  \n",
    "Each `line` represents a friendship with another person.  "
   ]
  },
  {
   "attachments": {},
   "cell_type": "markdown",
   "metadata": {},
   "source": [
    "### Trees\n",
    "\n",
    "While all tree are graphs, `not` all graphs are tree.  \n",
    "A graph is a tree when it has `no` cycles.  \n",
    "All nodes must be `connected`. "
   ]
  },
  {
   "attachments": {},
   "cell_type": "markdown",
   "metadata": {},
   "source": [
    "### Jargon\n",
    "\n",
    "Each node is called a `vertex`.  \n",
    "The line between the nodes (vertices) are called `edges`.  "
   ]
  }
 ],
 "metadata": {
  "language_info": {
   "name": "python"
  },
  "orig_nbformat": 4
 },
 "nbformat": 4,
 "nbformat_minor": 2
}
