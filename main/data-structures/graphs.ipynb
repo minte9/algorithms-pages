{
 "cells": [
  {
   "attachments": {},
   "cell_type": "markdown",
   "metadata": {},
   "source": [
    "### Graphs\n",
    "\n",
    "A graphs is a data structure specialized in `relationships`.  \n",
    "Using a `hash` table, we can make lookups in O(1) steps.  \n",
    "\n",
    "While all tree are graphs, `not` all graphs are tree.  \n",
    "A graph is a tree when it has `no` cycles, and all nodes are connected. \n",
    "\n",
    "For example, in a social network, each person is represented by a `node`.  \n",
    "Each `line` represents a friendship with another person.  \n",
    "\n",
    "![](./images/graphs_friendship.png)"
   ]
  },
  {
   "cell_type": "code",
   "execution_count": 1,
   "metadata": {},
   "outputs": [
    {
     "output_type": "stream",
     "name": "stdout",
     "text": [
      "['Bob', 'Diana', 'Fred']\n"
     ]
    }
   ],
   "source": [
    "friends = {\n",
    "    'Alice': ['Bob', 'Diana', 'Fred'],\n",
    "    'Bob': ['Alice', 'Cynthia', 'Diana'],\n",
    "    'Cynthia': ['Bob'],\n",
    "    'Diana': ['Alice', 'Bob', 'Fred'],\n",
    "    'Elise': ['Fred'],\n",
    "    'Fred': ['Alice', 'Diana', 'Elise'],\n",
    "}\n",
    "\n",
    "print(friends['Alice'])"
   ]
  },
  {
   "attachments": {},
   "cell_type": "markdown",
   "metadata": {},
   "source": [
    "### Directed Graphs / Hash Table\n",
    "\n",
    "Relationships are `not` always mutual.  \n",
    "For example Alice may follow Bob, but Bob `doesn't` have to follow Alice.  \n",
    "\n",
    "![directed graphs](./images/graphs_directed.png)"
   ]
  },
  {
   "cell_type": "code",
   "execution_count": 2,
   "metadata": {},
   "outputs": [],
   "source": [
    "followees = {\n",
    "    'Alice': ['Bob', 'Diana'],\n",
    "    'Bob': ['Cynthia'],\n",
    "    'Cynthia': ['Bob'],\n",
    "}\n",
    "\n",
    "assert 'Bob' in followees['Alice']\n",
    "assert 'Alice' not in followees['Bob']"
   ]
  },
  {
   "attachments": {},
   "cell_type": "markdown",
   "metadata": {},
   "source": [
    "### Undirected Graph / Object Oriented\n",
    "\n",
    "In graph's technical jargon, each node is called a `vertex`.  \n",
    "The line between the nodes (vertices) are called `edges`.  \n",
    "\n",
    "We can also `implement` a graph using an object oriented approach.  \n",
    "In our social network example, each `vertex` represents a person.  \n",
    "\n",
    "The `value` might be a string with the person's name.  \n",
    "The `vertices` list contains all the vertices this vertex connects to.  "
   ]
  },
  {
   "cell_type": "code",
   "execution_count": 3,
   "metadata": {},
   "outputs": [
    {
     "output_type": "stream",
     "name": "stdout",
     "text": [
      "Alice vertices: ['Bob', 'Cynthia']\nBob vertices: ['Alice', 'Cynthia']\n"
     ]
    }
   ],
   "source": [
    "class Vertex:\n",
    "    def __init__(self, name):\n",
    "        self.value = name\n",
    "        self.adjacent_vertices = []\n",
    "\n",
    "    def add_adjacent(self, vertex):\n",
    "        self.adjacent_vertices.append(vertex)\n",
    "\n",
    "        # if the friendship is mutual (undirected graph), we automatically add self vertix\n",
    "        if self not in vertex.adjacent_vertices:\n",
    "            vertex.adjacent_vertices.append(self)\n",
    "\n",
    "a = Vertex('Alice')\n",
    "b = Vertex('Bob')\n",
    "c = Vertex('Cynthia')\n",
    "\n",
    "a.add_adjacent(b); a.add_adjacent(c)\n",
    "b.add_adjacent(c)\n",
    "c.add_adjacent(b)\n",
    "\n",
    "print('Alice vertices:', [x.value for x in a.adjacent_vertices])\n",
    "print('Bob vertices:', [x.value for x in b.adjacent_vertices])"
   ]
  },
  {
   "attachments": {},
   "cell_type": "markdown",
   "metadata": {},
   "source": [
    "### Graph Search\n",
    "\n",
    "One of the `most` common operations is searching for a particular vertex.  \n",
    "When applied to graphs, the term search usually has a more `specific` connotation.  \n",
    "\n",
    "If we have access to a vertex, we are trying to find our `way` to another vertex.  \n",
    "We can have multiple `paths` from a vertex to another."
   ]
  },
  {
   "attachments": {},
   "cell_type": "markdown",
   "metadata": {},
   "source": [
    "### DFS / Traversal\n",
    "\n",
    "The `Depth First Search` algorithm is quite similar with the binary tree traversal.  \n",
    "The key to any graph search algorithm is keeping `track` of the visited vertex.  \n",
    "Otherwise we can end up in an `infinite` cycle.\n",
    "\n",
    "![dfs](./images/graphs_dfs.png)\n"
   ]
  },
  {
   "cell_type": "code",
   "execution_count": 4,
   "metadata": {},
   "outputs": [
    {
     "output_type": "stream",
     "name": "stdout",
     "text": [
      "['Alice', 'Bob', 'Fred', 'Helen', 'Candy', 'Derek', 'Elaine', 'Gina', 'Irena']\n['Fred', 'Bob', 'Alice', 'Candy', 'Helen', 'Derek', 'Elaine', 'Gina', 'Irena']\n"
     ]
    }
   ],
   "source": [
    "class Vertex:\n",
    "    def __init__(self, name):\n",
    "        self.value = name\n",
    "        self.adjacent_vertices = []\n",
    "\n",
    "    def add(self, vertex):\n",
    "        self.adjacent_vertices.append(vertex)\n",
    "\n",
    "        if self not in vertex.adjacent_vertices: # mutual \n",
    "            vertex.adjacent_vertices.append(self)\n",
    "\n",
    "        return self\n",
    "\n",
    "a = Vertex('Alice')\n",
    "b = Vertex('Bob')\n",
    "c = Vertex('Candy')\n",
    "d = Vertex('Derek')\n",
    "e = Vertex('Elaine')\n",
    "f = Vertex('Fred')\n",
    "g = Vertex('Gina')\n",
    "h = Vertex('Helen')\n",
    "i = Vertex('Irena')\n",
    "\n",
    "a.add(b).add(c).add(d).add(e)\n",
    "b.add(f); c.add(h); d.add(e).add(g); e.add(d)\n",
    "f.add(h)\n",
    "g.add(i)\n",
    "h.add(c)\n",
    "\n",
    "\n",
    "def dfs_traverse(vertex, visited=[]):\n",
    "    visited.append(vertex.value)\n",
    "\n",
    "    for v in vertex.adjacent_vertices:\n",
    "        if v.value in visited:\n",
    "            continue\n",
    "\n",
    "        dfs_traverse(v, visited) # recusion\n",
    "    return visited\n",
    "\n",
    "print([x for x in dfs_traverse(a)])\n",
    "print([x for x in dfs_traverse(f, visited=[]) ])"
   ]
  },
  {
   "attachments": {},
   "cell_type": "markdown",
   "metadata": {},
   "source": [
    "### DPS / Search One\n",
    "\n",
    "We can actually search for a `particular` vertex. "
   ]
  },
  {
   "cell_type": "code",
   "execution_count": 5,
   "metadata": {},
   "outputs": [
    {
     "output_type": "stream",
     "name": "stdout",
     "text": [
      "Helen = <__main__.Vertex object at 0x0000017C45AEAAF0>\nDerek = <__main__.Vertex object at 0x0000017C45A9EC40>\nUnknown = None\n"
     ]
    }
   ],
   "source": [
    "def dfs(vertex, search_value, visited=[]):\n",
    "\n",
    "    # Return the original vertex if it happens to be the one we are searching for:\n",
    "    if vertex.value == search_value:\n",
    "        return vertex\n",
    "\n",
    "    visited.append(vertex.value)\n",
    "\n",
    "    for v in vertex.adjacent_vertices:\n",
    "        if v.value in visited:\n",
    "            continue\n",
    "        \n",
    "        # Return the adjacent value if is the one we are searcing for:\n",
    "        if v.value == search_value:\n",
    "            return v\n",
    "\n",
    "        search_vertex = dfs(v, search_value, visited) # recusion\n",
    "\n",
    "        if search_vertex != None:\n",
    "            return search_vertex\n",
    "\n",
    "    return None\n",
    "\n",
    "print('Helen =', dfs(a, 'Helen'))\n",
    "print('Derek =', dfs(a, 'Derek'))\n",
    "print('Unknown =', dfs(a, 'Unknown'))\n"
   ]
  },
  {
   "attachments": {},
   "cell_type": "markdown",
   "metadata": {},
   "source": [
    "### BFS / Traversal\n",
    "\n",
    "Unlike DFS, Breadth First Search doesn't use recursion, it uses `queue`.  \n",
    "The queue is a `FIFO` data structure (what goes first, comes out first).   \n",
    "\n",
    "We can start at `any` vertex within the graph.  \n",
    "Run a `loop` while the queue is not empty.\n",
    "\n",
    "![bfs](./images/graphs_bfs.png)"
   ]
  },
  {
   "cell_type": "code",
   "execution_count": 6,
   "metadata": {},
   "outputs": [
    {
     "output_type": "stream",
     "name": "stdout",
     "text": [
      "['Alice', 'Bob', 'Candy', 'Derek', 'Elaine', 'Fred', 'Helen', 'Gina', 'Irena']\n['Fred', 'Bob', 'Helen', 'Alice', 'Candy', 'Derek', 'Elaine', 'Gina', 'Irena']\n"
     ]
    }
   ],
   "source": [
    "from collections import deque\n",
    "\n",
    "def bfs_traverse(starting_vertex):\n",
    "    queue = deque()\n",
    "\n",
    "    visited = []\n",
    "    visited.append(starting_vertex.value)\n",
    "\n",
    "    # Add starting vertex to the queue\n",
    "    queue.append(starting_vertex)\n",
    "    \n",
    "    # While queue is not empty\n",
    "    while bool(queue) == True:\n",
    "\n",
    "        # Remove the first vertex and make it the current vertex\n",
    "        current_vertex = queue.popleft()\n",
    "\n",
    "        # Iterate over adjacent vertices\n",
    "        for v in current_vertex.adjacent_vertices:\n",
    "            if v.value in visited:\n",
    "                continue\n",
    "            \n",
    "            # Add adjacent vertex to visited\n",
    "            visited.append(v.value)\n",
    "\n",
    "            # Add adjacent vertex to queue\n",
    "            queue.append(v)\n",
    "\n",
    "    return visited\n",
    "            \n",
    "print([x for x in bfs_traverse(a)])\n",
    "print([x for x in bfs_traverse(f)])\n"
   ]
  },
  {
   "attachments": {},
   "cell_type": "markdown",
   "metadata": {},
   "source": [
    "### DFS vs BFS\n",
    "\n",
    "When we want to move far `away` quickly, we use death-first search.  \n",
    "When we want to stay `close` to the starting point, we use breadth-first search.  \n",
    "For example to find Alice's `direct` friends, we use DFS.  "
   ]
  },
  {
   "cell_type": "code",
   "execution_count": 7,
   "metadata": {},
   "outputs": [
    {
     "output_type": "stream",
     "name": "stdout",
     "text": [
      "Alice's direct friends: ['Bob', 'Candy', 'Derek', 'Elaine']\n",
      "Helen's direct friends: ['Candy', 'Fred']\n"
     ]
    }
   ],
   "source": [
    "def dfs_traverse2(vertex, visited=None, level=0):\n",
    "\n",
    "    if visited is None: \n",
    "        visited = []\n",
    "\n",
    "    if level == 2:\n",
    "        return visited # Look Here\n",
    "\n",
    "    if level > 0:\n",
    "        visited.append(vertex.value)\n",
    "\n",
    "    for v in vertex.adjacent_vertices:\n",
    "        if v.value in visited:\n",
    "            continue\n",
    "            \n",
    "        dfs_traverse2(v, visited, level+1) # recusion\n",
    "    return visited\n",
    "\n",
    "print('Alice\\'s direct friends:', [x for x in dfs_traverse2(a)])\n",
    "print('Helen\\'s direct friends:', [x for x in dfs_traverse2(h)])"
   ]
  },
  {
   "attachments": {},
   "cell_type": "markdown",
   "metadata": {},
   "source": [
    "### Weighted Graphs\n",
    "\n",
    "This type of graph adds additional information to the `edges` of the graph.  \n",
    "For example, here is a basic map of several major cities and the `distance` between them.  \n",
    "We can have weighted graphs that are `also` directional.  \n",
    "\n",
    "![](./images/graphs_weighted.png) ![](./images/graphs_weighted_directonal.png)\n"
   ]
  },
  {
   "cell_type": "code",
   "execution_count": 46,
   "metadata": {},
   "outputs": [
    {
     "name": "stdout",
     "output_type": "stream",
     "text": [
      "Dallas => {'Toronto': 138}\n",
      "Toronto => {'Dallas': 216}\n"
     ]
    }
   ],
   "source": [
    "class WeightedVertex:\n",
    "    def __init__(self, value):\n",
    "        self.value = value\n",
    "        self.adjacent_vertices = {}\n",
    "\n",
    "    def add_adjacent(self, vertex, price):\n",
    "        self.adjacent_vertices[vertex.value] = price\n",
    "\n",
    "d = WeightedVertex('Dallas')\n",
    "t = WeightedVertex('Toronto')\n",
    "\n",
    "d.add_adjacent(t, 138)\n",
    "t.add_adjacent(d, 216)\n",
    "\n",
    "print('Dallas =>', d.adjacent_vertices)\n",
    "print('Toronto =>', t.adjacent_vertices)"
   ]
  },
  {
   "attachments": {},
   "cell_type": "markdown",
   "metadata": {},
   "source": [
    "### Dijkstra's Algorithm / Shortest Path\n",
    "\n",
    "Weighted graphs also come with `powerfull` algorithms that different problems.  \n",
    "For example, if we want to find the `lower` cost for different flights paths.  \n",
    "\n",
    "This kind of puzzle is know as `shortest` path problem.  \n",
    "One of the most famous algorithm for this was discoverd by Edsger `Dijkstra` (1959).  \n",
    "\n",
    "We are going to find the `cheapest` prices from Atlanta to El Paso.  \n",
    "Also, at the end, we will have a free `bonus`, the cheapest prices from Atlanta to all cities.\n",
    "\n",
    "![](./images/graphs_dijkstra.png)"
   ]
  },
  {
   "cell_type": "code",
   "execution_count": 120,
   "metadata": {},
   "outputs": [
    {
     "output_type": "stream",
     "name": "stdout",
     "text": [
      "Atlanta {'Boston': 100, 'Denver': 160}\nBoston {'Chicago': 120, 'Denver': 180}\nChicago {'El Paso': 80}\nDenver {'Chicago': 40, 'El Paso': 140}\nEl Paso {'Boston': 100}\n"
     ]
    }
   ],
   "source": [
    "class City: # weighted graph vertex\n",
    "\n",
    "    def __init__(self, name):\n",
    "        self.name = name\n",
    "        self.routes = {}\n",
    "\n",
    "    def add_route(self, city, price):\n",
    "        self.routes[city.name] = price\n",
    "\n",
    "a = City('Atlanta')\n",
    "b = City('Boston')\n",
    "c = City('Chicago')\n",
    "d = City('Denver')\n",
    "e = City('El Paso')\n",
    "\n",
    "a.add_route(b, 100); a.add_route(d, 160)\n",
    "b.add_route(c, 120); b.add_route(d, 180)\n",
    "c.add_route(e, 80)\n",
    "d.add_route(c, 40); d.add_route(e, 140)\n",
    "e.add_route(b, 100)\n",
    "\n",
    "Cites = {'Atlanta': a, 'Boston': b, 'Chicago': c, 'Denver': d, 'El Paso': e}\n",
    "\n",
    "for name, obj in Cites.items(): \n",
    "    print(name, obj.routes)"
   ]
  },
  {
   "cell_type": "code",
   "execution_count": 118,
   "metadata": {},
   "outputs": [
    {
     "output_type": "stream",
     "name": "stdout",
     "text": [
      "Cheapest Atlanta => {'Atlanta': 0, 'Boston': 100, 'Denver': 160, 'Chicago': 200, 'El Paso': 280}\nCheapest Boston => {'Boston': 0, 'Chicago': 120, 'Denver': 180, 'El Paso': 200}\n"
     ]
    }
   ],
   "source": [
    "\"\"\"\n",
    "    The CORE algorithm /\n",
    "    Get the cheapest table, containing all the cheapest prices \n",
    "    to get to each city from the STARTING point\n",
    "\"\"\"\n",
    "\n",
    "def dijkstra_cheapest_prices(starting_city, debug=False):\n",
    "    \n",
    "    C = {} # Cheapest prices (table)\n",
    "    U = [] # Unvisited cities (list)\n",
    "    V = [] # Visited cities (list)\n",
    "\n",
    "    current = starting_city\n",
    "    C[current.name] = 0 # The price to itself is 0\n",
    "\n",
    "    # Loop as long as we have unvisited cities\n",
    "    while current:\n",
    "\n",
    "        if debug: print('\\nCurrent:', current.name)\n",
    "        \n",
    "        V.append(current.name)\n",
    "\n",
    "        if current.name in U:\n",
    "            U.remove(current.name)\n",
    "\n",
    "        # Loop adjacent cities\n",
    "        for name, price in current.routes.items():\n",
    "\n",
    "            if debug: print(' Adjacent:', name, price)\n",
    "            \n",
    "            if name not in V:\n",
    "                U.append(name)\n",
    "\n",
    "            # Price of getting from STARTING to ADJACENT city \n",
    "            # using CURRENT city as the second-to-last stop:\n",
    "            price_through_current_city = C[current.name] + price\n",
    "\n",
    "            # If the price is the cheapest one we've found so far:\n",
    "            if name not in C or price_through_current_city < C[name]:\n",
    "                C[name] = price_through_current_city\n",
    "                \n",
    "            if debug: print('  ', starting_city.name, '=>', name, '/ chepest =', C[name])\n",
    "\n",
    "        # Break the loop when there are no more unvisited cities\n",
    "        if len(U) == 0:    \n",
    "            break       \n",
    "        \n",
    "        # Set next unvisited city, the cheapest one\n",
    "        current_name = min(U, key=lambda city: C[city])\n",
    "        current = Cites[current_name]\n",
    "    \n",
    "    return C\n",
    "\n",
    "cheapest = dijkstra_cheapest_prices(a)\n",
    "print(\"Cheapest Atlanta =>\", cheapest)\n",
    "\n",
    "cheapest = dijkstra_cheapest_prices(b)\n",
    "print(\"Cheapest Boston =>\", cheapest)"
   ]
  },
  {
   "cell_type": "code",
   "execution_count": 132,
   "metadata": {},
   "outputs": [
    {
     "output_type": "stream",
     "name": "stdout",
     "text": [
      "['Atlanta', 'Boston']\n['Atlanta', 'Denver', 'Chicago']\n['Atlanta', 'Denver']\n['Atlanta', 'Denver', 'Chicago', 'El Paso']\n['Atlanta', 'Denver', 'Chicago', 'El Paso'] 280\n['El Paso', 'Boston', 'Denver'] 280\n"
     ]
    }
   ],
   "source": [
    "def dijkstra_shortest_path(starting_city, destination):\n",
    "\n",
    "    C = {} # Cheapest prices (table)\n",
    "    U = [] # Unvisited cities (list)\n",
    "    V = [] # Visited cities (list)\n",
    "    P = {} # Cheapest previous stopover city (table) - Look Here\n",
    "\n",
    "    current = starting_city\n",
    "    C[current.name] = 0 # The price to itself is 0\n",
    "\n",
    "    # Loop as long as we have unvisited cities\n",
    "    while current:        \n",
    "        V.append(current.name)\n",
    "\n",
    "        if current.name in U:\n",
    "            U.remove(current.name)\n",
    "\n",
    "        # Loop adjacent cities\n",
    "        for name, price in current.routes.items():\n",
    "            \n",
    "            if name not in V:\n",
    "                U.append(name)\n",
    "\n",
    "            # Price of getting from STARTING to ADJACENT city \n",
    "            # using CURRENT city as the second-to-last stop:\n",
    "            price_through_current_city = C[current.name] + price\n",
    "\n",
    "            # If the price is the cheapest one we've found so far:\n",
    "            if name not in C or price_through_current_city < C[name]:\n",
    "\n",
    "                C[name] = price_through_current_city\n",
    "                P[name] = current.name # Look Here\n",
    "                \n",
    "        # Break the loop when there are no more unvisited cities\n",
    "        if len(U) == 0:    \n",
    "            break       \n",
    "        \n",
    "        # Set next unvisited city, the cheapest one\n",
    "        current_name = min(U, key=lambda city: C[city])\n",
    "        current = Cites[current_name]\n",
    "       \n",
    "    # We have completed the core algorithm.\n",
    "    # At this point, the cheapest table contains all the cheapest prices \n",
    "    # to get to each city from the STARTING point\n",
    "\n",
    "    # We build the shortest path using an array:\n",
    "    shortest_path = []\n",
    "\n",
    "    # Work backwords from final destination\n",
    "    current_name = destination.name\n",
    "\n",
    "    # Loop until we reach the starting city:\n",
    "    while current_name != starting_city.name:\n",
    "\n",
    "        # Add each current_name to shortest_path\n",
    "        shortest_path.append(current_name)\n",
    "\n",
    "        # Follow each city to its previous stopover city\n",
    "        current_name = P[current_name]\n",
    "\n",
    "    # Add the starting city to the path\n",
    "    shortest_path.append(starting_city.name)\n",
    "\n",
    "    # We reverse the path to see it from beginning to end\n",
    "    return list(reversed(shortest_path))\n",
    " \n",
    "print(dijkstra_shortest_path(a, b))\n",
    "print(dijkstra_shortest_path(a, c))\n",
    "print(dijkstra_shortest_path(a, d))\n",
    "print(dijkstra_shortest_path(a, e))\n",
    "\n",
    "print(dijkstra_shortest_path(a, e), dijkstra_cheapest_prices(a)['El Paso'])\n",
    "print(dijkstra_shortest_path(e, d), dijkstra_cheapest_prices(e)['Denver'])"
   ]
  }
 ],
 "metadata": {
  "kernelspec": {
   "name": "python3",
   "display_name": "Python 3.9.8 64-bit"
  },
  "language_info": {
   "codemirror_mode": {
    "name": "ipython",
    "version": 3
   },
   "file_extension": ".py",
   "mimetype": "text/x-python",
   "name": "python",
   "nbconvert_exporter": "python",
   "pygments_lexer": "ipython3",
   "version": "3.9.8"
  },
  "orig_nbformat": 4,
  "interpreter": {
   "hash": "0d008810b9c8467bcb3ca39aa2180e5b81b3a9acb136aab30d47954377cc5120"
  }
 },
 "nbformat": 4,
 "nbformat_minor": 2
}
