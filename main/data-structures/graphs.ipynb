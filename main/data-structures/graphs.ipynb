{
 "cells": [
  {
   "attachments": {},
   "cell_type": "markdown",
   "metadata": {},
   "source": [
    "### Trees\n",
    "\n",
    "While all tree are graphs, `not` all graphs are tree.  \n",
    "A graph is a tree when it has `no` cycles.  \n",
    "In a graphs all nodes must be `connected`. "
   ]
  },
  {
   "attachments": {},
   "cell_type": "markdown",
   "metadata": {},
   "source": [
    "### Graphs\n",
    "\n",
    "A graphs is a data structure specialized in `relationships`.  \n",
    "For example, in a social network, each person is represented by a `node`.  \n",
    "Each `line` represents a friendship with another person.  \n",
    "Using a `hash` table, we can look up for friends in O(1) steps."
   ]
  },
  {
   "cell_type": "code",
   "execution_count": 11,
   "metadata": {},
   "outputs": [
    {
     "name": "stdout",
     "output_type": "stream",
     "text": [
      "['Bob', 'Diana', 'Fred']\n"
     ]
    }
   ],
   "source": [
    "friends = {\n",
    "    'Alice': ['Bob', 'Diana', 'Fred'],\n",
    "    'Bob': ['Alice', 'Cynthia', 'Diana'],\n",
    "    'Cynthia': ['Bob'],\n",
    "    'Diana': ['Alice', 'Bob', 'Fred'],\n",
    "    'Elise': ['Fred'],\n",
    "    'Fred': ['Alice', 'Diana', 'Elise'],\n",
    "}\n",
    "\n",
    "print(friends['Alice']) # O(1) time complexity"
   ]
  },
  {
   "attachments": {},
   "cell_type": "markdown",
   "metadata": {},
   "source": [
    "### Directed Graphs\n",
    "\n",
    "Relationships are `not` always mutual.  \n",
    "For example Alice may follow Bob, but Bob `doesn't` have to follow Alice.  "
   ]
  },
  {
   "cell_type": "code",
   "execution_count": 12,
   "metadata": {},
   "outputs": [],
   "source": [
    "followees = {\n",
    "    'Alice': ['Bob', 'Diana'],\n",
    "    'Bob': ['Cynthia'],\n",
    "    'Cynthia': ['Bob'],\n",
    "}\n",
    "\n",
    "assert 'Bob' in followees['Alice']\n",
    "assert 'Alice' not in followees['Bob']"
   ]
  },
  {
   "attachments": {},
   "cell_type": "markdown",
   "metadata": {},
   "source": [
    "### Object Oriented Graph\n",
    "\n",
    "We can `implement` a grapsh using an object oriented approach.  \n",
    "In graph's technical jargon, each node is called a `vertex`.  \n",
    "The line between the nodes (vertices) are called `edges`.  "
   ]
  },
  {
   "cell_type": "code",
   "execution_count": 14,
   "metadata": {},
   "outputs": [],
   "source": [
    "class Vertex:\n",
    "    def __init__(self, val):\n",
    "        self.value = val\n",
    "        self.adjacent_vertices = []\n",
    "\n",
    "    def add_adjacent(vertex):\n",
    "        self.adjacent_vertices.append(vertex)"
   ]
  }
 ],
 "metadata": {
  "kernelspec": {
   "display_name": "Python 3",
   "language": "python",
   "name": "python3"
  },
  "language_info": {
   "codemirror_mode": {
    "name": "ipython",
    "version": 3
   },
   "file_extension": ".py",
   "mimetype": "text/x-python",
   "name": "python",
   "nbconvert_exporter": "python",
   "pygments_lexer": "ipython3",
   "version": "3.9.7"
  },
  "orig_nbformat": 4
 },
 "nbformat": 4,
 "nbformat_minor": 2
}
