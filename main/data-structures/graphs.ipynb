{
 "cells": [
  {
   "attachments": {},
   "cell_type": "markdown",
   "metadata": {},
   "source": [
    "### Trees\n",
    "\n",
    "While all tree are graphs, `not` all graphs are tree.  \n",
    "A graph is a tree when it has `no` cycles.  \n",
    "In a graphs all nodes must be `connected`. "
   ]
  },
  {
   "attachments": {},
   "cell_type": "markdown",
   "metadata": {},
   "source": [
    "### Graphs\n",
    "\n",
    "A graphs is a data structure specialized in `relationships`.  \n",
    "Using a `hash` table, we can make lookups in O(1) steps.  \n",
    "\n",
    "For example, in a social network, each person is represented by a `node`.  \n",
    "Each `line` represents a friendship with another person.  \n",
    "\n",
    "![](./images/graphs_friendship.png)"
   ]
  },
  {
   "cell_type": "code",
   "execution_count": 30,
   "metadata": {},
   "outputs": [
    {
     "name": "stdout",
     "output_type": "stream",
     "text": [
      "['Bob', 'Diana', 'Fred']\n"
     ]
    }
   ],
   "source": [
    "friends = {\n",
    "    'Alice': ['Bob', 'Diana', 'Fred'],\n",
    "    'Bob': ['Alice', 'Cynthia', 'Diana'],\n",
    "    'Cynthia': ['Bob'],\n",
    "    'Diana': ['Alice', 'Bob', 'Fred'],\n",
    "    'Elise': ['Fred'],\n",
    "    'Fred': ['Alice', 'Diana', 'Elise'],\n",
    "}\n",
    "\n",
    "print(friends['Alice'])"
   ]
  },
  {
   "attachments": {},
   "cell_type": "markdown",
   "metadata": {},
   "source": [
    "### Directed Graphs\n",
    "\n",
    "Relationships are `not` always mutual.  \n",
    "For example Alice may follow Bob, but Bob `doesn't` have to follow Alice.  \n",
    "\n",
    "![directed graphs](./images/graphs_directed.png)"
   ]
  },
  {
   "cell_type": "code",
   "execution_count": 31,
   "metadata": {},
   "outputs": [],
   "source": [
    "followees = {\n",
    "    'Alice': ['Bob', 'Diana'],\n",
    "    'Bob': ['Cynthia'],\n",
    "    'Cynthia': ['Bob'],\n",
    "}\n",
    "\n",
    "assert 'Bob' in followees['Alice']\n",
    "assert 'Alice' not in followees['Bob']"
   ]
  },
  {
   "attachments": {},
   "cell_type": "markdown",
   "metadata": {},
   "source": [
    "### Object Oriented Graph\n",
    "\n",
    "In graph's technical jargon, each node is called a `vertex`.  \n",
    "The line between the nodes (vertices) are called `edges`.  \n",
    "\n",
    "We can `implement` a graph using an object oriented approach.  \n",
    "In our social network example, each `vertex` represents a person.  \n",
    "\n",
    "The `value` might be a string with the person's name.  \n",
    "The `vertices` list contains all the vertices this vertex connects to.  \n",
    "\n",
    "![](./images/graphs_oo.png)"
   ]
  },
  {
   "cell_type": "code",
   "execution_count": 32,
   "metadata": {},
   "outputs": [
    {
     "name": "stdout",
     "output_type": "stream",
     "text": [
      "Alice vertices: ['Bob', 'Cynthia']\n",
      "Bob vertices: ['Alice', 'Cynthia']\n"
     ]
    }
   ],
   "source": [
    "class Vertex:\n",
    "    def __init__(self, name):\n",
    "        self.value = name\n",
    "        self.adjacent_vertices = []\n",
    "\n",
    "    def add_adjacent(self, vertex):\n",
    "        self.adjacent_vertices.append(vertex)\n",
    "\n",
    "        # if the friendship is mutual, we automatically add self vertix\n",
    "        if self not in vertex.adjacent_vertices:\n",
    "            vertex.adjacent_vertices.append(self)\n",
    "\n",
    "a = Vertex('Alice')\n",
    "b = Vertex('Bob')\n",
    "c = Vertex('Cynthia')\n",
    "\n",
    "a.add_adjacent(b)\n",
    "a.add_adjacent(c)\n",
    "b.add_adjacent(c)\n",
    "c.add_adjacent(b)\n",
    "\n",
    "print('Alice vertices:', [x.value for x in a.adjacent_vertices])\n",
    "print('Bob vertices:', [x.value for x in b.adjacent_vertices])"
   ]
  },
  {
   "attachments": {},
   "cell_type": "markdown",
   "metadata": {},
   "source": [
    "### Graph Search\n",
    "\n",
    "One of the `most` common operations is searching for a particular vertex.  \n",
    "When applied to graphs, the term search usually has a more `specific` connotation.  \n",
    "\n",
    "If we have access to a vertex, we are trying to find our `way` to another vertex.  \n",
    "We can have multiple `paths` from a vertex to another."
   ]
  },
  {
   "attachments": {},
   "cell_type": "markdown",
   "metadata": {},
   "source": [
    "### Depth First Search / Traversal\n",
    "\n",
    "The algorithm is quite similar with the binary tree `traversal`.  \n",
    "The key to any graph search algorithm is keeping `track` of the visited vertex.  \n",
    "Otherwise we can end up in an `infinite` cycle.\n",
    "\n",
    "![dfs](./images/graphs_dfs.png)\n"
   ]
  },
  {
   "cell_type": "code",
   "execution_count": 44,
   "metadata": {},
   "outputs": [
    {
     "name": "stdout",
     "output_type": "stream",
     "text": [
      "['Alice', 'Bob', 'Fred', 'Helen', 'Candy', 'Derek', 'Elaine', 'Gina', 'Irena']\n",
      "['Fred', 'Bob', 'Alice', 'Candy', 'Helen', 'Derek', 'Elaine', 'Gina', 'Irena']\n"
     ]
    }
   ],
   "source": [
    "class Vertex:\n",
    "    def __init__(self, name):\n",
    "        self.value = name\n",
    "        self.adjacent_vertices = []\n",
    "\n",
    "    def add(self, vertex):\n",
    "        self.adjacent_vertices.append(vertex)\n",
    "\n",
    "        if self not in vertex.adjacent_vertices: # mutual \n",
    "            vertex.adjacent_vertices.append(self)\n",
    "\n",
    "        return self\n",
    "\n",
    "a = Vertex('Alice')\n",
    "b = Vertex('Bob')\n",
    "c = Vertex('Candy')\n",
    "d = Vertex('Derek')\n",
    "e = Vertex('Elaine')\n",
    "f = Vertex('Fred')\n",
    "g = Vertex('Gina')\n",
    "h = Vertex('Helen')\n",
    "i = Vertex('Irena')\n",
    "\n",
    "a.add(b).add(c).add(d).add(e)\n",
    "b.add(f); c.add(h); d.add(e).add(g); e.add(d)\n",
    "f.add(h)\n",
    "g.add(i)\n",
    "h.add(c)\n",
    "\n",
    "\n",
    "def dfs_traverse(vertex, visited=[]):\n",
    "    visited.append(vertex.value)\n",
    "\n",
    "    for v in vertex.adjacent_vertices:\n",
    "        if v.value in visited:\n",
    "            continue\n",
    "\n",
    "        dfs_traverse(v, visited) # recusion\n",
    "    return visited\n",
    "\n",
    "print([x for x in dfs_traverse(a)])\n",
    "print([x for x in dfs_traverse(f, visited=[]) ])"
   ]
  },
  {
   "attachments": {},
   "cell_type": "markdown",
   "metadata": {},
   "source": [
    "### Depth First Search / DFS\n",
    "\n",
    "We can actually search for a `particular` vertex. "
   ]
  },
  {
   "cell_type": "code",
   "execution_count": 37,
   "metadata": {},
   "outputs": [
    {
     "name": "stdout",
     "output_type": "stream",
     "text": [
      "Helen = <__main__.Vertex object at 0x7f14e9f3bc40>\n",
      "Derek = <__main__.Vertex object at 0x7f14e9fbbd90>\n",
      "Unknown = None\n"
     ]
    }
   ],
   "source": [
    "def dfs(vertex, search_value, visited=[]):\n",
    "\n",
    "    # Return the original vertex if it happens to be the one we are searching for:\n",
    "    if vertex.value == search_value:\n",
    "        return vertex\n",
    "\n",
    "    visited.append(vertex.value)\n",
    "\n",
    "    for v in vertex.adjacent_vertices:\n",
    "        if v.value in visited:\n",
    "            continue\n",
    "        \n",
    "        # Return the adjacent value if is the one we are searcing for:\n",
    "        if v.value == search_value:\n",
    "            return v\n",
    "\n",
    "        search_vertex = dfs(v, search_value, visited) # recusion\n",
    "\n",
    "        if search_vertex != None:\n",
    "            return search_vertex\n",
    "\n",
    "    return None\n",
    "\n",
    "print('Helen =', dfs(a, 'Helen'))\n",
    "print('Derek =', dfs(a, 'Derek'))\n",
    "print('Unknown =', dfs(a, 'Unknown'))\n"
   ]
  },
  {
   "attachments": {},
   "cell_type": "markdown",
   "metadata": {},
   "source": [
    "### Breadth First Search / Traversal\n",
    "\n",
    "Unlike DFS, BFS doesn't use recursion, it uses `queue`.  \n",
    "The queue is a `FIFO` data structure (what goes first, comes out first).   \n",
    "\n",
    "We can start at `any` vertex within the graph.  \n",
    "Run a `loop` while the queue is not empty.\n",
    "\n",
    "![bfs](./images/graphs_bfs.png)"
   ]
  },
  {
   "cell_type": "code",
   "execution_count": 38,
   "metadata": {},
   "outputs": [
    {
     "name": "stdout",
     "output_type": "stream",
     "text": [
      "['Alice', 'Bob', 'Candy', 'Derek', 'Elaine', 'Fred', 'Helen', 'Gina', 'Irena']\n",
      "['Fred', 'Bob', 'Helen', 'Alice', 'Candy', 'Derek', 'Elaine', 'Gina', 'Irena']\n"
     ]
    }
   ],
   "source": [
    "from collections import deque\n",
    "\n",
    "def bfs_traverse(starting_vertex):\n",
    "    queue = deque()\n",
    "\n",
    "    visited = []\n",
    "    visited.append(starting_vertex.value)\n",
    "\n",
    "    # Add starting vertex to the queue\n",
    "    queue.append(starting_vertex)\n",
    "    \n",
    "    # While queue is not empty\n",
    "    while bool(queue) == True:\n",
    "\n",
    "        # Remove the first vertex and make it the current vertex\n",
    "        current_vertex = queue.popleft()\n",
    "\n",
    "        # Iterate over adjacent vertices\n",
    "        for v in current_vertex.adjacent_vertices:\n",
    "            if v.value in visited:\n",
    "                continue\n",
    "            \n",
    "            # Add adjacent vertex to visited\n",
    "            visited.append(v.value)\n",
    "\n",
    "            # Add adjacent vertex to queue\n",
    "            queue.append(v)\n",
    "\n",
    "    return visited\n",
    "            \n",
    "print([x for x in bfs_traverse(a)])\n",
    "print([x for x in bfs_traverse(f)])\n"
   ]
  }
 ],
 "metadata": {
  "kernelspec": {
   "display_name": "Python 3",
   "language": "python",
   "name": "python3"
  },
  "language_info": {
   "codemirror_mode": {
    "name": "ipython",
    "version": 3
   },
   "file_extension": ".py",
   "mimetype": "text/x-python",
   "name": "python",
   "nbconvert_exporter": "python",
   "pygments_lexer": "ipython3",
   "version": "3.9.7"
  },
  "orig_nbformat": 4
 },
 "nbformat": 4,
 "nbformat_minor": 2
}
