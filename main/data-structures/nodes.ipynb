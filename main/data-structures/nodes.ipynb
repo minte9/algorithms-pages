{
 "cells": [
  {
   "attachments": {},
   "cell_type": "markdown",
   "metadata": {},
   "source": [
    "## Node-Based / Data Structures ✨ Algorithms \n",
    "\n",
    "Connected data dispersed through memory are name `nodes`.  \n",
    "In a linked list, each node represents an `item` in the list.  \n",
    "Each node has an extran information, the memory address of the `next` node in the list."
   ]
  },
  {
   "cell_type": "code",
   "execution_count": 70,
   "metadata": {},
   "outputs": [
    {
     "name": "stdout",
     "output_type": "stream",
     "text": [
      "once upon\n",
      "a time\n"
     ]
    }
   ],
   "source": [
    "class Node:\n",
    "    def __init__(self, data):\n",
    "        self.data = data\n",
    "        self.nextNode = None\n",
    "\n",
    "node1 = Node(\"once\")\n",
    "node2 = Node(\"upon\")\n",
    "node3 = Node(\"a\")\n",
    "node4 = Node(\"time\")\n",
    "\n",
    "node1.nextNode = node2\n",
    "node2.nextNode = node3\n",
    "node3.nextNode = node4\n",
    "\n",
    "# Output nodes\n",
    "print(node1.data, node1.nextNode.data)\n",
    "print(node3.data, node3.nextNode.data)"
   ]
  },
  {
   "attachments": {},
   "cell_type": "markdown",
   "metadata": {},
   "source": [
    "## Linked Lists / Reading / O(N)\n",
    "\n",
    "In a linked list, each node represents an `item` in the list.  \n",
    "With linked lists, we only have access to its `first` node.  "
   ]
  },
  {
   "cell_type": "code",
   "execution_count": 71,
   "metadata": {},
   "outputs": [
    {
     "name": "stdout",
     "output_type": "stream",
     "text": [
      "once\n",
      "upon\n",
      "a\n",
      "time\n"
     ]
    }
   ],
   "source": [
    "class LinkedList:\n",
    "    def __init__(self, firstNode):\n",
    "        self.firstNode = firstNode\n",
    "\n",
    "    def read(self, i):\n",
    "        node = self.firstNode\n",
    "        index = 0\n",
    "\n",
    "        while index < i:\n",
    "            index += 1\n",
    "            node = node.nextNode\n",
    "\n",
    "        return node \n",
    "\n",
    "# New list \n",
    "list = LinkedList(node1)\n",
    "\n",
    "# Output values\n",
    "print(list.read(0).data)\n",
    "print(list.read(1).data)\n",
    "print(list.read(2).data)\n",
    "print(list.read(3).data)"
   ]
  },
  {
   "attachments": {},
   "cell_type": "markdown",
   "metadata": {},
   "source": [
    "## Linked Lists / Searching / O(N)\n",
    "\n",
    "As in array, linked lists also have a `O(N)` speed."
   ]
  },
  {
   "cell_type": "code",
   "execution_count": 72,
   "metadata": {},
   "outputs": [
    {
     "name": "stdout",
     "output_type": "stream",
     "text": [
      "3\n"
     ]
    }
   ],
   "source": [
    "class LinkedList:\n",
    "    def __init__(self, firstNode):\n",
    "        self.firstNode = firstNode\n",
    "\n",
    "    def index_of(self, value):\n",
    "        node = self.firstNode\n",
    "        index = 0\n",
    "\n",
    "        while node != None:\n",
    "            if node.data == value:\n",
    "                return index\n",
    "            \n",
    "            node = node.nextNode\n",
    "            index += 1\n",
    "\n",
    "        return None\n",
    "\n",
    "# New list \n",
    "list = LinkedList(node1)\n",
    "\n",
    "# Search index\n",
    "index = list.index_of(\"time\")\n",
    "\n",
    "# Output index\n",
    "print(index)"
   ]
  },
  {
   "attachments": {},
   "cell_type": "markdown",
   "metadata": {},
   "source": [
    "## Linked Lists / Inserting / O(1)\n",
    "\n",
    "Linked lists are great on inserting at the `beginning` of the list.  \n",
    "It takes O(1) steps, which is `better` than in arrays."
   ]
  },
  {
   "cell_type": "code",
   "execution_count": 73,
   "metadata": {},
   "outputs": [
    {
     "name": "stdout",
     "output_type": "stream",
     "text": [
      "start\n",
      "once\n",
      "upon\n",
      "a\n",
      "purple\n",
      "time\n"
     ]
    }
   ],
   "source": [
    "class LinkedList:\n",
    "    def __init__(self, firstNode):\n",
    "        self.firstNode = firstNode\n",
    "\n",
    "    def read(self, i):\n",
    "        node = self.firstNode\n",
    "        index = 0\n",
    "\n",
    "        while index < i:\n",
    "            index += 1\n",
    "            node = node.nextNode\n",
    "        \n",
    "        return node \n",
    "        \n",
    "    def insert(self, i, value):\n",
    "        newNode = Node(value)\n",
    "\n",
    "        # We are inserting at the beginning\n",
    "        if i == 0:\n",
    "            newNode.nextNode = self.firstNode \n",
    "            self.firstNode = newNode # O(1) / Look Here\n",
    "            return\n",
    "\n",
    "        # We are inserting anywhere other than beggining\n",
    "        currNode = self.firstNode\n",
    "        currIndex = 0\n",
    "\n",
    "        # Find the node before where the new node will go\n",
    "        while currIndex < i-1:\n",
    "            currNode = currNode.nextNode\n",
    "            currIndex += 1\n",
    "        \n",
    "        # Set new node next link\n",
    "        newNode.nextNode = currNode.nextNode\n",
    "        \n",
    "        # Modify the link of the previus node\n",
    "        currNode.nextNode = newNode\n",
    "        return\n",
    "\n",
    "# New list \n",
    "list = LinkedList(node1)\n",
    "\n",
    "# Insert at index\n",
    "list.insert(0, \"start\")\n",
    "list.insert(4, \"purple\")\n",
    "\n",
    "# Output values\n",
    "print(list.read(0).data)\n",
    "print(list.read(1).data)\n",
    "print(list.read(2).data)\n",
    "print(list.read(3).data)\n",
    "print(list.read(4).data)\n",
    "print(list.read(5).data)"
   ]
  },
  {
   "attachments": {},
   "cell_type": "markdown",
   "metadata": {},
   "source": [
    "## Linked Lists / Deletion / O(1)\n",
    "\n",
    "Again, deleting from the `beginning` of the list takes only one step."
   ]
  },
  {
   "cell_type": "code",
   "execution_count": 74,
   "metadata": {},
   "outputs": [
    {
     "name": "stdout",
     "output_type": "stream",
     "text": [
      "once\n",
      "upon\n",
      "a\n",
      "time \n",
      "\n",
      "Delete from beggining:\n",
      "Before delete, list.read(0) = once\n",
      "After delete, list.read(0) = upon \n",
      "\n",
      "Delete from middle:\n",
      "Before delete, list.read(1) = a\n",
      "After delete, list.read(1) = time\n"
     ]
    }
   ],
   "source": [
    "class Node:\n",
    "    def __init__(self, data):\n",
    "        self.data = data\n",
    "        self.nextNode = None\n",
    "\n",
    "node1 = Node(\"once\")\n",
    "node2 = Node(\"upon\")\n",
    "node3 = Node(\"a\")\n",
    "node4 = Node(\"time\")\n",
    "\n",
    "node1.nextNode = node2\n",
    "node2.nextNode = node3\n",
    "node3.nextNode = node4\n",
    "\n",
    "# Output nodes\n",
    "print(node1.data)\n",
    "print(node2.data)\n",
    "print(node3.data)\n",
    "print(node4.data, \"\\n\")\n",
    "\n",
    "class LinkedList:\n",
    "    def __init__(self, firstNode):\n",
    "        self.firstNode = firstNode\n",
    "\n",
    "    def read(self, i):\n",
    "        node = self.firstNode\n",
    "        index = 0\n",
    "\n",
    "        while index < i:\n",
    "            index += 1\n",
    "            node = node.nextNode\n",
    "        \n",
    "        return node \n",
    "\n",
    "    def delete(self, i):\n",
    "        if i == 0:\n",
    "            self.firstNode = self.firstNode.nextNode # O(1)\n",
    "            return\n",
    "\n",
    "        currNode = self.firstNode\n",
    "        currIndex = 0\n",
    "\n",
    "        # Node before the one we want to delete\n",
    "        while currIndex < i-1:            \n",
    "            currNode = currNode.nextNode\n",
    "            currIndex += 1\n",
    "\n",
    "        # Node after the one we want to delete\n",
    "        nodeAfterDeletedNode = currNode.nextNode.nextNode\n",
    "\n",
    "        # Leave the node we want to delete out of the list\n",
    "        currNode.nextNode = nodeAfterDeletedNode\n",
    "\n",
    "\n",
    "# New list \n",
    "list = LinkedList(node1)\n",
    "\n",
    "# Beggining\n",
    "print(\"Delete from beggining:\")\n",
    "print(\"Before delete, list.read(0) =\", list.read(0).data); list.delete(0) # once\n",
    "print(\"After delete, list.read(0) =\", list.read(0).data, \"\\n\") # upon\n",
    "\n",
    "# Middle\n",
    "print(\"Delete from middle:\")\n",
    "print(\"Before delete, list.read(1) =\", list.read(1).data); list.delete(1) # time\n",
    "print(\"After delete, list.read(1) =\", list.read(1).data) # purple"
   ]
  },
  {
   "attachments": {},
   "cell_type": "markdown",
   "metadata": {},
   "source": [
    "## Linked Lists / Efficiency \n",
    "\n",
    "Linked lists are amazing data structure when making `insertion` and deletion.  \n",
    "We don't need to worry about `shifting` other data.  \n",
    "We can simple change a node's link to `point` to the one we want.\n",
    "\n",
    "-- Array --   \n",
    "\n",
    "Reading:    O(1)  \n",
    "Searching:  O(N)  \n",
    "Insertion:  O(N), O(1) at end   \n",
    "Deletion:   O(N), O(1) at end   \n",
    "\n",
    "-- Linked List --   \n",
    "\n",
    "Reading:    O(N)  \n",
    "Searching:  O(N)  \n",
    "Insertion:  O(N), O(1) at beggining  \n",
    "Deletion:   O(N), O(1) at beggining  "
   ]
  },
  {
   "attachments": {},
   "cell_type": "markdown",
   "metadata": {},
   "source": [
    "## Double Linked Lists\n",
    "\n",
    "It is a linked list with `two` links that points to the previous and next node.  \n",
    "Insertion and deletion at the beggining and end takes `O(1)` steps.  "
   ]
  },
  {
   "cell_type": "code",
   "execution_count": 109,
   "metadata": {},
   "outputs": [
    {
     "name": "stdout",
     "output_type": "stream",
     "text": [
      "Node1 = once | Next = upon\n",
      "Node2 = upon | Prev = once | Next = a\n",
      "Node3 = a | Prev = upon | Next = time\n",
      "Node4 = time | Prev = a \n",
      "\n",
      "Double Linked List | Insert at the end:\n",
      "Node4 = time | Prev = a | Next = purple\n"
     ]
    }
   ],
   "source": [
    "class Node:\n",
    "    def __init__(self, data):\n",
    "        self.data = data\n",
    "        self.next = None\n",
    "        self.prev = None\n",
    "\n",
    "class DoubleLinkedList:\n",
    "    def __init__(self, first, last):\n",
    "        self.first = first\n",
    "        self.last = last\n",
    "\n",
    "    def insert_at_end(self, value):\n",
    "        newNode = Node(value)\n",
    "\n",
    "        newNode.prev = self.last\n",
    "        self.last.next = newNode\n",
    "        self.last = newNode\n",
    "\n",
    "node1 = Node(\"once\")\n",
    "node2 = Node(\"upon\")\n",
    "node3 = Node(\"a\")\n",
    "node4 = Node(\"time\")\n",
    "\n",
    "node1.next = node2\n",
    "node2.next = node3\n",
    "node3.next = node4\n",
    "\n",
    "node2.prev = node1\n",
    "node3.prev = node2\n",
    "node4.prev = node3\n",
    "\n",
    "# Output nodes (prev, next)\n",
    "print(\"Node1 =\", node1.data, \"| Next =\", node1.next.data)\n",
    "print(\"Node2 =\", node2.data, \"| Prev =\", node2.prev.data, \"| Next =\", node2.next.data)\n",
    "print(\"Node3 =\", node3.data, \"| Prev =\", node3.prev.data, \"| Next =\", node3.next.data)\n",
    "print(\"Node4 =\", node4.data, \"| Prev =\", node4.prev.data, \"\\n\")\n",
    "\n",
    "# New list\n",
    "list = DoubleLinkedList(node1, node4)\n",
    "\n",
    "# Insert at end\n",
    "list.insert_at_end(\"purple\")\n",
    "\n",
    "# Output node 4\n",
    "print(\"Double Linked List | Insert at the end:\")\n",
    "print(\"Node4 =\", node4.data, \"| Prev =\", node4.prev.data, \"| Next =\", node4.next.data)"
   ]
  }
 ],
 "metadata": {
  "kernelspec": {
   "display_name": "Python 3",
   "language": "python",
   "name": "python3"
  },
  "language_info": {
   "codemirror_mode": {
    "name": "ipython",
    "version": 3
   },
   "file_extension": ".py",
   "mimetype": "text/x-python",
   "name": "python",
   "nbconvert_exporter": "python",
   "pygments_lexer": "ipython3",
   "version": "3.9.7"
  },
  "orig_nbformat": 4
 },
 "nbformat": 4,
 "nbformat_minor": 2
}
