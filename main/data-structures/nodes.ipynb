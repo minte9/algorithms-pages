{
 "cells": [
  {
   "attachments": {},
   "cell_type": "markdown",
   "metadata": {},
   "source": [
    "## Node-Based / Data Structures ✨ Algorithms "
   ]
  },
  {
   "attachments": {},
   "cell_type": "markdown",
   "metadata": {},
   "source": [
    "## Nodes\n",
    "\n",
    "Connected data dispersed through memory are name `nodes`.  \n",
    "In a linked list, each node represents an `item` in the list.  \n",
    "Each node has an extran information, the memory address of the `next` node in the list."
   ]
  },
  {
   "cell_type": "code",
   "execution_count": 8,
   "metadata": {},
   "outputs": [
    {
     "name": "stdout",
     "output_type": "stream",
     "text": [
      "once upon\n",
      "a time\n"
     ]
    }
   ],
   "source": [
    "class Node:\n",
    "    def __init__(self, data):\n",
    "        self.data = data\n",
    "        self.nextNode = None\n",
    "\n",
    "node1 = Node(\"once\")\n",
    "node2 = Node(\"upon\")\n",
    "node3 = Node(\"a\")\n",
    "node4 = Node(\"time\")\n",
    "\n",
    "node1.nextNode = node2\n",
    "node2.nextNode = node3\n",
    "node3.nextNode = node4\n",
    "\n",
    "print(node1.data, node1.nextNode.data)\n",
    "print(node3.data, node3.nextNode.data)\n"
   ]
  },
  {
   "attachments": {},
   "cell_type": "markdown",
   "metadata": {},
   "source": [
    "## Linked Lists\n",
    "\n",
    "In a linked list, each node represents an `item` in the list.  \n",
    "With linked lists, we only have access to its `first` node.  "
   ]
  },
  {
   "cell_type": "code",
   "execution_count": 17,
   "metadata": {},
   "outputs": [
    {
     "name": "stdout",
     "output_type": "stream",
     "text": [
      "time\n"
     ]
    }
   ],
   "source": [
    "class LinkedList:\n",
    "    def __init__(self, firstNode):\n",
    "        self.firstNode = firstNode\n",
    "\n",
    "    def read(self, i):\n",
    "        node = self.firstNode\n",
    "        index = 0\n",
    "\n",
    "        while index < i:\n",
    "            index += 1\n",
    "            node = node.nextNode\n",
    "\n",
    "        return node \n",
    "\n",
    "list = LinkedList(node1)\n",
    "item = list.read(3)\n",
    "\n",
    "print(item.data)"
   ]
  }
 ],
 "metadata": {
  "kernelspec": {
   "display_name": "Python 3",
   "language": "python",
   "name": "python3"
  },
  "language_info": {
   "codemirror_mode": {
    "name": "ipython",
    "version": 3
   },
   "file_extension": ".py",
   "mimetype": "text/x-python",
   "name": "python",
   "nbconvert_exporter": "python",
   "pygments_lexer": "ipython3",
   "version": "3.9.7"
  },
  "orig_nbformat": 4
 },
 "nbformat": 4,
 "nbformat_minor": 2
}
