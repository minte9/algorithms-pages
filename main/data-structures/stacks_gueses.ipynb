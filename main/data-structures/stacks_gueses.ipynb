{
 "cells": [
  {
   "attachments": {},
   "cell_type": "markdown",
   "metadata": {},
   "source": [
    "### Stacks and Queses\n",
    "\n",
    "They are simply arrays with `restrictions`.  \n",
    "They are elegant tools for handling `temporary` data."
   ]
  },
  {
   "attachments": {},
   "cell_type": "markdown",
   "metadata": {},
   "source": [
    "### Stacks / Constrains\n",
    "\n",
    "A stack `stores` data in the same way as arrays do.  \n",
    "A stack has three `constrains`:  \n",
    "1. Insertion: only at the end\n",
    "2. Deletion: only from the end\n",
    "3. Reading: only the last element"
   ]
  },
  {
   "attachments": {},
   "cell_type": "markdown",
   "metadata": {},
   "source": [
    "\n",
    "### Stacks / Top Bottom\n",
    "\n",
    "Just like a stack of `dishes`, you can look only at the face of the top dish.  \n",
    "Most computer scientist refers to the and end and start of a stack as top and `bottom`.  \n",
    "\n",
    "A stack is a list displayed `vertically`.  \n",
    "The `first` item in array became the bottom, and the last becam the top."
   ]
  },
  {
   "attachments": {},
   "cell_type": "markdown",
   "metadata": {},
   "source": [
    "### Stacks / Push Pop\n",
    "\n",
    "`Inserting` a new value into the stack is called pushing onto the stack.    \n",
    "Removing from the top of the stack is called `popping` from the stack.  \n",
    "A handy acronym to describe stack operations is `LIFO` (last in, first out)."
   ]
  }
 ],
 "metadata": {
  "language_info": {
   "name": "python"
  },
  "orig_nbformat": 4
 },
 "nbformat": 4,
 "nbformat_minor": 2
}
