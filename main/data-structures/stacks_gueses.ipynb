{
 "cells": [
  {
   "attachments": {},
   "cell_type": "markdown",
   "metadata": {},
   "source": [
    "### Stacks and Queses\n",
    "\n",
    "They are simply arrays with `restrictions`.  \n",
    "They are elegant tools for handling `temporary` data."
   ]
  },
  {
   "attachments": {},
   "cell_type": "markdown",
   "metadata": {},
   "source": [
    "### Stacks / Constrains\n",
    "\n",
    "A stack `stores` data in the same way as arrays do.  \n",
    "A stack has three `constrains`:  \n",
    "1. Insertion: only at the end\n",
    "2. Deletion: only from the end\n",
    "3. Reading: only the last element"
   ]
  },
  {
   "attachments": {},
   "cell_type": "markdown",
   "metadata": {},
   "source": [
    "\n",
    "### Stacks / Top Bottom\n",
    "\n",
    "Just like a stack of `dishes`, you can look only at the face of the top dish.  \n",
    "Most computer scientist refers to the and end and start of a stack as top and `bottom`.  \n",
    "\n",
    "A stack is a list displayed `vertically`.  \n",
    "The `first` item in array became the bottom, and the last becam the top."
   ]
  },
  {
   "attachments": {},
   "cell_type": "markdown",
   "metadata": {},
   "source": [
    "### Stacks / Push Pop\n",
    "\n",
    "`Inserting` a new value into the stack is called pushing onto the stack.    \n",
    "Removing from the top of the stack is called `popping` from the stack.  \n",
    "A handy acronym to describe stack operations is `LIFO` (last in, first out)."
   ]
  },
  {
   "attachments": {},
   "cell_type": "markdown",
   "metadata": {},
   "source": [
    "### Lists / Python\n",
    "\n",
    "In Python the stack is build-in data type.  \n",
    "It is  called `list` and has append() and pop() methods.  "
   ]
  },
  {
   "cell_type": "code",
   "execution_count": 6,
   "metadata": {},
   "outputs": [
    {
     "name": "stdout",
     "output_type": "stream",
     "text": [
      "Stack after insertion = [1, 2, 3]\n",
      "Stack after deletion = [1, 2]\n",
      "Popped element, last = 3\n"
     ]
    }
   ],
   "source": [
    "# Empty list to represent a stack\n",
    "mystack = []\n",
    "\n",
    "# Push elements onto the stack\n",
    "mystack.append(1)\n",
    "mystack.append(2)\n",
    "mystack.append(3)\n",
    "\n",
    "# Output stack\n",
    "print(\"Stack after insertion =\", mystack)\n",
    "\n",
    "# Pop element from the stack\n",
    "last = mystack.pop()\n",
    "\n",
    "# Output stack\n",
    "print(\"Stack after deletion =\", mystack)\n",
    "print(\"Popped element, last =\", last)"
   ]
  },
  {
   "attachments": {},
   "cell_type": "markdown",
   "metadata": {},
   "source": [
    "### Create Stack\n",
    "\n",
    "Most programming `languages` doesn't come with a built-in stack data type, you must implement one.  \n",
    "Let's create a stack to see how it `works` internaly."
   ]
  }
 ],
 "metadata": {
  "kernelspec": {
   "display_name": "Python 3",
   "language": "python",
   "name": "python3"
  },
  "language_info": {
   "codemirror_mode": {
    "name": "ipython",
    "version": 3
   },
   "file_extension": ".py",
   "mimetype": "text/x-python",
   "name": "python",
   "nbconvert_exporter": "python",
   "pygments_lexer": "ipython3",
   "version": "3.9.7"
  },
  "orig_nbformat": 4
 },
 "nbformat": 4,
 "nbformat_minor": 2
}
