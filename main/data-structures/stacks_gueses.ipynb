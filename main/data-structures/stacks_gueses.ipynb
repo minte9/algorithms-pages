{
 "cells": [
  {
   "attachments": {},
   "cell_type": "markdown",
   "metadata": {},
   "source": [
    "### Stacks and Queses\n",
    "\n",
    "They are simply arrays with `restrictions`.  \n",
    "They are elegant tools for handling `temporary` data."
   ]
  },
  {
   "attachments": {},
   "cell_type": "markdown",
   "metadata": {},
   "source": [
    "### Stacks\n",
    "\n",
    "A stack `stores` data in the same way as arrays do.  \n",
    "A stack has three `constrains`:  \n",
    "1. Insertion: only at the end\n",
    "2. Deletion: only from the end\n",
    "3. Reading: only the last element"
   ]
  }
 ],
 "metadata": {
  "language_info": {
   "name": "python"
  },
  "orig_nbformat": 4
 },
 "nbformat": 4,
 "nbformat_minor": 2
}
