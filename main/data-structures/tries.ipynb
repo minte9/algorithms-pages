{
 "cells": [
  {
   "attachments": {},
   "cell_type": "markdown",
   "metadata": {},
   "source": [
    "### Tries\n",
    "\n",
    "The `trie` is a kind of tree ideal for implementing autocomplete.  \n",
    "The trie is derived from the word `retrival`.  \n",
    "Most people pronounce trie as `try`.  "
   ]
  },
  {
   "attachments": {},
   "cell_type": "markdown",
   "metadata": {},
   "source": [
    "### Nodes\n",
    "\n",
    "A trie is not a binary tree, it can have `any number` of child nodes.  \n",
    "In this implementation, each trie node contains a `hash` table.  \n",
    "The `keys` are English characters and the values are other nodes of the trie.  "
   ]
  },
  {
   "cell_type": "code",
   "execution_count": 9,
   "metadata": {},
   "outputs": [
    {
     "name": "stdout",
     "output_type": "stream",
     "text": [
      "{'a': <__main__.TrieNode object at 0x7f80ec1acdf0>, 'b': <__main__.TrieNode object at 0x7f80ec1ace80>}\n",
      "a {'c': <__main__.TrieNode object at 0x7f80ec1acee0>}\n",
      "a:c {'e': <__main__.TrieNode object at 0x7f80ec1f5e50>, 't': <__main__.TrieNode object at 0x7f80ec1f5670>}\n"
     ]
    }
   ],
   "source": [
    "class TrieNode:\n",
    "    def __init__(self):\n",
    "        self.children = {}\n",
    "\n",
    "class Trie:\n",
    "    def __init__(self):\n",
    "        self.root = TrieNode()\n",
    "\n",
    "    def insert(self, word):\n",
    "        currentNode = self.root\n",
    "\n",
    "        for c in word:\n",
    "\n",
    "            # If the current node has child key with current character\n",
    "            if currentNode.children.get(c):\n",
    "\n",
    "                # Follow the child node:\n",
    "                currentNode = currentNode.children[c]\n",
    "\n",
    "            else:\n",
    "\n",
    "                # Add the character as a new child node\n",
    "                newNode = TrieNode()\n",
    "                currentNode.children[c] = newNode\n",
    "\n",
    "                # Follow this new node\n",
    "                currentNode = newNode\n",
    "\n",
    "T = Trie()\n",
    "T.insert('ace')\n",
    "T.insert('bad')\n",
    "T.insert('act')\n",
    "\n",
    "print(T.root.children)\n",
    "print(\"a\", T.root.children['a'].children)\n",
    "print(\"a:c\", T.root.children['a'].children['c'].children)"
   ]
  },
  {
   "attachments": {},
   "cell_type": "markdown",
   "metadata": {},
   "source": [
    "### Asterisk\n",
    "\n",
    "We need to indicate when parts of a `word` are also words themselves.\n"
   ]
  },
  {
   "cell_type": "code",
   "execution_count": 13,
   "metadata": {},
   "outputs": [
    {
     "name": "stdout",
     "output_type": "stream",
     "text": [
      "{'b': <__main__.TrieNode object at 0x7f80ec1f50a0>}\n",
      "b {'a': <__main__.TrieNode object at 0x7f80ec1f5af0>}\n",
      "b:a {'t': <__main__.TrieNode object at 0x7f80ec1f5fa0>}\n",
      "b:a:t {'*': None, 't': <__main__.TrieNode object at 0x7f80ec1f5c40>}\n"
     ]
    }
   ],
   "source": [
    "class TrieNode:\n",
    "    def __init__(self):\n",
    "        self.children = {}\n",
    "\n",
    "class Trie:\n",
    "    def __init__(self):\n",
    "        self.root = TrieNode()\n",
    "\n",
    "    def insert(self, word):\n",
    "        currentNode = self.root\n",
    "\n",
    "        for c in word:\n",
    "            if currentNode.children.get(c):\n",
    "                currentNode = currentNode.children[c]\n",
    "            else:\n",
    "                newNode = TrieNode()\n",
    "                currentNode.children[c] = newNode\n",
    "                currentNode = newNode\n",
    "\n",
    "        # After inserting the entire word in the trie, add * key at the end\n",
    "        currentNode.children[\"*\"] = None\n",
    "\n",
    "T = Trie()\n",
    "T.insert('bat')\n",
    "T.insert('batter')\n",
    "\n",
    "print(T.root.children)\n",
    "print('b', T.root.children['b'].children)\n",
    "print('b:a', T.root.children['b'].children['a'].children)\n",
    "print('b:a:t', T.root.children['b'].children['a'].children['t'].children)"
   ]
  }
 ],
 "metadata": {
  "kernelspec": {
   "display_name": "Python 3",
   "language": "python",
   "name": "python3"
  },
  "language_info": {
   "codemirror_mode": {
    "name": "ipython",
    "version": 3
   },
   "file_extension": ".py",
   "mimetype": "text/x-python",
   "name": "python",
   "nbconvert_exporter": "python",
   "pygments_lexer": "ipython3",
   "version": "3.9.7"
  },
  "orig_nbformat": 4
 },
 "nbformat": 4,
 "nbformat_minor": 2
}
