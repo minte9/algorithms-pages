{
 "cells": [
  {
   "attachments": {},
   "cell_type": "markdown",
   "metadata": {},
   "source": [
    "### Tries\n",
    "\n",
    "The `trie` is a kind of tree ideal for implementing autocomplete.  \n",
    "The trie is derived from the word `retrival`.  \n",
    "Most people pronounce trie as `try`.  "
   ]
  },
  {
   "attachments": {},
   "cell_type": "markdown",
   "metadata": {},
   "source": [
    "### Nodes\n",
    "\n",
    "A trie is not a binary tree, it can have `any number` of child nodes.  \n",
    "In this implementation, each trie node contains a `hash` table.  \n",
    "The `keys` are English characters and the values are other nodes of the trie.  "
   ]
  },
  {
   "cell_type": "code",
   "execution_count": 24,
   "metadata": {},
   "outputs": [
    {
     "name": "stdout",
     "output_type": "stream",
     "text": [
      "root {'a': <__main__.TrieNode object at 0x7f251c09b7f0>, 'b': <__main__.TrieNode object at 0x7f251c0a1cd0>}\n",
      "a {'c': <__main__.TrieNode object at 0x7f251c0c2130>}\n",
      "a:c {'e': <__main__.TrieNode object at 0x7f251c279550>, 't': <__main__.TrieNode object at 0x7f251c354a30>}\n"
     ]
    }
   ],
   "source": [
    "class TrieNode:\n",
    "    def __init__(self):\n",
    "        self.children = {}\n",
    "\n",
    "class Trie:\n",
    "    def __init__(self):\n",
    "        self.root = TrieNode()\n",
    "\n",
    "    def insert(self, word):\n",
    "        currentNode = self.root\n",
    "\n",
    "        for c in word:\n",
    "\n",
    "            # If the current node has child key with current character\n",
    "            if currentNode.children.get(c):\n",
    "\n",
    "                # Follow the child node:\n",
    "                currentNode = currentNode.children[c]\n",
    "\n",
    "            else:\n",
    "\n",
    "                # Add the character as a new child node\n",
    "                newNode = TrieNode()\n",
    "                currentNode.children[c] = newNode\n",
    "\n",
    "                # Follow this new node\n",
    "                currentNode = newNode\n",
    "\n",
    "T = Trie()\n",
    "T.insert('ace')\n",
    "T.insert('bad')\n",
    "T.insert('act')\n",
    "\n",
    "print(\"root\", T.root.children)\n",
    "print(\"a\", T.root.children['a'].children)\n",
    "print(\"a:c\", T.root.children['a'].children['c'].children)"
   ]
  }
 ],
 "metadata": {
  "kernelspec": {
   "display_name": "Python 3",
   "language": "python",
   "name": "python3"
  },
  "language_info": {
   "codemirror_mode": {
    "name": "ipython",
    "version": 3
   },
   "file_extension": ".py",
   "mimetype": "text/x-python",
   "name": "python",
   "nbconvert_exporter": "python",
   "pygments_lexer": "ipython3",
   "version": "3.9.7"
  },
  "orig_nbformat": 4
 },
 "nbformat": 4,
 "nbformat_minor": 2
}
