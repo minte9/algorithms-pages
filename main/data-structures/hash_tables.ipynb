{
 "cells": [
  {
   "attachments": {},
   "cell_type": "markdown",
   "metadata": {},
   "source": [
    "### Hash Tables / Fast Reading\n",
    "\n",
    "Most programming languages have a data structure called hash table, for `fast` reading.  \n",
    "Other names include hashes, maps, dictionaries or `associative` arrays.  \n",
    "In Python they are named `dictionaries`.  \n",
    "\n",
    "In an unordered array, a search would take `O(N) steps` adn O(log N) for an ordered array.  \n",
    "Using a data structure like hash table, we can make the search `O(1)`!"
   ]
  },
  {
   "cell_type": "code",
   "execution_count": 15,
   "metadata": {},
   "outputs": [
    {
     "name": "stdout",
     "output_type": "stream",
     "text": [
      "2\n"
     ]
    }
   ],
   "source": [
    "menu = {\n",
    "    'a': 1,\n",
    "    'b': 2,\n",
    "    'c': 3,\n",
    "}\n",
    "\n",
    "# Searching a dictionary takes only O(1) steps\n",
    "item = menu['b']\n",
    "\n",
    "# Output result\n",
    "print(item)"
   ]
  },
  {
   "attachments": {},
   "cell_type": "markdown",
   "metadata": {},
   "source": [
    "### Hashing / Converting to Numbers\n",
    "\n",
    "The process of taking characters and converting them `to numbers` is called hashing.  \n",
    "For example BAD converts to 214, then the `sum` hashing function adds them together.  \n",
    "The hashing `function` can use addition, multiplication or something else."
   ]
  },
  {
   "cell_type": "code",
   "execution_count": 16,
   "metadata": {},
   "outputs": [
    {
     "name": "stdout",
     "output_type": "stream",
     "text": [
      "Hashing | BAD = 214\n",
      "Hasghing to Sum | BAD = 7\n",
      "Hasghing to Product | BAD = 8\n"
     ]
    }
   ],
   "source": [
    "mapping = { \n",
    "    'A': 1,\n",
    "    'B': 2,\n",
    "    'C': 3,\n",
    "    'D': 4,\n",
    "    'E': 5,\n",
    "}\n",
    "\n",
    "def hashing(x: str) -> str:\n",
    "    hash = ''\n",
    "    for char in x:\n",
    "        hash += str(mapping[char])\n",
    "    return hash\n",
    "\n",
    "def hashing_sum(x: str) -> int:\n",
    "    hash = 0\n",
    "    for char in x:\n",
    "        hash += mapping[char]\n",
    "    return hash\n",
    "\n",
    "def hashing_product(x: str) -> int:\n",
    "    hash = 1\n",
    "    for char in x:\n",
    "        hash *= mapping[char]\n",
    "    return hash\n",
    "\n",
    "print(\"Hashing | BAD =\", hashing('BAD'))\n",
    "print(\"Hasghing to Sum | BAD =\", hashing_sum('BAD'))\n",
    "print(\"Hasghing to Product | BAD =\", hashing_product('BAD'))"
   ]
  },
  {
   "attachments": {},
   "cell_type": "markdown",
   "metadata": {},
   "source": [
    "### Storing Data\n",
    "\n",
    "This is how hash table `stores` the data.  \n",
    "Let's imagine a simple thesaurus application, when a user search for an word, the app returns just one `synonym`.  \n",
    "\n",
    "To search for a value, we use the `key` to find that value.  \n",
    "To find the value associated with `bad` the computer executes two simple steps:  \n",
    "    1. The computer hashes the `key` bad = 2*1*4 = 8  \n",
    "    2. Then return the `value` at key 8 in the hash table  "
   ]
  },
  {
   "cell_type": "code",
   "execution_count": 17,
   "metadata": {},
   "outputs": [
    {
     "name": "stdout",
     "output_type": "stream",
     "text": [
      "evil\n",
      "taxi\n"
     ]
    }
   ],
   "source": [
    "class MyHashTable:\n",
    "\n",
    "    # Initialize internal table (an array with 16 empty cells)\n",
    "    def __init__(self):\n",
    "        self.table = [None] * 16\n",
    "        self.mapping = {'a': 1, 'b': 2, 'c': 3, 'd': 4, 'e': 5}\n",
    "\n",
    "    # Hash multiplication function\n",
    "    def hash_entry(self, x):\n",
    "        hash = 1\n",
    "        for char in x:\n",
    "            hash *= self.mapping[char]\n",
    "        return hash\n",
    "\n",
    "    def add_entry(self, key, value):\n",
    "        hash = self.hash_entry(key)\n",
    "        self.table[hash] = value    # O(1) - Look Here\n",
    "\n",
    "    def get_entry(self, key):\n",
    "        hash = self.hash_entry(key)\n",
    "        return self.table[hash]    # O(1) - Look Here\n",
    "\n",
    "thesaurus = MyHashTable()\n",
    "\n",
    "thesaurus.add_entry('bad', 'evil')\n",
    "thesaurus.add_entry('cab', 'taxi')\n",
    "\n",
    "value1 = thesaurus.get_entry('bad')\n",
    "value2 = thesaurus.get_entry('cab')\n",
    "\n",
    "print(value1)\n",
    "print(value2)"
   ]
  },
  {
   "attachments": {},
   "cell_type": "markdown",
   "metadata": {},
   "source": [
    "### Python Syntax / Dictionaries\n",
    "\n",
    "Python's literal `syntax` does the same.  \n",
    "When we have a key and want to find the its value, the `key` itself tell us that value.  \n",
    "The syntax `{}, []` are core data stuctures for implementing classes Dictionaries and Lists."
   ]
  },
  {
   "cell_type": "code",
   "execution_count": 18,
   "metadata": {},
   "outputs": [
    {
     "name": "stdout",
     "output_type": "stream",
     "text": [
      "evil\n",
      "taxi\n"
     ]
    }
   ],
   "source": [
    "thesaurus = {}\n",
    "\n",
    "thesaurus['bad'] = 'evil'\n",
    "thesaurus['cab'] = 'taxi'\n",
    "\n",
    "print(thesaurus['bad']) # O(1)\n",
    "print(thesaurus['cab']) # O(1)"
   ]
  },
  {
   "attachments": {},
   "cell_type": "markdown",
   "metadata": {},
   "source": [
    "### Wrong Implementation\n",
    "\n",
    "This implementation of this hash table is wrong, because the search will take `O(n)` linear time."
   ]
  },
  {
   "cell_type": "code",
   "execution_count": 19,
   "metadata": {},
   "outputs": [
    {
     "name": "stdout",
     "output_type": "stream",
     "text": [
      "evil\n",
      "taxi\n"
     ]
    }
   ],
   "source": [
    "class MyWrongHashTable:\n",
    "\n",
    "    def __init__(self):\n",
    "        self.keys = []\n",
    "        self.values = []\n",
    "\n",
    "    def add(self, key, value):\n",
    "        self.keys.append(key)\n",
    "        self.values.append(value) # O(1)\n",
    "\n",
    "    def get(self, key):\n",
    "        for k in range(len(self.keys)): # O(n)\n",
    "            if key == self.keys[k]:\n",
    "                return self.values[k]\n",
    "\n",
    "thesaurus = MyWrongHashTable()\n",
    "thesaurus.add('bad', 'evil')\n",
    "thesaurus.add('cab', 'taxi')\n",
    "\n",
    "value1 = thesaurus.get('bad')\n",
    "value2 = thesaurus.get('cab')\n",
    "\n",
    "print(value1)\n",
    "print(value2)"
   ]
  },
  {
   "attachments": {},
   "cell_type": "markdown",
   "metadata": {},
   "source": [
    "### Colisions\n",
    "\n",
    "Trying to add data to a `cell` that is already filled results in a collision.  "
   ]
  },
  {
   "cell_type": "code",
   "execution_count": 20,
   "metadata": {},
   "outputs": [
    {
     "name": "stdout",
     "output_type": "stream",
     "text": [
      "pat\n",
      "taxi\n",
      "pat\n"
     ]
    }
   ],
   "source": [
    "HT = MyHashTable()\n",
    "\n",
    "HT.add_entry('bad', 'evil')  # 8\n",
    "HT.add_entry('cab', 'taxi')  # 6\n",
    "HT.add_entry('dab', 'pat')   # 8\n",
    "\n",
    "print(HT.get_entry('bad'))  # pat (wrong) !\n",
    "print(HT.get_entry('cab'))\n",
    "print(HT.get_entry('dab'))"
   ]
  },
  {
   "attachments": {},
   "cell_type": "markdown",
   "metadata": {},
   "source": [
    "### Collisions / Separate Chaining\n",
    "\n",
    "Insteed of placing a single value in the cell, it places a `reference` to an array.  \n",
    "It is important that our table is design to have `few` collisions.   \n",
    "Otherwise it will be `no better` than an array, where in worst-case scenario the lookup takes O(n) steps.  "
   ]
  },
  {
   "cell_type": "code",
   "execution_count": 21,
   "metadata": {},
   "outputs": [
    {
     "name": "stdout",
     "output_type": "stream",
     "text": [
      "evil\n",
      "taxi\n",
      "pat\n"
     ]
    }
   ],
   "source": [
    "class MyHashTable_v2:\n",
    "\n",
    "    # Initialize internal table (an array with 16 empty cells)\n",
    "    def __init__(self):\n",
    "        self.table = [None] * 16\n",
    "        self.mapping = {'a': 1, 'b': 2, 'c': 3, 'd': 4, 'e': 5}\n",
    "\n",
    "    # Hash multiplication function\n",
    "    def hash_entry(self, x):\n",
    "        hash = 1\n",
    "        for char in x:\n",
    "            hash *= self.mapping[char]\n",
    "        return hash\n",
    "\n",
    "    def add_entry(self, key, value):\n",
    "        index = self.hash_entry(key)\n",
    "\n",
    "        if self.table[index] is None: # Look Here\n",
    "            self.table[index] = []\n",
    "\n",
    "        self.table[index].append((key, value))\n",
    "\n",
    "    def get_entry(self, key):\n",
    "        index = self.hash_entry(key)\n",
    "\n",
    "        if self.table[index] is not None: # Look Here\n",
    "            for k, v in self.table[index]:\n",
    "                if k == key:\n",
    "                    return v\n",
    "\n",
    "        return None\n",
    "\n",
    "HT = MyHashTable_v2()\n",
    "\n",
    "HT.add_entry('bad', 'evil')  # 8\n",
    "HT.add_entry('cab', 'taxi')  # 6\n",
    "HT.add_entry('dab', 'pat')   # 8\n",
    "\n",
    "print(HT.get_entry('bad'))  # evil (right) !\n",
    "print(HT.get_entry('cab'))\n",
    "print(HT.get_entry('dab'))"
   ]
  },
  {
   "attachments": {},
   "cell_type": "markdown",
   "metadata": {},
   "source": [
    "### Array Search / Speed Up\n",
    "\n",
    "Hash tables can make your code faster, even if your data `doesn't` come in pairs.  \n",
    "By `converting` an array into a hash table, we can go from O(n) searches to O(1) searches.  \n",
    "Using a hash table is like using an `index` in a book.  "
   ]
  },
  {
   "cell_type": "code",
   "execution_count": 22,
   "metadata": {},
   "outputs": [
    {
     "name": "stdout",
     "output_type": "stream",
     "text": [
      "Search array | O(n):\n",
      "3\n",
      "None\n",
      "Search converted | O(1):\n",
      "True\n",
      "None\n"
     ]
    }
   ],
   "source": [
    "array = [61, 30, 91, 11, 54, 38, 72]\n",
    "\n",
    "def search_array(arr, x): # O(n)\n",
    "    for i in range(len(arr)):\n",
    "        if arr[i] == x:\n",
    "            return i\n",
    "    return None\n",
    "\n",
    "print(\"Search array | O(n):\")\n",
    "print(search_array(array, 11))\n",
    "print(search_array(array, 22))\n",
    "\n",
    "def convert_array(arr):\n",
    "    d = {}\n",
    "    for n in arr: \n",
    "        d[n] = True\n",
    "    return d\n",
    "\n",
    "def number_exists(arr, key): # O(1) - Look Here\n",
    "    arr = convert_array(arr)\n",
    "    if key in arr:\n",
    "        return arr[key]\n",
    "    return None\n",
    "\n",
    "print(\"Search converted | O(1):\")\n",
    "print(number_exists(array, 11))\n",
    "print(number_exists(array, 22))"
   ]
  },
  {
   "attachments": {},
   "cell_type": "markdown",
   "metadata": {},
   "source": [
    "### Practical Example / Array Subset\n",
    "\n",
    "Let's use hash tables to boost the speed of a very `practical` algorithm.  \n",
    "We want to find out if an array is a `subset` of another array.  \n",
    "\n",
    "The `O(n,m)` approach will be to use nested loops.   \n",
    "We iterate through every element of the `smaller` array, and for each we use a second loop on the larger array.  \n",
    "If we find an element isn't contained in larger array, we return `false`.  \n",
    "\n",
    "A new approach is to store the `larger` array into a hash table.  \n",
    "This will be our `index` that will allowed as to make O(1) lookups.  \n",
    "\n",
    "We iterate through each item of the larger array in order to `build` the hash table.  \n",
    "We iterate through each item of the smaller array taking just `one step` for the lookup in hash table.  \n",
    "\n",
    "If `N` is the number of both arrays combined, our algorithm is O(N), since we touch each item once.  \n",
    "This is a `huge` improvement over the intitial O(n,m) algorithm."
   ]
  },
  {
   "cell_type": "code",
   "execution_count": 23,
   "metadata": {},
   "outputs": [
    {
     "name": "stdout",
     "output_type": "stream",
     "text": [
      "B is a subset of A == True\n",
      "C is a subset of A == False\n"
     ]
    }
   ],
   "source": [
    "def issubset(arr1, arr2):\n",
    "\n",
    "    # Initialize smaller and larger arrays\n",
    "    S = []\n",
    "    L = []\n",
    "\n",
    "    # Initialize hash table (dictionary)\n",
    "    H = {}\n",
    "\n",
    "    # Determine which array is larger\n",
    "    if len(arr1) > len(arr2):\n",
    "        S = arr2\n",
    "        L = arr1\n",
    "    else:\n",
    "        S = arr1\n",
    "        L = arr2\n",
    "\n",
    "    # Build the hash table\n",
    "    for item in L:\n",
    "        H[item] = True\n",
    "\n",
    "    # The brilliant part, a second non-nested loop through smaller array\n",
    "    for item in S:\n",
    "        if item not in H:\n",
    "            return False\n",
    "\n",
    "    return True\n",
    "\n",
    "A = ['a', 'b', 'c', 'd', 'e', 'f']\n",
    "B = ['b', 'd', 'f']\n",
    "C = ['b', 'd', 'f', 'h']\n",
    "\n",
    "print(\"B is a subset of A ==\", issubset(A, B))\n",
    "print(\"C is a subset of A ==\", issubset(A, C))"
   ]
  }
 ],
 "metadata": {
  "kernelspec": {
   "display_name": "Python 3",
   "language": "python",
   "name": "python3"
  },
  "language_info": {
   "codemirror_mode": {
    "name": "ipython",
    "version": 3
   },
   "file_extension": ".py",
   "mimetype": "text/x-python",
   "name": "python",
   "nbconvert_exporter": "python",
   "pygments_lexer": "ipython3",
   "version": "3.9.7"
  },
  "orig_nbformat": 4
 },
 "nbformat": 4,
 "nbformat_minor": 2
}
