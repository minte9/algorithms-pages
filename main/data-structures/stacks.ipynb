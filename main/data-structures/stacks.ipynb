{
 "cells": [
  {
   "attachments": {},
   "cell_type": "markdown",
   "metadata": {},
   "source": [
    "### Stacks\n",
    "\n",
    "Stacks are simply arrays with `restrictions`.  \n",
    "They are elegant tools for handling `temporary` data."
   ]
  },
  {
   "attachments": {},
   "cell_type": "markdown",
   "metadata": {},
   "source": [
    "### Constrains\n",
    "\n",
    "A stack `stores` data in the same way as arrays do.  \n",
    "A stack has three `constrains`:  \n",
    "1. Insertion: only at the `end`\n",
    "2. Deletion: only from the `end`\n",
    "3. Reading: only the `last` element"
   ]
  },
  {
   "attachments": {},
   "cell_type": "markdown",
   "metadata": {},
   "source": [
    "\n",
    "### Top & Bottom\n",
    "\n",
    "Just like a stack of `dishes`, you can look only at the face of the top dish.  \n",
    "Most computer scientist refers to the and end and start of a stack as top and `bottom`.  \n",
    "\n",
    "A stack is a list displayed `vertically`.  \n",
    "The `first` item in array became the bottom, and the last becam the top."
   ]
  },
  {
   "attachments": {},
   "cell_type": "markdown",
   "metadata": {},
   "source": [
    "### Push & Pop\n",
    "\n",
    "`Inserting` a new value into the stack is called pushing onto the stack.    \n",
    "Removing from the top of the stack is called `popping` from the stack.  \n",
    "A handy acronym to describe stack operations is `LIFO` (last in, first out)."
   ]
  },
  {
   "attachments": {},
   "cell_type": "markdown",
   "metadata": {},
   "source": [
    "### Lists / Python\n",
    "\n",
    "In Python the stack is build-in data type.  \n",
    "It is  called `list` and has append() and pop() methods.  "
   ]
  },
  {
   "cell_type": "code",
   "execution_count": 1,
   "metadata": {},
   "outputs": [
    {
     "name": "stdout",
     "output_type": "stream",
     "text": [
      "Stack after insertion = [1, 2, 3]\n",
      "Stack after deletion = [1, 2]\n",
      "Popped element, front = 3\n"
     ]
    }
   ],
   "source": [
    "# Empty list to represent a stack\n",
    "mystack = []\n",
    "\n",
    "# Push elements onto the stack\n",
    "mystack.append(1)\n",
    "mystack.append(2)\n",
    "mystack.append(3)\n",
    "\n",
    "# Output stack\n",
    "print(\"Stack after insertion =\", mystack)\n",
    "\n",
    "# Pop element from the stack\n",
    "front = mystack.pop()\n",
    "\n",
    "# Output stack\n",
    "print(\"Stack after deletion =\", mystack)\n",
    "print(\"Popped element, front =\", front)"
   ]
  },
  {
   "attachments": {},
   "cell_type": "markdown",
   "metadata": {},
   "source": [
    "### Create Stack\n",
    "\n",
    "Most programming `languages` doesn't come with a built-in stack data type, you must implement one.  \n",
    "Let's create a stack to see how it `works` internaly.  \n",
    "\n",
    "Here, the stack data structure `isn't` the same as an array.  \n",
    "The stack doen't care what is `under` the hood.  \n",
    "The stack is an example of what is known as an `abstract` data type.  "
   ]
  },
  {
   "cell_type": "code",
   "execution_count": 3,
   "metadata": {},
   "outputs": [
    {
     "name": "stdout",
     "output_type": "stream",
     "text": [
      "Read from stack top = 3\n",
      "Remove from stack top = 3\n",
      "New top = 2\n"
     ]
    }
   ],
   "source": [
    "class Stack:\n",
    "    def __init__(self):\n",
    "        self.items = []\n",
    "\n",
    "    def push(self, item):\n",
    "        self.items += [item]\n",
    "\n",
    "    def pop(self):\n",
    "        item = self.items[-1]\n",
    "        self.items = self.items[:-1] # remove the last from the list\n",
    "        return item\n",
    "\n",
    "    def read(self):\n",
    "        return self.items[-1]\n",
    "\n",
    "# New stack\n",
    "stack = Stack()\n",
    "\n",
    "# Push elements onto the stack\n",
    "stack.push(1)\n",
    "stack.push(2)\n",
    "stack.push(3)\n",
    "\n",
    "# Read from stack\n",
    "print(\"Read from stack top =\", stack.read())\n",
    "\n",
    "# Pop from stack\n",
    "popped = stack.pop()\n",
    "print(\"Remove from stack top =\", popped)\n",
    "print(\"New top =\", stack.read())\n"
   ]
  },
  {
   "attachments": {},
   "cell_type": "markdown",
   "metadata": {},
   "source": [
    "### Linter / Application\n",
    "\n",
    "Let's create a program that inspect `JS code` for correct opening and closing braces.  \n",
    "\n",
    "Syntax Error Type #1 / When opening brace `doesn't` have a corresponding closing one.  \n",
    "Syntax Error Type #2 / When closing brace `isn't` preced by a corresponding opening one.  \n",
    "Syntax Error Type #3 / When closing brace `isn't` the same type as the immediately preceding opening one.  "
   ]
  },
  {
   "cell_type": "code",
   "execution_count": 28,
   "metadata": {},
   "outputs": [
    {
     "name": "stdout",
     "output_type": "stream",
     "text": [
      "Code 1 check = True\n",
      "Error: Type #1\n"
     ]
    }
   ],
   "source": [
    "class Linter:\n",
    "    \n",
    "    def __init__(self):\n",
    "        self.stack = []\n",
    "        self.opening_braces = ['[', '(', '{']\n",
    "        self.closing_braces = [']', ')', '}']\n",
    "        self.pair_braces = ['[]', '()', '{}']\n",
    "\n",
    "    def check(self, txt):\n",
    "\n",
    "        for c in txt:                               # Inspect every char in the text\n",
    "\n",
    "            if c in self.opening_braces:            # Is an opening brace,\n",
    "                self.stack.append(c)                # we push it onto the stack\n",
    "\n",
    "            if c in self.closing_braces:            # Is a closing brace, \n",
    "                popped = self.stack.pop()           # we pop the top element and inspect it\n",
    "                pair = popped + c                   # Popped item is always an opening brace\n",
    "\n",
    "                if pair not in self.pair_braces:                 \n",
    "                    raise SyntaxError(\"Type #1\")    # Not the same as opening brace\n",
    "\n",
    "                if popped == None:\n",
    "                    raise SyntaxError(\"Type #2\")    # Opening brace is missing\n",
    "\n",
    "        if len(self.stack) > 0:\n",
    "            raise SyntaxError(\"#Type 3\")            # We get to the end, and the stack is not empty\n",
    "\n",
    "        return True\n",
    "\n",
    "# New linter\n",
    "linter = Linter()\n",
    "\n",
    "# Check code\n",
    "code1 = \"(var x = {y: [1, 2, 3]})\"\n",
    "code2 = \"(var x = {y: [1, 2, 3]}]\"\n",
    "\n",
    "# Output results\n",
    "try:\n",
    "    print(\"Code 1 check =\", linter.check(code1))\n",
    "except SyntaxError as err:\n",
    "    print('Error:', err)\n",
    "\n",
    "try:\n",
    "    print(\"Code 2 check =\", linter.check(code2))\n",
    "except SyntaxError as err:\n",
    "    print('Error:', err)\n"
   ]
  },
  {
   "attachments": {},
   "cell_type": "markdown",
   "metadata": {},
   "source": [
    "### LIFO\n",
    "\n",
    "When we work with constrained data structure, we can `prevent` potential bugs.  \n",
    "By using a stack, we're `forced` to remove items only from the top.  \n",
    "\n",
    "Data structures like stacks give as a new `mental` model for resolving problems.  \n",
    "We can then apply LIFO `mindset` to solve all sorts of problems.  \n",
    "\n",
    "The `undo` function in word processor, for example, is a great use case for a stack."
   ]
  },
  {
   "attachments": {},
   "cell_type": "markdown",
   "metadata": {},
   "source": [
    "### References\n",
    "\n",
    "[A Common-Sense Guide to Data Structures and Algorithms](https://www.amazon.com/gp/product/B08KYMK4NR/) / book  "
   ]
  }
 ],
 "metadata": {
  "kernelspec": {
   "display_name": "Python 3",
   "language": "python",
   "name": "python3"
  },
  "language_info": {
   "codemirror_mode": {
    "name": "ipython",
    "version": 3
   },
   "file_extension": ".py",
   "mimetype": "text/x-python",
   "name": "python",
   "nbconvert_exporter": "python",
   "pygments_lexer": "ipython3",
   "version": "3.9.7"
  },
  "orig_nbformat": 4
 },
 "nbformat": 4,
 "nbformat_minor": 2
}
