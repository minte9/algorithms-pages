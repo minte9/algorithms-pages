{
 "cells": [
  {
   "attachments": {},
   "cell_type": "markdown",
   "metadata": {},
   "source": [
    "## Head Tail / Recursion ✨ Algorithms\n",
    "\n",
    "A set is a collection of `unique objects` like  A, B, C.  \n",
    "A `permutation` is a specific ordering of all elements of a set.  "
   ]
  },
  {
   "attachments": {},
   "cell_type": "markdown",
   "metadata": {},
   "source": [
    "## Head Permutations\n",
    "\n",
    "We place the head in every posible location of the tail.  \n",
    "For example, by putting the B in every possible location of C we get BC CB.  \n",
    "\n",
    "BC = None + B + C  / tail[0:0] = None  \n",
    "CB = C + B + None  / tail[1:]  = None  "
   ]
  },
  {
   "cell_type": "code",
   "execution_count": 59,
   "metadata": {},
   "outputs": [
    {
     "name": "stdout",
     "output_type": "stream",
     "text": [
      "Head permutations of BCD:\n",
      "ABCD BACD BCAD BCDA\n"
     ]
    }
   ],
   "source": [
    "chars = 'ABCD'\n",
    "\n",
    "head = chars[0]  # B\n",
    "tail = chars[1:] # CD\n",
    "\n",
    "P = []\n",
    "for k in range(len(tail) + 1): # CD / D  \n",
    "\n",
    "    tailLeft = tail[0:k]\n",
    "    tailRight = tail[k:]\n",
    "\n",
    "    P.append(tailLeft + head + tailRight) \n",
    "        # None + B + CD\n",
    "        # C + B + D\n",
    "        # CD + B + None\n",
    "        \n",
    "print('Head permutations of BCD:')\n",
    "print(' '.join(P)) # BCD, CBD, CDB"
   ]
  },
  {
   "attachments": {},
   "cell_type": "markdown",
   "metadata": {},
   "source": [
    "## Permutations\n",
    "\n",
    "In permutations `without` repetition each element doesn't appear more than once.  \n",
    "To calculate the total number of permutations we use `factorial`.  \n",
    "The order does matter, like in a `cypher` lock."
   ]
  },
  {
   "cell_type": "code",
   "execution_count": 60,
   "metadata": {},
   "outputs": [
    {
     "name": "stdout",
     "output_type": "stream",
     "text": [
      "Permutations for [1-5]: 12345 21345 23145 23415 23451 13245 31245 32145 32415 32451 ...\n",
      "Total permutations: 120\n",
      "Cypher code: 25143\n"
     ]
    }
   ],
   "source": [
    "\"\"\"  Permutations / without repetitions\n",
    "\n",
    "Total permutations: P(n) = n!\n",
    "Example: Cypher Lock\n",
    "\"\"\"\n",
    "\n",
    "import math\n",
    "import random\n",
    "\n",
    "def permutations(s):\n",
    "    P = []\n",
    "\n",
    "    # Base case \n",
    "    if len(s) == 1:\n",
    "        return [s] # [C]\n",
    "\n",
    "    head = s[0]  # A\n",
    "    tail = s[1:] # BC\n",
    "\n",
    "    for ss in permutations(tail): # BC CB / C\n",
    "        for i in range(len(ss) + 1):\n",
    "            PP = ss[0:i] + head + ss[i:]\n",
    "            P.append(PP)\n",
    "\n",
    "    return P # BC CB\n",
    "\n",
    "P = permutations('12345')\n",
    "assert len(P) == math.factorial(5)\n",
    "\n",
    "print('Permutations for [1-5]:', ' '.join(P[0:10]), '...')\n",
    "print('Total permutations:', len(P))\n",
    "print('Cypher code:', P[random.randint(0, len(P)-1)])"
   ]
  },
  {
   "attachments": {},
   "cell_type": "markdown",
   "metadata": {},
   "source": [
    "## Combinations\n",
    "\n",
    "A combination is a `selection` from a set, and order doesn't matter.  \n",
    "Combinations doesn't allow duplicates, like in `Lottery Numbers`."
   ]
  },
  {
   "cell_type": "code",
   "execution_count": 61,
   "metadata": {},
   "outputs": [
    {
     "name": "stdout",
     "output_type": "stream",
     "text": [
      "k-Combinations:\n",
      "4-Combinations of 123456: 1234 1235 1236 1245 1246 1256 1345 1346 1356 1456 2345 2346 2356 2456 3456\n",
      "Lottery number: 1346\n"
     ]
    }
   ],
   "source": [
    "\"\"\" Combinations / without repetitions\n",
    "\n",
    "Total combinations: C(n, k) = n! / (k! * (n - k)!)\n",
    "Example: Lottery numbers\n",
    "\"\"\"\n",
    "\n",
    "import math\n",
    "import random\n",
    "\n",
    "def combinations(s, k):\n",
    "\n",
    "    # Base cases\n",
    "    if k == 0:  return ['']  # 0-Combinations, return empty string\n",
    "    if s == '': return []    # blank string has no combinations, return empty list\n",
    "\n",
    "    # Head and tail for the string\n",
    "    head = s[:1]\n",
    "    tail = s[1:]\n",
    "    \n",
    "    # Combintations that include the head\n",
    "    C1 = [head + c for c in combinations(tail, k-1)]\n",
    "\n",
    "    # Combinations without the head\n",
    "    C2 = combinations(tail, k)\n",
    "\n",
    "    return C1 + C2\n",
    "\n",
    "C = combinations('123456', 4)\n",
    "assert len(C) == math.comb(6, 4)\n",
    "\n",
    "print('k-Combinations:')\n",
    "print('4-Combinations of 123456:', ' '.join(C))\n",
    "print('Lottery number:', C[random.randint(0, len(C)-1)])"
   ]
  },
  {
   "attachments": {},
   "cell_type": "markdown",
   "metadata": {},
   "source": [
    "## References\n",
    "\n",
    "[The Recursive Book of Recursion](https://www.amazon.com/gp/product/B09BKL34VL) amazon  \n",
    "[A Common-Sense Guide to Data Structures and Algorithms](https://www.amazon.com/gp/product/B08KYMK4NR/) amazon  \n",
    "[Learn and Remember Algorithms](https://www.minte9.com/algorithms) minte9  \n",
    "[Combinations and Permutations](https://www.mathsisfun.com/combinatorics/combinations-permutations.html) mathisfun  "
   ]
  }
 ],
 "metadata": {
  "kernelspec": {
   "display_name": "Python 3",
   "language": "python",
   "name": "python3"
  },
  "language_info": {
   "codemirror_mode": {
    "name": "ipython",
    "version": 3
   },
   "file_extension": ".py",
   "mimetype": "text/x-python",
   "name": "python",
   "nbconvert_exporter": "python",
   "pygments_lexer": "ipython3",
   "version": "3.9.7"
  },
  "orig_nbformat": 4
 },
 "nbformat": 4,
 "nbformat_minor": 2
}
