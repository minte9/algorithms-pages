{
 "cells": [
  {
   "attachments": {},
   "cell_type": "markdown",
   "metadata": {},
   "source": [
    "## Iterative Approach / Recursion, Algorithms\n",
    "\n",
    "For most of the tasks, an iterative approach, with loops that repeat a task,  \n",
    "is usually better than recursion. Calculating exponents is one of the examples."
   ]
  },
  {
   "cell_type": "code",
   "execution_count": 19,
   "metadata": {},
   "outputs": [
    {
     "name": "stdout",
     "output_type": "stream",
     "text": [
      "2^2 = 4\n",
      "3^3 = 27\n",
      "Iterative  3^600:  0.0005087852478027344 s\n",
      "Recursive  3^600:  0.0004775524139404297 sec\n",
      "Native pow 3^600:  0.00017547607421875 s\n"
     ]
    }
   ],
   "source": [
    "def pow_interative(x, n):\n",
    "    res = x\n",
    "    for i in range(1, n):\n",
    "        res = res * x\n",
    "    return res\n",
    "\n",
    "def pow_recursive(x, n):\n",
    "    if n == 0: \n",
    "        return 1 # Base case\n",
    "    res = pow_recursive(x, n-1) * x\n",
    "    return res\n",
    "\n",
    "assert pow_interative(2, 2) == 4\n",
    "assert pow_recursive(3, 3) == 27\n",
    "print(\"2^2 =\", pow_interative(2,2))\n",
    "print(\"3^3 =\", pow_recursive(3,3))\n",
    "\n",
    "# Time\n",
    "import time\n",
    "t1 = time.time(); result = pow_interative(3, 600)\n",
    "t2 = time.time(); result = pow_recursive(3, 600)\n",
    "t4 = time.time(); result = pow(3, 600)\n",
    "\n",
    "print(\"Iterative  3^600: \", time.time() - t1, 's') \n",
    "print(\"Recursive  3^600: \", time.time() - t2, 'sec') \n",
    "print(\"Native pow 3^600: \", time.time() - t4, 's') "
   ]
  },
  {
   "cell_type": "markdown",
   "metadata": {},
   "source": [
    "### Factorial / Iteration vs Recursion\n",
    "\n",
    "A factorial, denoted by an exclamation point (n!), is the product of   \n",
    "all positive integers less than or equal to a given non-negative integer n: 4! = 4x3x2x1\n",
    "\n",
    "Iterrative, multiplies intergers 1 to n in a loop (1 frame object, function's call).    \n",
    "Recursive, uses neighbours 5! = 5 * 4! (5 frame objects, function's calls).   "
   ]
  },
  {
   "cell_type": "code",
   "execution_count": 16,
   "metadata": {},
   "outputs": [
    {
     "name": "stdout",
     "output_type": "stream",
     "text": [
      "4! = 24\n",
      "5! = 120\n",
      "Iterative factorial 30.000 iterations: 121288\n",
      "Recursive factorial 3.000 iterations limit reached!\n",
      "RecursionError: maximum recursion depth exceeded in comparison\n"
     ]
    }
   ],
   "source": [
    "def factorial_iterative(n):\n",
    "    p = 1\n",
    "    for i in range(1, n+1):\n",
    "        p = p * i\n",
    "    return p\n",
    "\n",
    "def factorial_recursive(n):\n",
    "    if n == 1:\n",
    "        return 1\n",
    "    return n * factorial_recursive(n-1)\n",
    "\n",
    "assert factorial_iterative(4) == 24\n",
    "assert factorial_recursive(5) == 5 * factorial_recursive(4)\n",
    "\n",
    "print(\"4! =\", factorial_iterative(4))\n",
    "print(\"5! =\", factorial_recursive(5))\n",
    "\n",
    "# Limits\n",
    "n = factorial_iterative(30000)\n",
    "print(f\"Iterative factorial 30.000 iterations:\", len(str(n)))\n",
    "\n",
    "# Recursive approach limit (< 3000)\n",
    "try:    \n",
    "    n = factorial_recursive(3000)\n",
    "except RecursionError as e:\n",
    "    print(f\"Recursive factorial 3.000 iterations limit reached!\")\n",
    "    print(f\"RecursionError: {e}\")"
   ]
  },
  {
   "cell_type": "markdown",
   "metadata": {},
   "source": [
    "### Fibonnaci / Iteration vs Recursion\n",
    "\n",
    "In Fibonacci sequence every number is the sum of previous two numbers.  \n",
    "    0, 1, 1, 2, 3, 5, 8, 13, 21, ...  \n",
    "\n",
    "Iterrative approach, a loop and two variables (a, b)  \n",
    "The program needs to keep track only of the latest two numbers. \n",
    "\n",
    "The recursive algorithm is much slower than the iterative, it repeats same calculation.  \n",
    "For example, in fibonacci(5) the fibonacci(2) is called four times!  "
   ]
  },
  {
   "cell_type": "code",
   "execution_count": 1,
   "metadata": {},
   "outputs": [
    {
     "name": "stdout",
     "output_type": "stream",
     "text": [
      "The third Fibonnaci number is: 2\n",
      "The forth Fibonnaci number is: 3\n",
      "The fifth Fibonnaci number is: 5\n",
      "\n",
      "The recursive algorithm is much slower than the iterative.\n",
      "Processing ...\n",
      "Iterative: fibonacci(100) 2.588866949081421 s\n",
      "Recursive: fibonacci(36)  2.588920831680298 s\n"
     ]
    }
   ],
   "source": [
    "def fibonacci_iterative(n):\n",
    "    a, b = 0, 1\n",
    "    for i in range(1, n):\n",
    "        nextb = a + b\n",
    "        a = b\n",
    "        b = nextb\n",
    "        # a, b = b, a + b # oneline\n",
    "    return b\n",
    "\n",
    "def fibonacci_recursive(n):\n",
    "    if n <= 2: \n",
    "        return 1\n",
    "    return fibonacci_recursive(n-1) + fibonacci_recursive(n-2)\n",
    "\n",
    "# Tests\n",
    "assert fibonacci_iterative(1) == 1\n",
    "assert fibonacci_iterative(3) == 2\n",
    "assert fibonacci_iterative(4) == 3\n",
    "assert fibonacci_iterative(5) == 5\n",
    "assert fibonacci_recursive(6) == 8\n",
    "assert fibonacci_recursive(7) == 13\n",
    "\n",
    "#Output\n",
    "print(\"The third Fibonnaci number is:\", fibonacci_iterative(3))\n",
    "print(\"The forth Fibonnaci number is:\", fibonacci_iterative(4))\n",
    "print(\"The fifth Fibonnaci number is:\", fibonacci_iterative(5))\n",
    "\n",
    "# Time\n",
    "import time\n",
    "print(\"\\nThe recursive algorithm is much slower than the iterative.\")\n",
    "print(\"Processing ...\")\n",
    "t1 = time.time(); n1 = fibonacci_iterative(100)\n",
    "t2 = time.time(); n2 = fibonacci_recursive(36)\n",
    "print(\"Iterative: fibonacci(100)\", time.time() - t1, 's') \n",
    "print(\"Recursive: fibonacci(36) \", time.time() - t2, 's') "
   ]
  },
  {
   "attachments": {},
   "cell_type": "markdown",
   "metadata": {},
   "source": [
    "## Subproblem\n",
    "\n",
    "A subproblem is a version of the very problem applied to a smaller input.   \n",
    "For example factorial(5) is a smaller problem that can be used to compute factorial(6).  "
   ]
  },
  {
   "cell_type": "code",
   "execution_count": 3,
   "metadata": {},
   "outputs": [
    {
     "name": "stdout",
     "output_type": "stream",
     "text": [
      "120\n",
      "720\n"
     ]
    }
   ],
   "source": [
    "def factorial(n):\n",
    "    if n == 1:\n",
    "        return 1\n",
    "    return n * factorial(n-1)\n",
    "\n",
    "print(factorial(5))\n",
    "print(factorial(5) * 6)"
   ]
  },
  {
   "attachments": {},
   "cell_type": "markdown",
   "metadata": {},
   "source": [
    "## Top Down\n",
    "\n",
    "When we are going bottom-up approach, we can use a loop for computation.  \n",
    "When we go top down we get to mentally \"kick the problem down the road\".  \n",
    "The trick is to think that the problem was already implemented by someone else.  "
   ]
  },
  {
   "attachments": {},
   "cell_type": "markdown",
   "metadata": {},
   "source": [
    "### Top Down / Array Sum\n",
    "\n",
    "The subproblem of [1, 2, 3, 4, 5] is [2, 3, 4, 5].  \n",
    "We imagine that someone else wrote the sum() function for us.   \n",
    "We apply this to the subproblem, handle the base case, and we are done!  "
   ]
  },
  {
   "cell_type": "code",
   "execution_count": 5,
   "metadata": {},
   "outputs": [
    {
     "name": "stdout",
     "output_type": "stream",
     "text": [
      "15\n"
     ]
    }
   ],
   "source": [
    "def sum(arr):\n",
    "    if len(arr) == 1: # Base case\n",
    "        return arr[0]\n",
    "    return arr[0] + sum(arr[1:])\n",
    "\n",
    "array_sum = sum([1, 2, 3, 4, 5])\n",
    "print(array_sum)"
   ]
  },
  {
   "attachments": {},
   "cell_type": "markdown",
   "metadata": {},
   "source": [
    "### Top Down / String Reversal\n",
    "\n",
    "For an string argument \"abcde\" the function will return \"edcba\".  \n",
    "The subproblem is \"bcde\" and we imagine that someone else wrote the function for us.   \n",
    "We just need to add \"a\" at the end and we are done!  "
   ]
  },
  {
   "cell_type": "code",
   "execution_count": 4,
   "metadata": {},
   "outputs": [
    {
     "name": "stdout",
     "output_type": "stream",
     "text": [
      "edcba\n"
     ]
    }
   ],
   "source": [
    "def reverse(str):\n",
    "    if len(str) == 1: # Base case\n",
    "        return str[0]\n",
    "    return reverse(str[1:]) + str[0]\n",
    "\n",
    "string_reverse = reverse(\"abcde\")\n",
    "print(string_reverse)"
   ]
  },
  {
   "attachments": {},
   "cell_type": "markdown",
   "metadata": {},
   "source": [
    "### Top Down / Counting X\n",
    "\n",
    "Let's write a function that return the `number` of x's in a string.  \n",
    "If we pass `argument` \"axbxcxd\", the function will return 3.  \n",
    "Let's identify the `subproblem`: \"xbxcxd\"  \n",
    "Now, let's imagine that count_x() has been already `impelented`.  "
   ]
  },
  {
   "cell_type": "code",
   "execution_count": 5,
   "metadata": {},
   "outputs": [
    {
     "name": "stdout",
     "output_type": "stream",
     "text": [
      "3\n"
     ]
    }
   ],
   "source": [
    "def count_x(str):\n",
    "\n",
    "    count_one = 1 if str[0] == 'x' else 0\n",
    "\n",
    "    if len(str) == 1:\n",
    "        return count_one\n",
    "\n",
    "    return count_one + count_x(str[1:])\n",
    "\n",
    "t = count_x(\"axbxcxd\")\n",
    "print(t)"
   ]
  },
  {
   "attachments": {},
   "cell_type": "markdown",
   "metadata": {},
   "source": [
    "### Top Down / Staircase Problem\n",
    "\n",
    "We have a staircase of N steps, and a `person` has the ability to climb 1, 2, 3 steps at a time.  \n",
    "How many different `paths` can someone take to reach the top?  \n",
    "\n",
    "For `2  stairs` 2 paths = 1,1 / 2  \n",
    "For `3  stairs` 4 paths = 1,1,1 / 2,1 / 1,2 / 3  \n",
    "For `4  stairs` 7 paths = 1,1,1,1 / 1,1,2 / 1,2,1 / 1,3 / 2,1,1 / 2,2 / 3,1   \n",
    "For `11 stairs` how many paths ?   \n",
    "\n",
    "For 11-step staircase, the `subproblem` is a 10-step staircase.   \n",
    "However, someone can also `jump` from stair numbers 9 and 8.  \n",
    "So, the number of steps to the top is at least the `sum` of all paths to stairs 10, 9, 8."
   ]
  },
  {
   "cell_type": "code",
   "execution_count": 6,
   "metadata": {},
   "outputs": [
    {
     "name": "stdout",
     "output_type": "stream",
     "text": [
      "2\n",
      "4\n",
      "7\n",
      "13\n"
     ]
    }
   ],
   "source": [
    "def paths_number(n):\n",
    "\n",
    "    if n == 1:\n",
    "        return 1\n",
    "\n",
    "    if n == 0:\n",
    "        return 1\n",
    "\n",
    "    if n < 1:\n",
    "        return 0\n",
    "\n",
    "    return paths_number(n-1) + paths_number(n-2) + paths_number(n-3)\n",
    "\n",
    "print(paths_number(2))\n",
    "print(paths_number(3))\n",
    "print(paths_number(4))\n",
    "print(paths_number(5))"
   ]
  },
  {
   "attachments": {},
   "cell_type": "markdown",
   "metadata": {},
   "source": [
    "## References\n",
    "\n",
    "[The Recursive Book of Recursion](https://www.amazon.com/gp/product/B09BKL34VL) / amazon  \n",
    "[A Common-Sense Guide to Data Structures and Algorithms](https://www.amazon.com/gp/product/B08KYMK4NR/) / amazon  \n",
    "[Learn and Remember Algorithms](https://www.minte9.com/algorithms) / minte9  "
   ]
  }
 ],
 "metadata": {
  "kernelspec": {
   "display_name": "Python 3",
   "language": "python",
   "name": "python3"
  },
  "language_info": {
   "codemirror_mode": {
    "name": "ipython",
    "version": 3
   },
   "file_extension": ".py",
   "mimetype": "text/x-python",
   "name": "python",
   "nbconvert_exporter": "python",
   "pygments_lexer": "ipython3",
   "version": "3.8.12"
  },
  "orig_nbformat": 4
 },
 "nbformat": 4,
 "nbformat_minor": 2
}
