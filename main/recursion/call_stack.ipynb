{
 "cells": [
  {
   "attachments": {},
   "cell_type": "markdown",
   "metadata": {},
   "source": [
    "## Line Remembering\n",
    "\n",
    "Programming languages `remember the line` that called a function and return to it."
   ]
  },
  {
   "cell_type": "code",
   "execution_count": 1,
   "metadata": {},
   "outputs": [
    {
     "name": "stdout",
     "output_type": "stream",
     "text": [
      "Line 02 in A -> call B\n",
      "Line 06 in B -> return from B\n",
      "Line 03 in A -> call C\n",
      "Line 09 in C -> return from C\n",
      "Line 04 in A -> return from A\n"
     ]
    }
   ],
   "source": [
    "def A():\n",
    "    print('Line 02 in A -> call B'); B()\n",
    "    print('Line 03 in A -> call C'); C()\n",
    "    print('Line 04 in A -> return from A')\n",
    "\n",
    "def B():\n",
    "    print('Line 06 in B -> return from B')\n",
    "\n",
    "def C():\n",
    "    print('Line 09 in C -> return from C')\n",
    "\n",
    "A()"
   ]
  },
  {
   "attachments": {},
   "cell_type": "markdown",
   "metadata": {},
   "source": [
    "## Call Stack\n",
    "\n",
    "A stack `stores multiple values` like a list, as `LIFO` data structure (last in, first out).  "
   ]
  },
  {
   "cell_type": "code",
   "execution_count": 2,
   "metadata": {},
   "outputs": [
    {
     "name": "stdout",
     "output_type": "stream",
     "text": [
      "5\n",
      "5 3\n",
      "5 3 7\n",
      "5 3\n",
      "5\n"
     ]
    }
   ],
   "source": [
    "cards = []\n",
    "\n",
    "cards.append('5'); print(' '.join(cards))\n",
    "cards.append('3'); print(' '.join(cards))\n",
    "cards.append('7'); print(' '.join(cards))\n",
    "\n",
    "cards.pop(); print(' '.join(cards)) # Last in, First out\n",
    "cards.pop(); print(' '.join(cards))"
   ]
  },
  {
   "attachments": {},
   "cell_type": "markdown",
   "metadata": {},
   "source": [
    "## Frame objects\n",
    "\n",
    "Frame objects contain information about a `single function call`, including which line call it.  \n",
    "Frames are created and `pushed onto` the call stack when function is called.  \n",
    "When the function returns, that frame is `popped off` the stack.  "
   ]
  },
  {
   "cell_type": "code",
   "execution_count": 3,
   "metadata": {},
   "outputs": [
    {
     "name": "stdout",
     "output_type": "stream",
     "text": [
      "Start of the program\n",
      " Frame A added - Remember Line 23\n",
      "  Frame B added - Remember line Line 03\n",
      "   Frame C added - Remember line Line 10\n",
      "   Frame B removed - Back to Line 10\n",
      "  Frame B removed - Back to Line 03\n",
      " Frame A removed - Back to Line 23\n",
      "End of Program\n"
     ]
    }
   ],
   "source": [
    "def A(remember, i=0):\n",
    "   print(\" \" * i, \"Frame A added - Remember\", remember)\n",
    "   B('Line 03', i+1)\n",
    "\n",
    "   print(\" \" * i, \"Frame A removed - Back to\", remember)\n",
    "   return\n",
    "\n",
    "def B(remember, i=0):\n",
    "   print(\" \" * i, \"Frame B added - Remember line\", remember)\n",
    "   C('Line 10', i+1)\n",
    "   \n",
    "   print(\" \" * i, \"Frame B removed - Back to\", remember)\n",
    "   return\n",
    "\n",
    "def C(remember, i=0):\n",
    "   print(\" \" * i, \"Frame C added - Remember line\", remember)\n",
    "   print(\" \" * i, \"Frame B removed - Back to\", remember)\n",
    "   return\n",
    "\n",
    "print('Start of the program')\n",
    "\n",
    "# First function call (intitiate frame stack)\n",
    "A('Line 23')\n",
    "\n",
    "print('End of Program')"
   ]
  },
  {
   "attachments": {},
   "cell_type": "markdown",
   "metadata": {},
   "source": [
    "## Base Case\n",
    "\n",
    "When using recursion, to `avoid a crash` there must be a base case."
   ]
  },
  {
   "cell_type": "code",
   "execution_count": 4,
   "metadata": {},
   "outputs": [
    {
     "name": "stdout",
     "output_type": "stream",
     "text": [
      "Frame 1\n",
      "  Recursive case 1\n",
      "Frame 2\n",
      "   Recursive case 2\n",
      "Frame 3\n",
      "    Base case\n",
      "   Recursive return 2\n",
      "  Recursive return 1\n"
     ]
    }
   ],
   "source": [
    "def show_frame(i=1):\n",
    "    print('Frame', i)\n",
    "\n",
    "    # Base case\n",
    "    if i == 3:\n",
    "        print(i * \" \", 'Base case')\n",
    "        return\n",
    "\n",
    "    print(i * \" \",'Recursive case', i)\n",
    "    show_frame(i+1)\n",
    "\n",
    "    print(i * \" \",'Recursive return', i)\n",
    "    return\n",
    "\n",
    "show_frame()"
   ]
  },
  {
   "attachments": {},
   "cell_type": "markdown",
   "metadata": {},
   "source": [
    "## References\n",
    "\n",
    "[The Recursive Book of Recursion](https://www.amazon.com/gp/product/B09BKL34VL) / amazon  \n",
    "[A Common-Sense Guide to Data Structures and Algorithms](https://www.amazon.com/gp/product/B08KYMK4NR/) / amazon  \n",
    "[Learn and Remember Algorithms](https://www.minte9.com/algorithms) / minte9  "
   ]
  }
 ],
 "metadata": {
  "kernelspec": {
   "display_name": "Python 3",
   "language": "python",
   "name": "python3"
  },
  "language_info": {
   "codemirror_mode": {
    "name": "ipython",
    "version": 3
   },
   "file_extension": ".py",
   "mimetype": "text/x-python",
   "name": "python",
   "nbconvert_exporter": "python",
   "pygments_lexer": "ipython3",
   "version": "3.9.7"
  },
  "orig_nbformat": 4
 },
 "nbformat": 4,
 "nbformat_minor": 2
}
