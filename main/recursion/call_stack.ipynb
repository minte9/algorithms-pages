{
 "cells": [
  {
   "attachments": {},
   "cell_type": "markdown",
   "metadata": {},
   "source": [
    "## Call Stack / Recursion, Algorithms\n",
    "\n",
    "#"
   ]
  },
  {
   "cell_type": "markdown",
   "metadata": {},
   "source": [
    "## Call Stack\n",
    "\n",
    "A stack stores multiple values like a list.  \n",
    "Stacks are LIFO data structure, the last in will be first out.    "
   ]
  },
  {
   "cell_type": "code",
   "execution_count": 1,
   "metadata": {},
   "outputs": [
    {
     "name": "stdout",
     "output_type": "stream",
     "text": [
      "5\n",
      "5 3\n",
      "5 3 7\n",
      "5 3\n"
     ]
    }
   ],
   "source": [
    "cards = []\n",
    "\n",
    "# Append cards at the end\n",
    "cards.append('5'); print(' '.join(cards))\n",
    "cards.append('3'); print(' '.join(cards))\n",
    "cards.append('7'); print(' '.join(cards))\n",
    "\n",
    "# Remove last\n",
    "cards.pop(); \n",
    "\n",
    "# Output the remaining list\n",
    "print(' '.join(cards)) "
   ]
  },
  {
   "attachments": {},
   "cell_type": "markdown",
   "metadata": {},
   "source": [
    "## Line Remembering\n",
    "\n",
    "Programming languages remember the line that called a function.   \n",
    "It returns to that line when the function finishes its execution.  "
   ]
  },
  {
   "cell_type": "code",
   "execution_count": 10,
   "metadata": {},
   "outputs": [
    {
     "name": "stdout",
     "output_type": "stream",
     "text": [
      "A -> Line 01\n",
      "A -> Goto B and remember the line in A\n",
      "B -> Line 01\n",
      "A -> Line 02\n"
     ]
    }
   ],
   "source": [
    "def A():\n",
    "    print('A -> Line 01')\n",
    "\n",
    "    \n",
    "    print('A -> Goto B and remember the line in A')\n",
    "    B()\n",
    "\n",
    "    print('A -> Line 02');\n",
    "\n",
    "def B():\n",
    "    print('B -> Line 01')\n",
    "\n",
    "A()"
   ]
  },
  {
   "attachments": {},
   "cell_type": "markdown",
   "metadata": {},
   "source": [
    "## Frame objects\n",
    "\n",
    "A Frame contain information about a single function call.  \n",
    "Frames are created and pushed onto the stack when function is called.  \n",
    "When the function returns, that frame is popped off the stack.  "
   ]
  },
  {
   "cell_type": "code",
   "execution_count": 6,
   "metadata": {},
   "outputs": [
    {
     "name": "stdout",
     "output_type": "stream",
     "text": [
      "Start of the program\n",
      " Frame A added\n",
      "  Frame B added\n",
      "   Frame C added\n",
      "   Frame B removed\n",
      "  Frame B removed\n",
      " Frame A removed\n",
      "End of Program\n"
     ]
    }
   ],
   "source": [
    "def A(i=0):\n",
    "   print(\" \" * i, \"Frame A added\")\n",
    "   B(i+1)\n",
    "\n",
    "   print(\" \" * i, \"Frame A removed\")\n",
    "   return\n",
    "\n",
    "def B(i=0):\n",
    "   print(\" \" * i, \"Frame B added\")\n",
    "   C(i+1)\n",
    "   \n",
    "   print(\" \" * i, \"Frame B removed\")\n",
    "   return\n",
    "\n",
    "def C(i=0):\n",
    "   print(\" \" * i, \"Frame C added\")\n",
    "   print(\" \" * i, \"Frame B removed\")\n",
    "   return\n",
    "\n",
    "print('Start of the program')\n",
    "\n",
    "# First function call (intitiate frame stack)\n",
    "A()\n",
    "\n",
    "print('End of Program')"
   ]
  },
  {
   "attachments": {},
   "cell_type": "markdown",
   "metadata": {},
   "source": [
    "## Base Case\n",
    "\n",
    "When using recursion, to avoid a crash, there always must be a base case.  \n",
    "The function stop calling itself and just returns.  \n",
    "The code in a recursive call can be split in two parts, before the recursive call and after recursive call.  "
   ]
  },
  {
   "cell_type": "code",
   "execution_count": 13,
   "metadata": {},
   "outputs": [
    {
     "name": "stdout",
     "output_type": "stream",
     "text": [
      "Frame 0 / Recursion 0\n",
      " Frame 1 / Recursion 1\n",
      "  Frame 2 / Recursion 2\n",
      "   -- Base case --\n",
      "  Frame 2 / Return\n",
      " Frame 1 / Return\n",
      "Frame 0 / Return\n"
     ]
    }
   ],
   "source": [
    "def show_frame(i=0):\n",
    "  sep = i * \" \"\n",
    "\n",
    "  if i == 3:\n",
    "    print(f\"{sep}-- Base case --\")\n",
    "    return\n",
    "\n",
    "  print(f\"{sep}Frame {i} / Recursion {i}\")\n",
    "\n",
    "  # Recursion\n",
    "  show_frame(i+1)\n",
    "\n",
    "  print(f\"{sep}Frame {i} / Return\")\n",
    "  return\n",
    "\n",
    "show_frame()"
   ]
  },
  {
   "attachments": {},
   "cell_type": "markdown",
   "metadata": {},
   "source": [
    "## References\n",
    "\n",
    "[The Recursive Book of Recursion](https://www.amazon.com/gp/product/B09BKL34VL) / amazon  \n",
    "[A Common-Sense Guide to Data Structures and Algorithms](https://www.amazon.com/gp/product/B08KYMK4NR/) / amazon  \n",
    "[Learn and Remember Algorithms](https://www.minte9.com/algorithms) / minte9  "
   ]
  }
 ],
 "metadata": {
  "kernelspec": {
   "display_name": "Python 3",
   "language": "python",
   "name": "python3"
  },
  "language_info": {
   "codemirror_mode": {
    "name": "ipython",
    "version": 3
   },
   "file_extension": ".py",
   "mimetype": "text/x-python",
   "name": "python",
   "nbconvert_exporter": "python",
   "pygments_lexer": "ipython3",
   "version": "3.8.12"
  },
  "orig_nbformat": 4
 },
 "nbformat": 4,
 "nbformat_minor": 2
}
