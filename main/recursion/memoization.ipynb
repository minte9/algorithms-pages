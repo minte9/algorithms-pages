{
 "cells": [
  {
   "attachments": {},
   "cell_type": "markdown",
   "metadata": {},
   "source": [
    "## Memoization / Recursion, Algorithms\n",
    "\n",
    "Memoization stores in `memory` the result of a function call (for a given set of arguments).  \n",
    "Memoization can be apply to any `pure` function to speed up the execution.  \n",
    "To memoize a function we create a cache `dictionary`.  "
   ]
  },
  {
   "cell_type": "code",
   "execution_count": 7,
   "metadata": {},
   "outputs": [
    {
     "name": "stdout",
     "output_type": "stream",
     "text": [
      "fibonacci_memoize(100) 2.992704153060913 s 354224848179261915075\n",
      "fibonacci_recursive(36) 2.9926934242248535 s 14930352\n",
      "fibonacci_iterative(100) 0.0002951622009277344 s 354224848179261915075\n"
     ]
    }
   ],
   "source": [
    "def fibonacci_recursive(n):\n",
    "    if n == 1: return 1\n",
    "    if n == 2: return 1\n",
    "    return fibonacci_recursive(n-1) + fibonacci_recursive(n-2)\n",
    "\n",
    "CACHE = {}\n",
    "def fibonacci_memoize(n):\n",
    "    global CACHE\n",
    "\n",
    "    if n == 1: CACHE[n] = 1; return 1\n",
    "    if n == 2: CACHE[n] = 1; return 1\n",
    "    if n in CACHE:\n",
    "        return CACHE[n]\n",
    "\n",
    "    res = fibonacci_memoize(n-1) + fibonacci_memoize(n-2)\n",
    "    CACHE[n] = res\n",
    "    return res\n",
    "\n",
    "def fibonacci_iterative(n):\n",
    "    a, b = 1, 1\n",
    "    for i in range(1, n-1):\n",
    "        a, b = b, a + b\n",
    "    return b\n",
    "\n",
    "# Tests\n",
    "assert fibonacci_iterative(2) == 1\n",
    "assert fibonacci_iterative(3) == 2\n",
    "assert fibonacci_recursive(4) == 3\n",
    "assert fibonacci_recursive(5) == 5\n",
    "assert fibonacci_memoize(6) == 8\n",
    "assert fibonacci_memoize(7) == 13\n",
    "\n",
    "# Time\n",
    "import time\n",
    "t1 = time.time(); n1 = fibonacci_memoize(100)\n",
    "t2 = time.time(); n2 = fibonacci_recursive(36)\n",
    "t3 = time.time(); n3 = fibonacci_iterative(100)\n",
    "\n",
    "print(\"fibonacci_memoize(100)\", time.time() - t1, 's', n1) \n",
    "print(\"fibonacci_recursive(36)\", time.time() - t2, 's', n2) \n",
    "print(\"fibonacci_iterative(100)\", time.time() - t3, 's', n3) "
   ]
  },
  {
   "attachments": {},
   "cell_type": "markdown",
   "metadata": {},
   "source": [
    "## Functools \n",
    "\n",
    "Python standard `library` has a function decorator lru_cache()."
   ]
  },
  {
   "cell_type": "code",
   "execution_count": 8,
   "metadata": {},
   "outputs": [
    {
     "name": "stdout",
     "output_type": "stream",
     "text": [
      "fibonacci_memoize(100) 3.0327558517456055 s |  354224848179261915075\n",
      "fibonacci_recursive(36) 3.032862424850464 s |  14930352\n",
      "fibonacci_iterative(100) 0.00034499168395996094 s |  354224848179261915075\n"
     ]
    }
   ],
   "source": [
    "from functools import lru_cache\n",
    "\n",
    "def fibonacci_recursive(n):\n",
    "    if n == 1: return 1\n",
    "    if n == 2: return 1\n",
    "    return fibonacci_recursive(n-1) + fibonacci_recursive(n-2)\n",
    "\n",
    "@lru_cache()\n",
    "def fibonacci_memoize(n): # Look Here\n",
    "    if n == 1: return 1\n",
    "    if n == 2: return 1\n",
    "    return fibonacci_memoize(n-1) + fibonacci_memoize(n-2)\n",
    "\n",
    "def fibonacci_iterative(n):\n",
    "    a, b = 1, 1\n",
    "    for i in range(1, n-1):\n",
    "        a, b = b, a + b\n",
    "    return b\n",
    "\n",
    "# Tests\n",
    "assert fibonacci_iterative(2) == 1\n",
    "assert fibonacci_iterative(3) == 2\n",
    "assert fibonacci_recursive(4) == 3\n",
    "assert fibonacci_recursive(5) == 5\n",
    "assert fibonacci_memoize(6) == 8\n",
    "assert fibonacci_memoize(7) == 13\n",
    "\n",
    "# Time\n",
    "import time\n",
    "t1 = time.time(); n1 = fibonacci_memoize(100)\n",
    "t2 = time.time(); n2 = fibonacci_recursive(36)\n",
    "t3 = time.time(); n3 = fibonacci_iterative(100)\n",
    "\n",
    "print(\"fibonacci_memoize(100)\", time.time() - t1, 's | ', n1) \n",
    "print(\"fibonacci_recursive(36)\", time.time() - t2, 's | ', n2) \n",
    "print(\"fibonacci_iterative(100)\", time.time() - t3, 's | ', n3) \n"
   ]
  }
 ],
 "metadata": {
  "kernelspec": {
   "display_name": "Python 3",
   "language": "python",
   "name": "python3"
  },
  "language_info": {
   "codemirror_mode": {
    "name": "ipython",
    "version": 3
   },
   "file_extension": ".py",
   "mimetype": "text/x-python",
   "name": "python",
   "nbconvert_exporter": "python",
   "pygments_lexer": "ipython3",
   "version": "3.9.7"
  },
  "orig_nbformat": 4
 },
 "nbformat": 4,
 "nbformat_minor": 2
}
