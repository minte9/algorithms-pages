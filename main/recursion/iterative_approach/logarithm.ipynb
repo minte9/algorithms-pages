{
 "cells": [
  {
   "attachments": {},
   "cell_type": "markdown",
   "metadata": {},
   "source": [
    "## Logarithm"
   ]
  },
  {
   "attachments": {},
   "cell_type": "markdown",
   "metadata": {},
   "source": [
    "### Math\n",
    "\n",
    "We can use math module's function `log()`"
   ]
  },
  {
   "cell_type": "code",
   "execution_count": null,
   "metadata": {},
   "outputs": [],
   "source": [
    "from math import log, pow\n",
    "\n",
    "print(log(8, 2))\n",
    "print(log(625, 5))\n",
    "print(log(1000, 10))\n",
    "\n",
    "assert pow(2, log(8, 2)) == 8\n",
    "assert pow(5, log(625, 5)) == 625\n",
    "assert pow(10, round(log(1000, 10))) == 1000\n"
   ]
  },
  {
   "attachments": {},
   "cell_type": "markdown",
   "metadata": {},
   "source": [
    "### Exponents\n",
    "\n",
    "We can calculate exponents iteratively, `multiplying` the number with itself."
   ]
  },
  {
   "cell_type": "code",
   "execution_count": null,
   "metadata": {},
   "outputs": [],
   "source": [
    "def pow_interative(x, n):\n",
    "    res = x\n",
    "    for i in range(1, n):\n",
    "        res *= x\n",
    "    return res"
   ]
  },
  {
   "attachments": {},
   "cell_type": "markdown",
   "metadata": {},
   "source": [
    "### Logarithm\n",
    "\n",
    "Use `binary search` (divide and conquer) to compute logarithm."
   ]
  },
  {
   "cell_type": "code",
   "execution_count": 20,
   "metadata": {},
   "outputs": [
    {
     "name": "stdout",
     "output_type": "stream",
     "text": [
      "3.0\n",
      "4.0\n"
     ]
    },
    {
     "ename": "OverflowError",
     "evalue": "(34, 'Numerical result out of range')",
     "output_type": "error",
     "traceback": [
      "\u001b[0;31m---------------------------------------------------------------------------\u001b[0m",
      "\u001b[0;31mOverflowError\u001b[0m                             Traceback (most recent call last)",
      "Cell \u001b[0;32mIn[20], line 24\u001b[0m\n\u001b[1;32m     22\u001b[0m \u001b[39mprint\u001b[39m(logarithm(\u001b[39m8\u001b[39m, \u001b[39m2\u001b[39m))\n\u001b[1;32m     23\u001b[0m \u001b[39mprint\u001b[39m(logarithm(\u001b[39m625\u001b[39m, \u001b[39m5\u001b[39m))\n\u001b[0;32m---> 24\u001b[0m \u001b[39mprint\u001b[39m(logarithm(\u001b[39m1000\u001b[39;49m, \u001b[39m10\u001b[39;49m))\n",
      "Cell \u001b[0;32mIn[20], line 13\u001b[0m, in \u001b[0;36mlogarithm\u001b[0;34m(x, base)\u001b[0m\n\u001b[1;32m      9\u001b[0m m \u001b[39m=\u001b[39m (right \u001b[39m+\u001b[39m left) \u001b[39m/\u001b[39m \u001b[39m2\u001b[39m \u001b[39m# middle\u001b[39;00m\n\u001b[1;32m     11\u001b[0m \u001b[39mwhile\u001b[39;00m right \u001b[39m-\u001b[39m left \u001b[39m>\u001b[39m epsilon:\n\u001b[0;32m---> 13\u001b[0m     \u001b[39mif\u001b[39;00m x \u001b[39m<\u001b[39m\u001b[39m=\u001b[39m base\u001b[39m*\u001b[39;49m\u001b[39m*\u001b[39;49mm:\n\u001b[1;32m     14\u001b[0m         right \u001b[39m=\u001b[39m m\n\u001b[1;32m     15\u001b[0m     \u001b[39melse\u001b[39;00m:\n",
      "\u001b[0;31mOverflowError\u001b[0m: (34, 'Numerical result out of range')"
     ]
    }
   ],
   "source": [
    "def logarithm(x, base):\n",
    "    if x == 1:\n",
    "        return 0\n",
    "\n",
    "    left = 0\n",
    "    right = x\n",
    "    epsilon = 1e-7 # small value (precision of the result)\n",
    "    \n",
    "    m = (right + left) / 2 # middle\n",
    "\n",
    "    while right - left > epsilon:\n",
    "\n",
    "        if x <= base**m:\n",
    "            right = m\n",
    "        else:\n",
    "            left = m\n",
    "\n",
    "        m = (left + right) / 2\n",
    "\n",
    "    return round(m, 7)\n",
    "\n",
    "print(logarithm(8, 2))\n",
    "print(logarithm(625, 5))\n",
    "print(logarithm(1000, 10))\n"
   ]
  },
  {
   "attachments": {},
   "cell_type": "markdown",
   "metadata": {},
   "source": [
    "### References\n",
    "\n",
    "https://www.mathsisfun.com/algebra/logarithms.html"
   ]
  }
 ],
 "metadata": {
  "kernelspec": {
   "display_name": "Python 3",
   "language": "python",
   "name": "python3"
  },
  "language_info": {
   "codemirror_mode": {
    "name": "ipython",
    "version": 3
   },
   "file_extension": ".py",
   "mimetype": "text/x-python",
   "name": "python",
   "nbconvert_exporter": "python",
   "pygments_lexer": "ipython3",
   "version": "3.9.7"
  },
  "orig_nbformat": 4
 },
 "nbformat": 4,
 "nbformat_minor": 2
}
