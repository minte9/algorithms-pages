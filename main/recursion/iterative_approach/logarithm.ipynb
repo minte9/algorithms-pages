{
 "cells": [
  {
   "attachments": {},
   "cell_type": "markdown",
   "metadata": {},
   "source": [
    "## Logarithm"
   ]
  },
  {
   "attachments": {},
   "cell_type": "markdown",
   "metadata": {},
   "source": [
    "### Math\n",
    "\n",
    "Logarithm means to find exponent, like in `2^x = 8`"
   ]
  },
  {
   "cell_type": "code",
   "execution_count": null,
   "metadata": {},
   "outputs": [],
   "source": [
    "from math import log, pow\n",
    "\n",
    "print(log(8, 2))\n",
    "print(log(625, 5))\n",
    "print(log(1000, 10))\n",
    "\n",
    "assert pow(2, log(8, 2)) == 8\n",
    "assert pow(5, log(625, 5)) == 625\n",
    "assert pow(10, round(log(1000, 10))) == 1000\n"
   ]
  },
  {
   "attachments": {},
   "cell_type": "markdown",
   "metadata": {},
   "source": [
    "### Exponents\n",
    "\n",
    "We can calculate exponents iteratively, `multiplying` the number with itself."
   ]
  },
  {
   "cell_type": "code",
   "execution_count": null,
   "metadata": {},
   "outputs": [],
   "source": [
    "def pow_interative(x, n):\n",
    "    res = x\n",
    "    for i in range(1, n):\n",
    "        res *= x\n",
    "    return res"
   ]
  },
  {
   "attachments": {},
   "cell_type": "markdown",
   "metadata": {},
   "source": [
    "### Logarithm\n",
    "\n",
    "Use `binary search` (divide and conquer) to compute logarithm."
   ]
  },
  {
   "cell_type": "code",
   "execution_count": 5,
   "metadata": {},
   "outputs": [
    {
     "name": "stdout",
     "output_type": "stream",
     "text": [
      "3.0\n",
      "4.0\n",
      "3.0\n"
     ]
    }
   ],
   "source": [
    "def logarithm(x, base):\n",
    "    if x == 1:\n",
    "        return 0\n",
    "\n",
    "    left = 0\n",
    "    right = x\n",
    "    epsilon = 1e-7 # small value (precision of the result)\n",
    "    \n",
    "    m = (right + left) // 2 # middle\n",
    "    \n",
    "    while right - left > epsilon:\n",
    "\n",
    "        if x <= base**m:\n",
    "            right = m\n",
    "        else:\n",
    "            left = m\n",
    "\n",
    "        m = (left + right) / 2\n",
    "\n",
    "    return round(m, 7)\n",
    "\n",
    "print(logarithm(8, 2))\n",
    "print(logarithm(625, 5))\n",
    "print(logarithm(1000, 10))\n"
   ]
  },
  {
   "attachments": {},
   "cell_type": "markdown",
   "metadata": {},
   "source": [
    "### References\n",
    "\n",
    "https://www.mathsisfun.com/algebra/logarithms.html"
   ]
  }
 ],
 "metadata": {
  "kernelspec": {
   "display_name": "Python 3",
   "language": "python",
   "name": "python3"
  },
  "language_info": {
   "codemirror_mode": {
    "name": "ipython",
    "version": 3
   },
   "file_extension": ".py",
   "mimetype": "text/x-python",
   "name": "python",
   "nbconvert_exporter": "python",
   "pygments_lexer": "ipython3",
   "version": "3.9.7"
  },
  "orig_nbformat": 4
 },
 "nbformat": 4,
 "nbformat_minor": 2
}
