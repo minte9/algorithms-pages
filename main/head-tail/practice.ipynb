{
 "cells": [
  {
   "attachments": {},
   "cell_type": "markdown",
   "metadata": {},
   "source": [
    "## Head Permutations / v1\n",
    "\n",
    "Find permutations of A in ABCD / use For Loop"
   ]
  },
  {
   "cell_type": "code",
   "execution_count": 41,
   "metadata": {},
   "outputs": [
    {
     "name": "stdout",
     "output_type": "stream",
     "text": [
      "['ABCD', 'BACD', 'BCAD', 'BCDA']\n"
     ]
    }
   ],
   "source": [
    "def head_permutations(s):\n",
    "\n",
    "    head = s[0]\n",
    "    tail = s[1:]\n",
    "    #print(head, tail)\n",
    "\n",
    "    P = []\n",
    "    for i in range(len(tail) + 1):\n",
    "        new_head = tail[0:i]\n",
    "        new_tail = tail[i:]\n",
    "        #print(\" \"*i, new_head, new_tail)\n",
    "\n",
    "        permutation = new_head + head + new_tail\n",
    "        #print(permutation)\n",
    "\n",
    "        P.append(permutation)\n",
    "    return P\n",
    "\n",
    "P = head_permutations('ABCD')\n",
    "print(P)"
   ]
  },
  {
   "attachments": {},
   "cell_type": "markdown",
   "metadata": {},
   "source": [
    "## Head Permutations / v2\n",
    "\n",
    "Find permutations of A in ABCD / use List Comprehension"
   ]
  },
  {
   "cell_type": "code",
   "execution_count": 42,
   "metadata": {},
   "outputs": [
    {
     "name": "stdout",
     "output_type": "stream",
     "text": [
      "['123456', '213456', '231456', '234156', '234516', '234561']\n"
     ]
    }
   ],
   "source": [
    "def head_permutations_v2(s):\n",
    "    head = s[0]\n",
    "    tail = s[1:]\n",
    "    P = [tail[0:i] + head + tail[i:] for i in range(len(tail) + 1)]\n",
    "    return P\n",
    "\n",
    "P = head_permutations_v2('123456')\n",
    "print(P)"
   ]
  },
  {
   "attachments": {},
   "cell_type": "markdown",
   "metadata": {},
   "source": [
    "## Permutations / without repetition / v1\n",
    "\n",
    "Find permutations of ABCD / use Recursion"
   ]
  },
  {
   "cell_type": "code",
   "execution_count": 43,
   "metadata": {},
   "outputs": [
    {
     "name": "stdout",
     "output_type": "stream",
     "text": [
      "['ABCD', 'BACD', 'BCAD', 'BCDA', 'ACBD']\n"
     ]
    }
   ],
   "source": [
    "def permutations(s):\n",
    "\n",
    "    if len(s) == 1: \n",
    "        return s # Base case\n",
    "        \n",
    "    head = s[0]\n",
    "    tail = s[1:]\n",
    "\n",
    "    P = []\n",
    "    for ss in permutations(tail):\n",
    "        for i in range(len(ss) + 1):\n",
    "            permutation = ss[0:i] + head + ss[i:]\n",
    "            P.append(permutation)\n",
    "\n",
    "    return P\n",
    "\n",
    "P = permutations('ABCD')\n",
    "print(P[0:5])\n",
    "\n",
    "import math\n",
    "assert len(P) == math.factorial(4)"
   ]
  },
  {
   "attachments": {},
   "cell_type": "markdown",
   "metadata": {},
   "source": [
    "## Permutations / without repetition / v2\n",
    "\n",
    "Find permutations of ABCD / use Recursion / use List Comprehension"
   ]
  },
  {
   "cell_type": "code",
   "execution_count": 45,
   "metadata": {},
   "outputs": [
    {
     "name": "stdout",
     "output_type": "stream",
     "text": [
      "['123456', '213456', '231456', '234156', '234516']\n"
     ]
    }
   ],
   "source": [
    "def permutations(s):\n",
    "\n",
    "    if len(s) == 1: \n",
    "        return s # Base case\n",
    "        \n",
    "    head = s[0]\n",
    "    tail = s[1:]\n",
    "\n",
    "    P = []\n",
    "    for ss in permutations(tail):\n",
    "        PP = [ss[0:i] + head + ss[i:] for i in range(len(ss) + 1)]\n",
    "        P.extend(PP)\n",
    "\n",
    "    return P\n",
    "\n",
    "P = permutations('123456')\n",
    "print(P[0:5])\n",
    "\n",
    "import math\n",
    "assert len(P) == math.factorial(6)"
   ]
  }
 ],
 "metadata": {
  "kernelspec": {
   "display_name": "Python 3",
   "language": "python",
   "name": "python3"
  },
  "language_info": {
   "codemirror_mode": {
    "name": "ipython",
    "version": 3
   },
   "file_extension": ".py",
   "mimetype": "text/x-python",
   "name": "python",
   "nbconvert_exporter": "python",
   "pygments_lexer": "ipython3",
   "version": "3.9.7"
  },
  "orig_nbformat": 4
 },
 "nbformat": 4,
 "nbformat_minor": 2
}
