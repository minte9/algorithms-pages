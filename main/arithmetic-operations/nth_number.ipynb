{
 "cells": [
  {
   "attachments": {},
   "cell_type": "markdown",
   "metadata": {},
   "source": [
    "### Digit of the hundreds\n",
    "\n",
    "Find the digit of the hundreds, the 2nd position counting from the left side of the number?  \n",
    "The time complexity of the algorithm is constant O(1).\n",
    "\n",
    "1. Extract the last 3 digits from the input number\n",
    "2. Extract the last 2 digits from the number\n",
    "3. Get the difference and divide by 100"
   ]
  },
  {
   "cell_type": "code",
   "execution_count": 28,
   "metadata": {},
   "outputs": [
    {
     "name": "stdout",
     "output_type": "stream",
     "text": [
      "2\n"
     ]
    }
   ],
   "source": [
    "input = 1234\n",
    "\n",
    "a = input % 1000    # 234\n",
    "b = input % 100     # 34\n",
    "c = a - b           # 200\n",
    "d = c / 100         # 2.0\n",
    "res = int(d)\n",
    "\n",
    "assert res == 2 \n",
    "print(res)"
   ]
  },
  {
   "attachments": {},
   "cell_type": "markdown",
   "metadata": {},
   "source": [
    "### Division operator\n",
    "\n",
    "We can use the floor division operator // and the modulo operator (that gives the reminder of a division).  \n",
    "The time complexity of the algorithm is constant O(1)."
   ]
  },
  {
   "cell_type": "code",
   "execution_count": 33,
   "metadata": {},
   "outputs": [
    {
     "name": "stdout",
     "output_type": "stream",
     "text": [
      "2\n"
     ]
    }
   ],
   "source": [
    "n = 1234\n",
    "r = n // 100 % 10     # 12 % 10\n",
    "assert r == 2\n",
    "print(r)"
   ]
  },
  {
   "attachments": {},
   "cell_type": "markdown",
   "metadata": {},
   "source": [
    "### O(n) solution\n",
    "\n",
    "Using a list to find the digit of the hundreds is more costly O(n).  \n",
    "\n",
    "Iterating through each character (digit) in the string takes 'n' iterations.  \n",
    "Reversing the list takes O(n) time, as it goes through each element in the list.  \n",
    "Accessing the element at index 2 is a constant-time operation (O(1)."
   ]
  },
  {
   "cell_type": "code",
   "execution_count": 30,
   "metadata": {},
   "outputs": [
    {
     "name": "stdout",
     "output_type": "stream",
     "text": [
      "2\n"
     ]
    }
   ],
   "source": [
    "number = 1234\n",
    "\n",
    "digits = []\n",
    "for n in str(number):\n",
    "    digits.append(n)\n",
    "\n",
    "reversed = digits[::-1]\n",
    "hundreds_digit = reversed[2]\n",
    "\n",
    "print(hundreds_digit)"
   ]
  }
 ],
 "metadata": {
  "kernelspec": {
   "display_name": "Python 3",
   "language": "python",
   "name": "python3"
  },
  "language_info": {
   "codemirror_mode": {
    "name": "ipython",
    "version": 3
   },
   "file_extension": ".py",
   "mimetype": "text/x-python",
   "name": "python",
   "nbconvert_exporter": "python",
   "pygments_lexer": "ipython3",
   "version": "3.8.12"
  },
  "orig_nbformat": 4
 },
 "nbformat": 4,
 "nbformat_minor": 2
}
