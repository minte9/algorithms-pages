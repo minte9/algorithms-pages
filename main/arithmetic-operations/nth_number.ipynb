{
 "cells": [
  {
   "attachments": {},
   "cell_type": "markdown",
   "metadata": {},
   "source": [
    "### Digit of the hundreds O(1)\n",
    "\n",
    "Find the digit of the hundreds, the 2nd position counting from the left side of the number?  \n",
    "The time complexity of the algorithm is constant O(1).\n",
    "\n",
    "    1. Extract the last 3 digits from the input number\n",
    "    2. Extract the last 2 digits from the number\n",
    "    3. Get the difference and divide by 100"
   ]
  },
  {
   "cell_type": "code",
   "execution_count": 35,
   "metadata": {},
   "outputs": [
    {
     "name": "stdout",
     "output_type": "stream",
     "text": [
      "2\n"
     ]
    }
   ],
   "source": [
    "input = 1234\n",
    "\n",
    "a = input % 1000    # 234\n",
    "b = input % 100     # 34\n",
    "c = a - b           # 200\n",
    "d = c / 100         # 2.0\n",
    "res = int(d)\n",
    "\n",
    "assert res == 2 \n",
    "print(res)"
   ]
  },
  {
   "attachments": {},
   "cell_type": "markdown",
   "metadata": {},
   "source": [
    "### Division operator O(1)\n",
    "\n",
    "We can use the floor division operator // and the modulo operator (that gives the reminder of a division).  \n",
    "The time complexity of the algorithm is constant O(1).\n",
    "\n",
    "    1. Use floor division by 100\n",
    "    2. Use modulo operator on the result"
   ]
  },
  {
   "cell_type": "code",
   "execution_count": 36,
   "metadata": {},
   "outputs": [
    {
     "name": "stdout",
     "output_type": "stream",
     "text": [
      "2\n"
     ]
    }
   ],
   "source": [
    "n = 1234\n",
    "r = n // 100 % 10     # 12 % 10\n",
    "\n",
    "assert r == 2\n",
    "print(r)"
   ]
  },
  {
   "attachments": {},
   "cell_type": "markdown",
   "metadata": {},
   "source": [
    "### Using list O(n)\n",
    "\n",
    "Using a list to find the digit of the hundreds is more costly.  \n",
    "\n",
    "    1. Iterating through each character is O(n)\n",
    "    2. Reversing the list is O(n), as it goes through each element\n",
    "    3. Accessing the element is O(1)"
   ]
  },
  {
   "cell_type": "code",
   "execution_count": 47,
   "metadata": {},
   "outputs": [
    {
     "name": "stdout",
     "output_type": "stream",
     "text": [
      "2\n"
     ]
    }
   ],
   "source": [
    "input = 1234\n",
    "\n",
    "digits = []\n",
    "for n in str(number):\n",
    "    digits.append(n)\n",
    "\n",
    "reversed = digits[::-1]\n",
    "res = reversed[2]\n",
    "res = int(res)\n",
    "\n",
    "assert res == 2\n",
    "print(res)"
   ]
  }
 ],
 "metadata": {
  "kernelspec": {
   "display_name": "Python 3",
   "language": "python",
   "name": "python3"
  },
  "language_info": {
   "codemirror_mode": {
    "name": "ipython",
    "version": 3
   },
   "file_extension": ".py",
   "mimetype": "text/x-python",
   "name": "python",
   "nbconvert_exporter": "python",
   "pygments_lexer": "ipython3",
   "version": "3.8.12"
  },
  "orig_nbformat": 4
 },
 "nbformat": 4,
 "nbformat_minor": 2
}
