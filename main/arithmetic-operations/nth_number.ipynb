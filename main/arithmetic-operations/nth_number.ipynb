{
 "cells": [
  {
   "attachments": {},
   "cell_type": "markdown",
   "metadata": {},
   "source": [
    "### Hundreds Digit\n",
    "\n",
    "How do we find the digit of the hundreds,the 2nd position when counting from the right side of the number?  \n",
    "The time complexity of the algorithm is constant O(1)."
   ]
  },
  {
   "cell_type": "code",
   "execution_count": 20,
   "metadata": {},
   "outputs": [
    {
     "name": "stdout",
     "output_type": "stream",
     "text": [
      "2\n"
     ]
    }
   ],
   "source": [
    "number = 1234\n",
    "\n",
    "# Extracting the hundreds digit\n",
    "n = number % 1000\n",
    "n = n - (n % 100)\n",
    "n = n / 100\n",
    "n = int(n)\n",
    "\n",
    "# Output result\n",
    "print(n)"
   ]
  },
  {
   "attachments": {},
   "cell_type": "markdown",
   "metadata": {},
   "source": [
    "### An optimized solution\n",
    "\n",
    "A more straightforward approach is using the floor division operator //   \n",
    "and the modulo operator, that gives the remainder of a division operation.\n",
    "\n",
    "The time complexity of the algorithm is constant O(1)."
   ]
  },
  {
   "cell_type": "code",
   "execution_count": 19,
   "metadata": {},
   "outputs": [
    {
     "name": "stdout",
     "output_type": "stream",
     "text": [
      "2\n"
     ]
    }
   ],
   "source": [
    "number = 1234\n",
    "\n",
    "# Extracting the hundreds digit\n",
    "n = (number // 100) % 10\n",
    "\n",
    "# Output result\n",
    "print(n)"
   ]
  },
  {
   "attachments": {},
   "cell_type": "markdown",
   "metadata": {},
   "source": [
    "### O(n) solution\n",
    "\n",
    "Using a list to find the digit of the hundreds is more costly O(n).  \n",
    "\n",
    "Iterating through each character (digit) in the string takes 'n' iterations.  \n",
    "Reversing the list takes O(n) time, as it goes through each element in the list.  \n",
    "Accessing the element at index 2 is a constant-time operation (O(1)."
   ]
  },
  {
   "cell_type": "code",
   "execution_count": 34,
   "metadata": {},
   "outputs": [
    {
     "name": "stdout",
     "output_type": "stream",
     "text": [
      "2\n"
     ]
    }
   ],
   "source": [
    "number = 1234\n",
    "\n",
    "digits = []\n",
    "for n in str(number):\n",
    "    digits.append(n)\n",
    "\n",
    "reversed = digits[::-1]\n",
    "hundreds_digit = reversed[2]\n",
    "\n",
    "print(hundreds_digit)"
   ]
  }
 ],
 "metadata": {
  "kernelspec": {
   "display_name": "Python 3",
   "language": "python",
   "name": "python3"
  },
  "language_info": {
   "codemirror_mode": {
    "name": "ipython",
    "version": 3
   },
   "file_extension": ".py",
   "mimetype": "text/x-python",
   "name": "python",
   "nbconvert_exporter": "python",
   "pygments_lexer": "ipython3",
   "version": "3.9.7"
  },
  "orig_nbformat": 4
 },
 "nbformat": 4,
 "nbformat_minor": 2
}
