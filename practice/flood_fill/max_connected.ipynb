{
 "cells": [
  {
   "attachments": {},
   "cell_type": "markdown",
   "metadata": {},
   "source": [
    "## Max Connected / Flood Fill Practice"
   ]
  },
  {
   "attachments": {},
   "cell_type": "markdown",
   "metadata": {},
   "source": [
    "## Maximum connected / v1\n",
    "\n",
    "Given a `grid 4x3`, find the maximum connected colors / use Recursion"
   ]
  },
  {
   "cell_type": "code",
   "execution_count": 1,
   "metadata": {},
   "outputs": [
    {
     "name": "stdout",
     "output_type": "stream",
     "text": [
      "[2, 2, 2, 0, 2, 1, 4, 0, 0, 0, 0, 0]\n",
      "5\n"
     ]
    }
   ],
   "source": [
    "grid = [\n",
    "    [0, 0, 2, 2],\n",
    "    [0, 1, 2, 1],\n",
    "    [2, 1, 1, 1],\n",
    "]\n",
    "\n",
    "UP, DOWN, LEFT, RIGHT = 'up', 'down', 'left', 'right'\n",
    "\n",
    "def max_connected(A, start=(0, 0), parent=None, color=0):\n",
    "\n",
    "    y, x = start\n",
    "    m = 0\n",
    "\n",
    "    # Base cases\n",
    "    if y < 0 or x < 0: \n",
    "        return 0\n",
    "\n",
    "    if y == len(A)-1 or x == len(A[0])-1:\n",
    "        return 0\n",
    "\n",
    "    # Neighbours coordinates\n",
    "    top = y-1, x\n",
    "    right = y, x+1\n",
    "    bottom = y+1, x\n",
    "    left = y, x-1\n",
    "\n",
    "    # Count north\n",
    "    y, x = top\n",
    "    if A[y][x] == color and parent != UP: \n",
    "        m = m + 1 + max_connected(A, top, parent=DOWN)\n",
    "\n",
    "    # Count east\n",
    "    y, x = right\n",
    "    if A[y][x] == color and parent != RIGHT: \n",
    "        m = m + 1 + max_connected(A, right, parent=LEFT)\n",
    "\n",
    "    # Count south\n",
    "    y, x = bottom\n",
    "    if A[y][x] == color and parent != DOWN: \n",
    "        m = m + 1 + max_connected(A, bottom, parent=UP)\n",
    "\n",
    "    # Count west\n",
    "    y, x = left\n",
    "    if A[y][x] == color and parent != LEFT: \n",
    "        m = m + 1 + max_connected(A, left, parent=RIGHT)\n",
    "\n",
    "    return m\n",
    "\n",
    "A = grid\n",
    "\n",
    "totals = []\n",
    "for j in range(len(A)):\n",
    "    for i in range(len(A[0])):\n",
    "\n",
    "        start = (j, i)\n",
    "        color = A[j][i]\n",
    "\n",
    "        m_ = max_connected(A, start, color=color)\n",
    "        totals.append(m_)\n",
    "\n",
    "print(totals)\n",
    "max_connected = max(totals) + 1 # 1 for the start item itself\n",
    "print(max_connected)"
   ]
  },
  {
   "attachments": {},
   "cell_type": "markdown",
   "metadata": {},
   "source": [
    "## Maximum connected / v2\n",
    "\n",
    "Given a `grid 4x3`, find the maximum connected colors / use Iteration"
   ]
  },
  {
   "cell_type": "code",
   "execution_count": 2,
   "metadata": {},
   "outputs": [
    {
     "name": "stdout",
     "output_type": "stream",
     "text": [
      "{'0': 4, '1': 3, '2': 5}\n",
      "6\n"
     ]
    }
   ],
   "source": [
    "# We can count only DOWN and RIGHT for each element\n",
    "\n",
    "A = [\n",
    "    [0, 0, 2, 2, 2],\n",
    "    [0, 0, 2, 1, 2],\n",
    "    [2, 1, 1, 1, 2],\n",
    "]\n",
    "\n",
    "connections = {'0': 0, '1': 0, '2': 0}\n",
    "\n",
    "for y in range(len(A)):\n",
    "    for x in range(len(A[0])):\n",
    "        color = A[y][x]\n",
    "\n",
    "        # Right\n",
    "        if x+1 < len(A[0]): \n",
    "            if A[y][x+1] == color:\n",
    "                connections[str(color)] += 1\n",
    "\n",
    "        # Down\n",
    "        if y+1 < len(A): \n",
    "            if A[y+1][x] == color:\n",
    "                connections[str(color)] += 1\n",
    "\n",
    "print(connections)\n",
    "max_connections = max(connections.values()) + 1 # 1 for start item itself\n",
    "print(max_connections)"
   ]
  },
  {
   "attachments": {},
   "cell_type": "markdown",
   "metadata": {},
   "source": [
    "## References\n",
    "\n",
    "[Maxim number of connected colors](https://www.youtube.com/watch?v=IWvbPIYQPFM) youtube"
   ]
  }
 ],
 "metadata": {
  "kernelspec": {
   "display_name": "Python 3",
   "language": "python",
   "name": "python3"
  },
  "language_info": {
   "codemirror_mode": {
    "name": "ipython",
    "version": 3
   },
   "file_extension": ".py",
   "mimetype": "text/x-python",
   "name": "python",
   "nbconvert_exporter": "python",
   "pygments_lexer": "ipython3",
   "version": "3.9.7"
  },
  "orig_nbformat": 4
 },
 "nbformat": 4,
 "nbformat_minor": 2
}
