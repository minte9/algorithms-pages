{
 "cells": [
  {
   "attachments": {},
   "cell_type": "markdown",
   "metadata": {},
   "source": [
    "## Divide Conquer / Algorithms"
   ]
  },
  {
   "attachments": {},
   "cell_type": "markdown",
   "metadata": {},
   "source": [
    "## Linear Search\n",
    "\n",
    "A linear search goes `through all` the data."
   ]
  },
  {
   "cell_type": "code",
   "execution_count": 3,
   "metadata": {},
   "outputs": [
    {
     "name": "stdout",
     "output_type": "stream",
     "text": [
      "Item 8, index 7\n"
     ]
    }
   ],
   "source": [
    "data = [1, 2, 3, 4, 5, 6, 7, 8, 9, 10]\n",
    "\n",
    "def linear_search(x, data):\n",
    "    for i in range(len(data)):\n",
    "        if x == data[i]:\n",
    "            return i\n",
    "    return\n",
    "\n",
    "x = 8\n",
    "k = linear_search(x, data)\n",
    "print(f\"Item {x}, index {k}\")"
   ]
  },
  {
   "attachments": {},
   "cell_type": "markdown",
   "metadata": {},
   "source": [
    "## Binary search\n",
    "\n",
    "A binary search find the `middle` and continue the search on the halves."
   ]
  },
  {
   "cell_type": "code",
   "execution_count": 6,
   "metadata": {},
   "outputs": [
    {
     "name": "stdout",
     "output_type": "stream",
     "text": [
      "Item 8, index 7\n"
     ]
    }
   ],
   "source": [
    "data = [1, 2, 3, 4, 5, 6, 7, 8, 9, 10]\n",
    "\n",
    "def binary_search(x, data):\n",
    "\n",
    "    # Left and Right indexes\n",
    "    i = 0\n",
    "    j = len(data) - 1\n",
    "\n",
    "    while True:\n",
    "\n",
    "        # Compute middle\n",
    "        m = (i + j) // 2\n",
    "\n",
    "        if x > data[m]: i = m + 1\n",
    "        if x < data[m]: j = m - 1\n",
    "\n",
    "        if x == data[m]: # found it\n",
    "            return m\n",
    "\n",
    "        if i > j:\n",
    "            break\n",
    "    return\n",
    "\n",
    "x = 8\n",
    "k = binary_search(x, data)\n",
    "print(f\"Item {x}, index {k}\")"
   ]
  },
  {
   "attachments": {},
   "cell_type": "markdown",
   "metadata": {},
   "source": [
    "## Binary vs Linear\n",
    "\n",
    "A binary search on 50 takes 6 stesps and on 100 `only 7 steps`.  "
   ]
  },
  {
   "cell_type": "code",
   "execution_count": 8,
   "metadata": {},
   "outputs": [
    {
     "name": "stdout",
     "output_type": "stream",
     "text": [
      "Data generation:\t 5.446046829223633 s\n",
      "Linear search:\t\t 6.067245721817017 s\n",
      "Linear search:\t\t 0.00010132789611816406 s\n"
     ]
    }
   ],
   "source": [
    "import time\n",
    "\n",
    "# Generate data\n",
    "t = time.time()\n",
    "data = [i for i in range(123456789)]\n",
    "print(\"Data generation:\\t\", time.time() - t, \"s\")\n",
    "                                                        \n",
    "# Linear search\n",
    "t = time.time()\n",
    "k = linear_search(123456780, data)\n",
    "print(\"Linear search:\\t\\t\", time.time() - t, \"s\")\n",
    "\n",
    "# Binary search\n",
    "t = time.time()\n",
    "k = binary_search(123456780, data)\n",
    "print(\"Linear search:\\t\\t\", time.time() - t, \"s\")"
   ]
  }
 ],
 "metadata": {
  "kernelspec": {
   "display_name": "Python 3",
   "language": "python",
   "name": "python3"
  },
  "language_info": {
   "codemirror_mode": {
    "name": "ipython",
    "version": 3
   },
   "file_extension": ".py",
   "mimetype": "text/x-python",
   "name": "python",
   "nbconvert_exporter": "python",
   "pygments_lexer": "ipython3",
   "version": "3.9.7"
  },
  "orig_nbformat": 4
 },
 "nbformat": 4,
 "nbformat_minor": 2
}
