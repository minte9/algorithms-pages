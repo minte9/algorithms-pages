{
 "cells": [
  {
   "attachments": {},
   "cell_type": "markdown",
   "metadata": {},
   "source": [
    "## Divide Conquer / Algorithms"
   ]
  },
  {
   "attachments": {},
   "cell_type": "markdown",
   "metadata": {},
   "source": [
    "## Linear Search\n",
    "\n",
    "A linear search itterates `through all` the data."
   ]
  },
  {
   "cell_type": "code",
   "execution_count": 16,
   "metadata": {},
   "outputs": [
    {
     "name": "stdout",
     "output_type": "stream",
     "text": [
      "Item 8, index 7\n"
     ]
    }
   ],
   "source": [
    "data = [1, 2, 3, 4, 5, 6, 7, 8, 9, 10]\n",
    "\n",
    "def linear_search(x, data):\n",
    "    for i in range(len(data)):\n",
    "        if x == data[i]:\n",
    "            return i\n",
    "    return\n",
    "\n",
    "x = 8\n",
    "k = linear_search(x, data)\n",
    "print(f\"Item {x}, index {k}\")"
   ]
  },
  {
   "attachments": {},
   "cell_type": "markdown",
   "metadata": {},
   "source": [
    "## Binary Search\n",
    "\n",
    "A binary search find the `middle` and continue the search on the halves."
   ]
  },
  {
   "cell_type": "code",
   "execution_count": 17,
   "metadata": {},
   "outputs": [
    {
     "name": "stdout",
     "output_type": "stream",
     "text": [
      "Item 8, index 7\n"
     ]
    }
   ],
   "source": [
    "data = [1, 2, 3, 4, 5, 6, 7, 8, 9, 10]\n",
    "\n",
    "def binary_search(x, data):\n",
    "\n",
    "    # Left and Right indexes\n",
    "    i = 0\n",
    "    j = len(data) - 1\n",
    "\n",
    "    while True:\n",
    "\n",
    "        # Compute middle\n",
    "        m = (i + j) // 2\n",
    "\n",
    "        if x > data[m]: i = m + 1\n",
    "        if x < data[m]: j = m - 1\n",
    "\n",
    "        if x == data[m]: # found it\n",
    "            return m\n",
    "\n",
    "        if i > j:\n",
    "            break\n",
    "    return\n",
    "\n",
    "x = 8\n",
    "k = binary_search(x, data)\n",
    "print(f\"Item {x}, index {k}\")"
   ]
  },
  {
   "attachments": {},
   "cell_type": "markdown",
   "metadata": {},
   "source": [
    "## Binary Search / Runtime \n",
    "\n",
    "A binary search on 50 items takes 6 stesps and on 100 `only 7 steps` (linear search needs 100 steps). "
   ]
  },
  {
   "cell_type": "code",
   "execution_count": 18,
   "metadata": {},
   "outputs": [
    {
     "name": "stdout",
     "output_type": "stream",
     "text": [
      "Data generation:\t 3.877490282058716 s\n",
      "Linear search:\t\t 6.151951313018799 s\n",
      "Linear search:\t\t 8.249282836914062e-05 s\n"
     ]
    }
   ],
   "source": [
    "import time\n",
    "\n",
    "# Generate data\n",
    "t = time.time()\n",
    "data = [i for i in range(123456789)]\n",
    "print(\"Data generation:\\t\", time.time() - t, \"s\")\n",
    "                                                        \n",
    "# Linear search\n",
    "t = time.time()\n",
    "k = linear_search(123456780, data)\n",
    "print(\"Linear search:\\t\\t\", time.time() - t, \"s\")\n",
    "\n",
    "# Binary search\n",
    "t = time.time()\n",
    "k = binary_search(123456780, data)\n",
    "print(\"Linear search:\\t\\t\", time.time() - t, \"s\")"
   ]
  },
  {
   "attachments": {},
   "cell_type": "markdown",
   "metadata": {},
   "source": [
    "## Quick Sort\n",
    "\n",
    "The algorithm works by `repeatedly partitioning` items into two sets."
   ]
  },
  {
   "cell_type": "code",
   "execution_count": 137,
   "metadata": {},
   "outputs": [
    {
     "name": "stdout",
     "output_type": "stream",
     "text": [
      "Data: [8, 18, 4, 2, 10] \n",
      "\n",
      "[8, 18, 4, 2] pivot 10\n",
      "[8, 18, 4, 2, 10] Swap items 8 with 8 \t pointer = 1\n",
      "[8, 18, 4, 2, 10] Swap items 4 with 18 \t pointer = 2\n",
      "[8, 4, 18, 2, 10] Swap items 2 with 18 \t pointer = 3\n",
      "[8, 4, 2, 18, 10] Move the pivot 10\n",
      "[8, 4, 2, 10, 18]\n",
      "Partitions: [8, 4, 2] 10 [] \n",
      "\n",
      "[8, 4] pivot 2\n",
      "[8, 4, 2, 10, 18] Move the pivot 2\n",
      "[2, 4, 8, 10, 18]\n",
      "Partitions: [] 2 [4] \n",
      "\n",
      "[4] pivot 8\n",
      "[2, 4, 8, 10, 18] Swap items 4 with 4 \t pointer = 2\n",
      "[2, 4, 8, 10, 18] Move the pivot 8\n",
      "[2, 4, 8, 10, 18]\n",
      "Partitions: [2, 4] 8 [] \n",
      "\n",
      "[2] pivot 4\n",
      "[2, 4, 8, 10, 18] Swap items 2 with 2 \t pointer = 1\n",
      "[2, 4, 8, 10, 18] Move the pivot 4\n",
      "[2, 4, 8, 10, 18]\n",
      "Partitions: [2] 4 [] \n",
      "\n",
      "[] pivot 2\n",
      "[2, 4, 8, 10, 18] Move the pivot 2\n",
      "[2, 4, 8, 10, 18]\n",
      "Partitions: [] 2 [] \n",
      "\n",
      "[] pivot 18\n",
      "[2, 4, 8, 10, 18] Move the pivot 18\n",
      "[2, 4, 8, 10, 18]\n",
      "Partitions: [2, 4, 8, 10] 18 [] \n",
      "\n",
      "[2, 4, 8] pivot 10\n",
      "[2, 4, 8, 10, 18] Swap items 2 with 2 \t pointer = 1\n",
      "[2, 4, 8, 10, 18] Swap items 4 with 4 \t pointer = 2\n",
      "[2, 4, 8, 10, 18] Swap items 8 with 8 \t pointer = 3\n",
      "[2, 4, 8, 10, 18] Move the pivot 10\n",
      "[2, 4, 8, 10, 18]\n",
      "Partitions: [2, 4, 8] 10 [] \n",
      "\n",
      "[2, 4] pivot 8\n",
      "[2, 4, 8, 10, 18] Swap items 2 with 2 \t pointer = 1\n",
      "[2, 4, 8, 10, 18] Swap items 4 with 4 \t pointer = 2\n",
      "[2, 4, 8, 10, 18] Move the pivot 8\n",
      "[2, 4, 8, 10, 18]\n",
      "Partitions: [2, 4] 8 [] \n",
      "\n",
      "[2] pivot 4\n",
      "[2, 4, 8, 10, 18] Swap items 2 with 2 \t pointer = 1\n",
      "[2, 4, 8, 10, 18] Move the pivot 4\n",
      "[2, 4, 8, 10, 18]\n",
      "Partitions: [2] 4 [] \n",
      "\n",
      "[] pivot 2\n",
      "[2, 4, 8, 10, 18] Move the pivot 2\n",
      "[2, 4, 8, 10, 18]\n",
      "Partitions: [] 2 [] \n",
      "\n",
      "Sorted: [2, 4, 8, 10, 18]\n"
     ]
    }
   ],
   "source": [
    "items = [8, 18, 4, 2, 10]; \n",
    "\n",
    "def quicksort(items, left=None, right=None):\n",
    "\n",
    "    # Default left range (first)\n",
    "    if left == None:\n",
    "        left = 0 \n",
    "\n",
    "    # Default right range (last)\n",
    "    if right == None:\n",
    "        right = len(items) -1 \n",
    "\n",
    "    i = left\n",
    "    j = right\n",
    "\n",
    "    # Start partitioning (we choose the item on the right as pivot)\n",
    "    pivot = items[j]\n",
    "\n",
    "    # Stop recursion\n",
    "    if i > j:\n",
    "        return # Base case\n",
    "\n",
    "    # Start partitioning\n",
    "    print(items[i:j], \"pivot\", pivot)\n",
    "\n",
    "    # Loop through range (pivot not included)\n",
    "    for k in range(i, j):\n",
    " \n",
    "        # If current item is less than pivot\n",
    "        if items[k] <= pivot:\n",
    "            \n",
    "            # Swap item with the left last swapped item (pointer i)\n",
    "            print(items, f\"Swap items\", items[k], \"with\", items[i], \"\\t pointer =\", i+1)\n",
    "            items[i], items[k] = items[k], items[i]\n",
    "\n",
    "            # move pointer (the index for the last swapped item)\n",
    "            i += 1\n",
    "\n",
    "    # After each loop comparison, put the pivot on the left (pointer i)\n",
    "    print(items, \"Move the pivot\", pivot)\n",
    "    items[i], items[j] = items[j], items[i]\n",
    "\n",
    "    # Show items after each partitionning\n",
    "    print(items)\n",
    "\n",
    "    # Show left and right partitions\n",
    "    print(\"Partitions:\", items[0:i], pivot, items[i+1:j], \"\\n\")\n",
    "\n",
    "    # Sort left and right partitions (Recursively)\n",
    "    quicksort(items, 0, i-1)\n",
    "    quicksort(items, i+1, j)  \n",
    "    return\n",
    "\n",
    "print(\"Data:\", items, \"\\n\")\n",
    "quicksort(items)\n",
    "\n",
    "print(\"Sorted:\", items)\n"
   ]
  },
  {
   "attachments": {},
   "cell_type": "markdown",
   "metadata": {},
   "source": [
    "## Quick Sort / v2\n",
    "\n",
    "Clean code, without prints, for a `better view` of the algorithm."
   ]
  },
  {
   "cell_type": "code",
   "execution_count": 119,
   "metadata": {},
   "outputs": [
    {
     "name": "stdout",
     "output_type": "stream",
     "text": [
      "Data: [15, 0, 19, 6, 18, 10, 13, 8, 9, 2, 14, 1, 16, 3, 12, 4, 7, 17, 11, 5]\n",
      "Sorted: [0, 1, 2, 3, 4, 5, 6, 7, 8, 9, 10, 11, 12, 13, 14, 15, 16, 17, 18, 19]\n"
     ]
    }
   ],
   "source": [
    "import random\n",
    "\n",
    "def quicksort(items, i=None, j=None):\n",
    "\n",
    "    if i == None:  \n",
    "        i = 0 \n",
    "        \n",
    "    if j == None: \n",
    "        j = len(items) -1 \n",
    "\n",
    "    if i > j:\n",
    "        return # Base case\n",
    "\n",
    "    # Choose item on the right as pivot\n",
    "    pivot = items[j]\n",
    "\n",
    "    # Loop through range (pivot not included)\n",
    "    for k in range(i, j):\n",
    " \n",
    "        if items[k] <= pivot:\n",
    "            items[i], items[k] = items[k], items[i] # swap with pointer item\n",
    "            i += 1 # move pointer\n",
    "\n",
    "    # After each loop comparison, put the pivot on the left (pointer i)\n",
    "    items[i], items[j] = items[j], items[i]\n",
    "\n",
    "    # Sort left and right partitions (Recursively)\n",
    "    quicksort(items, 0, i-1)\n",
    "    quicksort(items, i+1, j)  \n",
    "\n",
    "\n",
    "items = [i for i in range(20)] \n",
    "random.shuffle(items)\n",
    "print(\"Data:\", items)\n",
    "\n",
    "quicksort(items)\n",
    "print(\"Sorted:\", items)\n"
   ]
  },
  {
   "attachments": {},
   "cell_type": "markdown",
   "metadata": {},
   "source": [
    "## Quick Sort / Runtime\n",
    "\n",
    "Quick sort is `much slower` than native python sort(), and has a limit of around 480 items (stack overflow)."
   ]
  },
  {
   "cell_type": "code",
   "execution_count": 21,
   "metadata": {},
   "outputs": [
    {
     "name": "stdout",
     "output_type": "stream",
     "text": [
      "quicksort() 100 items: 0.013714790344238281 s\n",
      "quicksort() 480 items: 1.12276291847229 s\n",
      "sort() 300.000 items: 0.27068448066711426 s\n"
     ]
    }
   ],
   "source": [
    "import time\n",
    "import random\n",
    "\n",
    "# Quick sort 100 items\n",
    "t = time.time()\n",
    "items = random.sample(range(0, 100), 100)\n",
    "quicksort(items)\n",
    "print(\"quicksort() 100 items:\", time.time() - t, \"s\")\n",
    "\n",
    "# Quick sort 480 items\n",
    "t = time.time()\n",
    "items = random.sample(range(0, 480), 480)\n",
    "quicksort(items)\n",
    "print(\"quicksort() 480 items:\", time.time() - t, \"s\")\n",
    "\n",
    "# Python sort 300.000 items\n",
    "t = time.time()\n",
    "items = random.sample(range(0, 300_000), 300_000)\n",
    "items.sort()\n",
    "print(\"sort() 300.000 items:\", time.time() - t, \"s\")"
   ]
  },
  {
   "attachments": {},
   "cell_type": "markdown",
   "metadata": {},
   "source": [
    "## Merge Sort"
   ]
  },
  {
   "attachments": {},
   "cell_type": "markdown",
   "metadata": {},
   "source": [
    "### Step 1 / Halves\n",
    "\n",
    "Each recursive call divides the list `into halves`, down to lists of zero of one lengths (leaves).  "
   ]
  },
  {
   "cell_type": "code",
   "execution_count": 147,
   "metadata": {},
   "outputs": [
    {
     "name": "stdout",
     "output_type": "stream",
     "text": [
      "[2, 9, 8, 5, 3, 4, 7, 6]\n",
      "   [2]   [9] \t\t -- Split 3\n",
      "   [8]   [5] \t\t -- Split 3\n",
      "  [2, 9]   [8, 5] \t -- Split 2\n",
      "   [3]   [4] \t\t -- Split 3\n",
      "   [7]   [6] \t\t -- Split 3\n",
      "  [3, 4]   [7, 6] \t -- Split 2\n",
      " [2, 9, 8, 5]   [3, 4, 7, 6]  -- Split 1\n",
      "[2, 9, 8, 5, 3, 4, 7, 6]\n"
     ]
    }
   ],
   "source": [
    "def merge_sort(items, depth=0):\n",
    "\n",
    "    if len(items) == 1:\n",
    "        return items # Base case\n",
    "\n",
    "    m = len(items) // 2\n",
    "    L = merge_sort(items[:m], depth+1) # Recursive\n",
    "    R = merge_sort(items[m:], depth+1)\n",
    "\n",
    "    # Zero or one length items\n",
    "    print(depth * \" \", L, \" \", R,  depth * \"\\t\", \"-- Split\", depth+1)   \n",
    "    return items\n",
    "\n",
    "data = [2, 9, 8, 5, 3, 4, 7, 6]\n",
    "print(data)\n",
    "\n",
    "sorted = merge_sort(data)\n",
    "print(sorted)"
   ]
  },
  {
   "attachments": {},
   "cell_type": "markdown",
   "metadata": {},
   "source": [
    "### Step 2 / Sort Leaves\n",
    "\n",
    "A list of `one item` is naturally sorted.  "
   ]
  },
  {
   "cell_type": "code",
   "execution_count": 146,
   "metadata": {},
   "outputs": [
    {
     "name": "stdout",
     "output_type": "stream",
     "text": [
      "[2, 9, 8, 5, 3, 4, 7, 6]\n",
      "   [2, 9] \t\t -- Sort | Split 3\n",
      "   [5, 8] \t\t -- Sort | Split 3\n",
      "  [2, 9, 5, 8] \t -- Sort | Split 2\n",
      "   [3, 4] \t\t -- Sort | Split 3\n",
      "   [6, 7] \t\t -- Sort | Split 3\n",
      "  [3, 4, 6, 7] \t -- Sort | Split 2\n",
      " [2, 9, 5, 8, 3, 4, 6, 7]  -- Sort | Split 1\n",
      "[2, 9, 5, 8, 3, 4, 6, 7]\n"
     ]
    }
   ],
   "source": [
    "def merge_sort(items, depth=0):\n",
    "\n",
    "    if len(items) <= 1:\n",
    "        return items # Base case\n",
    "\n",
    "    m = len(items) // 2\n",
    "    L = merge_sort(items[:m], depth+1) # Recursive\n",
    "    R = merge_sort(items[m:], depth+1)\n",
    "\n",
    "    # Zero or one length items\n",
    "    # print(depth * \" \", L, \" \", R)      \n",
    "\n",
    "    # Sorted list (with left and right leaves)\n",
    "    sorted = []\n",
    "\n",
    "    # Append the smaller value\n",
    "    if L[0] < R[0]:\n",
    "        sorted = L + R\n",
    "    else:\n",
    "        sorted = R + L\n",
    "\n",
    "    print(depth * \" \", sorted, depth * \"\\t\", \"-- Sort | Split\", depth+1)   \n",
    "    return sorted\n",
    "\n",
    "data = [2, 9, 8, 5, 3, 4, 7, 6]\n",
    "print(data)\n",
    "\n",
    "sorted = merge_sort(data)\n",
    "print(sorted)"
   ]
  },
  {
   "attachments": {},
   "cell_type": "markdown",
   "metadata": {},
   "source": [
    "### Step 3 / Sort Loop\n",
    "\n",
    "As the recursive call returns, these smaller lists are `merged togheter` into sorted order.  "
   ]
  },
  {
   "cell_type": "code",
   "execution_count": 145,
   "metadata": {},
   "outputs": [
    {
     "name": "stdout",
     "output_type": "stream",
     "text": [
      "[2, 9, 8, 5, 3, 4, 7, 6]\n",
      "   [2]   [9]\n",
      "   [2, 9] \t\t -- Sort | Split 3\n",
      "   [8]   [5]\n",
      "   [5, 8] \t\t -- Sort | Split 3\n",
      "  [2, 9]   [5, 8]\n",
      "  [2, 5, 8, 9] \t -- Sort | Split 2\n",
      "   [3]   [4]\n",
      "   [3, 4] \t\t -- Sort | Split 3\n",
      "   [7]   [6]\n",
      "   [6, 7] \t\t -- Sort | Split 3\n",
      "  [3, 4]   [6, 7]\n",
      "  [3, 4, 6, 7] \t -- Sort | Split 2\n",
      " [2, 5, 8, 9]   [3, 4, 6, 7]\n",
      " [2, 3, 4, 5, 6, 7, 8, 9]  -- Sort | Split 1\n",
      "[2, 3, 4, 5, 6, 7, 8, 9]\n"
     ]
    }
   ],
   "source": [
    "def merge_sort(items, depth=0):\n",
    "\n",
    "    if len(items) <= 1:\n",
    "        return items # Base case\n",
    "\n",
    "    m = len(items) // 2\n",
    "    L = merge_sort(items[:m], depth+1) # Recursive\n",
    "    R = merge_sort(items[m:], depth+1)\n",
    "\n",
    "    # Zero or one length items\n",
    "    print(depth * \" \", L, \" \", R)      \n",
    "\n",
    "    # Left and right pointers\n",
    "    i = 0\n",
    "    j = 0\n",
    "\n",
    "    sorted = []\n",
    "    while len(sorted) < len(L + R):\n",
    "\n",
    "        # Append the smaller value and advance the pointer\n",
    "        if L[i] < R[j]:\n",
    "            sorted.append(L[i])\n",
    "            i += 1\n",
    "        else:\n",
    "            sorted.append(R[j])\n",
    "            j += 1\n",
    "\n",
    "        # If one of the pointers has reached the and of his list, # add the rest of the other list\n",
    "        if i == len(L):\n",
    "            sorted.extend(R[j:])\n",
    "            break\n",
    "        \n",
    "        if j == len(R):\n",
    "            sorted.extend(L[i:])\n",
    "            break\n",
    "\n",
    "    print(depth * \" \", sorted, depth * \"\\t\", \"-- Sort | Split\", depth+1)   \n",
    "    return sorted\n",
    "\n",
    "data = [2, 9, 8, 5, 3, 4, 7, 6]\n",
    "print(data)\n",
    "\n",
    "sorted = merge_sort(data)\n",
    "print(sorted)"
   ]
  }
 ],
 "metadata": {
  "kernelspec": {
   "display_name": "Python 3",
   "language": "python",
   "name": "python3"
  },
  "language_info": {
   "codemirror_mode": {
    "name": "ipython",
    "version": 3
   },
   "file_extension": ".py",
   "mimetype": "text/x-python",
   "name": "python",
   "nbconvert_exporter": "python",
   "pygments_lexer": "ipython3",
   "version": "3.9.7"
  },
  "orig_nbformat": 4
 },
 "nbformat": 4,
 "nbformat_minor": 2
}
