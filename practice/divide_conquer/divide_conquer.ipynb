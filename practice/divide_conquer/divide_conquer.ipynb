{
 "cells": [
  {
   "attachments": {},
   "cell_type": "markdown",
   "metadata": {},
   "source": [
    "## Divide Conquer / Algorithms"
   ]
  },
  {
   "attachments": {},
   "cell_type": "markdown",
   "metadata": {},
   "source": [
    "## Linear Search\n",
    "\n",
    "A linear search itterates `through all` the data."
   ]
  },
  {
   "cell_type": "code",
   "execution_count": 1,
   "metadata": {},
   "outputs": [
    {
     "name": "stdout",
     "output_type": "stream",
     "text": [
      "Item 8, index 7\n"
     ]
    }
   ],
   "source": [
    "data = [1, 2, 3, 4, 5, 6, 7, 8, 9, 10]\n",
    "\n",
    "def linear_search(x, data):\n",
    "    for i in range(len(data)):\n",
    "        if x == data[i]:\n",
    "            return i\n",
    "    return\n",
    "\n",
    "x = 8\n",
    "k = linear_search(x, data)\n",
    "print(f\"Item {x}, index {k}\")"
   ]
  },
  {
   "attachments": {},
   "cell_type": "markdown",
   "metadata": {},
   "source": [
    "## Binary Search\n",
    "\n",
    "A binary search find the `middle` and continue the search on the halves."
   ]
  },
  {
   "cell_type": "code",
   "execution_count": 2,
   "metadata": {},
   "outputs": [
    {
     "name": "stdout",
     "output_type": "stream",
     "text": [
      "Item 8, index 7\n"
     ]
    }
   ],
   "source": [
    "data = [1, 2, 3, 4, 5, 6, 7, 8, 9, 10]\n",
    "\n",
    "def binary_search(x, data):\n",
    "\n",
    "    # Left and Right indexes\n",
    "    i = 0\n",
    "    j = len(data) - 1\n",
    "\n",
    "    while True:\n",
    "\n",
    "        # Compute middle\n",
    "        m = (i + j) // 2\n",
    "\n",
    "        if x > data[m]: i = m + 1\n",
    "        if x < data[m]: j = m - 1\n",
    "\n",
    "        if x == data[m]: # found it\n",
    "            return m\n",
    "\n",
    "        if i > j:\n",
    "            break\n",
    "    return\n",
    "\n",
    "x = 8\n",
    "k = binary_search(x, data)\n",
    "print(f\"Item {x}, index {k}\")"
   ]
  },
  {
   "attachments": {},
   "cell_type": "markdown",
   "metadata": {},
   "source": [
    "## Binary Search / Runtime \n",
    "\n",
    "A binary search on 50 items takes 6 stesps and on 100 `only 7 steps` (linear search needs 100 steps). "
   ]
  },
  {
   "cell_type": "code",
   "execution_count": 3,
   "metadata": {},
   "outputs": [
    {
     "name": "stdout",
     "output_type": "stream",
     "text": [
      "Generate data: 4.059160947799683 s\n",
      "Linear search: 6.1928791999816895 s\n",
      "Binary search: 7.081031799316406e-05 s\n"
     ]
    }
   ],
   "source": [
    "import time\n",
    "\n",
    "# Generate data\n",
    "t = time.time()\n",
    "data = [i for i in range(123456789)]\n",
    "print(\"Generate data:\", time.time() - t, \"s\")\n",
    "                                                        \n",
    "# Linear search\n",
    "t = time.time()\n",
    "k = linear_search(123456780, data)\n",
    "print(\"Linear search:\", time.time() - t, \"s\")\n",
    "\n",
    "# Binary search\n",
    "t = time.time()\n",
    "k = binary_search(123456780, data)\n",
    "print(\"Binary search:\", time.time() - t, \"s\")"
   ]
  },
  {
   "attachments": {},
   "cell_type": "markdown",
   "metadata": {},
   "source": [
    "## Quick Sort\n",
    "\n",
    "The algorithm works by `repeatedly partitioning` items into two sets."
   ]
  },
  {
   "cell_type": "code",
   "execution_count": 4,
   "metadata": {},
   "outputs": [
    {
     "name": "stdout",
     "output_type": "stream",
     "text": [
      "Data: [8, 18, 4, 2, 10] \n",
      "\n",
      "[8, 18, 4, 2] pivot 10\n",
      "[8, 18, 4, 2, 10] Swap items 8 with 8 \t pointer = 1\n",
      "[8, 18, 4, 2, 10] Swap items 4 with 18 \t pointer = 2\n",
      "[8, 4, 18, 2, 10] Swap items 2 with 18 \t pointer = 3\n",
      "[8, 4, 2, 18, 10] Move the pivot 10\n",
      "[8, 4, 2, 10, 18]\n",
      "[8, 4, 2] 10 []  Partitions\n",
      "\n",
      "[8, 4] pivot 2\n",
      "[8, 4, 2, 10, 18] Move the pivot 2\n",
      "[2, 4, 8, 10, 18]\n",
      "[] 2 [4]  Partitions\n",
      "\n",
      "[4] pivot 8\n",
      "[2, 4, 8, 10, 18] Swap items 4 with 4 \t pointer = 2\n",
      "[2, 4, 8, 10, 18] Move the pivot 8\n",
      "[2, 4, 8, 10, 18]\n",
      "[2, 4] 8 []  Partitions\n",
      "\n",
      "[2] pivot 4\n",
      "[2, 4, 8, 10, 18] Swap items 2 with 2 \t pointer = 1\n",
      "[2, 4, 8, 10, 18] Move the pivot 4\n",
      "[2, 4, 8, 10, 18]\n",
      "[2] 4 []  Partitions\n",
      "\n",
      "[] pivot 2\n",
      "[2, 4, 8, 10, 18] Move the pivot 2\n",
      "[2, 4, 8, 10, 18]\n",
      "[] 2 []  Partitions\n",
      "\n",
      "[] pivot 18\n",
      "[2, 4, 8, 10, 18] Move the pivot 18\n",
      "[2, 4, 8, 10, 18]\n",
      "[2, 4, 8, 10] 18 []  Partitions\n",
      "\n",
      "[2, 4, 8] pivot 10\n",
      "[2, 4, 8, 10, 18] Swap items 2 with 2 \t pointer = 1\n",
      "[2, 4, 8, 10, 18] Swap items 4 with 4 \t pointer = 2\n",
      "[2, 4, 8, 10, 18] Swap items 8 with 8 \t pointer = 3\n",
      "[2, 4, 8, 10, 18] Move the pivot 10\n",
      "[2, 4, 8, 10, 18]\n",
      "[2, 4, 8] 10 []  Partitions\n",
      "\n",
      "[2, 4] pivot 8\n",
      "[2, 4, 8, 10, 18] Swap items 2 with 2 \t pointer = 1\n",
      "[2, 4, 8, 10, 18] Swap items 4 with 4 \t pointer = 2\n",
      "[2, 4, 8, 10, 18] Move the pivot 8\n",
      "[2, 4, 8, 10, 18]\n",
      "[2, 4] 8 []  Partitions\n",
      "\n",
      "[2] pivot 4\n",
      "[2, 4, 8, 10, 18] Swap items 2 with 2 \t pointer = 1\n",
      "[2, 4, 8, 10, 18] Move the pivot 4\n",
      "[2, 4, 8, 10, 18]\n",
      "[2] 4 []  Partitions\n",
      "\n",
      "[] pivot 2\n",
      "[2, 4, 8, 10, 18] Move the pivot 2\n",
      "[2, 4, 8, 10, 18]\n",
      "[] 2 []  Partitions\n",
      "\n",
      "Sorted: [2, 4, 8, 10, 18]\n"
     ]
    }
   ],
   "source": [
    "items = [8, 18, 4, 2, 10]; \n",
    "\n",
    "def quicksort(items, left=None, right=None):\n",
    "\n",
    "    # Default left range (first)\n",
    "    if left == None:\n",
    "        left = 0 \n",
    "\n",
    "    # Default right range (last)\n",
    "    if right == None:\n",
    "        right = len(items) -1 \n",
    "\n",
    "    i = left\n",
    "    j = right\n",
    "\n",
    "    # Start partitioning (we choose the item on the right as pivot)\n",
    "    pivot = items[j]\n",
    "\n",
    "    # Stop recursion\n",
    "    if i > j:\n",
    "        return # Base case\n",
    "\n",
    "    # Start partitioning\n",
    "    print(items[i:j], \"pivot\", pivot)\n",
    "\n",
    "    # Loop through range (pivot not included)\n",
    "    for k in range(i, j):\n",
    " \n",
    "        # If current item is less than pivot\n",
    "        if items[k] <= pivot:\n",
    "            \n",
    "            # Swap item with the left last swapped item (pointer i)\n",
    "            print(items, f\"Swap items\", items[k], \"with\", items[i], \"\\t pointer =\", i+1)\n",
    "            items[i], items[k] = items[k], items[i]\n",
    "\n",
    "            # move pointer (the index for the last swapped item)\n",
    "            i += 1\n",
    "\n",
    "    # After each loop comparison, put the pivot on the left (pointer i)\n",
    "    print(items, \"Move the pivot\", pivot)\n",
    "    items[i], items[j] = items[j], items[i]\n",
    "\n",
    "    # Show items after each partitionning\n",
    "    print(items)\n",
    "\n",
    "    # Show left and right partitions\n",
    "    print(items[0:i], pivot, items[i+1:j], \" Partitions\\n\")\n",
    "\n",
    "    # Sort left and right partitions (Recursively)\n",
    "    quicksort(items, 0, i-1)\n",
    "    quicksort(items, i+1, j)  \n",
    "    return\n",
    "\n",
    "print(\"Data:\", items, \"\\n\")\n",
    "quicksort(items)\n",
    "\n",
    "print(\"Sorted:\", items)\n"
   ]
  },
  {
   "attachments": {},
   "cell_type": "markdown",
   "metadata": {},
   "source": [
    "## Quick Sort / v2\n",
    "\n",
    "Remove prints for a `clean code` and a better view of the algorithm."
   ]
  },
  {
   "cell_type": "code",
   "execution_count": 5,
   "metadata": {},
   "outputs": [
    {
     "name": "stdout",
     "output_type": "stream",
     "text": [
      "Data: [14, 4, 0, 18, 6, 5, 11, 9, 3, 10, 7, 17, 15, 13, 2, 8, 12, 1, 19, 16]\n",
      "Sorted: [0, 1, 2, 3, 4, 5, 6, 7, 8, 9, 10, 11, 12, 13, 14, 15, 16, 17, 18, 19]\n"
     ]
    }
   ],
   "source": [
    "import random\n",
    "\n",
    "def quicksort(items, i=None, j=None):\n",
    "\n",
    "    if i == None:  \n",
    "        i = 0 \n",
    "        \n",
    "    if j == None: \n",
    "        j = len(items) -1 \n",
    "\n",
    "    if i > j:\n",
    "        return # Base case\n",
    "\n",
    "    # Choose item on the right as pivot\n",
    "    pivot = items[j]\n",
    "\n",
    "    # Loop through range (pivot not included)\n",
    "    for k in range(i, j):\n",
    " \n",
    "        if items[k] <= pivot:\n",
    "            items[i], items[k] = items[k], items[i] # swap with pointer item\n",
    "            i += 1 # move pointer\n",
    "\n",
    "    # After each loop comparison, put the pivot on the left (pointer i)\n",
    "    items[i], items[j] = items[j], items[i]\n",
    "\n",
    "    # Sort left and right partitions (Recursively)\n",
    "    quicksort(items, 0, i-1)\n",
    "    quicksort(items, i+1, j)  \n",
    "\n",
    "\n",
    "items = [i for i in range(20)] \n",
    "random.shuffle(items)\n",
    "print(\"Data:\", items)\n",
    "\n",
    "quicksort(items)\n",
    "print(\"Sorted:\", items)\n"
   ]
  },
  {
   "attachments": {},
   "cell_type": "markdown",
   "metadata": {},
   "source": [
    "## Quick Sort / Runtime\n",
    "\n",
    "Quick sort is `much slower` than native python sort(), and has a limit of around 480 items (stack overflow)."
   ]
  },
  {
   "cell_type": "code",
   "execution_count": 6,
   "metadata": {},
   "outputs": [
    {
     "name": "stdout",
     "output_type": "stream",
     "text": [
      "quicksort() 100 items: 0.011004924774169922 s\n",
      "quicksort() 480 items: 2.097949504852295 s\n",
      "sort() 300.000 items: 0.28156495094299316 s\n"
     ]
    }
   ],
   "source": [
    "import time\n",
    "import random\n",
    "\n",
    "# Quick sort 100 items\n",
    "t = time.time()\n",
    "items = random.sample(range(0, 100), 100)\n",
    "quicksort(items)\n",
    "print(\"quicksort() 100 items:\", time.time() - t, \"s\")\n",
    "\n",
    "# Quick sort 480 items\n",
    "t = time.time()\n",
    "items = random.sample(range(0, 480), 480)\n",
    "quicksort(items)\n",
    "print(\"quicksort() 480 items:\", time.time() - t, \"s\")\n",
    "\n",
    "# Python sort 300.000 items\n",
    "t = time.time()\n",
    "items = random.sample(range(0, 300_000), 300_000)\n",
    "items.sort()\n",
    "print(\"sort() 300.000 items:\", time.time() - t, \"s\")"
   ]
  },
  {
   "attachments": {},
   "cell_type": "markdown",
   "metadata": {},
   "source": [
    "## Merge Sort / Halves\n",
    "\n",
    "Each recursive call divides the list `into halves`, down to lists of zero of one lengths (leaves).  "
   ]
  },
  {
   "cell_type": "code",
   "execution_count": 7,
   "metadata": {},
   "outputs": [
    {
     "name": "stdout",
     "output_type": "stream",
     "text": [
      "[2, 9, 8, 5, 3, 4, 7, 6]\n",
      "   [2]   [9] \t\t -- Split 3\n",
      "   [8]   [5] \t\t -- Split 3\n",
      "  [2, 9]   [8, 5] \t -- Split 2\n",
      "   [3]   [4] \t\t -- Split 3\n",
      "   [7]   [6] \t\t -- Split 3\n",
      "  [3, 4]   [7, 6] \t -- Split 2\n",
      " [2, 9, 8, 5]   [3, 4, 7, 6]  -- Split 1\n",
      "[2, 9, 8, 5, 3, 4, 7, 6]\n"
     ]
    }
   ],
   "source": [
    "def merge_sort(items, depth=0):\n",
    "\n",
    "    if len(items) == 1:\n",
    "        return items # Base case\n",
    "\n",
    "    m = len(items) // 2\n",
    "    L = merge_sort(items[:m], depth+1) # Recursive\n",
    "    R = merge_sort(items[m:], depth+1)\n",
    "\n",
    "    # Zero or one length items\n",
    "    print(depth * \" \", L, \" \", R,  depth * \"\\t\", \"-- Split\", depth+1)   \n",
    "    return items\n",
    "\n",
    "data = [2, 9, 8, 5, 3, 4, 7, 6]\n",
    "print(data)\n",
    "\n",
    "sorted = merge_sort(data)\n",
    "print(sorted)"
   ]
  },
  {
   "attachments": {},
   "cell_type": "markdown",
   "metadata": {},
   "source": [
    "## Merge Sort / Sort Leaves\n",
    "\n",
    "A list of `one item` is naturally sorted.  "
   ]
  },
  {
   "cell_type": "code",
   "execution_count": 8,
   "metadata": {},
   "outputs": [
    {
     "name": "stdout",
     "output_type": "stream",
     "text": [
      "[2, 9, 8, 5, 3, 4, 7, 6]\n",
      "   [2, 9] \t\t -- Sort | Split 3\n",
      "   [5, 8] \t\t -- Sort | Split 3\n",
      "  [2, 9, 5, 8] \t -- Sort | Split 2\n",
      "   [3, 4] \t\t -- Sort | Split 3\n",
      "   [6, 7] \t\t -- Sort | Split 3\n",
      "  [3, 4, 6, 7] \t -- Sort | Split 2\n",
      " [2, 9, 5, 8, 3, 4, 6, 7]  -- Sort | Split 1\n",
      "[2, 9, 5, 8, 3, 4, 6, 7]\n"
     ]
    }
   ],
   "source": [
    "def merge_sort(items, depth=0):\n",
    "\n",
    "    if len(items) <= 1:\n",
    "        return items # Base case\n",
    "\n",
    "    m = len(items) // 2\n",
    "    L = merge_sort(items[:m], depth+1) # Recursive\n",
    "    R = merge_sort(items[m:], depth+1)\n",
    "\n",
    "    # Zero or one length items\n",
    "    # print(depth * \" \", L, \" \", R)      \n",
    "\n",
    "    # Sorted list (with left and right leaves)\n",
    "    sorted = []\n",
    "\n",
    "    # Append the smaller value\n",
    "    if L[0] < R[0]:\n",
    "        sorted = L + R\n",
    "    else:\n",
    "        sorted = R + L\n",
    "\n",
    "    print(depth * \" \", sorted, depth * \"\\t\", \"-- Sort | Split\", depth+1)   \n",
    "    return sorted\n",
    "\n",
    "data = [2, 9, 8, 5, 3, 4, 7, 6]\n",
    "print(data)\n",
    "\n",
    "sorted = merge_sort(data)\n",
    "print(sorted)"
   ]
  },
  {
   "attachments": {},
   "cell_type": "markdown",
   "metadata": {},
   "source": [
    "## Merge Sort / Loop\n",
    "\n",
    "As the recursive call returns, these smaller lists are `merged togheter` into sorted order.  "
   ]
  },
  {
   "cell_type": "code",
   "execution_count": 9,
   "metadata": {},
   "outputs": [
    {
     "name": "stdout",
     "output_type": "stream",
     "text": [
      "[2, 9, 8, 5, 3, 4, 7, 6]\n",
      "   [2, 9] \t\t -- Sort | Split 3\n",
      "   [5, 8] \t\t -- Sort | Split 3\n",
      "  [2, 5, 8, 9] \t -- Sort | Split 2\n",
      "   [3, 4] \t\t -- Sort | Split 3\n",
      "   [6, 7] \t\t -- Sort | Split 3\n",
      "  [3, 4, 6, 7] \t -- Sort | Split 2\n",
      " [2, 3, 4, 5, 6, 7, 8, 9]  -- Sort | Split 1\n",
      "[2, 3, 4, 5, 6, 7, 8, 9]\n"
     ]
    }
   ],
   "source": [
    "def merge_sort(items, depth=0):\n",
    "\n",
    "    if len(items) <= 1:\n",
    "        return items # Base case\n",
    "\n",
    "    m = len(items) // 2\n",
    "    L = merge_sort(items[:m], depth+1) # Recursive\n",
    "    R = merge_sort(items[m:], depth+1)\n",
    "\n",
    "    # Left and right pointers\n",
    "    i = 0\n",
    "    j = 0\n",
    "\n",
    "    sorted = []\n",
    "    while len(sorted) < len(items):\n",
    "\n",
    "        # Append the smaller value and advance the pointer\n",
    "        if L[i] < R[j]:\n",
    "            sorted.append(L[i])\n",
    "            i += 1\n",
    "        else:\n",
    "            sorted.append(R[j])\n",
    "            j += 1\n",
    "\n",
    "        # If one of the pointers has reached the and of his list, \n",
    "        # add the rest of the other list\n",
    "        if i == len(L):\n",
    "            sorted.extend(R[j:])\n",
    "            break\n",
    "        \n",
    "        if j == len(R):\n",
    "            sorted.extend(L[i:])\n",
    "            break\n",
    "\n",
    "    print(depth * \" \", sorted, depth * \"\\t\", \"-- Sort | Split\", depth+1)   \n",
    "    return sorted\n",
    "\n",
    "data = [2, 9, 8, 5, 3, 4, 7, 6]\n",
    "print(data)\n",
    "\n",
    "sorted = merge_sort(data)\n",
    "print(sorted)"
   ]
  },
  {
   "attachments": {},
   "cell_type": "markdown",
   "metadata": {},
   "source": [
    "## Merge Sort / Runtime\n",
    "\n",
    "Merge sort is much `faster` then quicksort, almost as fast as native sort()."
   ]
  },
  {
   "cell_type": "code",
   "execution_count": 10,
   "metadata": {},
   "outputs": [
    {
     "name": "stdout",
     "output_type": "stream",
     "text": [
      "Merge Sort: 2.292343854904175 s\n",
      "Python Sort: 0.31551623344421387 s\n"
     ]
    }
   ],
   "source": [
    "import time\n",
    "import random\n",
    "\n",
    "def merge_sort(items):\n",
    "\n",
    "    if len(items) <= 1:\n",
    "        return items # Base case\n",
    "\n",
    "    m = len(items) // 2\n",
    "    L = merge_sort(items[:m]) # Recursive\n",
    "    R = merge_sort(items[m:])\n",
    "\n",
    "    # Left and right pointers\n",
    "    i = 0\n",
    "    j = 0\n",
    "\n",
    "    sorted = []\n",
    "    while len(sorted) < len(items):\n",
    "\n",
    "        # Append the smaller value and advance the pointer\n",
    "        if L[i] < R[j]:\n",
    "            sorted.append(L[i])\n",
    "            i += 1\n",
    "        else:\n",
    "            sorted.append(R[j])\n",
    "            j += 1\n",
    "\n",
    "        # One of the pointers has reached the and of his list\n",
    "        if i == len(L): sorted.extend(R[j:])        \n",
    "        if j == len(R): sorted.extend(L[i:])\n",
    "\n",
    "    return sorted\n",
    "\n",
    "# Merge sort 300.000 items\n",
    "t = time.time()\n",
    "items = random.sample(range(0, 300_300), 300_300)\n",
    "merge_sort(items)\n",
    "print(\"Merge Sort:\", time.time() - t, \"s\")\n",
    "\n",
    "# Python sort 300.000 items\n",
    "t = time.time()\n",
    "items = random.sample(range(0, 300_000), 300_000)\n",
    "items.sort()\n",
    "print(\"Python Sort:\", time.time() - t, \"s\")"
   ]
  },
  {
   "attachments": {},
   "cell_type": "markdown",
   "metadata": {},
   "source": [
    "## Karatsuba Multiplication\n",
    "\n",
    "Fast multiplication algorithm, developed by `Anatoly Karatsuba` in 1960, at the age of 23!  \n",
    "Karatsuba used a `precomputed` table of products for single digits numbers,  \n",
    "recursively reducing them to `single` digits (base case)."
   ]
  },
  {
   "attachments": {},
   "cell_type": "markdown",
   "metadata": {},
   "source": [
    "## Karatsuba / Linear Product\n",
    "\n",
    "We could multipy two integers using only `addition` in a loop, but it's very slow for large integers."
   ]
  },
  {
   "cell_type": "code",
   "execution_count": 2,
   "metadata": {},
   "outputs": [
    {
     "name": "stdout",
     "output_type": "stream",
     "text": [
      "Linear multiplication: 8.733892679214478 s\n"
     ]
    }
   ],
   "source": [
    "def linear_product(x, y):\n",
    "    res = 0\n",
    "    for _ in range(x):\n",
    "        res += y\n",
    "    return res\n",
    "\n",
    "import time\n",
    "x = 123_456_789\n",
    "y = 123_456_789\n",
    "\n",
    "t0 = time.time()\n",
    "p1 = linear_product(x, y)\n",
    "print(\"Linear multiplication:\", time.time() - t0, \"s\")"
   ]
  },
  {
   "attachments": {},
   "cell_type": "markdown",
   "metadata": {},
   "source": [
    "## Karatsuba / Precomputed Table\n",
    "\n",
    "The algorithm `won't need` to multiply single-digit numbers, we will look them up in a precomputed table."
   ]
  },
  {
   "cell_type": "code",
   "execution_count": 15,
   "metadata": {},
   "outputs": [
    {
     "name": "stdout",
     "output_type": "stream",
     "text": [
      "{(0, 0): 0, (0, 1): 0, (0, 2): 0, (0, 3): 0, (0, 4): 0, (0, 5): 0, (0, 6): 0, (0, 7): 0, (0, 8): 0, (0, 9): 0, (1, 0): 0, (1, 1): 1, (1, 2): 2, (1, 3): 3, (1, 4): 4, (1, 5): 5, (1, 6): 6, (1, 7): 7, (1, 8): 8, (1, 9): 9, (2, 0): 0, (2, 1): 2, (2, 2): 4, (2, 3): 6, (2, 4): 8, (2, 5): 10, (2, 6): 12, (2, 7): 14, (2, 8): 16, (2, 9): 18, (3, 0): 0, (3, 1): 3, (3, 2): 6, (3, 3): 9, (3, 4): 12, (3, 5): 15, (3, 6): 18, (3, 7): 21, (3, 8): 24, (3, 9): 27, (4, 0): 0, (4, 1): 4, (4, 2): 8, (4, 3): 12, (4, 4): 16, (4, 5): 20, (4, 6): 24, (4, 7): 28, (4, 8): 32, (4, 9): 36, (5, 0): 0, (5, 1): 5, (5, 2): 10, (5, 3): 15, (5, 4): 20, (5, 5): 25, (5, 6): 30, (5, 7): 35, (5, 8): 40, (5, 9): 45, (6, 0): 0, (6, 1): 6, (6, 2): 12, (6, 3): 18, (6, 4): 24, (6, 5): 30, (6, 6): 36, (6, 7): 42, (6, 8): 48, (6, 9): 54, (7, 0): 0, (7, 1): 7, (7, 2): 14, (7, 3): 21, (7, 4): 28, (7, 5): 35, (7, 6): 42, (7, 7): 49, (7, 8): 56, (7, 9): 63, (8, 0): 0, (8, 1): 8, (8, 2): 16, (8, 3): 24, (8, 4): 32, (8, 5): 40, (8, 6): 48, (8, 7): 56, (8, 8): 64, (8, 9): 72, (9, 0): 0, (9, 1): 9, (9, 2): 18, (9, 3): 27, (9, 4): 36, (9, 5): 45, (9, 6): 54, (9, 7): 63, (9, 8): 72, (9, 9): 81}\n"
     ]
    }
   ],
   "source": [
    "# Lookup tables are hardcoded in the code, but here, for symplification, \n",
    "# we are reducing the amount of typing by using nested loops.\n",
    "\n",
    "TABLE = {}\n",
    "for i in range(10):\n",
    "    for j in range(10):\n",
    "        TABLE[(i, j)] = i * j\n",
    "\n",
    "print(TABLE)"
   ]
  },
  {
   "attachments": {},
   "cell_type": "markdown",
   "metadata": {},
   "source": [
    "## Karatsuba / Padding\n",
    "\n",
    "The algorithm relies on a helper function which pad a string of digits with zeros (left of right)."
   ]
  },
  {
   "cell_type": "code",
   "execution_count": 17,
   "metadata": {},
   "outputs": [
    {
     "name": "stdout",
     "output_type": "stream",
     "text": [
      "00042\n",
      "990\n"
     ]
    }
   ],
   "source": [
    "def strpad(str, n, padding='left', chr='0'):\n",
    "    if padding == 'left':\n",
    "        return chr*n  + str\n",
    "    return str + chr*n\n",
    "\n",
    "print(strpad(\"42\", 3, \"left\"))\n",
    "print(strpad(\"99\", 1, \"right\"))"
   ]
  },
  {
   "attachments": {},
   "cell_type": "markdown",
   "metadata": {},
   "source": [
    "## Karatsuba / Divide & Conquer\n",
    "\n",
    "Karatsuba realized that integers can be multplied using `only` addition, substraction,  \n",
    "and a `precomputed` multiplication table of all products for single digits numbers.  \n",
    "\n",
    "<pre>\n",
    "1357 x 2467  \n",
    "    = (10^2*13 + 57) * (10^2*24 + 67)  \n",
    "    \n",
    "ab x cd  \n",
    "    = (10^(n/2)*a + b) * (10^(n/2)*c + d)   \n",
    "    = 10^n*ac + 10^(n/2)*(ad + bc) + bd  \n",
    "    = 10^n*k1 + 10^(n/2)*k4 + k2  "
   ]
  },
  {
   "cell_type": "code",
   "execution_count": 71,
   "metadata": {},
   "outputs": [
    {
     "name": "stdout",
     "output_type": "stream",
     "text": [
      "x, y = ('10', '20')\n",
      "m = 1\n",
      "a, b, c, d = (1, 0, 2, 0)\n",
      "k1, k2, k3, k4 = (2, 0, 2, 0)\n",
      "n, n2 = (2, 1)\n",
      "k1, k4 = ('200', '00')\n",
      "10x20 = 200\n"
     ]
    }
   ],
   "source": [
    "def karatsuba(x, y):\n",
    "\n",
    "    # Base case / Single digits numbers\n",
    "    if x < 10 and y < 10:\n",
    "        return TABLE[(x, y)]\n",
    "\n",
    "    # Make x and y same length (padding)\n",
    "    x = str(x)\n",
    "    y = str(y)\n",
    "    if len(x) < len(y): x = strpad(x, len(y) - len(x), 'left', '0')\n",
    "    if len(y) < len(x): y = strpad(y, len(x) - len(y), 'left', '0')\n",
    "\n",
    "    print(\"x, y =\", (x, y))\n",
    "\n",
    "    # Division is as complicated as multiplication, \n",
    "    # so in real implementation we can use a second table HALVES = [0, 0, 1, 1, 2, 2 ...]\n",
    "    m = len(x) // 2\n",
    "\n",
    "    print(\"m =\", m)\n",
    "\n",
    "    # Split x and y into two halves \n",
    "    a, b = int(x[:m]), int(x[m:])\n",
    "    c, d = int(y[:m]), int(y[m:])\n",
    "\n",
    "    print(\"a, b, c, d =\", (a, b, c, d))\n",
    "\n",
    "    # Recursive call to compute ac, bd and (ad + bc)\n",
    "    k1 = karatsuba(a, c)            # ac\n",
    "    k2 = karatsuba(b, d)            # bd\n",
    "    k3 = karatsuba(a + b, c + d)    # ac + ad + bc + bd\n",
    "    k4 = k3 - k2 - k1               # ad + bc\n",
    "\n",
    "    print(\"k1, k2, k3, k4 =\", (k1, k2, k3, k4))\n",
    "\n",
    "    # Multipying k1 and k4 with 10s (padding)\n",
    "    n2 = len(x) - m\n",
    "    n = n2 + n2\n",
    "\n",
    "    print(\"n, n2 =\", (n, n2))\n",
    "\n",
    "    k1 = strpad(str(k1), n, 'right', '0')   # 10^n*k1 \n",
    "    k4 = strpad(str(k4), n2, 'right', '0')  # 10^(n/2)*k4\n",
    "\n",
    "    print(\"k1, k4 =\", (k1, k4))\n",
    "\n",
    "    # Final result\n",
    "    res = int(k1) + int(k4) + int(k2)\n",
    "\n",
    "    return res\n",
    "\n",
    "print(\"10x20 =\", karatsuba(10, 20))"
   ]
  },
  {
   "attachments": {},
   "cell_type": "markdown",
   "metadata": {},
   "source": [
    "## Karatsuba / Runtime\n",
    "\n",
    "Traditional algorithms for multiplication of two n-digit numbers requires `$n^2$` elementary operations.  \n",
    "Karatsuba algoritm requires `$n^{log_23}$` operations, which is faster.  \n"
   ]
  },
  {
   "cell_type": "code",
   "execution_count": 91,
   "metadata": {},
   "outputs": [
    {
     "name": "stdout",
     "output_type": "stream",
     "text": [
      "karatsuba: 0.00023627281188964844\n",
      "python: 9.655952453613281e-05\n"
     ]
    }
   ],
   "source": [
    "TABLE = {}\n",
    "for i in range(10):\n",
    "    for j in range(10):\n",
    "        TABLE[(i, j)] = i * j\n",
    "\n",
    "HALF_TABLE = []\n",
    "for i in range(100):\n",
    "    HALF_TABLE.append(i // 2)\n",
    "\n",
    "def strpad(str, n, padding='left', chr='0'):\n",
    "    if padding == 'left':\n",
    "        return chr*n  + str\n",
    "    return str + chr*n\n",
    "\n",
    "def karatsuba(x, y):\n",
    "\n",
    "    # Base case / Single digits numbers\n",
    "    if x < 10 and y < 10:\n",
    "        return TABLE[(x, y)]\n",
    "\n",
    "    # Make x and y same length (padding)\n",
    "    x = str(x)\n",
    "    y = str(y)\n",
    "    if len(x) < len(y): x = strpad(x, len(y) - len(x), 'left', '0')\n",
    "    if len(y) < len(x): y = strpad(y, len(x) - len(y), 'left', '0')\n",
    "\n",
    "    # Middle index\n",
    "    m = HALF_TABLE[len(x)]\n",
    "\n",
    "    # Split x and y into two halves \n",
    "    a, b = int(x[:m]), int(x[m:])\n",
    "    c, d = int(y[:m]), int(y[m:])\n",
    "\n",
    "    # Recursive calls\n",
    "    k1 = karatsuba(a, c)            # ac\n",
    "    k2 = karatsuba(b, d)            # bd\n",
    "    k3 = karatsuba(a + b, c + d)    # ac + ad + bc + bd\n",
    "    k4 = k3 - k2 - k1               # ad + bc\n",
    "\n",
    "    # Multipying k1 and k4 with 10s (padding)\n",
    "    n2 = len(x) - m\n",
    "    n = n2 + n2\n",
    "    k1 = strpad(str(k1), n, 'right', '0')   # 10^n*k1 \n",
    "    k4 = strpad(str(k4), n2, 'right', '0')  # 10^(n/2)*k4\n",
    "\n",
    "    return int(k1) + int(k4) + int(k2)\n",
    "\n",
    "# Tests\n",
    "assert karatsuba(10, 20) == 200\n",
    "assert karatsuba(90, 900) == 81000\n",
    "assert karatsuba(1357, 2468) == 3349076\n",
    "\n",
    "# Runtime\n",
    "import time\n",
    "x = 123_456_789\n",
    "y = 123_456_789\n",
    "\n",
    "t = time.time()\n",
    "p = karatsuba(x, y)\n",
    "print(\"karatsuba:\", time.time() - t)\n",
    "\n",
    "t = time.time()\n",
    "p = x * y\n",
    "print(\"python:\", time.time() - t)\n"
   ]
  },
  {
   "attachments": {},
   "cell_type": "markdown",
   "metadata": {},
   "source": [
    "## References\n",
    "\n",
    "[Karatsuba Algorithm](https://en.wikipedia.org/wiki/Karatsuba_algorithm) wiki  \n",
    "[Karatsuba Algorithm](https://brilliant.org/wiki/karatsuba-algorithm/) briliant  "
   ]
  }
 ],
 "metadata": {
  "kernelspec": {
   "display_name": "Python 3",
   "language": "python",
   "name": "python3"
  },
  "language_info": {
   "codemirror_mode": {
    "name": "ipython",
    "version": 3
   },
   "file_extension": ".py",
   "mimetype": "text/x-python",
   "name": "python",
   "nbconvert_exporter": "python",
   "pygments_lexer": "ipython3",
   "version": "3.9.7"
  },
  "orig_nbformat": 4
 },
 "nbformat": 4,
 "nbformat_minor": 2
}
