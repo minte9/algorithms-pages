{
 "cells": [
  {
   "attachments": {},
   "cell_type": "markdown",
   "metadata": {},
   "source": [
    "## Divide Conquer / Algorithms"
   ]
  },
  {
   "attachments": {},
   "cell_type": "markdown",
   "metadata": {},
   "source": [
    "## Linear Search\n",
    "\n",
    "A linear search goes `through all` the data."
   ]
  },
  {
   "cell_type": "code",
   "execution_count": 3,
   "metadata": {},
   "outputs": [
    {
     "name": "stdout",
     "output_type": "stream",
     "text": [
      "Item 8, index 7\n"
     ]
    }
   ],
   "source": [
    "data = [1, 2, 3, 4, 5, 6, 7, 8, 9, 10]\n",
    "\n",
    "def linear_search(x, data):\n",
    "    for i in range(len(data)):\n",
    "        if x == data[i]:\n",
    "            return i\n",
    "    return\n",
    "\n",
    "x = 8\n",
    "k = linear_search(x, data)\n",
    "print(f\"Item {x}, index {k}\")"
   ]
  },
  {
   "attachments": {},
   "cell_type": "markdown",
   "metadata": {},
   "source": [
    "## Binary Search\n",
    "\n",
    "A binary search find the `middle` and continue the search on the halves."
   ]
  },
  {
   "cell_type": "code",
   "execution_count": 6,
   "metadata": {},
   "outputs": [
    {
     "name": "stdout",
     "output_type": "stream",
     "text": [
      "Item 8, index 7\n"
     ]
    }
   ],
   "source": [
    "data = [1, 2, 3, 4, 5, 6, 7, 8, 9, 10]\n",
    "\n",
    "def binary_search(x, data):\n",
    "\n",
    "    # Left and Right indexes\n",
    "    i = 0\n",
    "    j = len(data) - 1\n",
    "\n",
    "    while True:\n",
    "\n",
    "        # Compute middle\n",
    "        m = (i + j) // 2\n",
    "\n",
    "        if x > data[m]: i = m + 1\n",
    "        if x < data[m]: j = m - 1\n",
    "\n",
    "        if x == data[m]: # found it\n",
    "            return m\n",
    "\n",
    "        if i > j:\n",
    "            break\n",
    "    return\n",
    "\n",
    "x = 8\n",
    "k = binary_search(x, data)\n",
    "print(f\"Item {x}, index {k}\")"
   ]
  },
  {
   "attachments": {},
   "cell_type": "markdown",
   "metadata": {},
   "source": [
    "## Binary Search / Runtime \n",
    "\n",
    "A binary search on 50 items takes 6 stesps and on 100 `only 7 steps` (linear search needs 100 steps). "
   ]
  },
  {
   "cell_type": "code",
   "execution_count": 8,
   "metadata": {},
   "outputs": [
    {
     "name": "stdout",
     "output_type": "stream",
     "text": [
      "Data generation:\t 5.446046829223633 s\n",
      "Linear search:\t\t 6.067245721817017 s\n",
      "Linear search:\t\t 0.00010132789611816406 s\n"
     ]
    }
   ],
   "source": [
    "import time\n",
    "\n",
    "# Generate data\n",
    "t = time.time()\n",
    "data = [i for i in range(123456789)]\n",
    "print(\"Data generation:\\t\", time.time() - t, \"s\")\n",
    "                                                        \n",
    "# Linear search\n",
    "t = time.time()\n",
    "k = linear_search(123456780, data)\n",
    "print(\"Linear search:\\t\\t\", time.time() - t, \"s\")\n",
    "\n",
    "# Binary search\n",
    "t = time.time()\n",
    "k = binary_search(123456780, data)\n",
    "print(\"Linear search:\\t\\t\", time.time() - t, \"s\")"
   ]
  },
  {
   "attachments": {},
   "cell_type": "markdown",
   "metadata": {},
   "source": [
    "## Quick Sort\n",
    "\n",
    "The algorithm works by `repeatedly partitioning` items into two sets."
   ]
  },
  {
   "cell_type": "code",
   "execution_count": 4,
   "metadata": {},
   "outputs": [
    {
     "name": "stdout",
     "output_type": "stream",
     "text": [
      "Data: [8, 18, 4, 2, 10] \n",
      "\n",
      "Start partitioning ...\n",
      "[8, 18, 4, 2] pivot 10\n",
      "[8, 18, 4, 2, 10] Swap items 8 with 8 \t pointer = 1\n",
      "[8, 18, 4, 2, 10] Swap items 4 with 18 \t pointer = 2\n",
      "[8, 4, 18, 2, 10] Swap items 2 with 18 \t pointer = 3\n",
      "[8, 4, 2, 18, 10] Move the pivot 10\n",
      "[8, 4, 2, 10, 18]\n",
      "Partitions: [8, 4, 2] 10 [] \n",
      "\n",
      "Start partitioning ...\n",
      "[8, 4] pivot 2\n",
      "[8, 4, 2, 10, 18] Move the pivot 2\n",
      "[2, 4, 8, 10, 18]\n",
      "Partitions: [] 2 [4] \n",
      "\n",
      "Start partitioning ...\n",
      "[4] pivot 8\n",
      "[2, 4, 8, 10, 18] Swap items 4 with 4 \t pointer = 2\n",
      "[2, 4, 8, 10, 18] Move the pivot 8\n",
      "[2, 4, 8, 10, 18]\n",
      "Partitions: [2, 4] 8 [] \n",
      "\n",
      "Start partitioning ...\n",
      "[2] pivot 4\n",
      "[2, 4, 8, 10, 18] Swap items 2 with 2 \t pointer = 1\n",
      "[2, 4, 8, 10, 18] Move the pivot 4\n",
      "[2, 4, 8, 10, 18]\n",
      "Partitions: [2] 4 [] \n",
      "\n",
      "Start partitioning ...\n",
      "[] pivot 2\n",
      "[2, 4, 8, 10, 18] Move the pivot 2\n",
      "[2, 4, 8, 10, 18]\n",
      "Partitions: [] 2 [] \n",
      "\n",
      "Start partitioning ...\n",
      "[] pivot 18\n",
      "[2, 4, 8, 10, 18] Move the pivot 18\n",
      "[2, 4, 8, 10, 18]\n",
      "Partitions: [2, 4, 8, 10] 18 [] \n",
      "\n",
      "Start partitioning ...\n",
      "[2, 4, 8] pivot 10\n",
      "[2, 4, 8, 10, 18] Swap items 2 with 2 \t pointer = 1\n",
      "[2, 4, 8, 10, 18] Swap items 4 with 4 \t pointer = 2\n",
      "[2, 4, 8, 10, 18] Swap items 8 with 8 \t pointer = 3\n",
      "[2, 4, 8, 10, 18] Move the pivot 10\n",
      "[2, 4, 8, 10, 18]\n",
      "Partitions: [2, 4, 8] 10 [] \n",
      "\n",
      "Start partitioning ...\n",
      "[2, 4] pivot 8\n",
      "[2, 4, 8, 10, 18] Swap items 2 with 2 \t pointer = 1\n",
      "[2, 4, 8, 10, 18] Swap items 4 with 4 \t pointer = 2\n",
      "[2, 4, 8, 10, 18] Move the pivot 8\n",
      "[2, 4, 8, 10, 18]\n",
      "Partitions: [2, 4] 8 [] \n",
      "\n",
      "Start partitioning ...\n",
      "[2] pivot 4\n",
      "[2, 4, 8, 10, 18] Swap items 2 with 2 \t pointer = 1\n",
      "[2, 4, 8, 10, 18] Move the pivot 4\n",
      "[2, 4, 8, 10, 18]\n",
      "Partitions: [2] 4 [] \n",
      "\n",
      "Start partitioning ...\n",
      "[] pivot 2\n",
      "[2, 4, 8, 10, 18] Move the pivot 2\n",
      "[2, 4, 8, 10, 18]\n",
      "Partitions: [] 2 [] \n",
      "\n",
      "Sorted: [2, 4, 8, 10, 18]\n"
     ]
    }
   ],
   "source": [
    "items = [8, 18, 4, 2, 10]; \n",
    "\n",
    "def quicksort(items, left=None, right=None):\n",
    "\n",
    "    # Default left range (first)\n",
    "    if left == None:\n",
    "        left = 0 \n",
    "\n",
    "    # Default right range (last)\n",
    "    if right == None:\n",
    "        right = len(items) -1 \n",
    "\n",
    "    i = left\n",
    "    j = right\n",
    "\n",
    "    # Start partitioning (we choose the item on the right as pivot)\n",
    "    pivot = items[j]\n",
    "\n",
    "    # Stop recursion\n",
    "    if i > j:\n",
    "        return # Base case\n",
    "\n",
    "    print(\"Start partitioning ...\")\n",
    "    print(items[i:j], \"pivot\", pivot)\n",
    "\n",
    "    # Loop through range (pivot not included)\n",
    "    for k in range(i, j):\n",
    " \n",
    "        # If current item is less than pivot\n",
    "        if items[k] <= pivot:\n",
    "            \n",
    "            # Swap item with the left last swapped item (pointer i)\n",
    "            print(items, f\"Swap items\", items[k], \"with\", items[i], \"\\t pointer =\", i+1)\n",
    "            items[i], items[k] = items[k], items[i]\n",
    "\n",
    "            # move pointer (the index for the last swapped item)\n",
    "            i += 1\n",
    "\n",
    "    # After each loop comparison, put the pivot on the left (pointer i)\n",
    "    print(items, \"Move the pivot\", pivot)\n",
    "    items[i], items[j] = items[j], items[i]\n",
    "\n",
    "    # Show items after each partitionning\n",
    "    print(items)\n",
    "\n",
    "    # Show left and right partitions\n",
    "    print(\"Partitions:\", items[0:i], pivot, items[i+1:j], \"\\n\")\n",
    "\n",
    "    # Sort left and right partitions (Recursively)\n",
    "    quicksort(items, 0, i-1)\n",
    "    quicksort(items, i+1, j)  \n",
    "    return\n",
    "\n",
    "print(\"Data:\", items, \"\\n\")\n",
    "quicksort(items)\n",
    "\n",
    "print(\"Sorted:\", items)\n"
   ]
  },
  {
   "attachments": {},
   "cell_type": "markdown",
   "metadata": {},
   "source": [
    "## Quick Sort / v2\n",
    "\n",
    "Clean code, without prints, for a `better view` of the algorithm."
   ]
  },
  {
   "cell_type": "code",
   "execution_count": 9,
   "metadata": {},
   "outputs": [
    {
     "name": "stdout",
     "output_type": "stream",
     "text": [
      "Data: [6, 18, 24, 19, 16, 27, 9, 15, 22, 13, 28, 21, 0, 10, 12, 14, 5, 26, 17, 7, 11, 20, 3, 1, 2, 8, 29, 4, 23, 25]\n",
      "Sorted: [0, 1, 2, 3, 4, 5, 6, 7, 8, 9, 10, 11, 12, 13, 14, 15, 16, 17, 18, 19, 20, 21, 22, 23, 24, 25, 26, 27, 28, 29]\n"
     ]
    }
   ],
   "source": [
    "import random\n",
    "\n",
    "def quicksort(items, i=None, j=None):\n",
    "\n",
    "    # Default left and right range\n",
    "    if i == None:  \n",
    "        i = 0 \n",
    "        \n",
    "    if j == None: \n",
    "        j = len(items) -1 \n",
    "\n",
    "    if i > j:\n",
    "        return # Base case\n",
    "\n",
    "    # Start partitioning (item on the right as pivot)\n",
    "    pivot = items[j]\n",
    "\n",
    "    # Loop through range (pivot not included)\n",
    "    for k in range(i, j):\n",
    " \n",
    "        # If current item is less than pivot\n",
    "        if items[k] <= pivot:\n",
    "            \n",
    "            # Swap item with the left last swapped item (pointer i)\n",
    "            items[i], items[k] = items[k], items[i]\n",
    "\n",
    "            # Move pointer (the index for the last swapped item)\n",
    "            i += 1\n",
    "\n",
    "    # After each loop comparison, put the pivot on the left (pointer i)\n",
    "    items[i], items[j] = items[j], items[i]\n",
    "\n",
    "    # Sort left and right partitions (Recursively)\n",
    "    quicksort(items, 0, i-1)\n",
    "    quicksort(items, i+1, j)  \n",
    "    return\n",
    "\n",
    "items = [i for i in range(30)] \n",
    "random.shuffle(items)\n",
    "print(\"Data:\", items)\n",
    "\n",
    "quicksort(items)\n",
    "print(\"Sorted:\", items)\n"
   ]
  },
  {
   "attachments": {},
   "cell_type": "markdown",
   "metadata": {},
   "source": [
    "## Quick Sort / Runtime\n",
    "\n",
    "Quick sort is `much slower` than native python sort(), and has a limit of around 480 items (stack overflow)."
   ]
  },
  {
   "cell_type": "code",
   "execution_count": 14,
   "metadata": {},
   "outputs": [
    {
     "name": "stdout",
     "output_type": "stream",
     "text": [
      "quicksort() 100 items: 0.01982283592224121 s\n",
      "quicksort() 480 items: 1.0522394180297852 s\n",
      "sort() 300.000 items: 0.29984474182128906 s\n"
     ]
    }
   ],
   "source": [
    "import time\n",
    "import random\n",
    "\n",
    "# Quick sort 100 items\n",
    "t = time.time()\n",
    "items = random.sample(range(0, 100), 100)\n",
    "quicksort(items)\n",
    "print(\"quicksort() 100 items:\", time.time() - t, \"s\")\n",
    "\n",
    "# Quick sort 480 items\n",
    "t = time.time()\n",
    "items = random.sample(range(0, 480), 480)\n",
    "quicksort(items)\n",
    "print(\"quicksort() 480 items:\", time.time() - t, \"s\")\n",
    "\n",
    "# Python sort 300.000 items\n",
    "t = time.time()\n",
    "items = random.sample(range(0, 300_000), 300_000)\n",
    "items.sort()\n",
    "print(\"sort() 300.000 items:\", time.time() - t, \"s\")"
   ]
  }
 ],
 "metadata": {
  "kernelspec": {
   "display_name": "Python 3",
   "language": "python",
   "name": "python3"
  },
  "language_info": {
   "codemirror_mode": {
    "name": "ipython",
    "version": 3
   },
   "file_extension": ".py",
   "mimetype": "text/x-python",
   "name": "python",
   "nbconvert_exporter": "python",
   "pygments_lexer": "ipython3",
   "version": "3.9.7"
  },
  "orig_nbformat": 4
 },
 "nbformat": 4,
 "nbformat_minor": 2
}
