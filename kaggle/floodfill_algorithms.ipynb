{
 "cells": [
  {
   "attachments": {},
   "cell_type": "markdown",
   "id": "c844d30f",
   "metadata": {
    "papermill": {
     "duration": 0.004448,
     "end_time": "2023-07-03T08:59:09.871954",
     "exception": false,
     "start_time": "2023-07-03T08:59:09.867506",
     "status": "completed"
    },
    "tags": []
   },
   "source": [
    "## Flood Fill ✨ YingYang\n",
    "\n",
    "Draw an ying-yang model and fill `continuos parts`."
   ]
  },
  {
   "cell_type": "code",
   "execution_count": null,
   "id": "5114fe26",
   "metadata": {},
   "outputs": [],
   "source": [
    "%pip install pillow"
   ]
  },
  {
   "cell_type": "markdown",
   "id": "2091d50b",
   "metadata": {
    "papermill": {
     "duration": 0.003546,
     "end_time": "2023-07-03T08:59:09.879528",
     "exception": false,
     "start_time": "2023-07-03T08:59:09.875982",
     "status": "completed"
    },
    "tags": []
   },
   "source": [
    "## Draw Model\n",
    "\n",
    "Draw the ying-yang image `without fill`."
   ]
  },
  {
   "cell_type": "code",
   "execution_count": 2,
   "id": "7185381f",
   "metadata": {
    "execution": {
     "iopub.execute_input": "2023-07-03T08:59:09.889928Z",
     "iopub.status.busy": "2023-07-03T08:59:09.889140Z",
     "iopub.status.idle": "2023-07-03T08:59:09.949825Z",
     "shell.execute_reply": "2023-07-03T08:59:09.948528Z"
    },
    "papermill": {
     "duration": 0.069635,
     "end_time": "2023-07-03T08:59:09.952954",
     "exception": false,
     "start_time": "2023-07-03T08:59:09.883319",
     "status": "completed"
    },
    "tags": []
   },
   "outputs": [
    {
     "data": {
      "image/png": "[encoded data removed]",
      "text/plain": [
       "<PIL.Image.Image image mode=RGB size=400x400 at 0x7FC25C13BE50>"
      ]
     },
     "metadata": {},
     "output_type": "display_data"
    }
   ],
   "source": [
    "from PIL import Image, ImageDraw\n",
    "from IPython.display import display\n",
    "\n",
    "# Create a new blank image\n",
    "image = Image.new(\"RGB\", (400, 400), \"white\")\n",
    "\n",
    "# Create a drawing object\n",
    "draw = ImageDraw.Draw(image)\n",
    "\n",
    "# Draw the outer circle\n",
    "draw.ellipse((20, 20, 380, 380), fill=None, outline=\"black\")\n",
    "\n",
    "# Draw the inner circles\n",
    "draw.ellipse((150, 60, 250, 160), fill=None, outline=\"black\")\n",
    "draw.ellipse((150, 240, 250, 340), fill=None, outline=\"black\")\n",
    "\n",
    "# Draw the curved median lines\n",
    "draw.arc((100, 20, 290, 200), -90, 90, fill=\"black\")\n",
    "draw.arc((100, 200, 290, 380), 90, 270, fill=\"black\")\n",
    "\n",
    "# Display the image inline\n",
    "display(image)"
   ]
  },
  {
   "cell_type": "markdown",
   "id": "8d37cd95",
   "metadata": {
    "papermill": {
     "duration": 0.003933,
     "end_time": "2023-07-03T08:59:09.961204",
     "exception": false,
     "start_time": "2023-07-03T08:59:09.957271",
     "status": "completed"
    },
    "tags": []
   },
   "source": [
    "## Flood Fill / Recursive\n",
    "\n",
    "Filling the model using recursion approach soon reaches `stack overflow` limits.       "
   ]
  },
  {
   "cell_type": "code",
   "execution_count": null,
   "id": "be7aae5a",
   "metadata": {
    "execution": {
     "iopub.execute_input": "2023-07-03T08:59:09.971374Z",
     "iopub.status.busy": "2023-07-03T08:59:09.970946Z",
     "iopub.status.idle": "2023-07-03T08:59:10.359567Z",
     "shell.execute_reply": "2023-07-03T08:59:10.358632Z"
    },
    "papermill": {
     "duration": 0.396735,
     "end_time": "2023-07-03T08:59:10.362099",
     "exception": false,
     "start_time": "2023-07-03T08:59:09.965364",
     "status": "completed"
    },
    "tags": []
   },
   "outputs": [],
   "source": [
    "import tkinter as tk\n",
    "from PIL import Image, ImageTk, ImageDraw\n",
    "\n",
    "def draw_YingYang(image):\n",
    "    draw = ImageDraw.Draw(image)\n",
    "    \n",
    "    draw.ellipse((20, 20, 380, 380), fill=None, outline=\"black\")\n",
    "    draw.ellipse((150, 60, 250, 160), fill=None, outline=\"black\")\n",
    "    draw.ellipse((150, 240, 250, 340), fill=None, outline=\"black\")\n",
    "    draw.arc((100, 20, 290, 200), -90, 90, fill=\"black\")\n",
    "    draw.arc((100, 200, 290, 380), 90, 270, fill=\"black\")\n",
    "\n",
    "# Fill cells one by one\n",
    "def floodF_YingYang(start, stack=0, stopFlood=False):\n",
    "    j, i = start\n",
    "\n",
    "    if stopFlood == True:\n",
    "        return\n",
    "\n",
    "    if (stack > 2900): # stack overflow limits (around 2900)\n",
    "        stopFlood = True\n",
    "        return\n",
    "\n",
    "    # Fill the cell with color\n",
    "    boundaries = (i, j, i+1, j+1)\n",
    "    image.paste('red', boundaries)\n",
    "\n",
    "    # Update the displayed image after each fill operation\n",
    "    photo = ImageTk.PhotoImage(image)\n",
    "    image_label.configure(image=photo)\n",
    "    image_label.image = photo\n",
    "    window.update()\n",
    "    \n",
    "    # Neighbors coordinates\n",
    "    W = j, i-1\n",
    "    N = j-1, i\n",
    "    E = j, i+1\n",
    "    S = j+1, i\n",
    "\n",
    "    for X in [W, N, E, S]:\n",
    "        j, i = X\n",
    "        boundaries = (i, j, i+1, j+1)\n",
    "        c = image.crop(boundaries).getpixel((0, 0)) # get color (RGB)\n",
    "\n",
    "        if c == (255, 255, 255): # white\n",
    "            floodF_YingYang(X, stack+1) # Recursive\n",
    "\n",
    "# Create a Tkinter window\n",
    "window = tk.Tk()\n",
    "window.title(\"Ying-Yang / Image Fill\")\n",
    "\n",
    "# Create a new blank image (that will be add to window's widget)\n",
    "image = Image.new(\"RGB\", (400, 400), \"white\")\n",
    "\n",
    "# Draw ying-yang\n",
    "draw_YingYang(image)\n",
    "\n",
    "# Tkinter compatible photo image (for window label)\n",
    "photo = ImageTk.PhotoImage(image)\n",
    "image_label = tk.Label(window, image=photo)\n",
    "image_label.pack()\n",
    "\n",
    "# Start flood\n",
    "floodF_YingYang((30, 180))\n",
    "\n",
    "# Display the image inline\n",
    "display(image)"
   ]
  },
  {
   "attachments": {},
   "cell_type": "markdown",
   "id": "2012ed20",
   "metadata": {
    "papermill": {
     "duration": 0.004217,
     "end_time": "2023-07-03T08:59:10.370875",
     "exception": false,
     "start_time": "2023-07-03T08:59:10.366658",
     "status": "completed"
    },
    "tags": []
   },
   "source": [
    "## Flood Fill / Iterative\n",
    "\n",
    "Paste the image with `two colors` delimited by median line.  "
   ]
  },
  {
   "cell_type": "code",
   "execution_count": null,
   "id": "1c8e0338",
   "metadata": {
    "execution": {
     "iopub.execute_input": "2023-07-03T08:59:10.382822Z",
     "iopub.status.busy": "2023-07-03T08:59:10.380876Z",
     "iopub.status.idle": "2023-07-03T08:59:14.805621Z",
     "shell.execute_reply": "2023-07-03T08:59:14.804529Z"
    },
    "papermill": {
     "duration": 4.43279,
     "end_time": "2023-07-03T08:59:14.807986",
     "exception": false,
     "start_time": "2023-07-03T08:59:10.375196",
     "status": "completed"
    },
    "tags": []
   },
   "outputs": [
    {
     "data": {
      "image/png": "[encoded data removed]",
      "text/plain": [
       "<PIL.Image.Image image mode=RGB size=400x400 at 0x7F056BE32F40>"
      ]
     },
     "metadata": {},
     "output_type": "display_data"
    }
   ],
   "source": [
    "\n",
    "from PIL import Image, ImageTk, ImageDraw\n",
    "\n",
    "def draw_YingYang(image):\n",
    "    draw = ImageDraw.Draw(image)\n",
    "    draw.ellipse((20, 20, 380, 380), fill=None, outline=\"black\")\n",
    "    draw.ellipse((150, 60, 250, 160), fill=None, outline=\"black\")\n",
    "    draw.ellipse((150, 240, 250, 340), fill=None, outline=\"black\")\n",
    "    draw.arc((100, 20, 290, 200), -90, 90, fill=\"black\")\n",
    "    draw.arc((100, 200, 290, 380), 90, 270, fill=\"black\")\n",
    "\n",
    "def floodF_YingYang(start):\n",
    "    stack = [start]\n",
    "\n",
    "    while stack:\n",
    "        j, i = stack.pop() # assign last / remove from stack\n",
    "\n",
    "        # Fill the cell with color\n",
    "        image.paste('red', (i, j, i+1, j+1))\n",
    "        \n",
    "        # Neighbors coordinates\n",
    "        for neighbor in [(j, i-1), (j-1, i), (j, i+1), (j+1, i)]:\n",
    "            nj, ni = neighbor\n",
    "\n",
    "            if 0 < nj < 400 and 0 < ni < 400:\n",
    "                c = image.crop((ni, nj, ni+1, nj+1)).getpixel((0, 0)) # neighbor color\n",
    "\n",
    "                if c == (255, 255, 255): # is not colored\n",
    "                    stack.append((nj, ni))\n",
    "\n",
    "# Create a new blank image (that will be add to window's widget)\n",
    "image = Image.new(\"RGB\", (400, 400), \"white\")\n",
    "\n",
    "# Draw ying-yang\n",
    "draw_YingYang(image)\n",
    "\n",
    "# Fill each cell and update window\n",
    "floodF_YingYang((30, 180))\n",
    "\n",
    "# Display the image inline\n",
    "display(image)"
   ]
  },
  {
   "cell_type": "markdown",
   "id": "d6671864",
   "metadata": {
    "papermill": {
     "duration": 0.004231,
     "end_time": "2023-07-03T08:59:14.816859",
     "exception": false,
     "start_time": "2023-07-03T08:59:14.812628",
     "status": "completed"
    },
    "tags": []
   },
   "source": [
    "## Flood Fill / Iterative / v2\n",
    "\n",
    "With the `pixel access object` for the images the program runs faster.\n"
   ]
  },
  {
   "cell_type": "code",
   "execution_count": null,
   "id": "15f99022",
   "metadata": {
    "execution": {
     "iopub.execute_input": "2023-07-03T08:59:14.829585Z",
     "iopub.status.busy": "2023-07-03T08:59:14.829148Z",
     "iopub.status.idle": "2023-07-03T08:59:15.966959Z",
     "shell.execute_reply": "2023-07-03T08:59:15.965762Z"
    },
    "papermill": {
     "duration": 1.148381,
     "end_time": "2023-07-03T08:59:15.969763",
     "exception": false,
     "start_time": "2023-07-03T08:59:14.821382",
     "status": "completed"
    },
    "tags": []
   },
   "outputs": [
    {
     "data": {
      "image/png": "[encoded data removed]",
      "text/plain": [
       "<PIL.Image.Image image mode=RGB size=400x400 at 0x7F0590618790>"
      ]
     },
     "metadata": {},
     "output_type": "display_data"
    }
   ],
   "source": [
    "from PIL import Image, ImageTk, ImageDraw\n",
    "\n",
    "RED = (255, 0, 0)\n",
    "WHITE = (255, 255, 255)\n",
    "BLACK = (0, 0, 0)\n",
    "\n",
    "def draw_YingYang(image):\n",
    "    draw = ImageDraw.Draw(image)\n",
    "    draw.ellipse((20, 20, 380, 380), fill=None, outline=\"black\")\n",
    "    draw.ellipse((150, 60, 250, 160), fill=None, outline=\"black\")\n",
    "    draw.ellipse((150, 240, 250, 340), fill=None, outline=\"black\")\n",
    "    draw.arc((100, 20, 290, 200), -90, 90, fill=\"black\")\n",
    "    draw.arc((100, 200, 290, 380), 90, 270, fill=\"black\")\n",
    "\n",
    "def floodF_YingYang(start, color):\n",
    "    stack = [start]\n",
    "\n",
    "    while stack:\n",
    "        j, i = stack.pop() # assign last and remove from stack\n",
    "        pixels = image.load() # pixel access object\n",
    "\n",
    "        # Fill the cell with color\n",
    "        pixels[i, j] = color\n",
    "        \n",
    "        # Neighbors coordinates\n",
    "        for neighbor in [(j, i-1), (j-1, i), (j, i+1), (j+1, i)]:\n",
    "            nj, ni = neighbor\n",
    "\n",
    "            if 0 < nj < 400 and 0 < ni < 400:\n",
    "                c = pixels[ni, nj] # neighbor color\n",
    "\n",
    "                if c == WHITE: # not colored\n",
    "                    stack.append((nj, ni))\n",
    "    return\n",
    "\n",
    "# Create a new blank image (that will be add to window's widget)\n",
    "image = Image.new(\"RGB\", (400, 400), WHITE)\n",
    "\n",
    "# Draw ying-yang\n",
    "draw_YingYang(image)\n",
    "\n",
    "# Fill the model and update window\n",
    "floodF_YingYang((30, 180), color=RED)       # left area\n",
    "floodF_YingYang((30, 250), color=BLACK)     # right area\n",
    "floodF_YingYang((100, 200), color=BLACK)    # top inner cirlcle\n",
    "floodF_YingYang((300, 200), color=RED)      # bottom inner cirlcle\n",
    "\n",
    "# Display the image inline\n",
    "display(image)"
   ]
  },
  {
   "attachments": {},
   "cell_type": "markdown",
   "id": "fb485610",
   "metadata": {},
   "source": [
    "## Flood Fill / Interactive GUI / v3\n",
    "\n",
    "Give the user the choise to `select the color`."
   ]
  },
  {
   "cell_type": "code",
   "execution_count": null,
   "id": "e152f27c",
   "metadata": {},
   "outputs": [],
   "source": [
    "\n",
    "import tkinter as tk\n",
    "from PIL import Image, ImageTk, ImageDraw\n",
    "\n",
    "RED = (255, 0, 0)\n",
    "WHITE = (255, 255, 255)\n",
    "BLACK = (0, 0, 0)\n",
    "\n",
    "def draw_YingYang(image):\n",
    "    draw = ImageDraw.Draw(image)\n",
    "    draw.ellipse((20, 20, 380, 380), fill=None, outline=\"black\")\n",
    "    draw.ellipse((150, 60, 250, 160), fill=None, outline=\"black\")\n",
    "    draw.ellipse((150, 240, 250, 340), fill=None, outline=\"black\")\n",
    "    draw.arc((100, 20, 290, 200), -90, 90, fill=\"black\")\n",
    "    draw.arc((100, 200, 290, 380), 90, 270, fill=\"black\")\n",
    "\n",
    "def floodF_YingYang(start, color):\n",
    "    stack = [start]\n",
    "\n",
    "    while stack:\n",
    "        j, i = stack.pop() # assign last and remove from stack\n",
    "        pixels = image.load() # pixel access object\n",
    "\n",
    "        # Fill the cell with color\n",
    "        pixels[i, j] = color\n",
    "        \n",
    "        # Neighbors coordinates\n",
    "        for neighbor in [(j, i-1), (j-1, i), (j, i+1), (j+1, i)]:\n",
    "            nj, ni = neighbor\n",
    "\n",
    "            if 0 < nj < 400 and 0 < ni < 400:\n",
    "                c = pixels[ni, nj] # neighbor color\n",
    "\n",
    "                if c == WHITE: # not colored\n",
    "                    stack.append((nj, ni))\n",
    "\n",
    "    # Create a new photoImage with updated pixel data\n",
    "    photo = ImageTk.PhotoImage(image)\n",
    "    image_label.configure(image=photo)\n",
    "    image_label.image = photo\n",
    "    window.update()\n",
    "\n",
    "# Create a Tkinter window\n",
    "window = tk.Tk()\n",
    "window.title(\"Ying-Yang / Image Fill\")\n",
    "\n",
    "# Create a new blank image (that will be add to window's widget)\n",
    "image = Image.new(\"RGB\", (400, 400), WHITE)\n",
    "\n",
    "# Draw ying-yang\n",
    "draw_YingYang(image)\n",
    "\n",
    "# Create a Tkinter compatible photo image\n",
    "photo = ImageTk.PhotoImage(image)\n",
    "\n",
    "# Create a label widget to display the image\n",
    "image_label = tk.Label(window, image=photo)\n",
    "image_label.pack()\n",
    "window.update()\n",
    "\n",
    "# ---------------------------------------------------------\n",
    "\n",
    "selected_color = None\n",
    "colors = {\n",
    "    'red': (255, 0, 0),\n",
    "    'black': (0, 0, 0),\n",
    "    'yellow': (255, 255, 0), \n",
    "    'blue': (0, 0, 255), \n",
    "}\n",
    "\n",
    "# Labels fro color selection\n",
    "for name, color in colors.items():\n",
    "    label = tk.Label(window, bg=name, width=10)\n",
    "    label.pack()\n",
    "    label.bind(\"<Button-1>\", lambda event, col=color: select_color(col))\n",
    "\n",
    "def select_color(c):\n",
    "    global selected_color\n",
    "    selected_color = c\n",
    "\n",
    "# Bind mouse click event on image label\n",
    "image_label.bind(\"<Button-1>\", lambda event: perform_flood_fill(event))\n",
    "\n",
    "def perform_flood_fill(event):\n",
    "    if selected_color != None:\n",
    "        x = event.x\n",
    "        y = event.y\n",
    "        floodF_YingYang((y,x), color=selected_color)\n",
    "\n",
    "def reset_colors():\n",
    "    global image\n",
    "    image = Image.new(\"RGB\", (400, 400), WHITE)\n",
    "    draw_YingYang(image)\n",
    "    photo = ImageTk.PhotoImage(image)\n",
    "    image_label.configure(image=photo)\n",
    "    image_label.image = photo\n",
    "    window.update()\n",
    "\n",
    "# Reset button\n",
    "reset_button = tk.Button(window, text='Reset', command=reset_colors)\n",
    "reset_button.pack()\n",
    "\n",
    "# ---------------------------------------------------------\n",
    "\n",
    "# Start the Tkinter event loop\n",
    "window.mainloop()"
   ]
  },
  {
   "attachments": {},
   "cell_type": "markdown",
   "id": "1bb6b569",
   "metadata": {
    "papermill": {
     "duration": 0.004575,
     "end_time": "2023-07-03T08:59:15.979329",
     "exception": false,
     "start_time": "2023-07-03T08:59:15.974754",
     "status": "completed"
    },
    "tags": []
   },
   "source": [
    "## References\n",
    "\n",
    "[Flood Fill](https://en.wikipedia.org/wiki/Flood_fill) / wikipedia  \n",
    "[Learn and Remember](https://www.minte9.com/algorithms/graph-traversal-flood-fill-1478) / minte9  "
   ]
  }
 ],
 "metadata": {
  "kernelspec": {
   "display_name": "Python 3",
   "language": "python",
   "name": "python3"
  },
  "language_info": {
   "codemirror_mode": {
    "name": "ipython",
    "version": 3
   },
   "file_extension": ".py",
   "mimetype": "text/x-python",
   "name": "python",
   "nbconvert_exporter": "python",
   "pygments_lexer": "ipython3",
   "version": "3.9.7"
  },
  "papermill": {
   "default_parameters": {},
   "duration": 20.270819,
   "end_time": "2023-07-03T08:59:16.907594",
   "environment_variables": {},
   "exception": null,
   "input_path": "__notebook__.ipynb",
   "output_path": "__notebook__.ipynb",
   "parameters": {},
   "start_time": "2023-07-03T08:58:56.636775",
   "version": "2.4.0"
  }
 },
 "nbformat": 4,
 "nbformat_minor": 5
}
