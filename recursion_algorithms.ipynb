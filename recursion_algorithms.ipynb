{
 "cells": [
  {
   "attachments": {},
   "cell_type": "markdown",
   "metadata": {},
   "source": [
    "## Recursion ✨ Algorithms\n",
    "\n",
    "Recursion can be `tricky` and hard to read for both beginner and expert.  \n",
    "Recursion is suited in algorithms that involves `tree data` structures and backtraking.  "
   ]
  },
  {
   "attachments": {},
   "cell_type": "markdown",
   "metadata": {},
   "source": [
    "## Line Remembering\n",
    "\n",
    "Programming languages `remember the line` that called a function and return to it."
   ]
  },
  {
   "cell_type": "code",
   "execution_count": 1,
   "metadata": {},
   "outputs": [
    {
     "name": "stdout",
     "output_type": "stream",
     "text": [
      "Line 02 in A -> call B\n",
      "Line 06 in B -> return from B\n",
      "Line 03 in A -> call C\n",
      "Line 09 in C -> return from C\n",
      "Line 04 in A -> return from A\n"
     ]
    }
   ],
   "source": [
    "def A():\n",
    "    print('Line 02 in A -> call B'); B()\n",
    "    print('Line 03 in A -> call C'); C()\n",
    "    print('Line 04 in A -> return from A')\n",
    "\n",
    "def B():\n",
    "    print('Line 06 in B -> return from B')\n",
    "\n",
    "def C():\n",
    "    print('Line 09 in C -> return from C')\n",
    "\n",
    "A()"
   ]
  },
  {
   "attachments": {},
   "cell_type": "markdown",
   "metadata": {},
   "source": [
    "## Stacks LIFO\n",
    "\n",
    "A stack `stores multiple values` like a list, as `LIFO` data structure (last in, first out).  "
   ]
  },
  {
   "cell_type": "code",
   "execution_count": 2,
   "metadata": {},
   "outputs": [
    {
     "name": "stdout",
     "output_type": "stream",
     "text": [
      "5\n",
      "5 3\n",
      "5 3 7\n",
      "5 3\n",
      "5\n"
     ]
    }
   ],
   "source": [
    "cards = []\n",
    "\n",
    "cards.append('5'); print(' '.join(cards))\n",
    "cards.append('3'); print(' '.join(cards))\n",
    "cards.append('7'); print(' '.join(cards))\n",
    "\n",
    "cards.pop(); print(' '.join(cards)) # Last in, First out\n",
    "cards.pop(); print(' '.join(cards))"
   ]
  },
  {
   "attachments": {},
   "cell_type": "markdown",
   "metadata": {},
   "source": [
    "## Frame objects\n",
    "\n",
    "Frame objects contain information about a `single function call`, including which line call it.  \n",
    "Frames are created and `pushed onto` the call stack when function is called.  \n",
    "When the function returns, that frame is `popped off` the stack.  "
   ]
  },
  {
   "cell_type": "code",
   "execution_count": 3,
   "metadata": {},
   "outputs": [
    {
     "name": "stdout",
     "output_type": "stream",
     "text": [
      "Start of the program\n",
      " Frame A added - Remember Line 23\n",
      "  Frame B added - Remember line Line 03\n",
      "   Frame C added - Remember line Line 10\n",
      "   Frame B removed - Back to Line 10\n",
      "  Frame B removed - Back to Line 03\n",
      " Frame A removed - Back to Line 23\n",
      "End of Program\n"
     ]
    }
   ],
   "source": [
    "def A(remember, i=0):\n",
    "   print(\" \" * i, \"Frame A added - Remember\", remember)\n",
    "   B('Line 03', i+1)\n",
    "\n",
    "   print(\" \" * i, \"Frame A removed - Back to\", remember)\n",
    "   return\n",
    "\n",
    "def B(remember, i=0):\n",
    "   print(\" \" * i, \"Frame B added - Remember line\", remember)\n",
    "   C('Line 10', i+1)\n",
    "   \n",
    "   print(\" \" * i, \"Frame B removed - Back to\", remember)\n",
    "   return\n",
    "\n",
    "def C(remember, i=0):\n",
    "   print(\" \" * i, \"Frame C added - Remember line\", remember)\n",
    "   print(\" \" * i, \"Frame B removed - Back to\", remember)\n",
    "   return\n",
    "\n",
    "print('Start of the program')\n",
    "\n",
    "# First function call (intitiate frame stack)\n",
    "A('Line 23')\n",
    "\n",
    "print('End of Program')"
   ]
  },
  {
   "attachments": {},
   "cell_type": "markdown",
   "metadata": {},
   "source": [
    "## Base Case\n",
    "\n",
    "When using recursion, to `avoid a crash` there must be a base case."
   ]
  },
  {
   "cell_type": "code",
   "execution_count": 4,
   "metadata": {},
   "outputs": [
    {
     "name": "stdout",
     "output_type": "stream",
     "text": [
      "Frame 1\n",
      "  Recursive case 1\n",
      "Frame 2\n",
      "   Recursive case 2\n",
      "Frame 3\n",
      "    Base case\n",
      "   Recursive return 2\n",
      "  Recursive return 1\n"
     ]
    }
   ],
   "source": [
    "def show_frame(i=1):\n",
    "    print('Frame', i)\n",
    "\n",
    "    # Base case\n",
    "    if i == 3:\n",
    "        print(i * \" \", 'Base case')\n",
    "        return\n",
    "\n",
    "    print(i * \" \",'Recursive case', i)\n",
    "    show_frame(i+1)\n",
    "\n",
    "    print(i * \" \",'Recursive return', i)\n",
    "    return\n",
    "\n",
    "show_frame()"
   ]
  },
  {
   "attachments": {},
   "cell_type": "markdown",
   "metadata": {},
   "source": [
    "## Iterative Approach\n",
    "\n",
    "For most of the tasks, an `iterative` approach, with loops to repeat a task, is usually better."
   ]
  },
  {
   "cell_type": "code",
   "execution_count": 24,
   "metadata": {},
   "outputs": [
    {
     "name": "stdout",
     "output_type": "stream",
     "text": [
      "Iterative factorial: 2568\n",
      "Recursive factorial: maximum recursion depth exceeded in comparison\n"
     ]
    }
   ],
   "source": [
    "def factorial_iterative(n):\n",
    "    p = 1\n",
    "    for i in range(1, n+1):\n",
    "        p = p * i\n",
    "    return p\n",
    "\n",
    "def factorial_recursive(n):\n",
    "    if n == 1:\n",
    "        return 1\n",
    "    return n * factorial_recursive(n-1)\n",
    "\n",
    "# Tests\n",
    "assert factorial_iterative(4) == 24\n",
    "assert factorial_iterative(5) == 120\n",
    "assert factorial_recursive(5) == 5 * factorial_recursive(4)\n",
    "assert factorial_recursive(4) == 4 * factorial_recursive(3)\n",
    "\n",
    "# Limits\n",
    "n = factorial_iterative(1000)\n",
    "print(\"Iterative factorial:\", len(str(n)))\n",
    "\n",
    "try:    \n",
    "    n = factorial_recursive(3000)\n",
    "except RecursionError as e:\n",
    "    print(\"Recursive factorial:\", e)"
   ]
  },
  {
   "attachments": {},
   "cell_type": "markdown",
   "metadata": {},
   "source": [
    "## Memoization\n",
    "\n",
    "Memoization `stores in memory` the result of a function call (for a given set of arguments)."
   ]
  },
  {
   "cell_type": "code",
   "execution_count": 6,
   "metadata": {},
   "outputs": [
    {
     "name": "stdout",
     "output_type": "stream",
     "text": [
      "fibonacci_recursive(36) \t 2.9956233501434326 s \t 14930352\n",
      "fibonacci_memoize(100) \t\t 2.9958531856536865 s \t 354224848179261915075\n",
      "fibonacci_iterative(100) \t 0.00022721290588378906 s 354224848179261915075\n"
     ]
    }
   ],
   "source": [
    "from functools import lru_cache\n",
    "\n",
    "def fibonacci_recursive(n):\n",
    "    if n == 1: return 1\n",
    "    if n == 2: return 1\n",
    "    return fibonacci_recursive(n-1) + fibonacci_recursive(n-2)\n",
    "\n",
    "@lru_cache()\n",
    "def fibonacci_memoize(n): # Look Here\n",
    "    if n == 1: return 1\n",
    "    if n == 2: return 1\n",
    "    return fibonacci_memoize(n-1) + fibonacci_memoize(n-2)\n",
    "\n",
    "def fibonacci_iterative(n):\n",
    "    a, b = 1, 1\n",
    "    for i in range(1, n-1):\n",
    "        a, b = b, a + b\n",
    "    return b\n",
    "\n",
    "# Tests\n",
    "assert fibonacci_iterative(2) == 1\n",
    "assert fibonacci_iterative(3) == 2\n",
    "assert fibonacci_recursive(4) == 3\n",
    "assert fibonacci_recursive(5) == 5\n",
    "assert fibonacci_memoize(6) == 8\n",
    "assert fibonacci_memoize(7) == 13\n",
    "\n",
    "# Time\n",
    "import time\n",
    "t1 = time.time(); n1 = fibonacci_memoize(100)\n",
    "t2 = time.time(); n2 = fibonacci_recursive(36)\n",
    "t3 = time.time(); n3 = fibonacci_iterative(100)\n",
    "\n",
    "print(\"fibonacci_recursive(36) \\t\", time.time() - t2, 's \\t', n2) \n",
    "print(\"fibonacci_memoize(100) \\t\\t\", time.time() - t1, 's \\t', n1) \n",
    "print(\"fibonacci_iterative(100) \\t\", time.time() - t3, 's', n3) \n"
   ]
  },
  {
   "attachments": {},
   "cell_type": "markdown",
   "metadata": {},
   "source": [
    "## Head Tail\n",
    "\n",
    "A set is a collection of `unique objects` like  A, B, C.  \n",
    "A `permutation` is a specific ordering of all elements of a set.  \n",
    "We can use `head-tail` technique to find all permutations of the head.  "
   ]
  },
  {
   "cell_type": "code",
   "execution_count": 9,
   "metadata": {},
   "outputs": [
    {
     "name": "stdout",
     "output_type": "stream",
     "text": [
      "Head permutations of BCD:\n",
      "ABCD BACD BCAD BCDA\n"
     ]
    }
   ],
   "source": [
    "\"\"\" Head permutations\n",
    "We place the head in every posible location of the tail.\n",
    "For example, by putting the B in every possible location of C we get BC CB. \n",
    "\n",
    "    BC = None + B + C  # tail[0:0] = None\n",
    "    CB = C + B + None  # tail[1:]  = None\n",
    "\"\"\"\n",
    "\n",
    "chars = 'ABCD'\n",
    "\n",
    "head = chars[0]  # B\n",
    "tail = chars[1:] # CD\n",
    "\n",
    "P = []\n",
    "for k in range(len(tail) + 1): # CD / D  \n",
    "\n",
    "    tailLeft = tail[0:k]\n",
    "    tailRight = tail[k:]\n",
    "\n",
    "    P.append(tailLeft + head + tailRight) \n",
    "        # None + B + CD\n",
    "        # C + B + D\n",
    "        # CD + B + None\n",
    "        \n",
    "print('Head permutations of BCD:')\n",
    "print(' '.join(P)) # BCD, CBD, CDB"
   ]
  },
  {
   "attachments": {},
   "cell_type": "markdown",
   "metadata": {},
   "source": [
    "## Permutations\n",
    "\n",
    "In permutations `without` repetition each element doesn't appear more than once.  \n",
    "To calculate the total number of permutations we use `factorial`.  \n",
    "The order does matter, like in a `cypher` lock."
   ]
  },
  {
   "cell_type": "code",
   "execution_count": 12,
   "metadata": {},
   "outputs": [
    {
     "name": "stdout",
     "output_type": "stream",
     "text": [
      "Permutations for [1-5]: 12345 21345 23145 23415 23451 13245 31245 32145 32415 32451 ...\n",
      "Total permutations: 120\n",
      "Cypher code: 42153\n"
     ]
    }
   ],
   "source": [
    "\"\"\"  Permutations / without repetitions\n",
    "\n",
    "Total permutations: P(n) = n!\n",
    "Example: Cypher Lock\n",
    "\"\"\"\n",
    "\n",
    "import math\n",
    "import random\n",
    "\n",
    "def permutations(s):\n",
    "    P = []\n",
    "\n",
    "    # Base case \n",
    "    if len(s) == 1:\n",
    "        return [s] # [C]\n",
    "\n",
    "    head = s[0]  # A\n",
    "    tail = s[1:] # BC\n",
    "\n",
    "    for ss in permutations(tail): # BC CB / C\n",
    "        for i in range(len(ss) + 1):\n",
    "            PP = ss[0:i] + head + ss[i:]\n",
    "            P.append(PP)\n",
    "\n",
    "    return P # BC CB\n",
    "\n",
    "P = permutations('12345')\n",
    "assert len(P) == math.factorial(5)\n",
    "\n",
    "print('Permutations for [1-5]:', ' '.join(P[0:10]), '...')\n",
    "print('Total permutations:', len(P))\n",
    "print('Cypher code:', P[random.randint(0, len(P)-1)])"
   ]
  },
  {
   "attachments": {},
   "cell_type": "markdown",
   "metadata": {},
   "source": [
    "## Combinations\n",
    "\n",
    "A combination is a `selection` from a set, and order doesn't matter.  \n",
    "Combinations doesn't allow duplicates, like in `Lottery Numbers`."
   ]
  },
  {
   "cell_type": "code",
   "execution_count": 16,
   "metadata": {},
   "outputs": [
    {
     "name": "stdout",
     "output_type": "stream",
     "text": [
      "k-Combinations:\n",
      "4-Combinations of 123456: 1234 1235 1236 1245 1246 1256 1345 1346 1356 1456 2345 2346 2356 2456 3456\n",
      "Lottery number: 1246\n"
     ]
    }
   ],
   "source": [
    "\"\"\" Combinations / without repetitions\n",
    "\n",
    "Total combinations: C(n, k) = n! / (k! * (n - k)!)\n",
    "Example: Lottery numbers\n",
    "\"\"\"\n",
    "\n",
    "import math\n",
    "import random\n",
    "\n",
    "def combinations(s, k):\n",
    "\n",
    "    # Base cases\n",
    "    if k == 0:  return ['']  # 0-Combinations, return empty string\n",
    "    if s == '': return []    # blank string has no combinations, return empty list\n",
    "\n",
    "    # Head and tail for the string\n",
    "    head = s[:1]\n",
    "    tail = s[1:]\n",
    "    \n",
    "    # Combintations that include the head\n",
    "    C1 = [head + c for c in combinations(tail, k-1)]\n",
    "\n",
    "    # Combinations without the head\n",
    "    C2 = combinations(tail, k)\n",
    "\n",
    "    return C1 + C2\n",
    "\n",
    "C = combinations('123456', 4)\n",
    "assert len(C) == math.comb(6, 4)\n",
    "\n",
    "print('k-Combinations:')\n",
    "print('4-Combinations of 123456:', ' '.join(C))\n",
    "print('Lottery number:', C[random.randint(0, len(C)-1)])"
   ]
  },
  {
   "attachments": {},
   "cell_type": "markdown",
   "metadata": {},
   "source": [
    "## References\n",
    "\n",
    "[The Recursive Book of Recursion](https://inventwithpython.com/recursion/) free online book  \n",
    "[The Recursive Book of Recursion](https://github.com/asweigart/the-recursive-book-of-recursion) source code    \n",
    "[The Recursive Book of Recursion](https://www.amazon.com/gp/product/B09BKL34VL) amazon  \n",
    "[Learn and Remember Algorithms](https://www.minte9.com/algorithms) minte9  \n",
    "[Combinations and Permutations](https://www.mathsisfun.com/combinatorics/combinations-permutations.html) mathisfun"
   ]
  }
 ],
 "metadata": {
  "kernelspec": {
   "display_name": "Python 3",
   "language": "python",
   "name": "python3"
  },
  "language_info": {
   "codemirror_mode": {
    "name": "ipython",
    "version": 3
   },
   "file_extension": ".py",
   "mimetype": "text/x-python",
   "name": "python",
   "nbconvert_exporter": "python",
   "pygments_lexer": "ipython3",
   "version": "3.9.7"
  },
  "orig_nbformat": 4
 },
 "nbformat": 4,
 "nbformat_minor": 2
}
